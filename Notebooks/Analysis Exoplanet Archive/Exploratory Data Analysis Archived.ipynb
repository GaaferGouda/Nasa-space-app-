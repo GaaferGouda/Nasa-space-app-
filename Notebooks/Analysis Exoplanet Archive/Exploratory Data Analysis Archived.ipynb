{
 "cells": [
  {
   "cell_type": "markdown",
   "id": "8a4626d5",
   "metadata": {
    "id": "kHDq5dy9YzgZ",
    "papermill": {
     "duration": 0.040243,
     "end_time": "2024-01-20T15:51:19.343264",
     "exception": false,
     "start_time": "2024-01-20T15:51:19.303021",
     "status": "completed"
    },
    "tags": []
   },
   "source": [
    "<a id=\"title\"></a>\n",
    "# **Exploratory Data Analysis on exoplanets**  "
   ]
  },
  {
   "cell_type": "markdown",
   "id": "0b4057b2",
   "metadata": {
    "id": "CTnp3Q4iNlTZ",
    "papermill": {
     "duration": 0.04188,
     "end_time": "2024-01-20T15:51:19.426645",
     "exception": false,
     "start_time": "2024-01-20T15:51:19.384765",
     "status": "completed"
    },
    "tags": []
   },
   "source": [
    "The study of exoplanets is one of the most exciting fields of research in modern astrophysics. Every year a multitude of lenses focus outside our planet and find distant objects, so distant that it would take years of travelling at the speed of light to touch them. Despite this distance, we are still able to see them (in their past :C), study them and even compare them with our world.\n",
    "\n",
    "In this Exploratory Data Analysis we will observe the 5523 exoplanets recognised by NASA's Exoplanet Institute as of 2 October 2023.\n",
    "For the geolocation of the discovering observatories we will make use of the Python client geopy, a popular geocoding web service.\n",
    "\n",
    "The ESI (Earth Similarity Index) exoplanet data are selected by the Planetary Habitability Laboratory, University of Arecibo (Puerto Rico) from the above mentioned dataset."
   ]
  },
  {
   "cell_type": "markdown",
   "id": "0e8d4d45",
   "metadata": {
    "papermill": {
     "duration": 0.039689,
     "end_time": "2024-01-20T15:51:19.506358",
     "exception": false,
     "start_time": "2024-01-20T15:51:19.466669",
     "status": "completed"
    },
    "tags": []
   },
   "source": [
    "### **Table of contents**\n",
    "* [ Data preprocessing ](#section1)\n",
    "* [ Discovery methods ](#section2)\n",
    "* [ Discovery facilities  ](#section3)\n",
    "* [ Location of observatories ](#section4)\n",
    "    - [Discoveries from space](#subsection4.1)\n",
    "    - [Discoveries from ground](#subsection4.2)\n",
    "    - [Facilities geolocation](#subsection4.3)\n",
    "* [ Discoveries through time ](#section5)  \n",
    "* [ Conclusion ](#section8)\n",
    "* [ References ](#section9)"
   ]
  },
  {
   "cell_type": "markdown",
   "id": "a3db24c7",
   "metadata": {
    "id": "bLMuOBb-ZQDm",
    "papermill": {
     "duration": 0.039554,
     "end_time": "2024-01-20T15:51:19.646336",
     "exception": false,
     "start_time": "2024-01-20T15:51:19.606782",
     "status": "completed"
    },
    "tags": []
   },
   "source": [
    "<a id=\"section1\"></a>\n",
    "##  **Data preprocessing**  "
   ]
  },
  {
   "cell_type": "markdown",
   "id": "1a1d73f4",
   "metadata": {
    "id": "3l5Ue1H64yGB",
    "papermill": {
     "duration": 0.040115,
     "end_time": "2024-01-20T15:51:19.726722",
     "exception": false,
     "start_time": "2024-01-20T15:51:19.686607",
     "status": "completed"
    },
    "tags": []
   },
   "source": [
    "Retrieved from NASA Exoplanet Archive operated by the California Institute of Technology, under contract to the National Aeronautics and Space Administration under the Exoplanet Exploration Program [**⁽¹⁾**](#section9)\n",
    "\n",
    "\n",
    "Selected parameters:\n",
    "\n",
    "**General**\n",
    "* Name\n",
    "* Number of stars, planets and moons recognised in system\n",
    "* Method of discovery\n",
    "* Year of discovery\n",
    "* Discovery entity\n",
    "* Location of entity (Earth, space or both)\n",
    "\n",
    "**Characteristics**\n",
    "* Orbital period\n",
    "* Mass (in Earths) (best estimation)\n",
    "* Radius (in Earths)\n",
    "* Density\n",
    "* Equilibrium temperature\n",
    "* Insolatium flux\n",
    "\n",
    "**Positioning**\n",
    "* Right ascension\n",
    "* Declination\n",
    "* Distance"
   ]
  },
  {
   "cell_type": "markdown",
   "id": "29ecfd6f",
   "metadata": {
    "id": "2aGu8omi0FnU",
    "papermill": {
     "duration": 0.040378,
     "end_time": "2024-01-20T15:51:19.807778",
     "exception": false,
     "start_time": "2024-01-20T15:51:19.767400",
     "status": "completed"
    },
    "tags": []
   },
   "source": [
    "##### Read dataset "
   ]
  },
  {
   "cell_type": "code",
   "execution_count": 1,
   "id": "058b7d5a",
   "metadata": {
    "execution": {
     "iopub.execute_input": "2024-01-20T15:51:19.890551Z",
     "iopub.status.busy": "2024-01-20T15:51:19.890176Z",
     "iopub.status.idle": "2024-01-20T15:51:20.698119Z",
     "shell.execute_reply": "2024-01-20T15:51:20.697009Z"
    },
    "id": "PQ05uDzIzsZW",
    "papermill": {
     "duration": 0.852456,
     "end_time": "2024-01-20T15:51:20.701096",
     "exception": false,
     "start_time": "2024-01-20T15:51:19.848640",
     "status": "completed"
    },
    "tags": []
   },
   "outputs": [],
   "source": [
    "import pandas as pd"
   ]
  },
  {
   "cell_type": "code",
   "execution_count": 2,
   "id": "0689bc83",
   "metadata": {
    "execution": {
     "iopub.execute_input": "2024-01-20T15:51:20.783777Z",
     "iopub.status.busy": "2024-01-20T15:51:20.783280Z",
     "iopub.status.idle": "2024-01-20T15:51:21.223433Z",
     "shell.execute_reply": "2024-01-20T15:51:21.221938Z"
    },
    "id": "osyJbN_xfHso",
    "outputId": "c220f5cf-24d4-4483-e069-cc77d6bf1528",
    "papermill": {
     "duration": 0.484829,
     "end_time": "2024-01-20T15:51:21.226340",
     "exception": false,
     "start_time": "2024-01-20T15:51:20.741511",
     "status": "completed"
    },
    "tags": []
   },
   "outputs": [
    {
     "data": {
      "text/html": [
       "<div>\n",
       "<style scoped>\n",
       "    .dataframe tbody tr th:only-of-type {\n",
       "        vertical-align: middle;\n",
       "    }\n",
       "\n",
       "    .dataframe tbody tr th {\n",
       "        vertical-align: top;\n",
       "    }\n",
       "\n",
       "    .dataframe thead th {\n",
       "        text-align: right;\n",
       "    }\n",
       "</style>\n",
       "<table border=\"1\" class=\"dataframe\">\n",
       "  <thead>\n",
       "    <tr style=\"text-align: right;\">\n",
       "      <th></th>\n",
       "      <th>pl_name</th>\n",
       "      <th>hostname</th>\n",
       "      <th>pl_letter</th>\n",
       "      <th>hd_name</th>\n",
       "      <th>hip_name</th>\n",
       "      <th>tic_id</th>\n",
       "      <th>gaia_id</th>\n",
       "      <th>default_flag</th>\n",
       "      <th>sy_snum</th>\n",
       "      <th>sy_pnum</th>\n",
       "      <th>...</th>\n",
       "      <th>sy_kepmagerr2</th>\n",
       "      <th>rowupdate</th>\n",
       "      <th>pl_pubdate</th>\n",
       "      <th>releasedate</th>\n",
       "      <th>pl_nnotes</th>\n",
       "      <th>st_nphot</th>\n",
       "      <th>st_nrvc</th>\n",
       "      <th>st_nspec</th>\n",
       "      <th>pl_nespec</th>\n",
       "      <th>pl_ntranspec;;;;;;</th>\n",
       "    </tr>\n",
       "  </thead>\n",
       "  <tbody>\n",
       "    <tr>\n",
       "      <th>0</th>\n",
       "      <td>11 Com b</td>\n",
       "      <td>11 Com</td>\n",
       "      <td>b</td>\n",
       "      <td>HD 107383</td>\n",
       "      <td>HIP 60202</td>\n",
       "      <td>TIC 72437047</td>\n",
       "      <td>Gaia DR2 3946945413106333696</td>\n",
       "      <td>1</td>\n",
       "      <td>2</td>\n",
       "      <td>1</td>\n",
       "      <td>...</td>\n",
       "      <td>NaN</td>\n",
       "      <td>2014-05-14</td>\n",
       "      <td>2008-01</td>\n",
       "      <td>2014-05-14</td>\n",
       "      <td>2</td>\n",
       "      <td>1</td>\n",
       "      <td>2</td>\n",
       "      <td>0</td>\n",
       "      <td>0</td>\n",
       "      <td>0;;;;;;</td>\n",
       "    </tr>\n",
       "    <tr>\n",
       "      <th>1</th>\n",
       "      <td>11 UMi b</td>\n",
       "      <td>11 UMi</td>\n",
       "      <td>b</td>\n",
       "      <td>HD 136726</td>\n",
       "      <td>HIP 74793</td>\n",
       "      <td>TIC 230061010</td>\n",
       "      <td>Gaia DR2 1696798367260229376</td>\n",
       "      <td>1</td>\n",
       "      <td>1</td>\n",
       "      <td>1</td>\n",
       "      <td>...</td>\n",
       "      <td>NaN</td>\n",
       "      <td>2018-09-04</td>\n",
       "      <td>2017-03</td>\n",
       "      <td>2018-09-06</td>\n",
       "      <td>0</td>\n",
       "      <td>1</td>\n",
       "      <td>1</td>\n",
       "      <td>0</td>\n",
       "      <td>0</td>\n",
       "      <td>0;;;;;;</td>\n",
       "    </tr>\n",
       "    <tr>\n",
       "      <th>2</th>\n",
       "      <td>14 And b</td>\n",
       "      <td>14 And</td>\n",
       "      <td>b</td>\n",
       "      <td>HD 221345</td>\n",
       "      <td>HIP 116076</td>\n",
       "      <td>TIC 333225860</td>\n",
       "      <td>Gaia DR2 1920113512486282240</td>\n",
       "      <td>1</td>\n",
       "      <td>1</td>\n",
       "      <td>1</td>\n",
       "      <td>...</td>\n",
       "      <td>NaN</td>\n",
       "      <td>2014-05-14</td>\n",
       "      <td>2008-12</td>\n",
       "      <td>2014-05-14</td>\n",
       "      <td>0</td>\n",
       "      <td>1</td>\n",
       "      <td>1</td>\n",
       "      <td>0</td>\n",
       "      <td>0</td>\n",
       "      <td>0;;;;;;</td>\n",
       "    </tr>\n",
       "    <tr>\n",
       "      <th>3</th>\n",
       "      <td>14 Her b</td>\n",
       "      <td>14 Her</td>\n",
       "      <td>b</td>\n",
       "      <td>HD 145675</td>\n",
       "      <td>HIP 79248</td>\n",
       "      <td>TIC 219483057</td>\n",
       "      <td>Gaia DR2 1385293808145621504</td>\n",
       "      <td>1</td>\n",
       "      <td>1</td>\n",
       "      <td>2</td>\n",
       "      <td>...</td>\n",
       "      <td>NaN</td>\n",
       "      <td>2023-06-12</td>\n",
       "      <td>2022-09</td>\n",
       "      <td>2023-06-12</td>\n",
       "      <td>0</td>\n",
       "      <td>1</td>\n",
       "      <td>4</td>\n",
       "      <td>1</td>\n",
       "      <td>0</td>\n",
       "      <td>0;;;;;;</td>\n",
       "    </tr>\n",
       "    <tr>\n",
       "      <th>4</th>\n",
       "      <td>16 Cyg B b</td>\n",
       "      <td>16 Cyg B</td>\n",
       "      <td>b</td>\n",
       "      <td>HD 186427</td>\n",
       "      <td>HIP 96901</td>\n",
       "      <td>TIC 27533327</td>\n",
       "      <td>Gaia DR2 2135550755683407232</td>\n",
       "      <td>1</td>\n",
       "      <td>3</td>\n",
       "      <td>1</td>\n",
       "      <td>...</td>\n",
       "      <td>NaN</td>\n",
       "      <td>2018-09-04</td>\n",
       "      <td>2017-03</td>\n",
       "      <td>2018-09-06</td>\n",
       "      <td>5</td>\n",
       "      <td>1</td>\n",
       "      <td>4</td>\n",
       "      <td>3</td>\n",
       "      <td>0</td>\n",
       "      <td>0;;;;;;</td>\n",
       "    </tr>\n",
       "  </tbody>\n",
       "</table>\n",
       "<p>5 rows × 286 columns</p>\n",
       "</div>"
      ],
      "text/plain": [
       "      pl_name  hostname pl_letter    hd_name    hip_name         tic_id  \\\n",
       "0    11 Com b    11 Com         b  HD 107383   HIP 60202   TIC 72437047   \n",
       "1    11 UMi b    11 UMi         b  HD 136726   HIP 74793  TIC 230061010   \n",
       "2    14 And b    14 And         b  HD 221345  HIP 116076  TIC 333225860   \n",
       "3    14 Her b    14 Her         b  HD 145675   HIP 79248  TIC 219483057   \n",
       "4  16 Cyg B b  16 Cyg B         b  HD 186427   HIP 96901   TIC 27533327   \n",
       "\n",
       "                        gaia_id  default_flag  sy_snum  sy_pnum  ...  \\\n",
       "0  Gaia DR2 3946945413106333696             1        2        1  ...   \n",
       "1  Gaia DR2 1696798367260229376             1        1        1  ...   \n",
       "2  Gaia DR2 1920113512486282240             1        1        1  ...   \n",
       "3  Gaia DR2 1385293808145621504             1        1        2  ...   \n",
       "4  Gaia DR2 2135550755683407232             1        3        1  ...   \n",
       "\n",
       "   sy_kepmagerr2   rowupdate pl_pubdate  releasedate pl_nnotes st_nphot  \\\n",
       "0            NaN  2014-05-14    2008-01   2014-05-14         2        1   \n",
       "1            NaN  2018-09-04    2017-03   2018-09-06         0        1   \n",
       "2            NaN  2014-05-14    2008-12   2014-05-14         0        1   \n",
       "3            NaN  2023-06-12    2022-09   2023-06-12         0        1   \n",
       "4            NaN  2018-09-04    2017-03   2018-09-06         5        1   \n",
       "\n",
       "  st_nrvc st_nspec pl_nespec pl_ntranspec;;;;;;  \n",
       "0       2        0         0            0;;;;;;  \n",
       "1       1        0         0            0;;;;;;  \n",
       "2       1        0         0            0;;;;;;  \n",
       "3       4        1         0            0;;;;;;  \n",
       "4       4        3         0            0;;;;;;  \n",
       "\n",
       "[5 rows x 286 columns]"
      ]
     },
     "execution_count": 2,
     "metadata": {},
     "output_type": "execute_result"
    }
   ],
   "source": [
    "data = pd.read_csv('/kaggle/input/nasa-exoplanet-archive/PS_2023.08.02_06.28.52.csv', sep=',')\n",
    "data.head()"
   ]
  },
  {
   "cell_type": "markdown",
   "id": "a682fa74",
   "metadata": {
    "id": "EmHuqreQQrBU",
    "papermill": {
     "duration": 0.040303,
     "end_time": "2024-01-20T15:51:21.307413",
     "exception": false,
     "start_time": "2024-01-20T15:51:21.267110",
     "status": "completed"
    },
    "tags": []
   },
   "source": [
    "##### Filter dataset by features"
   ]
  },
  {
   "cell_type": "code",
   "execution_count": 3,
   "id": "48b0dd80",
   "metadata": {
    "execution": {
     "iopub.execute_input": "2024-01-20T15:51:21.390358Z",
     "iopub.status.busy": "2024-01-20T15:51:21.389949Z",
     "iopub.status.idle": "2024-01-20T15:51:21.425789Z",
     "shell.execute_reply": "2024-01-20T15:51:21.425021Z"
    },
    "id": "pVjD5ZDkkXVB",
    "outputId": "ea75ae6f-c462-45f1-d414-1987d9ecb609",
    "papermill": {
     "duration": 0.079885,
     "end_time": "2024-01-20T15:51:21.427897",
     "exception": false,
     "start_time": "2024-01-20T15:51:21.348012",
     "status": "completed"
    },
    "tags": []
   },
   "outputs": [
    {
     "data": {
      "text/html": [
       "<div>\n",
       "<style scoped>\n",
       "    .dataframe tbody tr th:only-of-type {\n",
       "        vertical-align: middle;\n",
       "    }\n",
       "\n",
       "    .dataframe tbody tr th {\n",
       "        vertical-align: top;\n",
       "    }\n",
       "\n",
       "    .dataframe thead th {\n",
       "        text-align: right;\n",
       "    }\n",
       "</style>\n",
       "<table border=\"1\" class=\"dataframe\">\n",
       "  <thead>\n",
       "    <tr style=\"text-align: right;\">\n",
       "      <th></th>\n",
       "      <th>pl_name</th>\n",
       "      <th>sy_snum</th>\n",
       "      <th>sy_pnum</th>\n",
       "      <th>sy_mnum</th>\n",
       "      <th>discoverymethod</th>\n",
       "      <th>disc_year</th>\n",
       "      <th>disc_facility</th>\n",
       "      <th>disc_locale</th>\n",
       "      <th>pl_orbper</th>\n",
       "      <th>pl_bmasse</th>\n",
       "      <th>pl_rade</th>\n",
       "      <th>pl_dens</th>\n",
       "      <th>pl_eqt</th>\n",
       "      <th>pl_insol</th>\n",
       "      <th>rastr</th>\n",
       "      <th>decstr</th>\n",
       "      <th>sy_dist</th>\n",
       "      <th>st_teff</th>\n",
       "    </tr>\n",
       "  </thead>\n",
       "  <tbody>\n",
       "    <tr>\n",
       "      <th>0</th>\n",
       "      <td>11 Com b</td>\n",
       "      <td>2</td>\n",
       "      <td>1</td>\n",
       "      <td>0</td>\n",
       "      <td>Radial Velocity</td>\n",
       "      <td>2007</td>\n",
       "      <td>Xinglong Station</td>\n",
       "      <td>Ground</td>\n",
       "      <td>326.030000</td>\n",
       "      <td>6165.60000</td>\n",
       "      <td>NaN</td>\n",
       "      <td>NaN</td>\n",
       "      <td>NaN</td>\n",
       "      <td>NaN</td>\n",
       "      <td>12h20m42.91s</td>\n",
       "      <td>+17d47m35.71s</td>\n",
       "      <td>93.1846</td>\n",
       "      <td>4742.0</td>\n",
       "    </tr>\n",
       "    <tr>\n",
       "      <th>1</th>\n",
       "      <td>11 UMi b</td>\n",
       "      <td>1</td>\n",
       "      <td>1</td>\n",
       "      <td>0</td>\n",
       "      <td>Radial Velocity</td>\n",
       "      <td>2009</td>\n",
       "      <td>Thueringer Landessternwarte Tautenburg</td>\n",
       "      <td>Ground</td>\n",
       "      <td>516.219970</td>\n",
       "      <td>4684.81420</td>\n",
       "      <td>NaN</td>\n",
       "      <td>NaN</td>\n",
       "      <td>NaN</td>\n",
       "      <td>NaN</td>\n",
       "      <td>15h17m05.90s</td>\n",
       "      <td>+71d49m26.19s</td>\n",
       "      <td>125.3210</td>\n",
       "      <td>4213.0</td>\n",
       "    </tr>\n",
       "    <tr>\n",
       "      <th>2</th>\n",
       "      <td>14 And b</td>\n",
       "      <td>1</td>\n",
       "      <td>1</td>\n",
       "      <td>0</td>\n",
       "      <td>Radial Velocity</td>\n",
       "      <td>2008</td>\n",
       "      <td>Okayama Astrophysical Observatory</td>\n",
       "      <td>Ground</td>\n",
       "      <td>185.840000</td>\n",
       "      <td>1525.50000</td>\n",
       "      <td>NaN</td>\n",
       "      <td>NaN</td>\n",
       "      <td>NaN</td>\n",
       "      <td>NaN</td>\n",
       "      <td>23h31m17.80s</td>\n",
       "      <td>+39d14m09.01s</td>\n",
       "      <td>75.4392</td>\n",
       "      <td>4813.0</td>\n",
       "    </tr>\n",
       "    <tr>\n",
       "      <th>3</th>\n",
       "      <td>14 Her b</td>\n",
       "      <td>1</td>\n",
       "      <td>2</td>\n",
       "      <td>0</td>\n",
       "      <td>Radial Velocity</td>\n",
       "      <td>2002</td>\n",
       "      <td>W. M. Keck Observatory</td>\n",
       "      <td>Ground</td>\n",
       "      <td>1765.038900</td>\n",
       "      <td>2559.47216</td>\n",
       "      <td>NaN</td>\n",
       "      <td>NaN</td>\n",
       "      <td>NaN</td>\n",
       "      <td>NaN</td>\n",
       "      <td>16h10m24.50s</td>\n",
       "      <td>+43d48m58.90s</td>\n",
       "      <td>17.9323</td>\n",
       "      <td>NaN</td>\n",
       "    </tr>\n",
       "    <tr>\n",
       "      <th>4</th>\n",
       "      <td>16 Cyg B b</td>\n",
       "      <td>3</td>\n",
       "      <td>1</td>\n",
       "      <td>0</td>\n",
       "      <td>Radial Velocity</td>\n",
       "      <td>1996</td>\n",
       "      <td>Multiple Observatories</td>\n",
       "      <td>Ground</td>\n",
       "      <td>798.500000</td>\n",
       "      <td>565.73740</td>\n",
       "      <td>NaN</td>\n",
       "      <td>NaN</td>\n",
       "      <td>NaN</td>\n",
       "      <td>NaN</td>\n",
       "      <td>19h41m51.75s</td>\n",
       "      <td>+50d31m00.57s</td>\n",
       "      <td>21.1397</td>\n",
       "      <td>5750.0</td>\n",
       "    </tr>\n",
       "    <tr>\n",
       "      <th>...</th>\n",
       "      <td>...</td>\n",
       "      <td>...</td>\n",
       "      <td>...</td>\n",
       "      <td>...</td>\n",
       "      <td>...</td>\n",
       "      <td>...</td>\n",
       "      <td>...</td>\n",
       "      <td>...</td>\n",
       "      <td>...</td>\n",
       "      <td>...</td>\n",
       "      <td>...</td>\n",
       "      <td>...</td>\n",
       "      <td>...</td>\n",
       "      <td>...</td>\n",
       "      <td>...</td>\n",
       "      <td>...</td>\n",
       "      <td>...</td>\n",
       "      <td>...</td>\n",
       "    </tr>\n",
       "    <tr>\n",
       "      <th>5408</th>\n",
       "      <td>ups And b</td>\n",
       "      <td>2</td>\n",
       "      <td>3</td>\n",
       "      <td>0</td>\n",
       "      <td>Radial Velocity</td>\n",
       "      <td>1996</td>\n",
       "      <td>Lick Observatory</td>\n",
       "      <td>Ground</td>\n",
       "      <td>4.617033</td>\n",
       "      <td>218.53100</td>\n",
       "      <td>NaN</td>\n",
       "      <td>NaN</td>\n",
       "      <td>NaN</td>\n",
       "      <td>NaN</td>\n",
       "      <td>01h36m47.60s</td>\n",
       "      <td>+41d24m13.73s</td>\n",
       "      <td>13.4054</td>\n",
       "      <td>NaN</td>\n",
       "    </tr>\n",
       "    <tr>\n",
       "      <th>5409</th>\n",
       "      <td>ups And c</td>\n",
       "      <td>2</td>\n",
       "      <td>3</td>\n",
       "      <td>0</td>\n",
       "      <td>Radial Velocity</td>\n",
       "      <td>1999</td>\n",
       "      <td>Multiple Observatories</td>\n",
       "      <td>Ground</td>\n",
       "      <td>241.258000</td>\n",
       "      <td>629.59500</td>\n",
       "      <td>NaN</td>\n",
       "      <td>NaN</td>\n",
       "      <td>NaN</td>\n",
       "      <td>NaN</td>\n",
       "      <td>01h36m47.60s</td>\n",
       "      <td>+41d24m13.73s</td>\n",
       "      <td>13.4054</td>\n",
       "      <td>NaN</td>\n",
       "    </tr>\n",
       "    <tr>\n",
       "      <th>5410</th>\n",
       "      <td>ups And d</td>\n",
       "      <td>2</td>\n",
       "      <td>3</td>\n",
       "      <td>0</td>\n",
       "      <td>Radial Velocity</td>\n",
       "      <td>1999</td>\n",
       "      <td>Multiple Observatories</td>\n",
       "      <td>Ground</td>\n",
       "      <td>1276.460000</td>\n",
       "      <td>1313.22000</td>\n",
       "      <td>NaN</td>\n",
       "      <td>NaN</td>\n",
       "      <td>NaN</td>\n",
       "      <td>NaN</td>\n",
       "      <td>01h36m47.60s</td>\n",
       "      <td>+41d24m13.73s</td>\n",
       "      <td>13.4054</td>\n",
       "      <td>NaN</td>\n",
       "    </tr>\n",
       "    <tr>\n",
       "      <th>5411</th>\n",
       "      <td>ups Leo b</td>\n",
       "      <td>1</td>\n",
       "      <td>1</td>\n",
       "      <td>0</td>\n",
       "      <td>Radial Velocity</td>\n",
       "      <td>2021</td>\n",
       "      <td>Okayama Astrophysical Observatory</td>\n",
       "      <td>Ground</td>\n",
       "      <td>385.200000</td>\n",
       "      <td>162.09249</td>\n",
       "      <td>NaN</td>\n",
       "      <td>NaN</td>\n",
       "      <td>NaN</td>\n",
       "      <td>NaN</td>\n",
       "      <td>11h36m56.93s</td>\n",
       "      <td>-00d49m24.83s</td>\n",
       "      <td>52.5973</td>\n",
       "      <td>4836.0</td>\n",
       "    </tr>\n",
       "    <tr>\n",
       "      <th>5412</th>\n",
       "      <td>xi Aql b</td>\n",
       "      <td>1</td>\n",
       "      <td>1</td>\n",
       "      <td>0</td>\n",
       "      <td>Radial Velocity</td>\n",
       "      <td>2007</td>\n",
       "      <td>Okayama Astrophysical Observatory</td>\n",
       "      <td>Ground</td>\n",
       "      <td>136.750000</td>\n",
       "      <td>890.00000</td>\n",
       "      <td>NaN</td>\n",
       "      <td>NaN</td>\n",
       "      <td>NaN</td>\n",
       "      <td>NaN</td>\n",
       "      <td>19h54m14.99s</td>\n",
       "      <td>+08d27m39.98s</td>\n",
       "      <td>56.1858</td>\n",
       "      <td>4780.0</td>\n",
       "    </tr>\n",
       "  </tbody>\n",
       "</table>\n",
       "<p>5413 rows × 18 columns</p>\n",
       "</div>"
      ],
      "text/plain": [
       "         pl_name  sy_snum  sy_pnum  sy_mnum  discoverymethod  disc_year  \\\n",
       "0       11 Com b        2        1        0  Radial Velocity       2007   \n",
       "1       11 UMi b        1        1        0  Radial Velocity       2009   \n",
       "2       14 And b        1        1        0  Radial Velocity       2008   \n",
       "3       14 Her b        1        2        0  Radial Velocity       2002   \n",
       "4     16 Cyg B b        3        1        0  Radial Velocity       1996   \n",
       "...          ...      ...      ...      ...              ...        ...   \n",
       "5408   ups And b        2        3        0  Radial Velocity       1996   \n",
       "5409   ups And c        2        3        0  Radial Velocity       1999   \n",
       "5410   ups And d        2        3        0  Radial Velocity       1999   \n",
       "5411   ups Leo b        1        1        0  Radial Velocity       2021   \n",
       "5412    xi Aql b        1        1        0  Radial Velocity       2007   \n",
       "\n",
       "                               disc_facility disc_locale    pl_orbper  \\\n",
       "0                           Xinglong Station      Ground   326.030000   \n",
       "1     Thueringer Landessternwarte Tautenburg      Ground   516.219970   \n",
       "2          Okayama Astrophysical Observatory      Ground   185.840000   \n",
       "3                     W. M. Keck Observatory      Ground  1765.038900   \n",
       "4                     Multiple Observatories      Ground   798.500000   \n",
       "...                                      ...         ...          ...   \n",
       "5408                        Lick Observatory      Ground     4.617033   \n",
       "5409                  Multiple Observatories      Ground   241.258000   \n",
       "5410                  Multiple Observatories      Ground  1276.460000   \n",
       "5411       Okayama Astrophysical Observatory      Ground   385.200000   \n",
       "5412       Okayama Astrophysical Observatory      Ground   136.750000   \n",
       "\n",
       "       pl_bmasse  pl_rade  pl_dens  pl_eqt  pl_insol         rastr  \\\n",
       "0     6165.60000      NaN      NaN     NaN       NaN  12h20m42.91s   \n",
       "1     4684.81420      NaN      NaN     NaN       NaN  15h17m05.90s   \n",
       "2     1525.50000      NaN      NaN     NaN       NaN  23h31m17.80s   \n",
       "3     2559.47216      NaN      NaN     NaN       NaN  16h10m24.50s   \n",
       "4      565.73740      NaN      NaN     NaN       NaN  19h41m51.75s   \n",
       "...          ...      ...      ...     ...       ...           ...   \n",
       "5408   218.53100      NaN      NaN     NaN       NaN  01h36m47.60s   \n",
       "5409   629.59500      NaN      NaN     NaN       NaN  01h36m47.60s   \n",
       "5410  1313.22000      NaN      NaN     NaN       NaN  01h36m47.60s   \n",
       "5411   162.09249      NaN      NaN     NaN       NaN  11h36m56.93s   \n",
       "5412   890.00000      NaN      NaN     NaN       NaN  19h54m14.99s   \n",
       "\n",
       "             decstr   sy_dist  st_teff  \n",
       "0     +17d47m35.71s   93.1846   4742.0  \n",
       "1     +71d49m26.19s  125.3210   4213.0  \n",
       "2     +39d14m09.01s   75.4392   4813.0  \n",
       "3     +43d48m58.90s   17.9323      NaN  \n",
       "4     +50d31m00.57s   21.1397   5750.0  \n",
       "...             ...       ...      ...  \n",
       "5408  +41d24m13.73s   13.4054      NaN  \n",
       "5409  +41d24m13.73s   13.4054      NaN  \n",
       "5410  +41d24m13.73s   13.4054      NaN  \n",
       "5411  -00d49m24.83s   52.5973   4836.0  \n",
       "5412  +08d27m39.98s   56.1858   4780.0  \n",
       "\n",
       "[5413 rows x 18 columns]"
      ]
     },
     "execution_count": 3,
     "metadata": {},
     "output_type": "execute_result"
    }
   ],
   "source": [
    "features = ['pl_name', 'sy_snum', 'sy_pnum', 'sy_mnum', 'discoverymethod', 'disc_year', 'disc_facility', 'disc_locale', 'pl_orbper',\n",
    "               'pl_bmasse', 'pl_rade', 'pl_dens', 'pl_eqt', 'pl_insol','rastr','decstr', 'sy_dist', 'st_teff']\n",
    "\n",
    "df = data[features]\n",
    "df"
   ]
  },
  {
   "cell_type": "markdown",
   "id": "a20d685f",
   "metadata": {
    "id": "gSFB9xWpavc_",
    "papermill": {
     "duration": 0.040811,
     "end_time": "2024-01-20T15:51:21.509864",
     "exception": false,
     "start_time": "2024-01-20T15:51:21.469053",
     "status": "completed"
    },
    "tags": []
   },
   "source": [
    "##### Missing values"
   ]
  },
  {
   "cell_type": "code",
   "execution_count": 4,
   "id": "c594fa67",
   "metadata": {
    "execution": {
     "iopub.execute_input": "2024-01-20T15:51:21.595817Z",
     "iopub.status.busy": "2024-01-20T15:51:21.595150Z",
     "iopub.status.idle": "2024-01-20T15:51:21.610108Z",
     "shell.execute_reply": "2024-01-20T15:51:21.609263Z"
    },
    "id": "ujJ8OcHbUFiw",
    "outputId": "22b8e654-da9f-45dd-e949-bbea2059b502",
    "papermill": {
     "duration": 0.061269,
     "end_time": "2024-01-20T15:51:21.612425",
     "exception": false,
     "start_time": "2024-01-20T15:51:21.551156",
     "status": "completed"
    },
    "tags": []
   },
   "outputs": [
    {
     "name": "stdout",
     "output_type": "stream",
     "text": [
      "Missing values:\n",
      " pl_name               0\n",
      "sy_snum               0\n",
      "sy_pnum               0\n",
      "sy_mnum               0\n",
      "discoverymethod       0\n",
      "disc_year             0\n",
      "disc_facility         0\n",
      "disc_locale           0\n",
      "pl_orbper           244\n",
      "pl_bmasse          2964\n",
      "pl_rade            1337\n",
      "pl_dens            4574\n",
      "pl_eqt             4269\n",
      "pl_insol           4834\n",
      "rastr                 0\n",
      "decstr                0\n",
      "sy_dist             118\n",
      "st_teff             598\n",
      "dtype: int64\n",
      "\n",
      "Total: 18938 \n",
      "\n"
     ]
    }
   ],
   "source": [
    "print(f\"Missing values:\\n {df.isnull().sum()}\\n\")\n",
    "print(f\"Total: {df.isnull().sum().values.sum()} \\n\")"
   ]
  },
  {
   "cell_type": "code",
   "execution_count": 5,
   "id": "4ec0e362",
   "metadata": {
    "execution": {
     "iopub.execute_input": "2024-01-20T15:51:21.698037Z",
     "iopub.status.busy": "2024-01-20T15:51:21.696844Z",
     "iopub.status.idle": "2024-01-20T15:51:24.306297Z",
     "shell.execute_reply": "2024-01-20T15:51:24.305145Z"
    },
    "id": "wAl2i_JG-bjB",
    "outputId": "812aa1bf-ab5d-4123-94a2-1916d533f4b3",
    "papermill": {
     "duration": 2.655578,
     "end_time": "2024-01-20T15:51:24.309574",
     "exception": false,
     "start_time": "2024-01-20T15:51:21.653996",
     "status": "completed"
    },
    "tags": []
   },
   "outputs": [
    {
     "data": {
      "image/png": "[encoded data removed]",
      "text/plain": [
       "<Figure size 2500x1000 with 2 Axes>"
      ]
     },
     "metadata": {},
     "output_type": "display_data"
    }
   ],
   "source": [
    "import missingno as msno\n",
    "\n",
    "msno.matrix(df);"
   ]
  },
  {
   "cell_type": "markdown",
   "id": "e1b84d15",
   "metadata": {
    "id": "E2gMLYVhSVp9",
    "papermill": {
     "duration": 0.044123,
     "end_time": "2024-01-20T15:51:24.397322",
     "exception": false,
     "start_time": "2024-01-20T15:51:24.353199",
     "status": "completed"
    },
    "tags": []
   },
   "source": [
    "##### Convert Multiple Locale a Multiple locales"
   ]
  },
  {
   "cell_type": "code",
   "execution_count": 6,
   "id": "244e291e",
   "metadata": {
    "execution": {
     "iopub.execute_input": "2024-01-20T15:51:24.485987Z",
     "iopub.status.busy": "2024-01-20T15:51:24.485345Z",
     "iopub.status.idle": "2024-01-20T15:51:24.494706Z",
     "shell.execute_reply": "2024-01-20T15:51:24.493698Z"
    },
    "id": "X1YUDLYNRDpm",
    "outputId": "335ef1a0-8e3b-43de-95f6-4d5ba0413228",
    "papermill": {
     "duration": 0.056319,
     "end_time": "2024-01-20T15:51:24.496836",
     "exception": false,
     "start_time": "2024-01-20T15:51:24.440517",
     "status": "completed"
    },
    "tags": []
   },
   "outputs": [
    {
     "data": {
      "text/plain": [
       "array(['Ground', 'Space', 'Multiple Locales', 'Multiple Locale'],\n",
       "      dtype=object)"
      ]
     },
     "execution_count": 6,
     "metadata": {},
     "output_type": "execute_result"
    }
   ],
   "source": [
    "df['disc_locale'].unique()"
   ]
  },
  {
   "cell_type": "code",
   "execution_count": 7,
   "id": "a0740ddc",
   "metadata": {
    "execution": {
     "iopub.execute_input": "2024-01-20T15:51:24.586442Z",
     "iopub.status.busy": "2024-01-20T15:51:24.585777Z",
     "iopub.status.idle": "2024-01-20T15:51:24.592008Z",
     "shell.execute_reply": "2024-01-20T15:51:24.591241Z"
    },
    "id": "_E6ivRn1SlHC",
    "papermill": {
     "duration": 0.053429,
     "end_time": "2024-01-20T15:51:24.594118",
     "exception": false,
     "start_time": "2024-01-20T15:51:24.540689",
     "status": "completed"
    },
    "tags": []
   },
   "outputs": [],
   "source": [
    "df.loc[df.disc_locale == \"Multiple Locale\", \"disc_locale\"] = \"Multiple Locales\""
   ]
  },
  {
   "cell_type": "markdown",
   "id": "d84117bd",
   "metadata": {
    "id": "AoByPhAEQfWt",
    "papermill": {
     "duration": 0.042864,
     "end_time": "2024-01-20T15:51:24.680636",
     "exception": false,
     "start_time": "2024-01-20T15:51:24.637772",
     "status": "completed"
    },
    "tags": []
   },
   "source": [
    "<a id=\"section2\"></a>\n",
    "## **Discovery methods**\n"
   ]
  },
  {
   "cell_type": "markdown",
   "id": "201f1598",
   "metadata": {
    "id": "WrD3PdhTCAZx",
    "papermill": {
     "duration": 0.043146,
     "end_time": "2024-01-20T15:51:24.767402",
     "exception": false,
     "start_time": "2024-01-20T15:51:24.724256",
     "status": "completed"
    },
    "tags": []
   },
   "source": [
    "#### Analysis by the techniques used for the discovery of the exoplanets."
   ]
  },
  {
   "cell_type": "code",
   "execution_count": 8,
   "id": "218b91e1",
   "metadata": {
    "execution": {
     "iopub.execute_input": "2024-01-20T15:51:24.857350Z",
     "iopub.status.busy": "2024-01-20T15:51:24.856631Z",
     "iopub.status.idle": "2024-01-20T15:51:24.868949Z",
     "shell.execute_reply": "2024-01-20T15:51:24.867905Z"
    },
    "id": "gK5hHmwZg8mt",
    "outputId": "1da2dfbd-9b15-4514-b5f4-08dcdd51d7b8",
    "papermill": {
     "duration": 0.059473,
     "end_time": "2024-01-20T15:51:24.871100",
     "exception": false,
     "start_time": "2024-01-20T15:51:24.811627",
     "status": "completed"
    },
    "tags": []
   },
   "outputs": [
    {
     "data": {
      "text/html": [
       "<div>\n",
       "<style scoped>\n",
       "    .dataframe tbody tr th:only-of-type {\n",
       "        vertical-align: middle;\n",
       "    }\n",
       "\n",
       "    .dataframe tbody tr th {\n",
       "        vertical-align: top;\n",
       "    }\n",
       "\n",
       "    .dataframe thead th {\n",
       "        text-align: right;\n",
       "    }\n",
       "</style>\n",
       "<table border=\"1\" class=\"dataframe\">\n",
       "  <thead>\n",
       "    <tr style=\"text-align: right;\">\n",
       "      <th></th>\n",
       "      <th>discoverymethod</th>\n",
       "      <th>counts</th>\n",
       "    </tr>\n",
       "  </thead>\n",
       "  <tbody>\n",
       "    <tr>\n",
       "      <th>0</th>\n",
       "      <td>Astrometry</td>\n",
       "      <td>2</td>\n",
       "    </tr>\n",
       "    <tr>\n",
       "      <th>1</th>\n",
       "      <td>Disk Kinematics</td>\n",
       "      <td>1</td>\n",
       "    </tr>\n",
       "    <tr>\n",
       "      <th>2</th>\n",
       "      <td>Eclipse Timing Variations</td>\n",
       "      <td>17</td>\n",
       "    </tr>\n",
       "    <tr>\n",
       "      <th>3</th>\n",
       "      <td>Imaging</td>\n",
       "      <td>68</td>\n",
       "    </tr>\n",
       "    <tr>\n",
       "      <th>4</th>\n",
       "      <td>Microlensing</td>\n",
       "      <td>201</td>\n",
       "    </tr>\n",
       "    <tr>\n",
       "      <th>5</th>\n",
       "      <td>Orbital Brightness Modulation</td>\n",
       "      <td>9</td>\n",
       "    </tr>\n",
       "    <tr>\n",
       "      <th>6</th>\n",
       "      <td>Pulsar Timing</td>\n",
       "      <td>7</td>\n",
       "    </tr>\n",
       "    <tr>\n",
       "      <th>7</th>\n",
       "      <td>Pulsation Timing Variations</td>\n",
       "      <td>2</td>\n",
       "    </tr>\n",
       "    <tr>\n",
       "      <th>8</th>\n",
       "      <td>Radial Velocity</td>\n",
       "      <td>1048</td>\n",
       "    </tr>\n",
       "    <tr>\n",
       "      <th>9</th>\n",
       "      <td>Transit</td>\n",
       "      <td>4034</td>\n",
       "    </tr>\n",
       "    <tr>\n",
       "      <th>10</th>\n",
       "      <td>Transit Timing Variations</td>\n",
       "      <td>24</td>\n",
       "    </tr>\n",
       "  </tbody>\n",
       "</table>\n",
       "</div>"
      ],
      "text/plain": [
       "                  discoverymethod  counts\n",
       "0                      Astrometry       2\n",
       "1                 Disk Kinematics       1\n",
       "2       Eclipse Timing Variations      17\n",
       "3                         Imaging      68\n",
       "4                    Microlensing     201\n",
       "5   Orbital Brightness Modulation       9\n",
       "6                   Pulsar Timing       7\n",
       "7     Pulsation Timing Variations       2\n",
       "8                 Radial Velocity    1048\n",
       "9                         Transit    4034\n",
       "10      Transit Timing Variations      24"
      ]
     },
     "execution_count": 8,
     "metadata": {},
     "output_type": "execute_result"
    }
   ],
   "source": [
    "df_dis = df.groupby(by=[\"discoverymethod\"]).size().reset_index(name=\"counts\")\n",
    "df_dis"
   ]
  },
  {
   "cell_type": "code",
   "execution_count": 9,
   "id": "cef9b8ef",
   "metadata": {
    "execution": {
     "iopub.execute_input": "2024-01-20T15:51:24.961037Z",
     "iopub.status.busy": "2024-01-20T15:51:24.960336Z",
     "iopub.status.idle": "2024-01-20T15:51:24.965455Z",
     "shell.execute_reply": "2024-01-20T15:51:24.964572Z"
    },
    "id": "82wrAQ4t51QP",
    "papermill": {
     "duration": 0.052515,
     "end_time": "2024-01-20T15:51:24.967507",
     "exception": false,
     "start_time": "2024-01-20T15:51:24.914992",
     "status": "completed"
    },
    "tags": []
   },
   "outputs": [],
   "source": [
    "df_dis = df_dis.sort_values('counts', ascending = True)"
   ]
  },
  {
   "cell_type": "code",
   "execution_count": 10,
   "id": "e3e66d2f",
   "metadata": {
    "execution": {
     "iopub.execute_input": "2024-01-20T15:51:25.058803Z",
     "iopub.status.busy": "2024-01-20T15:51:25.058090Z",
     "iopub.status.idle": "2024-01-20T15:51:27.687249Z",
     "shell.execute_reply": "2024-01-20T15:51:27.686433Z"
    },
    "id": "HXnLdjVUs1V8",
    "outputId": "086a80fe-7b3e-4615-a307-e947d4ba3647",
    "papermill": {
     "duration": 2.676505,
     "end_time": "2024-01-20T15:51:27.689484",
     "exception": false,
     "start_time": "2024-01-20T15:51:25.012979",
     "status": "completed"
    },
    "tags": []
   },
   "outputs": [
    {
     "data": {
      "text/html": [
       "        <script type=\"text/javascript\">\n",
       "        window.PlotlyConfig = {MathJaxConfig: 'local'};\n",
       "        if (window.MathJax && window.MathJax.Hub && window.MathJax.Hub.Config) {window.MathJax.Hub.Config({SVG: {font: \"STIX-Web\"}});}\n",
       "        if (typeof require !== 'undefined') {\n",
       "        require.undef(\"plotly\");\n",
       "        requirejs.config({\n",
       "            paths: {\n",
       "                'plotly': ['https://cdn.plot.ly/plotly-2.24.1.min']\n",
       "            }\n",
       "        });\n",
       "        require(['plotly'], function(Plotly) {\n",
       "            window._Plotly = Plotly;\n",
       "        });\n",
       "        }\n",
       "        </script>\n",
       "        "
      ]
     },
     "metadata": {},
     "output_type": "display_data"
    },
    {
     "data": {
      "text/html": [
       "<div>                            <div id=\"2984c327-b6fa-4c55-8cc3-e55467e35541\" class=\"plotly-graph-div\" style=\"height:525px; width:100%;\"></div>            <script type=\"text/javascript\">                require([\"plotly\"], function(Plotly) {                    window.PLOTLYENV=window.PLOTLYENV || {};                                    if (document.getElementById(\"2984c327-b6fa-4c55-8cc3-e55467e35541\")) {                    Plotly.newPlot(                        \"2984c327-b6fa-4c55-8cc3-e55467e35541\",                        [{\"alignmentgroup\":\"True\",\"hovertemplate\":\"counts=%{x}\\u003cbr\\u003ediscoverymethod=%{y}\\u003cextra\\u003e\\u003c\\u002fextra\\u003e\",\"legendgroup\":\"\",\"marker\":{\"color\":\"rgb(13, 48, 100)\",\"pattern\":{\"shape\":\"\"}},\"name\":\"\",\"offsetgroup\":\"\",\"orientation\":\"h\",\"showlegend\":false,\"textposition\":\"auto\",\"texttemplate\":\"%{x:auto}\",\"x\":[1,2,2,7,9,17,24,68,201,1048,4034],\"xaxis\":\"x\",\"y\":[\"Disk Kinematics\",\"Astrometry\",\"Pulsation Timing Variations\",\"Pulsar Timing\",\"Orbital Brightness Modulation\",\"Eclipse Timing Variations\",\"Transit Timing Variations\",\"Imaging\",\"Microlensing\",\"Radial Velocity\",\"Transit\"],\"yaxis\":\"y\",\"type\":\"bar\"}],                        {\"template\":{\"data\":{\"barpolar\":[{\"marker\":{\"line\":{\"color\":\"white\",\"width\":0.5},\"pattern\":{\"fillmode\":\"overlay\",\"size\":10,\"solidity\":0.2}},\"type\":\"barpolar\"}],\"bar\":[{\"error_x\":{\"color\":\"#2a3f5f\"},\"error_y\":{\"color\":\"#2a3f5f\"},\"marker\":{\"line\":{\"color\":\"white\",\"width\":0.5},\"pattern\":{\"fillmode\":\"overlay\",\"size\":10,\"solidity\":0.2}},\"type\":\"bar\"}],\"carpet\":[{\"aaxis\":{\"endlinecolor\":\"#2a3f5f\",\"gridcolor\":\"#C8D4E3\",\"linecolor\":\"#C8D4E3\",\"minorgridcolor\":\"#C8D4E3\",\"startlinecolor\":\"#2a3f5f\"},\"baxis\":{\"endlinecolor\":\"#2a3f5f\",\"gridcolor\":\"#C8D4E3\",\"linecolor\":\"#C8D4E3\",\"minorgridcolor\":\"#C8D4E3\",\"startlinecolor\":\"#2a3f5f\"},\"type\":\"carpet\"}],\"choropleth\":[{\"colorbar\":{\"outlinewidth\":0,\"ticks\":\"\"},\"type\":\"choropleth\"}],\"contourcarpet\":[{\"colorbar\":{\"outlinewidth\":0,\"ticks\":\"\"},\"type\":\"contourcarpet\"}],\"contour\":[{\"colorbar\":{\"outlinewidth\":0,\"ticks\":\"\"},\"colorscale\":[[0.0,\"#0d0887\"],[0.1111111111111111,\"#46039f\"],[0.2222222222222222,\"#7201a8\"],[0.3333333333333333,\"#9c179e\"],[0.4444444444444444,\"#bd3786\"],[0.5555555555555556,\"#d8576b\"],[0.6666666666666666,\"#ed7953\"],[0.7777777777777778,\"#fb9f3a\"],[0.8888888888888888,\"#fdca26\"],[1.0,\"#f0f921\"]],\"type\":\"contour\"}],\"heatmapgl\":[{\"colorbar\":{\"outlinewidth\":0,\"ticks\":\"\"},\"colorscale\":[[0.0,\"#0d0887\"],[0.1111111111111111,\"#46039f\"],[0.2222222222222222,\"#7201a8\"],[0.3333333333333333,\"#9c179e\"],[0.4444444444444444,\"#bd3786\"],[0.5555555555555556,\"#d8576b\"],[0.6666666666666666,\"#ed7953\"],[0.7777777777777778,\"#fb9f3a\"],[0.8888888888888888,\"#fdca26\"],[1.0,\"#f0f921\"]],\"type\":\"heatmapgl\"}],\"heatmap\":[{\"colorbar\":{\"outlinewidth\":0,\"ticks\":\"\"},\"colorscale\":[[0.0,\"#0d0887\"],[0.1111111111111111,\"#46039f\"],[0.2222222222222222,\"#7201a8\"],[0.3333333333333333,\"#9c179e\"],[0.4444444444444444,\"#bd3786\"],[0.5555555555555556,\"#d8576b\"],[0.6666666666666666,\"#ed7953\"],[0.7777777777777778,\"#fb9f3a\"],[0.8888888888888888,\"#fdca26\"],[1.0,\"#f0f921\"]],\"type\":\"heatmap\"}],\"histogram2dcontour\":[{\"colorbar\":{\"outlinewidth\":0,\"ticks\":\"\"},\"colorscale\":[[0.0,\"#0d0887\"],[0.1111111111111111,\"#46039f\"],[0.2222222222222222,\"#7201a8\"],[0.3333333333333333,\"#9c179e\"],[0.4444444444444444,\"#bd3786\"],[0.5555555555555556,\"#d8576b\"],[0.6666666666666666,\"#ed7953\"],[0.7777777777777778,\"#fb9f3a\"],[0.8888888888888888,\"#fdca26\"],[1.0,\"#f0f921\"]],\"type\":\"histogram2dcontour\"}],\"histogram2d\":[{\"colorbar\":{\"outlinewidth\":0,\"ticks\":\"\"},\"colorscale\":[[0.0,\"#0d0887\"],[0.1111111111111111,\"#46039f\"],[0.2222222222222222,\"#7201a8\"],[0.3333333333333333,\"#9c179e\"],[0.4444444444444444,\"#bd3786\"],[0.5555555555555556,\"#d8576b\"],[0.6666666666666666,\"#ed7953\"],[0.7777777777777778,\"#fb9f3a\"],[0.8888888888888888,\"#fdca26\"],[1.0,\"#f0f921\"]],\"type\":\"histogram2d\"}],\"histogram\":[{\"marker\":{\"pattern\":{\"fillmode\":\"overlay\",\"size\":10,\"solidity\":0.2}},\"type\":\"histogram\"}],\"mesh3d\":[{\"colorbar\":{\"outlinewidth\":0,\"ticks\":\"\"},\"type\":\"mesh3d\"}],\"parcoords\":[{\"line\":{\"colorbar\":{\"outlinewidth\":0,\"ticks\":\"\"}},\"type\":\"parcoords\"}],\"pie\":[{\"automargin\":true,\"type\":\"pie\"}],\"scatter3d\":[{\"line\":{\"colorbar\":{\"outlinewidth\":0,\"ticks\":\"\"}},\"marker\":{\"colorbar\":{\"outlinewidth\":0,\"ticks\":\"\"}},\"type\":\"scatter3d\"}],\"scattercarpet\":[{\"marker\":{\"colorbar\":{\"outlinewidth\":0,\"ticks\":\"\"}},\"type\":\"scattercarpet\"}],\"scattergeo\":[{\"marker\":{\"colorbar\":{\"outlinewidth\":0,\"ticks\":\"\"}},\"type\":\"scattergeo\"}],\"scattergl\":[{\"marker\":{\"colorbar\":{\"outlinewidth\":0,\"ticks\":\"\"}},\"type\":\"scattergl\"}],\"scattermapbox\":[{\"marker\":{\"colorbar\":{\"outlinewidth\":0,\"ticks\":\"\"}},\"type\":\"scattermapbox\"}],\"scatterpolargl\":[{\"marker\":{\"colorbar\":{\"outlinewidth\":0,\"ticks\":\"\"}},\"type\":\"scatterpolargl\"}],\"scatterpolar\":[{\"marker\":{\"colorbar\":{\"outlinewidth\":0,\"ticks\":\"\"}},\"type\":\"scatterpolar\"}],\"scatter\":[{\"fillpattern\":{\"fillmode\":\"overlay\",\"size\":10,\"solidity\":0.2},\"type\":\"scatter\"}],\"scatterternary\":[{\"marker\":{\"colorbar\":{\"outlinewidth\":0,\"ticks\":\"\"}},\"type\":\"scatterternary\"}],\"surface\":[{\"colorbar\":{\"outlinewidth\":0,\"ticks\":\"\"},\"colorscale\":[[0.0,\"#0d0887\"],[0.1111111111111111,\"#46039f\"],[0.2222222222222222,\"#7201a8\"],[0.3333333333333333,\"#9c179e\"],[0.4444444444444444,\"#bd3786\"],[0.5555555555555556,\"#d8576b\"],[0.6666666666666666,\"#ed7953\"],[0.7777777777777778,\"#fb9f3a\"],[0.8888888888888888,\"#fdca26\"],[1.0,\"#f0f921\"]],\"type\":\"surface\"}],\"table\":[{\"cells\":{\"fill\":{\"color\":\"#EBF0F8\"},\"line\":{\"color\":\"white\"}},\"header\":{\"fill\":{\"color\":\"#C8D4E3\"},\"line\":{\"color\":\"white\"}},\"type\":\"table\"}]},\"layout\":{\"annotationdefaults\":{\"arrowcolor\":\"#2a3f5f\",\"arrowhead\":0,\"arrowwidth\":1},\"autotypenumbers\":\"strict\",\"coloraxis\":{\"colorbar\":{\"outlinewidth\":0,\"ticks\":\"\"}},\"colorscale\":{\"diverging\":[[0,\"#8e0152\"],[0.1,\"#c51b7d\"],[0.2,\"#de77ae\"],[0.3,\"#f1b6da\"],[0.4,\"#fde0ef\"],[0.5,\"#f7f7f7\"],[0.6,\"#e6f5d0\"],[0.7,\"#b8e186\"],[0.8,\"#7fbc41\"],[0.9,\"#4d9221\"],[1,\"#276419\"]],\"sequential\":[[0.0,\"#0d0887\"],[0.1111111111111111,\"#46039f\"],[0.2222222222222222,\"#7201a8\"],[0.3333333333333333,\"#9c179e\"],[0.4444444444444444,\"#bd3786\"],[0.5555555555555556,\"#d8576b\"],[0.6666666666666666,\"#ed7953\"],[0.7777777777777778,\"#fb9f3a\"],[0.8888888888888888,\"#fdca26\"],[1.0,\"#f0f921\"]],\"sequentialminus\":[[0.0,\"#0d0887\"],[0.1111111111111111,\"#46039f\"],[0.2222222222222222,\"#7201a8\"],[0.3333333333333333,\"#9c179e\"],[0.4444444444444444,\"#bd3786\"],[0.5555555555555556,\"#d8576b\"],[0.6666666666666666,\"#ed7953\"],[0.7777777777777778,\"#fb9f3a\"],[0.8888888888888888,\"#fdca26\"],[1.0,\"#f0f921\"]]},\"colorway\":[\"#636efa\",\"#EF553B\",\"#00cc96\",\"#ab63fa\",\"#FFA15A\",\"#19d3f3\",\"#FF6692\",\"#B6E880\",\"#FF97FF\",\"#FECB52\"],\"font\":{\"color\":\"#2a3f5f\"},\"geo\":{\"bgcolor\":\"white\",\"lakecolor\":\"white\",\"landcolor\":\"white\",\"showlakes\":true,\"showland\":true,\"subunitcolor\":\"#C8D4E3\"},\"hoverlabel\":{\"align\":\"left\"},\"hovermode\":\"closest\",\"mapbox\":{\"style\":\"light\"},\"paper_bgcolor\":\"white\",\"plot_bgcolor\":\"white\",\"polar\":{\"angularaxis\":{\"gridcolor\":\"#EBF0F8\",\"linecolor\":\"#EBF0F8\",\"ticks\":\"\"},\"bgcolor\":\"white\",\"radialaxis\":{\"gridcolor\":\"#EBF0F8\",\"linecolor\":\"#EBF0F8\",\"ticks\":\"\"}},\"scene\":{\"xaxis\":{\"backgroundcolor\":\"white\",\"gridcolor\":\"#DFE8F3\",\"gridwidth\":2,\"linecolor\":\"#EBF0F8\",\"showbackground\":true,\"ticks\":\"\",\"zerolinecolor\":\"#EBF0F8\"},\"yaxis\":{\"backgroundcolor\":\"white\",\"gridcolor\":\"#DFE8F3\",\"gridwidth\":2,\"linecolor\":\"#EBF0F8\",\"showbackground\":true,\"ticks\":\"\",\"zerolinecolor\":\"#EBF0F8\"},\"zaxis\":{\"backgroundcolor\":\"white\",\"gridcolor\":\"#DFE8F3\",\"gridwidth\":2,\"linecolor\":\"#EBF0F8\",\"showbackground\":true,\"ticks\":\"\",\"zerolinecolor\":\"#EBF0F8\"}},\"shapedefaults\":{\"line\":{\"color\":\"#2a3f5f\"}},\"ternary\":{\"aaxis\":{\"gridcolor\":\"#DFE8F3\",\"linecolor\":\"#A2B1C6\",\"ticks\":\"\"},\"baxis\":{\"gridcolor\":\"#DFE8F3\",\"linecolor\":\"#A2B1C6\",\"ticks\":\"\"},\"bgcolor\":\"white\",\"caxis\":{\"gridcolor\":\"#DFE8F3\",\"linecolor\":\"#A2B1C6\",\"ticks\":\"\"}},\"title\":{\"x\":0.05},\"xaxis\":{\"automargin\":true,\"gridcolor\":\"#EBF0F8\",\"linecolor\":\"#EBF0F8\",\"ticks\":\"\",\"title\":{\"standoff\":15},\"zerolinecolor\":\"#EBF0F8\",\"zerolinewidth\":2},\"yaxis\":{\"automargin\":true,\"gridcolor\":\"#EBF0F8\",\"linecolor\":\"#EBF0F8\",\"ticks\":\"\",\"title\":{\"standoff\":15},\"zerolinecolor\":\"#EBF0F8\",\"zerolinewidth\":2}}},\"xaxis\":{\"anchor\":\"y\",\"domain\":[0.0,1.0],\"title\":{\"text\":\"counts\"}},\"yaxis\":{\"anchor\":\"x\",\"domain\":[0.0,1.0],\"title\":{\"text\":\"discoverymethod\"}},\"legend\":{\"tracegroupgap\":0},\"margin\":{\"t\":60},\"barmode\":\"relative\",\"title\":{\"text\":\"Exoplanets by method of discovery\",\"x\":0.5}},                        {\"responsive\": true}                    ).then(function(){\n",
       "                            \n",
       "var gd = document.getElementById('2984c327-b6fa-4c55-8cc3-e55467e35541');\n",
       "var x = new MutationObserver(function (mutations, observer) {{\n",
       "        var display = window.getComputedStyle(gd).display;\n",
       "        if (!display || display === 'none') {{\n",
       "            console.log([gd, 'removed!']);\n",
       "            Plotly.purge(gd);\n",
       "            observer.disconnect();\n",
       "        }}\n",
       "}});\n",
       "\n",
       "// Listen for the removal of the full notebook cells\n",
       "var notebookContainer = gd.closest('#notebook-container');\n",
       "if (notebookContainer) {{\n",
       "    x.observe(notebookContainer, {childList: true});\n",
       "}}\n",
       "\n",
       "// Listen for the clearing of the current output cell\n",
       "var outputEl = gd.closest('.output');\n",
       "if (outputEl) {{\n",
       "    x.observe(outputEl, {childList: true});\n",
       "}}\n",
       "\n",
       "                        })                };                });            </script>        </div>"
      ]
     },
     "metadata": {},
     "output_type": "display_data"
    }
   ],
   "source": [
    "import plotly.express as px\n",
    "\n",
    "fig = px.bar(df_dis, y='discoverymethod', x='counts', text_auto='auto', color_discrete_sequence=px.colors.sequential.thermal[1:])\n",
    "fig.update_layout(template=\"plotly_white\", title_text='Exoplanets by method of discovery', title_x=0.5)\n",
    "\n",
    "fig.show()"
   ]
  },
  {
   "cell_type": "markdown",
   "id": "8c20c22d",
   "metadata": {
    "id": "2dUkfDoZCPFl",
    "papermill": {
     "duration": 0.04402,
     "end_time": "2024-01-20T15:51:27.778956",
     "exception": false,
     "start_time": "2024-01-20T15:51:27.734936",
     "status": "completed"
    },
    "tags": []
   },
   "source": [
    " We observe how Transit detection is the most widely used, being observed changes in brightness caused by the passage of the planet in front of its star. In addition to its discovery it also allows to recognise a great variety of different characteristics like the size of the exoplanet's orbit, that can be calculated from how long it takes to orbit once (the period), and the size of the planet itself can be calculated based on how much the star's brightness lowered.\n",
    "\n",
    "Even they can determine the atmosphere during a transit. Some of the light will pass through its atmosphere and that light can be analysed to determine which different atmospheric elements influenced its particular scattering. [**⁽²⁾**](#section9)"
   ]
  },
  {
   "cell_type": "markdown",
   "id": "6f2b1437",
   "metadata": {
    "papermill": {
     "duration": 0.044058,
     "end_time": "2024-01-20T15:51:27.867868",
     "exception": false,
     "start_time": "2024-01-20T15:51:27.823810",
     "status": "completed"
    },
    "tags": []
   },
   "source": [
    "![](https://exoplanets.nasa.gov/rails/active_storage/blobs/eyJfcmFpbHMiOnsibWVzc2FnZSI6IkJBaHBBajBNIiwiZXhwIjpudWxsLCJwdXIiOiJibG9iX2lkIn19--c103b7858d358b954674f60aeedf8e5ba479e4bb/656348main_ToV_transit_diag.jpg)"
   ]
  },
  {
   "cell_type": "markdown",
   "id": "2b3b3a0e",
   "metadata": {
    "id": "WAkpdOShXooT",
    "papermill": {
     "duration": 0.043989,
     "end_time": "2024-01-20T15:51:27.955962",
     "exception": false,
     "start_time": "2024-01-20T15:51:27.911973",
     "status": "completed"
    },
    "tags": []
   },
   "source": [
    "<a id=\"section3\"></a>\n",
    "## **Discovery facilities**"
   ]
  },
  {
   "cell_type": "markdown",
   "id": "24c908dd",
   "metadata": {
    "id": "OKcgdYZ5E3fI",
    "papermill": {
     "duration": 0.044085,
     "end_time": "2024-01-20T15:51:28.045825",
     "exception": false,
     "start_time": "2024-01-20T15:51:28.001740",
     "status": "completed"
    },
    "tags": []
   },
   "source": [
    "#### Now we will focus the analysis on the observatories (if located on the ground) or telescopes (discovered from space) that managed to score on the list of exoplanets."
   ]
  },
  {
   "cell_type": "code",
   "execution_count": 11,
   "id": "b25d3481",
   "metadata": {
    "execution": {
     "iopub.execute_input": "2024-01-20T15:51:28.137246Z",
     "iopub.status.busy": "2024-01-20T15:51:28.136271Z",
     "iopub.status.idle": "2024-01-20T15:51:28.157112Z",
     "shell.execute_reply": "2024-01-20T15:51:28.155994Z"
    },
    "id": "nZdimjXhV9Bt",
    "outputId": "6bb584e5-b581-4490-918f-837dbb35e6c1",
    "papermill": {
     "duration": 0.069259,
     "end_time": "2024-01-20T15:51:28.159703",
     "exception": false,
     "start_time": "2024-01-20T15:51:28.090444",
     "status": "completed"
    },
    "tags": []
   },
   "outputs": [
    {
     "data": {
      "text/html": [
       "<div>\n",
       "<style scoped>\n",
       "    .dataframe tbody tr th:only-of-type {\n",
       "        vertical-align: middle;\n",
       "    }\n",
       "\n",
       "    .dataframe tbody tr th {\n",
       "        vertical-align: top;\n",
       "    }\n",
       "\n",
       "    .dataframe thead th {\n",
       "        text-align: right;\n",
       "    }\n",
       "</style>\n",
       "<table border=\"1\" class=\"dataframe\">\n",
       "  <thead>\n",
       "    <tr style=\"text-align: right;\">\n",
       "      <th></th>\n",
       "      <th>disc_facility</th>\n",
       "      <th>disc_locale</th>\n",
       "      <th>counts</th>\n",
       "    </tr>\n",
       "  </thead>\n",
       "  <tbody>\n",
       "    <tr>\n",
       "      <th>27</th>\n",
       "      <td>Kepler</td>\n",
       "      <td>Space</td>\n",
       "      <td>2708</td>\n",
       "    </tr>\n",
       "    <tr>\n",
       "      <th>21</th>\n",
       "      <td>K2</td>\n",
       "      <td>Space</td>\n",
       "      <td>548</td>\n",
       "    </tr>\n",
       "    <tr>\n",
       "      <th>63</th>\n",
       "      <td>Transiting Exoplanet Survey Satellite (TESS)</td>\n",
       "      <td>Space</td>\n",
       "      <td>372</td>\n",
       "    </tr>\n",
       "    <tr>\n",
       "      <th>29</th>\n",
       "      <td>La Silla Observatory</td>\n",
       "      <td>Ground</td>\n",
       "      <td>276</td>\n",
       "    </tr>\n",
       "    <tr>\n",
       "      <th>41</th>\n",
       "      <td>Multiple Observatories</td>\n",
       "      <td>Ground</td>\n",
       "      <td>264</td>\n",
       "    </tr>\n",
       "    <tr>\n",
       "      <th>...</th>\n",
       "      <td>...</td>\n",
       "      <td>...</td>\n",
       "      <td>...</td>\n",
       "    </tr>\n",
       "    <tr>\n",
       "      <th>59</th>\n",
       "      <td>Teide Observatory</td>\n",
       "      <td>Ground</td>\n",
       "      <td>1</td>\n",
       "    </tr>\n",
       "    <tr>\n",
       "      <th>32</th>\n",
       "      <td>Leoncito Astronomical Complex</td>\n",
       "      <td>Ground</td>\n",
       "      <td>1</td>\n",
       "    </tr>\n",
       "    <tr>\n",
       "      <th>44</th>\n",
       "      <td>NASA Infrared Telescope Facility (IRTF)</td>\n",
       "      <td>Ground</td>\n",
       "      <td>1</td>\n",
       "    </tr>\n",
       "    <tr>\n",
       "      <th>53</th>\n",
       "      <td>SPECULOOS Southern Observatory</td>\n",
       "      <td>Ground</td>\n",
       "      <td>1</td>\n",
       "    </tr>\n",
       "    <tr>\n",
       "      <th>37</th>\n",
       "      <td>Mauna Kea Observatory</td>\n",
       "      <td>Ground</td>\n",
       "      <td>1</td>\n",
       "    </tr>\n",
       "  </tbody>\n",
       "</table>\n",
       "<p>74 rows × 3 columns</p>\n",
       "</div>"
      ],
      "text/plain": [
       "                                   disc_facility disc_locale  counts\n",
       "27                                        Kepler       Space    2708\n",
       "21                                            K2       Space     548\n",
       "63  Transiting Exoplanet Survey Satellite (TESS)       Space     372\n",
       "29                          La Silla Observatory      Ground     276\n",
       "41                        Multiple Observatories      Ground     264\n",
       "..                                           ...         ...     ...\n",
       "59                             Teide Observatory      Ground       1\n",
       "32                 Leoncito Astronomical Complex      Ground       1\n",
       "44       NASA Infrared Telescope Facility (IRTF)      Ground       1\n",
       "53                SPECULOOS Southern Observatory      Ground       1\n",
       "37                         Mauna Kea Observatory      Ground       1\n",
       "\n",
       "[74 rows x 3 columns]"
      ]
     },
     "execution_count": 11,
     "metadata": {},
     "output_type": "execute_result"
    }
   ],
   "source": [
    "df_fac = df.groupby(by=[\"disc_facility\", \"disc_locale\"]).size().reset_index(name=\"counts\")\n",
    "df_fac = df_fac.sort_values('counts', ascending = False)\n",
    "df_fac"
   ]
  },
  {
   "cell_type": "code",
   "execution_count": 12,
   "id": "9a2b9605",
   "metadata": {
    "execution": {
     "iopub.execute_input": "2024-01-20T15:51:28.252720Z",
     "iopub.status.busy": "2024-01-20T15:51:28.252297Z",
     "iopub.status.idle": "2024-01-20T15:51:28.259650Z",
     "shell.execute_reply": "2024-01-20T15:51:28.258485Z"
    },
    "id": "vjbo6iMNTmG8",
    "outputId": "78f6ca7e-feaf-4869-8bf6-545b53a714cd",
    "papermill": {
     "duration": 0.056996,
     "end_time": "2024-01-20T15:51:28.262050",
     "exception": false,
     "start_time": "2024-01-20T15:51:28.205054",
     "status": "completed"
    },
    "tags": []
   },
   "outputs": [
    {
     "name": "stdout",
     "output_type": "stream",
     "text": [
      "disc_facility    70\n",
      "disc_locale       3\n",
      "counts           33\n",
      "dtype: int64\n"
     ]
    }
   ],
   "source": [
    "print(df_fac.nunique())"
   ]
  },
  {
   "cell_type": "markdown",
   "id": "88863f20",
   "metadata": {
    "id": "3IKPPsFJaE8u",
    "papermill": {
     "duration": 0.044675,
     "end_time": "2024-01-20T15:51:28.352263",
     "exception": false,
     "start_time": "2024-01-20T15:51:28.307588",
     "status": "completed"
    },
    "tags": []
   },
   "source": [
    "##### We found duplicate entities, as they were discovered in different locations at same time (Space, Ground or Multiple)"
   ]
  },
  {
   "cell_type": "code",
   "execution_count": 13,
   "id": "36b6203a",
   "metadata": {
    "execution": {
     "iopub.execute_input": "2024-01-20T15:51:28.443857Z",
     "iopub.status.busy": "2024-01-20T15:51:28.443121Z",
     "iopub.status.idle": "2024-01-20T15:51:28.457993Z",
     "shell.execute_reply": "2024-01-20T15:51:28.457231Z"
    },
    "id": "LxakFEeGKunA",
    "outputId": "b5d9b29d-7a98-4109-9ee2-6c25e29a8a16",
    "papermill": {
     "duration": 0.063343,
     "end_time": "2024-01-20T15:51:28.460278",
     "exception": false,
     "start_time": "2024-01-20T15:51:28.396935",
     "status": "completed"
    },
    "tags": []
   },
   "outputs": [
    {
     "name": "stdout",
     "output_type": "stream",
     "text": [
      "             disc_facility       disc_locale  counts\n",
      "41  Multiple Observatories            Ground     264\n",
      "42  Multiple Observatories  Multiple Locales      14\n",
      "43  Multiple Observatories             Space       3\n",
      "\n",
      "          disc_facility       disc_locale  counts\n",
      "39  Multiple Facilities            Ground      15\n",
      "40  Multiple Facilities  Multiple Locales       3\n",
      "\n",
      "             disc_facility       disc_locale  counts\n",
      "41  Multiple Observatories            Ground     264\n",
      "42  Multiple Observatories  Multiple Locales      14\n",
      "43  Multiple Observatories             Space       3\n",
      "\n",
      "                                   disc_facility disc_locale  counts\n",
      "63  Transiting Exoplanet Survey Satellite (TESS)       Space     372\n",
      "62  Transiting Exoplanet Survey Satellite (TESS)      Ground       1\n",
      "\n"
     ]
    }
   ],
   "source": [
    "duplicated = df_fac[df_fac.duplicated('disc_facility')]\n",
    "\n",
    "for index, row in duplicated.iterrows():\n",
    "  print(df_fac.loc[df_fac['disc_facility'] == row['disc_facility']])\n",
    "  print()"
   ]
  },
  {
   "cell_type": "code",
   "execution_count": 14,
   "id": "630fc714",
   "metadata": {
    "execution": {
     "iopub.execute_input": "2024-01-20T15:51:28.553376Z",
     "iopub.status.busy": "2024-01-20T15:51:28.552576Z",
     "iopub.status.idle": "2024-01-20T15:51:28.679003Z",
     "shell.execute_reply": "2024-01-20T15:51:28.678224Z"
    },
    "id": "OgcQTx60rc8h",
    "outputId": "6dbc1536-6a36-4f73-f26f-939c212b2162",
    "papermill": {
     "duration": 0.17525,
     "end_time": "2024-01-20T15:51:28.681203",
     "exception": false,
     "start_time": "2024-01-20T15:51:28.505953",
     "status": "completed"
    },
    "tags": []
   },
   "outputs": [
    {
     "data": {
      "text/html": [
       "<div>                            <div id=\"e160ceb1-c1e5-48e7-82cc-ff1930e5be29\" class=\"plotly-graph-div\" style=\"height:1700px; width:100%;\"></div>            <script type=\"text/javascript\">                require([\"plotly\"], function(Plotly) {                    window.PLOTLYENV=window.PLOTLYENV || {};                                    if (document.getElementById(\"e160ceb1-c1e5-48e7-82cc-ff1930e5be29\")) {                    Plotly.newPlot(                        \"e160ceb1-c1e5-48e7-82cc-ff1930e5be29\",                        [{\"alignmentgroup\":\"True\",\"hovertemplate\":\"disc_locale=Space\\u003cbr\\u003ecounts=%{x}\\u003cbr\\u003edisc_facility=%{y}\\u003cextra\\u003e\\u003c\\u002fextra\\u003e\",\"legendgroup\":\"Space\",\"marker\":{\"color\":\"rgb(13, 48, 100)\",\"pattern\":{\"shape\":\"\"}},\"name\":\"Space\",\"offsetgroup\":\"Space\",\"orientation\":\"h\",\"showlegend\":true,\"textposition\":\"auto\",\"texttemplate\":\"%{x:auto}\",\"x\":[2708,548,372,35,6,4,3,3,2,1,1],\"xaxis\":\"x\",\"y\":[\"Kepler\",\"K2\",\"Transiting Exoplanet Survey Satellite (TESS)\",\"CoRoT\",\"Hubble Space Telescope\",\"Spitzer Space Telescope\",\"Multiple Observatories\",\"CHaracterising ExOPlanets Satellite (CHEOPS)\",\"European Space Agency (ESA) Gaia Satellite\",\"Wide-field Infrared Survey Explorer (WISE) Sat\",\"James Webb Space Telescope (JWST)\"],\"yaxis\":\"y\",\"type\":\"bar\"},{\"alignmentgroup\":\"True\",\"hovertemplate\":\"disc_locale=Ground\\u003cbr\\u003ecounts=%{x}\\u003cbr\\u003edisc_facility=%{y}\\u003cextra\\u003e\\u003c\\u002fextra\\u003e\",\"legendgroup\":\"Ground\",\"marker\":{\"color\":\"rgb(53, 50, 155)\",\"pattern\":{\"shape\":\"\"}},\"name\":\"Ground\",\"offsetgroup\":\"Ground\",\"orientation\":\"h\",\"showlegend\":true,\"textposition\":\"auto\",\"texttemplate\":\"%{x:auto}\",\"x\":[276,264,184,113,97,79,73,67,64,44,36,35,35,32,30,29,29,29,23,17,15,11,11,10,10,9,8,7,7,6,5,5,5,4,3,3,3,3,2,2,2,2,2,2,2,2,2,1,1,1,1,1,1,1,1,1,1,1,1,1],\"xaxis\":\"x\",\"y\":[\"La Silla Observatory\",\"Multiple Observatories\",\"W. M. Keck Observatory\",\"SuperWASP\",\"OGLE\",\"KMTNet\",\"HATSouth\",\"HATNet\",\"Haute-Provence Observatory\",\"Paranal Observatory\",\"Anglo-Australian Telescope\",\"Lick Observatory\",\"Okayama Astrophysical Observatory\",\"SuperWASP-South\",\"Roque de los Muchachos Observatory\",\"Las Campanas Observatory\",\"McDonald Observatory\",\"MOA\",\"Bohyunsan Optical Astronomical Observatory\",\"Calar Alto Observatory\",\"Multiple Facilities\",\"Subaru Telescope\",\"WASP-South\",\"KELT\",\"Qatar\",\"Gemini Observatory\",\"Thueringer Landessternwarte Tautenburg\",\"XO\",\"KELT-North\",\"Fred Lawrence Whipple Observatory\",\"TrES\",\"Cerro Tololo Inter-American Observatory\",\"SuperWASP-North\",\"KELT-South\",\"European Southern Observatory\",\"Next-Generation Transit Survey (NGTS)\",\"Arecibo Observatory\",\"Yunnan Astronomical Observatory\",\"United Kingdom Infrared Telescope\",\"Xinglong Station\",\"Acton Sky Portal Observatory\",\"Parkes Observatory\",\"MEarth Project\",\"Lowell Observatory\",\"Large Binocular Telescope Observatory\",\"Haleakala Observatory\",\"Palomar Observatory\",\"University of Canterbury Mt John Observatory\",\"Apache Point Observatory\",\"Atacama Large Millimeter Array (ALMA)\",\"Winer Observatory\",\"Very Long Baseline Array\",\"Transiting Exoplanet Survey Satellite (TESS)\",\"Infrared Survey Facility\",\"Kitt Peak National Observatory\",\"Teide Observatory\",\"Leoncito Astronomical Complex\",\"NASA Infrared Telescope Facility (IRTF)\",\"SPECULOOS Southern Observatory\",\"Mauna Kea Observatory\"],\"yaxis\":\"y\",\"type\":\"bar\"},{\"alignmentgroup\":\"True\",\"hovertemplate\":\"disc_locale=Multiple Locales\\u003cbr\\u003ecounts=%{x}\\u003cbr\\u003edisc_facility=%{y}\\u003cextra\\u003e\\u003c\\u002fextra\\u003e\",\"legendgroup\":\"Multiple Locales\",\"marker\":{\"color\":\"rgb(93, 62, 153)\",\"pattern\":{\"shape\":\"\"}},\"name\":\"Multiple Locales\",\"offsetgroup\":\"Multiple Locales\",\"orientation\":\"h\",\"showlegend\":true,\"textposition\":\"auto\",\"texttemplate\":\"%{x:auto}\",\"x\":[14,3,1],\"xaxis\":\"x\",\"y\":[\"Multiple Observatories\",\"Multiple Facilities\",\"KOINet\"],\"yaxis\":\"y\",\"type\":\"bar\"}],                        {\"template\":{\"data\":{\"barpolar\":[{\"marker\":{\"line\":{\"color\":\"white\",\"width\":0.5},\"pattern\":{\"fillmode\":\"overlay\",\"size\":10,\"solidity\":0.2}},\"type\":\"barpolar\"}],\"bar\":[{\"error_x\":{\"color\":\"#2a3f5f\"},\"error_y\":{\"color\":\"#2a3f5f\"},\"marker\":{\"line\":{\"color\":\"white\",\"width\":0.5},\"pattern\":{\"fillmode\":\"overlay\",\"size\":10,\"solidity\":0.2}},\"type\":\"bar\"}],\"carpet\":[{\"aaxis\":{\"endlinecolor\":\"#2a3f5f\",\"gridcolor\":\"#C8D4E3\",\"linecolor\":\"#C8D4E3\",\"minorgridcolor\":\"#C8D4E3\",\"startlinecolor\":\"#2a3f5f\"},\"baxis\":{\"endlinecolor\":\"#2a3f5f\",\"gridcolor\":\"#C8D4E3\",\"linecolor\":\"#C8D4E3\",\"minorgridcolor\":\"#C8D4E3\",\"startlinecolor\":\"#2a3f5f\"},\"type\":\"carpet\"}],\"choropleth\":[{\"colorbar\":{\"outlinewidth\":0,\"ticks\":\"\"},\"type\":\"choropleth\"}],\"contourcarpet\":[{\"colorbar\":{\"outlinewidth\":0,\"ticks\":\"\"},\"type\":\"contourcarpet\"}],\"contour\":[{\"colorbar\":{\"outlinewidth\":0,\"ticks\":\"\"},\"colorscale\":[[0.0,\"#0d0887\"],[0.1111111111111111,\"#46039f\"],[0.2222222222222222,\"#7201a8\"],[0.3333333333333333,\"#9c179e\"],[0.4444444444444444,\"#bd3786\"],[0.5555555555555556,\"#d8576b\"],[0.6666666666666666,\"#ed7953\"],[0.7777777777777778,\"#fb9f3a\"],[0.8888888888888888,\"#fdca26\"],[1.0,\"#f0f921\"]],\"type\":\"contour\"}],\"heatmapgl\":[{\"colorbar\":{\"outlinewidth\":0,\"ticks\":\"\"},\"colorscale\":[[0.0,\"#0d0887\"],[0.1111111111111111,\"#46039f\"],[0.2222222222222222,\"#7201a8\"],[0.3333333333333333,\"#9c179e\"],[0.4444444444444444,\"#bd3786\"],[0.5555555555555556,\"#d8576b\"],[0.6666666666666666,\"#ed7953\"],[0.7777777777777778,\"#fb9f3a\"],[0.8888888888888888,\"#fdca26\"],[1.0,\"#f0f921\"]],\"type\":\"heatmapgl\"}],\"heatmap\":[{\"colorbar\":{\"outlinewidth\":0,\"ticks\":\"\"},\"colorscale\":[[0.0,\"#0d0887\"],[0.1111111111111111,\"#46039f\"],[0.2222222222222222,\"#7201a8\"],[0.3333333333333333,\"#9c179e\"],[0.4444444444444444,\"#bd3786\"],[0.5555555555555556,\"#d8576b\"],[0.6666666666666666,\"#ed7953\"],[0.7777777777777778,\"#fb9f3a\"],[0.8888888888888888,\"#fdca26\"],[1.0,\"#f0f921\"]],\"type\":\"heatmap\"}],\"histogram2dcontour\":[{\"colorbar\":{\"outlinewidth\":0,\"ticks\":\"\"},\"colorscale\":[[0.0,\"#0d0887\"],[0.1111111111111111,\"#46039f\"],[0.2222222222222222,\"#7201a8\"],[0.3333333333333333,\"#9c179e\"],[0.4444444444444444,\"#bd3786\"],[0.5555555555555556,\"#d8576b\"],[0.6666666666666666,\"#ed7953\"],[0.7777777777777778,\"#fb9f3a\"],[0.8888888888888888,\"#fdca26\"],[1.0,\"#f0f921\"]],\"type\":\"histogram2dcontour\"}],\"histogram2d\":[{\"colorbar\":{\"outlinewidth\":0,\"ticks\":\"\"},\"colorscale\":[[0.0,\"#0d0887\"],[0.1111111111111111,\"#46039f\"],[0.2222222222222222,\"#7201a8\"],[0.3333333333333333,\"#9c179e\"],[0.4444444444444444,\"#bd3786\"],[0.5555555555555556,\"#d8576b\"],[0.6666666666666666,\"#ed7953\"],[0.7777777777777778,\"#fb9f3a\"],[0.8888888888888888,\"#fdca26\"],[1.0,\"#f0f921\"]],\"type\":\"histogram2d\"}],\"histogram\":[{\"marker\":{\"pattern\":{\"fillmode\":\"overlay\",\"size\":10,\"solidity\":0.2}},\"type\":\"histogram\"}],\"mesh3d\":[{\"colorbar\":{\"outlinewidth\":0,\"ticks\":\"\"},\"type\":\"mesh3d\"}],\"parcoords\":[{\"line\":{\"colorbar\":{\"outlinewidth\":0,\"ticks\":\"\"}},\"type\":\"parcoords\"}],\"pie\":[{\"automargin\":true,\"type\":\"pie\"}],\"scatter3d\":[{\"line\":{\"colorbar\":{\"outlinewidth\":0,\"ticks\":\"\"}},\"marker\":{\"colorbar\":{\"outlinewidth\":0,\"ticks\":\"\"}},\"type\":\"scatter3d\"}],\"scattercarpet\":[{\"marker\":{\"colorbar\":{\"outlinewidth\":0,\"ticks\":\"\"}},\"type\":\"scattercarpet\"}],\"scattergeo\":[{\"marker\":{\"colorbar\":{\"outlinewidth\":0,\"ticks\":\"\"}},\"type\":\"scattergeo\"}],\"scattergl\":[{\"marker\":{\"colorbar\":{\"outlinewidth\":0,\"ticks\":\"\"}},\"type\":\"scattergl\"}],\"scattermapbox\":[{\"marker\":{\"colorbar\":{\"outlinewidth\":0,\"ticks\":\"\"}},\"type\":\"scattermapbox\"}],\"scatterpolargl\":[{\"marker\":{\"colorbar\":{\"outlinewidth\":0,\"ticks\":\"\"}},\"type\":\"scatterpolargl\"}],\"scatterpolar\":[{\"marker\":{\"colorbar\":{\"outlinewidth\":0,\"ticks\":\"\"}},\"type\":\"scatterpolar\"}],\"scatter\":[{\"fillpattern\":{\"fillmode\":\"overlay\",\"size\":10,\"solidity\":0.2},\"type\":\"scatter\"}],\"scatterternary\":[{\"marker\":{\"colorbar\":{\"outlinewidth\":0,\"ticks\":\"\"}},\"type\":\"scatterternary\"}],\"surface\":[{\"colorbar\":{\"outlinewidth\":0,\"ticks\":\"\"},\"colorscale\":[[0.0,\"#0d0887\"],[0.1111111111111111,\"#46039f\"],[0.2222222222222222,\"#7201a8\"],[0.3333333333333333,\"#9c179e\"],[0.4444444444444444,\"#bd3786\"],[0.5555555555555556,\"#d8576b\"],[0.6666666666666666,\"#ed7953\"],[0.7777777777777778,\"#fb9f3a\"],[0.8888888888888888,\"#fdca26\"],[1.0,\"#f0f921\"]],\"type\":\"surface\"}],\"table\":[{\"cells\":{\"fill\":{\"color\":\"#EBF0F8\"},\"line\":{\"color\":\"white\"}},\"header\":{\"fill\":{\"color\":\"#C8D4E3\"},\"line\":{\"color\":\"white\"}},\"type\":\"table\"}]},\"layout\":{\"annotationdefaults\":{\"arrowcolor\":\"#2a3f5f\",\"arrowhead\":0,\"arrowwidth\":1},\"autotypenumbers\":\"strict\",\"coloraxis\":{\"colorbar\":{\"outlinewidth\":0,\"ticks\":\"\"}},\"colorscale\":{\"diverging\":[[0,\"#8e0152\"],[0.1,\"#c51b7d\"],[0.2,\"#de77ae\"],[0.3,\"#f1b6da\"],[0.4,\"#fde0ef\"],[0.5,\"#f7f7f7\"],[0.6,\"#e6f5d0\"],[0.7,\"#b8e186\"],[0.8,\"#7fbc41\"],[0.9,\"#4d9221\"],[1,\"#276419\"]],\"sequential\":[[0.0,\"#0d0887\"],[0.1111111111111111,\"#46039f\"],[0.2222222222222222,\"#7201a8\"],[0.3333333333333333,\"#9c179e\"],[0.4444444444444444,\"#bd3786\"],[0.5555555555555556,\"#d8576b\"],[0.6666666666666666,\"#ed7953\"],[0.7777777777777778,\"#fb9f3a\"],[0.8888888888888888,\"#fdca26\"],[1.0,\"#f0f921\"]],\"sequentialminus\":[[0.0,\"#0d0887\"],[0.1111111111111111,\"#46039f\"],[0.2222222222222222,\"#7201a8\"],[0.3333333333333333,\"#9c179e\"],[0.4444444444444444,\"#bd3786\"],[0.5555555555555556,\"#d8576b\"],[0.6666666666666666,\"#ed7953\"],[0.7777777777777778,\"#fb9f3a\"],[0.8888888888888888,\"#fdca26\"],[1.0,\"#f0f921\"]]},\"colorway\":[\"#636efa\",\"#EF553B\",\"#00cc96\",\"#ab63fa\",\"#FFA15A\",\"#19d3f3\",\"#FF6692\",\"#B6E880\",\"#FF97FF\",\"#FECB52\"],\"font\":{\"color\":\"#2a3f5f\"},\"geo\":{\"bgcolor\":\"white\",\"lakecolor\":\"white\",\"landcolor\":\"white\",\"showlakes\":true,\"showland\":true,\"subunitcolor\":\"#C8D4E3\"},\"hoverlabel\":{\"align\":\"left\"},\"hovermode\":\"closest\",\"mapbox\":{\"style\":\"light\"},\"paper_bgcolor\":\"white\",\"plot_bgcolor\":\"white\",\"polar\":{\"angularaxis\":{\"gridcolor\":\"#EBF0F8\",\"linecolor\":\"#EBF0F8\",\"ticks\":\"\"},\"bgcolor\":\"white\",\"radialaxis\":{\"gridcolor\":\"#EBF0F8\",\"linecolor\":\"#EBF0F8\",\"ticks\":\"\"}},\"scene\":{\"xaxis\":{\"backgroundcolor\":\"white\",\"gridcolor\":\"#DFE8F3\",\"gridwidth\":2,\"linecolor\":\"#EBF0F8\",\"showbackground\":true,\"ticks\":\"\",\"zerolinecolor\":\"#EBF0F8\"},\"yaxis\":{\"backgroundcolor\":\"white\",\"gridcolor\":\"#DFE8F3\",\"gridwidth\":2,\"linecolor\":\"#EBF0F8\",\"showbackground\":true,\"ticks\":\"\",\"zerolinecolor\":\"#EBF0F8\"},\"zaxis\":{\"backgroundcolor\":\"white\",\"gridcolor\":\"#DFE8F3\",\"gridwidth\":2,\"linecolor\":\"#EBF0F8\",\"showbackground\":true,\"ticks\":\"\",\"zerolinecolor\":\"#EBF0F8\"}},\"shapedefaults\":{\"line\":{\"color\":\"#2a3f5f\"}},\"ternary\":{\"aaxis\":{\"gridcolor\":\"#DFE8F3\",\"linecolor\":\"#A2B1C6\",\"ticks\":\"\"},\"baxis\":{\"gridcolor\":\"#DFE8F3\",\"linecolor\":\"#A2B1C6\",\"ticks\":\"\"},\"bgcolor\":\"white\",\"caxis\":{\"gridcolor\":\"#DFE8F3\",\"linecolor\":\"#A2B1C6\",\"ticks\":\"\"}},\"title\":{\"x\":0.05},\"xaxis\":{\"automargin\":true,\"gridcolor\":\"#EBF0F8\",\"linecolor\":\"#EBF0F8\",\"ticks\":\"\",\"title\":{\"standoff\":15},\"zerolinecolor\":\"#EBF0F8\",\"zerolinewidth\":2},\"yaxis\":{\"automargin\":true,\"gridcolor\":\"#EBF0F8\",\"linecolor\":\"#EBF0F8\",\"ticks\":\"\",\"title\":{\"standoff\":15},\"zerolinecolor\":\"#EBF0F8\",\"zerolinewidth\":2}}},\"xaxis\":{\"anchor\":\"y\",\"domain\":[0.0,1.0],\"title\":{\"text\":\"counts\"}},\"yaxis\":{\"anchor\":\"x\",\"domain\":[0.0,1.0],\"title\":{},\"categoryorder\":\"total ascending\"},\"legend\":{\"title\":{\"text\":\"disc_locale\"},\"tracegroupgap\":0},\"margin\":{\"t\":60},\"barmode\":\"relative\",\"height\":1700,\"title\":{\"text\":\"Number of exoplanets per detector\",\"x\":0.5}},                        {\"responsive\": true}                    ).then(function(){\n",
       "                            \n",
       "var gd = document.getElementById('e160ceb1-c1e5-48e7-82cc-ff1930e5be29');\n",
       "var x = new MutationObserver(function (mutations, observer) {{\n",
       "        var display = window.getComputedStyle(gd).display;\n",
       "        if (!display || display === 'none') {{\n",
       "            console.log([gd, 'removed!']);\n",
       "            Plotly.purge(gd);\n",
       "            observer.disconnect();\n",
       "        }}\n",
       "}});\n",
       "\n",
       "// Listen for the removal of the full notebook cells\n",
       "var notebookContainer = gd.closest('#notebook-container');\n",
       "if (notebookContainer) {{\n",
       "    x.observe(notebookContainer, {childList: true});\n",
       "}}\n",
       "\n",
       "// Listen for the clearing of the current output cell\n",
       "var outputEl = gd.closest('.output');\n",
       "if (outputEl) {{\n",
       "    x.observe(outputEl, {childList: true});\n",
       "}}\n",
       "\n",
       "                        })                };                });            </script>        </div>"
      ]
     },
     "metadata": {},
     "output_type": "display_data"
    }
   ],
   "source": [
    "import plotly.express as px\n",
    "\n",
    "fig = px.bar(df_fac, y='disc_facility', x='counts', text_auto='auto',\n",
    "             height=1700, color='disc_locale',  color_discrete_sequence=px.colors.sequential.thermal[1:])\n",
    "fig.update_layout(yaxis = {\"categoryorder\":\"total ascending\"})\n",
    "fig.update_layout(template=\"plotly_white\", title_text='Number of exoplanets per detector', title_x=0.5)\n",
    "fig.update_yaxes(title=None)\n",
    "\n",
    "fig.show()"
   ]
  },
  {
   "cell_type": "markdown",
   "id": "eaf57900",
   "metadata": {
    "id": "t_qOzQDp8zqD",
    "papermill": {
     "duration": 0.045144,
     "end_time": "2024-01-20T15:51:28.771575",
     "exception": false,
     "start_time": "2024-01-20T15:51:28.726431",
     "status": "completed"
    },
    "tags": []
   },
   "source": [
    " Since the 1990s, NASA's Kepler space telescope has identified thousands of planets orbiting other stars. The telescope observed 150,000 stars with potential planets, monitoring for light decreases.\n",
    "\n",
    "After the pointing control failed, the mission was renamed K2, and it continued to hunt for exoplanets. The mission ended in 2018, but its data continues to provide valuable information about planets in our galactic neighborhood.[**⁽³⁾**](#section9)"
   ]
  },
  {
   "cell_type": "markdown",
   "id": "c0a9c715",
   "metadata": {
    "papermill": {
     "duration": 0.044813,
     "end_time": "2024-01-20T15:51:28.862113",
     "exception": false,
     "start_time": "2024-01-20T15:51:28.817300",
     "status": "completed"
    },
    "tags": []
   },
   "source": [
    "![](https://i.postimg.cc/NfqchHbD/Captura-de-pantalla-2023-10-03-203549.png)"
   ]
  },
  {
   "cell_type": "markdown",
   "id": "592869fb",
   "metadata": {
    "id": "1MI5N4_hVqE2",
    "papermill": {
     "duration": 0.045193,
     "end_time": "2024-01-20T15:51:28.952897",
     "exception": false,
     "start_time": "2024-01-20T15:51:28.907704",
     "status": "completed"
    },
    "tags": []
   },
   "source": [
    "<a id=\"section4\"></a>\n",
    "## **Location of observatories** "
   ]
  },
  {
   "cell_type": "markdown",
   "id": "b6da5a73",
   "metadata": {
    "id": "U-Ur1Gi_G6Yy",
    "papermill": {
     "duration": 0.045259,
     "end_time": "2024-01-20T15:51:29.044555",
     "exception": false,
     "start_time": "2024-01-20T15:51:28.999296",
     "status": "completed"
    },
    "tags": []
   },
   "source": [
    "#### As we have visualised above, more exoplanets were discovered from space than from the ground. Thus, we will analyse the two locations separately."
   ]
  },
  {
   "cell_type": "code",
   "execution_count": 15,
   "id": "0183e888",
   "metadata": {
    "execution": {
     "iopub.execute_input": "2024-01-20T15:51:29.138743Z",
     "iopub.status.busy": "2024-01-20T15:51:29.138051Z",
     "iopub.status.idle": "2024-01-20T15:51:29.151056Z",
     "shell.execute_reply": "2024-01-20T15:51:29.150094Z"
    },
    "id": "SR8Mnu0EYKkY",
    "outputId": "3b1e562d-3f7f-4ff5-b901-be222949527d",
    "papermill": {
     "duration": 0.062284,
     "end_time": "2024-01-20T15:51:29.153283",
     "exception": false,
     "start_time": "2024-01-20T15:51:29.090999",
     "status": "completed"
    },
    "tags": []
   },
   "outputs": [
    {
     "data": {
      "text/html": [
       "<div>\n",
       "<style scoped>\n",
       "    .dataframe tbody tr th:only-of-type {\n",
       "        vertical-align: middle;\n",
       "    }\n",
       "\n",
       "    .dataframe tbody tr th {\n",
       "        vertical-align: top;\n",
       "    }\n",
       "\n",
       "    .dataframe thead th {\n",
       "        text-align: right;\n",
       "    }\n",
       "</style>\n",
       "<table border=\"1\" class=\"dataframe\">\n",
       "  <thead>\n",
       "    <tr style=\"text-align: right;\">\n",
       "      <th></th>\n",
       "      <th>disc_locale</th>\n",
       "      <th>counts</th>\n",
       "    </tr>\n",
       "  </thead>\n",
       "  <tbody>\n",
       "    <tr>\n",
       "      <th>2</th>\n",
       "      <td>Space</td>\n",
       "      <td>3683</td>\n",
       "    </tr>\n",
       "    <tr>\n",
       "      <th>0</th>\n",
       "      <td>Ground</td>\n",
       "      <td>1712</td>\n",
       "    </tr>\n",
       "    <tr>\n",
       "      <th>1</th>\n",
       "      <td>Multiple Locales</td>\n",
       "      <td>18</td>\n",
       "    </tr>\n",
       "  </tbody>\n",
       "</table>\n",
       "</div>"
      ],
      "text/plain": [
       "        disc_locale  counts\n",
       "2             Space    3683\n",
       "0            Ground    1712\n",
       "1  Multiple Locales      18"
      ]
     },
     "execution_count": 15,
     "metadata": {},
     "output_type": "execute_result"
    }
   ],
   "source": [
    "df_facloc = df.groupby(by=[\"disc_locale\"]).size().reset_index(name=\"counts\")\n",
    "df_facloc = df_facloc.sort_values('counts', ascending = False)\n",
    "df_facloc"
   ]
  },
  {
   "cell_type": "code",
   "execution_count": 16,
   "id": "fafc983f",
   "metadata": {
    "execution": {
     "iopub.execute_input": "2024-01-20T15:51:29.246829Z",
     "iopub.status.busy": "2024-01-20T15:51:29.246128Z",
     "iopub.status.idle": "2024-01-20T15:51:29.351072Z",
     "shell.execute_reply": "2024-01-20T15:51:29.350018Z"
    },
    "id": "miMG3zyzb-uo",
    "outputId": "fc4552ed-0044-4823-e844-be25e4bc6f5b",
    "papermill": {
     "duration": 0.154959,
     "end_time": "2024-01-20T15:51:29.353575",
     "exception": false,
     "start_time": "2024-01-20T15:51:29.198616",
     "status": "completed"
    },
    "tags": []
   },
   "outputs": [
    {
     "data": {
      "text/html": [
       "<div>                            <div id=\"d9a94f7a-d9ed-402c-986a-b543492683be\" class=\"plotly-graph-div\" style=\"height:525px; width:100%;\"></div>            <script type=\"text/javascript\">                require([\"plotly\"], function(Plotly) {                    window.PLOTLYENV=window.PLOTLYENV || {};                                    if (document.getElementById(\"d9a94f7a-d9ed-402c-986a-b543492683be\")) {                    Plotly.newPlot(                        \"d9a94f7a-d9ed-402c-986a-b543492683be\",                        [{\"domain\":{\"x\":[0.0,1.0],\"y\":[0.0,1.0]},\"hovertemplate\":\"disc_locale=%{label}\\u003cbr\\u003ecounts=%{value}\\u003cextra\\u003e\\u003c\\u002fextra\\u003e\",\"labels\":[\"Space\",\"Ground\",\"Multiple Locales\"],\"legendgroup\":\"\",\"name\":\"\",\"showlegend\":true,\"values\":[3683,1712,18],\"type\":\"pie\",\"marker\":{\"line\":{\"color\":\"white\",\"width\":1}}}],                        {\"template\":{\"data\":{\"histogram2dcontour\":[{\"type\":\"histogram2dcontour\",\"colorbar\":{\"outlinewidth\":0,\"ticks\":\"\"},\"colorscale\":[[0.0,\"#0d0887\"],[0.1111111111111111,\"#46039f\"],[0.2222222222222222,\"#7201a8\"],[0.3333333333333333,\"#9c179e\"],[0.4444444444444444,\"#bd3786\"],[0.5555555555555556,\"#d8576b\"],[0.6666666666666666,\"#ed7953\"],[0.7777777777777778,\"#fb9f3a\"],[0.8888888888888888,\"#fdca26\"],[1.0,\"#f0f921\"]]}],\"choropleth\":[{\"type\":\"choropleth\",\"colorbar\":{\"outlinewidth\":0,\"ticks\":\"\"}}],\"histogram2d\":[{\"type\":\"histogram2d\",\"colorbar\":{\"outlinewidth\":0,\"ticks\":\"\"},\"colorscale\":[[0.0,\"#0d0887\"],[0.1111111111111111,\"#46039f\"],[0.2222222222222222,\"#7201a8\"],[0.3333333333333333,\"#9c179e\"],[0.4444444444444444,\"#bd3786\"],[0.5555555555555556,\"#d8576b\"],[0.6666666666666666,\"#ed7953\"],[0.7777777777777778,\"#fb9f3a\"],[0.8888888888888888,\"#fdca26\"],[1.0,\"#f0f921\"]]}],\"heatmap\":[{\"type\":\"heatmap\",\"colorbar\":{\"outlinewidth\":0,\"ticks\":\"\"},\"colorscale\":[[0.0,\"#0d0887\"],[0.1111111111111111,\"#46039f\"],[0.2222222222222222,\"#7201a8\"],[0.3333333333333333,\"#9c179e\"],[0.4444444444444444,\"#bd3786\"],[0.5555555555555556,\"#d8576b\"],[0.6666666666666666,\"#ed7953\"],[0.7777777777777778,\"#fb9f3a\"],[0.8888888888888888,\"#fdca26\"],[1.0,\"#f0f921\"]]}],\"heatmapgl\":[{\"type\":\"heatmapgl\",\"colorbar\":{\"outlinewidth\":0,\"ticks\":\"\"},\"colorscale\":[[0.0,\"#0d0887\"],[0.1111111111111111,\"#46039f\"],[0.2222222222222222,\"#7201a8\"],[0.3333333333333333,\"#9c179e\"],[0.4444444444444444,\"#bd3786\"],[0.5555555555555556,\"#d8576b\"],[0.6666666666666666,\"#ed7953\"],[0.7777777777777778,\"#fb9f3a\"],[0.8888888888888888,\"#fdca26\"],[1.0,\"#f0f921\"]]}],\"contourcarpet\":[{\"type\":\"contourcarpet\",\"colorbar\":{\"outlinewidth\":0,\"ticks\":\"\"}}],\"contour\":[{\"type\":\"contour\",\"colorbar\":{\"outlinewidth\":0,\"ticks\":\"\"},\"colorscale\":[[0.0,\"#0d0887\"],[0.1111111111111111,\"#46039f\"],[0.2222222222222222,\"#7201a8\"],[0.3333333333333333,\"#9c179e\"],[0.4444444444444444,\"#bd3786\"],[0.5555555555555556,\"#d8576b\"],[0.6666666666666666,\"#ed7953\"],[0.7777777777777778,\"#fb9f3a\"],[0.8888888888888888,\"#fdca26\"],[1.0,\"#f0f921\"]]}],\"surface\":[{\"type\":\"surface\",\"colorbar\":{\"outlinewidth\":0,\"ticks\":\"\"},\"colorscale\":[[0.0,\"#0d0887\"],[0.1111111111111111,\"#46039f\"],[0.2222222222222222,\"#7201a8\"],[0.3333333333333333,\"#9c179e\"],[0.4444444444444444,\"#bd3786\"],[0.5555555555555556,\"#d8576b\"],[0.6666666666666666,\"#ed7953\"],[0.7777777777777778,\"#fb9f3a\"],[0.8888888888888888,\"#fdca26\"],[1.0,\"#f0f921\"]]}],\"mesh3d\":[{\"type\":\"mesh3d\",\"colorbar\":{\"outlinewidth\":0,\"ticks\":\"\"}}],\"scatter\":[{\"fillpattern\":{\"fillmode\":\"overlay\",\"size\":10,\"solidity\":0.2},\"type\":\"scatter\"}],\"parcoords\":[{\"type\":\"parcoords\",\"line\":{\"colorbar\":{\"outlinewidth\":0,\"ticks\":\"\"}}}],\"scatterpolargl\":[{\"type\":\"scatterpolargl\",\"marker\":{\"colorbar\":{\"outlinewidth\":0,\"ticks\":\"\"}}}],\"bar\":[{\"error_x\":{\"color\":\"#2a3f5f\"},\"error_y\":{\"color\":\"#2a3f5f\"},\"marker\":{\"line\":{\"color\":\"#E5ECF6\",\"width\":0.5},\"pattern\":{\"fillmode\":\"overlay\",\"size\":10,\"solidity\":0.2}},\"type\":\"bar\"}],\"scattergeo\":[{\"type\":\"scattergeo\",\"marker\":{\"colorbar\":{\"outlinewidth\":0,\"ticks\":\"\"}}}],\"scatterpolar\":[{\"type\":\"scatterpolar\",\"marker\":{\"colorbar\":{\"outlinewidth\":0,\"ticks\":\"\"}}}],\"histogram\":[{\"marker\":{\"pattern\":{\"fillmode\":\"overlay\",\"size\":10,\"solidity\":0.2}},\"type\":\"histogram\"}],\"scattergl\":[{\"type\":\"scattergl\",\"marker\":{\"colorbar\":{\"outlinewidth\":0,\"ticks\":\"\"}}}],\"scatter3d\":[{\"type\":\"scatter3d\",\"line\":{\"colorbar\":{\"outlinewidth\":0,\"ticks\":\"\"}},\"marker\":{\"colorbar\":{\"outlinewidth\":0,\"ticks\":\"\"}}}],\"scattermapbox\":[{\"type\":\"scattermapbox\",\"marker\":{\"colorbar\":{\"outlinewidth\":0,\"ticks\":\"\"}}}],\"scatterternary\":[{\"type\":\"scatterternary\",\"marker\":{\"colorbar\":{\"outlinewidth\":0,\"ticks\":\"\"}}}],\"scattercarpet\":[{\"type\":\"scattercarpet\",\"marker\":{\"colorbar\":{\"outlinewidth\":0,\"ticks\":\"\"}}}],\"carpet\":[{\"aaxis\":{\"endlinecolor\":\"#2a3f5f\",\"gridcolor\":\"white\",\"linecolor\":\"white\",\"minorgridcolor\":\"white\",\"startlinecolor\":\"#2a3f5f\"},\"baxis\":{\"endlinecolor\":\"#2a3f5f\",\"gridcolor\":\"white\",\"linecolor\":\"white\",\"minorgridcolor\":\"white\",\"startlinecolor\":\"#2a3f5f\"},\"type\":\"carpet\"}],\"table\":[{\"cells\":{\"fill\":{\"color\":\"#EBF0F8\"},\"line\":{\"color\":\"white\"}},\"header\":{\"fill\":{\"color\":\"#C8D4E3\"},\"line\":{\"color\":\"white\"}},\"type\":\"table\"}],\"barpolar\":[{\"marker\":{\"line\":{\"color\":\"#E5ECF6\",\"width\":0.5},\"pattern\":{\"fillmode\":\"overlay\",\"size\":10,\"solidity\":0.2}},\"type\":\"barpolar\"}],\"pie\":[{\"automargin\":true,\"type\":\"pie\"}]},\"layout\":{\"autotypenumbers\":\"strict\",\"colorway\":[\"#636efa\",\"#EF553B\",\"#00cc96\",\"#ab63fa\",\"#FFA15A\",\"#19d3f3\",\"#FF6692\",\"#B6E880\",\"#FF97FF\",\"#FECB52\"],\"font\":{\"color\":\"#2a3f5f\"},\"hovermode\":\"closest\",\"hoverlabel\":{\"align\":\"left\"},\"paper_bgcolor\":\"white\",\"plot_bgcolor\":\"#E5ECF6\",\"polar\":{\"bgcolor\":\"#E5ECF6\",\"angularaxis\":{\"gridcolor\":\"white\",\"linecolor\":\"white\",\"ticks\":\"\"},\"radialaxis\":{\"gridcolor\":\"white\",\"linecolor\":\"white\",\"ticks\":\"\"}},\"ternary\":{\"bgcolor\":\"#E5ECF6\",\"aaxis\":{\"gridcolor\":\"white\",\"linecolor\":\"white\",\"ticks\":\"\"},\"baxis\":{\"gridcolor\":\"white\",\"linecolor\":\"white\",\"ticks\":\"\"},\"caxis\":{\"gridcolor\":\"white\",\"linecolor\":\"white\",\"ticks\":\"\"}},\"coloraxis\":{\"colorbar\":{\"outlinewidth\":0,\"ticks\":\"\"}},\"colorscale\":{\"sequential\":[[0.0,\"#0d0887\"],[0.1111111111111111,\"#46039f\"],[0.2222222222222222,\"#7201a8\"],[0.3333333333333333,\"#9c179e\"],[0.4444444444444444,\"#bd3786\"],[0.5555555555555556,\"#d8576b\"],[0.6666666666666666,\"#ed7953\"],[0.7777777777777778,\"#fb9f3a\"],[0.8888888888888888,\"#fdca26\"],[1.0,\"#f0f921\"]],\"sequentialminus\":[[0.0,\"#0d0887\"],[0.1111111111111111,\"#46039f\"],[0.2222222222222222,\"#7201a8\"],[0.3333333333333333,\"#9c179e\"],[0.4444444444444444,\"#bd3786\"],[0.5555555555555556,\"#d8576b\"],[0.6666666666666666,\"#ed7953\"],[0.7777777777777778,\"#fb9f3a\"],[0.8888888888888888,\"#fdca26\"],[1.0,\"#f0f921\"]],\"diverging\":[[0,\"#8e0152\"],[0.1,\"#c51b7d\"],[0.2,\"#de77ae\"],[0.3,\"#f1b6da\"],[0.4,\"#fde0ef\"],[0.5,\"#f7f7f7\"],[0.6,\"#e6f5d0\"],[0.7,\"#b8e186\"],[0.8,\"#7fbc41\"],[0.9,\"#4d9221\"],[1,\"#276419\"]]},\"xaxis\":{\"gridcolor\":\"white\",\"linecolor\":\"white\",\"ticks\":\"\",\"title\":{\"standoff\":15},\"zerolinecolor\":\"white\",\"automargin\":true,\"zerolinewidth\":2},\"yaxis\":{\"gridcolor\":\"white\",\"linecolor\":\"white\",\"ticks\":\"\",\"title\":{\"standoff\":15},\"zerolinecolor\":\"white\",\"automargin\":true,\"zerolinewidth\":2},\"scene\":{\"xaxis\":{\"backgroundcolor\":\"#E5ECF6\",\"gridcolor\":\"white\",\"linecolor\":\"white\",\"showbackground\":true,\"ticks\":\"\",\"zerolinecolor\":\"white\",\"gridwidth\":2},\"yaxis\":{\"backgroundcolor\":\"#E5ECF6\",\"gridcolor\":\"white\",\"linecolor\":\"white\",\"showbackground\":true,\"ticks\":\"\",\"zerolinecolor\":\"white\",\"gridwidth\":2},\"zaxis\":{\"backgroundcolor\":\"#E5ECF6\",\"gridcolor\":\"white\",\"linecolor\":\"white\",\"showbackground\":true,\"ticks\":\"\",\"zerolinecolor\":\"white\",\"gridwidth\":2}},\"shapedefaults\":{\"line\":{\"color\":\"#2a3f5f\"}},\"annotationdefaults\":{\"arrowcolor\":\"#2a3f5f\",\"arrowhead\":0,\"arrowwidth\":1},\"geo\":{\"bgcolor\":\"white\",\"landcolor\":\"#E5ECF6\",\"subunitcolor\":\"white\",\"showland\":true,\"showlakes\":true,\"lakecolor\":\"white\"},\"title\":{\"x\":0.05},\"mapbox\":{\"style\":\"light\"}}},\"legend\":{\"tracegroupgap\":0},\"margin\":{\"t\":60},\"piecolorway\":[\"rgb(13, 48, 100)\",\"rgb(53, 50, 155)\",\"rgb(93, 62, 153)\",\"rgb(126, 77, 143)\",\"rgb(158, 89, 135)\",\"rgb(193, 100, 121)\",\"rgb(225, 113, 97)\",\"rgb(246, 139, 69)\",\"rgb(251, 173, 60)\",\"rgb(246, 211, 70)\",\"rgb(231, 250, 90)\"],\"title\":{\"text\":\"Discovery locations (%)\",\"x\":0.5}},                        {\"responsive\": true}                    ).then(function(){\n",
       "                            \n",
       "var gd = document.getElementById('d9a94f7a-d9ed-402c-986a-b543492683be');\n",
       "var x = new MutationObserver(function (mutations, observer) {{\n",
       "        var display = window.getComputedStyle(gd).display;\n",
       "        if (!display || display === 'none') {{\n",
       "            console.log([gd, 'removed!']);\n",
       "            Plotly.purge(gd);\n",
       "            observer.disconnect();\n",
       "        }}\n",
       "}});\n",
       "\n",
       "// Listen for the removal of the full notebook cells\n",
       "var notebookContainer = gd.closest('#notebook-container');\n",
       "if (notebookContainer) {{\n",
       "    x.observe(notebookContainer, {childList: true});\n",
       "}}\n",
       "\n",
       "// Listen for the clearing of the current output cell\n",
       "var outputEl = gd.closest('.output');\n",
       "if (outputEl) {{\n",
       "    x.observe(outputEl, {childList: true});\n",
       "}}\n",
       "\n",
       "                        })                };                });            </script>        </div>"
      ]
     },
     "metadata": {},
     "output_type": "display_data"
    }
   ],
   "source": [
    "import plotly.express as px\n",
    "fig = px.pie(df_facloc, values='counts', names='disc_locale', color_discrete_sequence=px.colors.sequential.thermal[1:])\n",
    "fig.update_layout(title_text='Discovery locations (%)', title_x=0.5)\n",
    "fig.update_traces(marker=dict(line=dict(color='white', width=1)))\n",
    "\n",
    "fig.show()"
   ]
  },
  {
   "cell_type": "markdown",
   "id": "9a2a20c6",
   "metadata": {
    "id": "gzvrPhV9xsYz",
    "papermill": {
     "duration": 0.048661,
     "end_time": "2024-01-20T15:51:29.448542",
     "exception": false,
     "start_time": "2024-01-20T15:51:29.399881",
     "status": "completed"
    },
    "tags": []
   },
   "source": [
    "##### Differentiate between space and ground installations"
   ]
  },
  {
   "cell_type": "code",
   "execution_count": 17,
   "id": "077c74fc",
   "metadata": {
    "execution": {
     "iopub.execute_input": "2024-01-20T15:51:29.541476Z",
     "iopub.status.busy": "2024-01-20T15:51:29.541067Z",
     "iopub.status.idle": "2024-01-20T15:51:29.547336Z",
     "shell.execute_reply": "2024-01-20T15:51:29.546460Z"
    },
    "id": "1jfPCo9YOKFH",
    "papermill": {
     "duration": 0.055342,
     "end_time": "2024-01-20T15:51:29.549343",
     "exception": false,
     "start_time": "2024-01-20T15:51:29.494001",
     "status": "completed"
    },
    "tags": []
   },
   "outputs": [],
   "source": [
    "df_facground = df_fac.loc[df_fac['disc_locale'] == 'Ground']\n",
    "\n",
    "df_facspace = df_fac.loc[df_fac['disc_locale'] == 'Space']\n"
   ]
  },
  {
   "cell_type": "markdown",
   "id": "1762b070",
   "metadata": {
    "id": "SBadZRY1UooD",
    "papermill": {
     "duration": 0.045041,
     "end_time": "2024-01-20T15:51:29.639865",
     "exception": false,
     "start_time": "2024-01-20T15:51:29.594824",
     "status": "completed"
    },
    "tags": []
   },
   "source": [
    "<a id=\"subsection4.1\"></a>\n",
    "### **Discoveries from space**"
   ]
  },
  {
   "cell_type": "code",
   "execution_count": 18,
   "id": "8a2ba4a4",
   "metadata": {
    "execution": {
     "iopub.execute_input": "2024-01-20T15:51:29.732804Z",
     "iopub.status.busy": "2024-01-20T15:51:29.731821Z",
     "iopub.status.idle": "2024-01-20T15:51:29.742703Z",
     "shell.execute_reply": "2024-01-20T15:51:29.741655Z"
    },
    "id": "nRBen77zs3yh",
    "outputId": "4ae23d5e-fb7b-47be-88bd-3f5c2e011b36",
    "papermill": {
     "duration": 0.059445,
     "end_time": "2024-01-20T15:51:29.744758",
     "exception": false,
     "start_time": "2024-01-20T15:51:29.685313",
     "status": "completed"
    },
    "tags": []
   },
   "outputs": [
    {
     "data": {
      "text/html": [
       "<div>\n",
       "<style scoped>\n",
       "    .dataframe tbody tr th:only-of-type {\n",
       "        vertical-align: middle;\n",
       "    }\n",
       "\n",
       "    .dataframe tbody tr th {\n",
       "        vertical-align: top;\n",
       "    }\n",
       "\n",
       "    .dataframe thead th {\n",
       "        text-align: right;\n",
       "    }\n",
       "</style>\n",
       "<table border=\"1\" class=\"dataframe\">\n",
       "  <thead>\n",
       "    <tr style=\"text-align: right;\">\n",
       "      <th></th>\n",
       "      <th>disc_facility</th>\n",
       "      <th>disc_locale</th>\n",
       "      <th>counts</th>\n",
       "    </tr>\n",
       "  </thead>\n",
       "  <tbody>\n",
       "    <tr>\n",
       "      <th>27</th>\n",
       "      <td>Kepler</td>\n",
       "      <td>Space</td>\n",
       "      <td>2708</td>\n",
       "    </tr>\n",
       "    <tr>\n",
       "      <th>21</th>\n",
       "      <td>K2</td>\n",
       "      <td>Space</td>\n",
       "      <td>548</td>\n",
       "    </tr>\n",
       "    <tr>\n",
       "      <th>63</th>\n",
       "      <td>Transiting Exoplanet Survey Satellite (TESS)</td>\n",
       "      <td>Space</td>\n",
       "      <td>372</td>\n",
       "    </tr>\n",
       "    <tr>\n",
       "      <th>9</th>\n",
       "      <td>CoRoT</td>\n",
       "      <td>Space</td>\n",
       "      <td>35</td>\n",
       "    </tr>\n",
       "    <tr>\n",
       "      <th>18</th>\n",
       "      <td>Hubble Space Telescope</td>\n",
       "      <td>Space</td>\n",
       "      <td>6</td>\n",
       "    </tr>\n",
       "    <tr>\n",
       "      <th>54</th>\n",
       "      <td>Spitzer Space Telescope</td>\n",
       "      <td>Space</td>\n",
       "      <td>4</td>\n",
       "    </tr>\n",
       "    <tr>\n",
       "      <th>43</th>\n",
       "      <td>Multiple Observatories</td>\n",
       "      <td>Space</td>\n",
       "      <td>3</td>\n",
       "    </tr>\n",
       "    <tr>\n",
       "      <th>6</th>\n",
       "      <td>CHaracterising ExOPlanets Satellite (CHEOPS)</td>\n",
       "      <td>Space</td>\n",
       "      <td>3</td>\n",
       "    </tr>\n",
       "    <tr>\n",
       "      <th>11</th>\n",
       "      <td>European Space Agency (ESA) Gaia Satellite</td>\n",
       "      <td>Space</td>\n",
       "      <td>2</td>\n",
       "    </tr>\n",
       "    <tr>\n",
       "      <th>69</th>\n",
       "      <td>Wide-field Infrared Survey Explorer (WISE) Sat</td>\n",
       "      <td>Space</td>\n",
       "      <td>1</td>\n",
       "    </tr>\n",
       "    <tr>\n",
       "      <th>20</th>\n",
       "      <td>James Webb Space Telescope (JWST)</td>\n",
       "      <td>Space</td>\n",
       "      <td>1</td>\n",
       "    </tr>\n",
       "  </tbody>\n",
       "</table>\n",
       "</div>"
      ],
      "text/plain": [
       "                                     disc_facility disc_locale  counts\n",
       "27                                          Kepler       Space    2708\n",
       "21                                              K2       Space     548\n",
       "63    Transiting Exoplanet Survey Satellite (TESS)       Space     372\n",
       "9                                            CoRoT       Space      35\n",
       "18                          Hubble Space Telescope       Space       6\n",
       "54                         Spitzer Space Telescope       Space       4\n",
       "43                          Multiple Observatories       Space       3\n",
       "6     CHaracterising ExOPlanets Satellite (CHEOPS)       Space       3\n",
       "11      European Space Agency (ESA) Gaia Satellite       Space       2\n",
       "69  Wide-field Infrared Survey Explorer (WISE) Sat       Space       1\n",
       "20               James Webb Space Telescope (JWST)       Space       1"
      ]
     },
     "execution_count": 18,
     "metadata": {},
     "output_type": "execute_result"
    }
   ],
   "source": [
    "df_facspace"
   ]
  },
  {
   "cell_type": "code",
   "execution_count": 19,
   "id": "7da98190",
   "metadata": {
    "execution": {
     "iopub.execute_input": "2024-01-20T15:51:29.839082Z",
     "iopub.status.busy": "2024-01-20T15:51:29.838357Z",
     "iopub.status.idle": "2024-01-20T15:51:29.845686Z",
     "shell.execute_reply": "2024-01-20T15:51:29.844540Z"
    },
    "id": "U_AJzdkEUxKf",
    "outputId": "42068e85-eb1b-4553-e2ba-0f1d4dbf99e0",
    "papermill": {
     "duration": 0.056785,
     "end_time": "2024-01-20T15:51:29.847849",
     "exception": false,
     "start_time": "2024-01-20T15:51:29.791064",
     "status": "completed"
    },
    "tags": []
   },
   "outputs": [
    {
     "name": "stdout",
     "output_type": "stream",
     "text": [
      "disc_facility    11\n",
      "disc_locale       1\n",
      "counts            9\n",
      "dtype: int64\n"
     ]
    }
   ],
   "source": [
    "print(df_facspace.nunique())"
   ]
  },
  {
   "cell_type": "code",
   "execution_count": 20,
   "id": "354b92d2",
   "metadata": {
    "execution": {
     "iopub.execute_input": "2024-01-20T15:51:29.942266Z",
     "iopub.status.busy": "2024-01-20T15:51:29.941510Z",
     "iopub.status.idle": "2024-01-20T15:51:29.946651Z",
     "shell.execute_reply": "2024-01-20T15:51:29.945840Z"
    },
    "id": "ofXOriHTKrEs",
    "papermill": {
     "duration": 0.054784,
     "end_time": "2024-01-20T15:51:29.948768",
     "exception": false,
     "start_time": "2024-01-20T15:51:29.893984",
     "status": "completed"
    },
    "tags": []
   },
   "outputs": [],
   "source": [
    "df_facspace = df_facspace.sort_values('counts', ascending = True)"
   ]
  },
  {
   "cell_type": "code",
   "execution_count": 21,
   "id": "c713d354",
   "metadata": {
    "execution": {
     "iopub.execute_input": "2024-01-20T15:51:30.042599Z",
     "iopub.status.busy": "2024-01-20T15:51:30.042158Z",
     "iopub.status.idle": "2024-01-20T15:51:30.143348Z",
     "shell.execute_reply": "2024-01-20T15:51:30.142167Z"
    },
    "id": "dHOpt7b8s-VM",
    "outputId": "5aaf0a0d-99a6-4359-9231-f5f327fb7e58",
    "papermill": {
     "duration": 0.150738,
     "end_time": "2024-01-20T15:51:30.145641",
     "exception": false,
     "start_time": "2024-01-20T15:51:29.994903",
     "status": "completed"
    },
    "tags": []
   },
   "outputs": [
    {
     "data": {
      "text/html": [
       "<div>                            <div id=\"b65b4a0d-98f5-4bbd-aa95-939f03ebf1dd\" class=\"plotly-graph-div\" style=\"height:525px; width:100%;\"></div>            <script type=\"text/javascript\">                require([\"plotly\"], function(Plotly) {                    window.PLOTLYENV=window.PLOTLYENV || {};                                    if (document.getElementById(\"b65b4a0d-98f5-4bbd-aa95-939f03ebf1dd\")) {                    Plotly.newPlot(                        \"b65b4a0d-98f5-4bbd-aa95-939f03ebf1dd\",                        [{\"alignmentgroup\":\"True\",\"hovertemplate\":\"counts=%{x}\\u003cbr\\u003edisc_facility=%{y}\\u003cextra\\u003e\\u003c\\u002fextra\\u003e\",\"legendgroup\":\"\",\"marker\":{\"color\":\"rgb(13, 48, 100)\",\"pattern\":{\"shape\":\"\"}},\"name\":\"\",\"offsetgroup\":\"\",\"orientation\":\"h\",\"showlegend\":false,\"textposition\":\"auto\",\"texttemplate\":\"%{x:auto}\",\"x\":[1,1,2,3,3,4,6,35,372,548,2708],\"xaxis\":\"x\",\"y\":[\"Wide-field Infrared Survey Explorer (WISE) Sat\",\"James Webb Space Telescope (JWST)\",\"European Space Agency (ESA) Gaia Satellite\",\"Multiple Observatories\",\"CHaracterising ExOPlanets Satellite (CHEOPS)\",\"Spitzer Space Telescope\",\"Hubble Space Telescope\",\"CoRoT\",\"Transiting Exoplanet Survey Satellite (TESS)\",\"K2\",\"Kepler\"],\"yaxis\":\"y\",\"type\":\"bar\"}],                        {\"template\":{\"data\":{\"barpolar\":[{\"marker\":{\"line\":{\"color\":\"white\",\"width\":0.5},\"pattern\":{\"fillmode\":\"overlay\",\"size\":10,\"solidity\":0.2}},\"type\":\"barpolar\"}],\"bar\":[{\"error_x\":{\"color\":\"#2a3f5f\"},\"error_y\":{\"color\":\"#2a3f5f\"},\"marker\":{\"line\":{\"color\":\"white\",\"width\":0.5},\"pattern\":{\"fillmode\":\"overlay\",\"size\":10,\"solidity\":0.2}},\"type\":\"bar\"}],\"carpet\":[{\"aaxis\":{\"endlinecolor\":\"#2a3f5f\",\"gridcolor\":\"#C8D4E3\",\"linecolor\":\"#C8D4E3\",\"minorgridcolor\":\"#C8D4E3\",\"startlinecolor\":\"#2a3f5f\"},\"baxis\":{\"endlinecolor\":\"#2a3f5f\",\"gridcolor\":\"#C8D4E3\",\"linecolor\":\"#C8D4E3\",\"minorgridcolor\":\"#C8D4E3\",\"startlinecolor\":\"#2a3f5f\"},\"type\":\"carpet\"}],\"choropleth\":[{\"colorbar\":{\"outlinewidth\":0,\"ticks\":\"\"},\"type\":\"choropleth\"}],\"contourcarpet\":[{\"colorbar\":{\"outlinewidth\":0,\"ticks\":\"\"},\"type\":\"contourcarpet\"}],\"contour\":[{\"colorbar\":{\"outlinewidth\":0,\"ticks\":\"\"},\"colorscale\":[[0.0,\"#0d0887\"],[0.1111111111111111,\"#46039f\"],[0.2222222222222222,\"#7201a8\"],[0.3333333333333333,\"#9c179e\"],[0.4444444444444444,\"#bd3786\"],[0.5555555555555556,\"#d8576b\"],[0.6666666666666666,\"#ed7953\"],[0.7777777777777778,\"#fb9f3a\"],[0.8888888888888888,\"#fdca26\"],[1.0,\"#f0f921\"]],\"type\":\"contour\"}],\"heatmapgl\":[{\"colorbar\":{\"outlinewidth\":0,\"ticks\":\"\"},\"colorscale\":[[0.0,\"#0d0887\"],[0.1111111111111111,\"#46039f\"],[0.2222222222222222,\"#7201a8\"],[0.3333333333333333,\"#9c179e\"],[0.4444444444444444,\"#bd3786\"],[0.5555555555555556,\"#d8576b\"],[0.6666666666666666,\"#ed7953\"],[0.7777777777777778,\"#fb9f3a\"],[0.8888888888888888,\"#fdca26\"],[1.0,\"#f0f921\"]],\"type\":\"heatmapgl\"}],\"heatmap\":[{\"colorbar\":{\"outlinewidth\":0,\"ticks\":\"\"},\"colorscale\":[[0.0,\"#0d0887\"],[0.1111111111111111,\"#46039f\"],[0.2222222222222222,\"#7201a8\"],[0.3333333333333333,\"#9c179e\"],[0.4444444444444444,\"#bd3786\"],[0.5555555555555556,\"#d8576b\"],[0.6666666666666666,\"#ed7953\"],[0.7777777777777778,\"#fb9f3a\"],[0.8888888888888888,\"#fdca26\"],[1.0,\"#f0f921\"]],\"type\":\"heatmap\"}],\"histogram2dcontour\":[{\"colorbar\":{\"outlinewidth\":0,\"ticks\":\"\"},\"colorscale\":[[0.0,\"#0d0887\"],[0.1111111111111111,\"#46039f\"],[0.2222222222222222,\"#7201a8\"],[0.3333333333333333,\"#9c179e\"],[0.4444444444444444,\"#bd3786\"],[0.5555555555555556,\"#d8576b\"],[0.6666666666666666,\"#ed7953\"],[0.7777777777777778,\"#fb9f3a\"],[0.8888888888888888,\"#fdca26\"],[1.0,\"#f0f921\"]],\"type\":\"histogram2dcontour\"}],\"histogram2d\":[{\"colorbar\":{\"outlinewidth\":0,\"ticks\":\"\"},\"colorscale\":[[0.0,\"#0d0887\"],[0.1111111111111111,\"#46039f\"],[0.2222222222222222,\"#7201a8\"],[0.3333333333333333,\"#9c179e\"],[0.4444444444444444,\"#bd3786\"],[0.5555555555555556,\"#d8576b\"],[0.6666666666666666,\"#ed7953\"],[0.7777777777777778,\"#fb9f3a\"],[0.8888888888888888,\"#fdca26\"],[1.0,\"#f0f921\"]],\"type\":\"histogram2d\"}],\"histogram\":[{\"marker\":{\"pattern\":{\"fillmode\":\"overlay\",\"size\":10,\"solidity\":0.2}},\"type\":\"histogram\"}],\"mesh3d\":[{\"colorbar\":{\"outlinewidth\":0,\"ticks\":\"\"},\"type\":\"mesh3d\"}],\"parcoords\":[{\"line\":{\"colorbar\":{\"outlinewidth\":0,\"ticks\":\"\"}},\"type\":\"parcoords\"}],\"pie\":[{\"automargin\":true,\"type\":\"pie\"}],\"scatter3d\":[{\"line\":{\"colorbar\":{\"outlinewidth\":0,\"ticks\":\"\"}},\"marker\":{\"colorbar\":{\"outlinewidth\":0,\"ticks\":\"\"}},\"type\":\"scatter3d\"}],\"scattercarpet\":[{\"marker\":{\"colorbar\":{\"outlinewidth\":0,\"ticks\":\"\"}},\"type\":\"scattercarpet\"}],\"scattergeo\":[{\"marker\":{\"colorbar\":{\"outlinewidth\":0,\"ticks\":\"\"}},\"type\":\"scattergeo\"}],\"scattergl\":[{\"marker\":{\"colorbar\":{\"outlinewidth\":0,\"ticks\":\"\"}},\"type\":\"scattergl\"}],\"scattermapbox\":[{\"marker\":{\"colorbar\":{\"outlinewidth\":0,\"ticks\":\"\"}},\"type\":\"scattermapbox\"}],\"scatterpolargl\":[{\"marker\":{\"colorbar\":{\"outlinewidth\":0,\"ticks\":\"\"}},\"type\":\"scatterpolargl\"}],\"scatterpolar\":[{\"marker\":{\"colorbar\":{\"outlinewidth\":0,\"ticks\":\"\"}},\"type\":\"scatterpolar\"}],\"scatter\":[{\"fillpattern\":{\"fillmode\":\"overlay\",\"size\":10,\"solidity\":0.2},\"type\":\"scatter\"}],\"scatterternary\":[{\"marker\":{\"colorbar\":{\"outlinewidth\":0,\"ticks\":\"\"}},\"type\":\"scatterternary\"}],\"surface\":[{\"colorbar\":{\"outlinewidth\":0,\"ticks\":\"\"},\"colorscale\":[[0.0,\"#0d0887\"],[0.1111111111111111,\"#46039f\"],[0.2222222222222222,\"#7201a8\"],[0.3333333333333333,\"#9c179e\"],[0.4444444444444444,\"#bd3786\"],[0.5555555555555556,\"#d8576b\"],[0.6666666666666666,\"#ed7953\"],[0.7777777777777778,\"#fb9f3a\"],[0.8888888888888888,\"#fdca26\"],[1.0,\"#f0f921\"]],\"type\":\"surface\"}],\"table\":[{\"cells\":{\"fill\":{\"color\":\"#EBF0F8\"},\"line\":{\"color\":\"white\"}},\"header\":{\"fill\":{\"color\":\"#C8D4E3\"},\"line\":{\"color\":\"white\"}},\"type\":\"table\"}]},\"layout\":{\"annotationdefaults\":{\"arrowcolor\":\"#2a3f5f\",\"arrowhead\":0,\"arrowwidth\":1},\"autotypenumbers\":\"strict\",\"coloraxis\":{\"colorbar\":{\"outlinewidth\":0,\"ticks\":\"\"}},\"colorscale\":{\"diverging\":[[0,\"#8e0152\"],[0.1,\"#c51b7d\"],[0.2,\"#de77ae\"],[0.3,\"#f1b6da\"],[0.4,\"#fde0ef\"],[0.5,\"#f7f7f7\"],[0.6,\"#e6f5d0\"],[0.7,\"#b8e186\"],[0.8,\"#7fbc41\"],[0.9,\"#4d9221\"],[1,\"#276419\"]],\"sequential\":[[0.0,\"#0d0887\"],[0.1111111111111111,\"#46039f\"],[0.2222222222222222,\"#7201a8\"],[0.3333333333333333,\"#9c179e\"],[0.4444444444444444,\"#bd3786\"],[0.5555555555555556,\"#d8576b\"],[0.6666666666666666,\"#ed7953\"],[0.7777777777777778,\"#fb9f3a\"],[0.8888888888888888,\"#fdca26\"],[1.0,\"#f0f921\"]],\"sequentialminus\":[[0.0,\"#0d0887\"],[0.1111111111111111,\"#46039f\"],[0.2222222222222222,\"#7201a8\"],[0.3333333333333333,\"#9c179e\"],[0.4444444444444444,\"#bd3786\"],[0.5555555555555556,\"#d8576b\"],[0.6666666666666666,\"#ed7953\"],[0.7777777777777778,\"#fb9f3a\"],[0.8888888888888888,\"#fdca26\"],[1.0,\"#f0f921\"]]},\"colorway\":[\"#636efa\",\"#EF553B\",\"#00cc96\",\"#ab63fa\",\"#FFA15A\",\"#19d3f3\",\"#FF6692\",\"#B6E880\",\"#FF97FF\",\"#FECB52\"],\"font\":{\"color\":\"#2a3f5f\"},\"geo\":{\"bgcolor\":\"white\",\"lakecolor\":\"white\",\"landcolor\":\"white\",\"showlakes\":true,\"showland\":true,\"subunitcolor\":\"#C8D4E3\"},\"hoverlabel\":{\"align\":\"left\"},\"hovermode\":\"closest\",\"mapbox\":{\"style\":\"light\"},\"paper_bgcolor\":\"white\",\"plot_bgcolor\":\"white\",\"polar\":{\"angularaxis\":{\"gridcolor\":\"#EBF0F8\",\"linecolor\":\"#EBF0F8\",\"ticks\":\"\"},\"bgcolor\":\"white\",\"radialaxis\":{\"gridcolor\":\"#EBF0F8\",\"linecolor\":\"#EBF0F8\",\"ticks\":\"\"}},\"scene\":{\"xaxis\":{\"backgroundcolor\":\"white\",\"gridcolor\":\"#DFE8F3\",\"gridwidth\":2,\"linecolor\":\"#EBF0F8\",\"showbackground\":true,\"ticks\":\"\",\"zerolinecolor\":\"#EBF0F8\"},\"yaxis\":{\"backgroundcolor\":\"white\",\"gridcolor\":\"#DFE8F3\",\"gridwidth\":2,\"linecolor\":\"#EBF0F8\",\"showbackground\":true,\"ticks\":\"\",\"zerolinecolor\":\"#EBF0F8\"},\"zaxis\":{\"backgroundcolor\":\"white\",\"gridcolor\":\"#DFE8F3\",\"gridwidth\":2,\"linecolor\":\"#EBF0F8\",\"showbackground\":true,\"ticks\":\"\",\"zerolinecolor\":\"#EBF0F8\"}},\"shapedefaults\":{\"line\":{\"color\":\"#2a3f5f\"}},\"ternary\":{\"aaxis\":{\"gridcolor\":\"#DFE8F3\",\"linecolor\":\"#A2B1C6\",\"ticks\":\"\"},\"baxis\":{\"gridcolor\":\"#DFE8F3\",\"linecolor\":\"#A2B1C6\",\"ticks\":\"\"},\"bgcolor\":\"white\",\"caxis\":{\"gridcolor\":\"#DFE8F3\",\"linecolor\":\"#A2B1C6\",\"ticks\":\"\"}},\"title\":{\"x\":0.05},\"xaxis\":{\"automargin\":true,\"gridcolor\":\"#EBF0F8\",\"linecolor\":\"#EBF0F8\",\"ticks\":\"\",\"title\":{\"standoff\":15},\"zerolinecolor\":\"#EBF0F8\",\"zerolinewidth\":2},\"yaxis\":{\"automargin\":true,\"gridcolor\":\"#EBF0F8\",\"linecolor\":\"#EBF0F8\",\"ticks\":\"\",\"title\":{\"standoff\":15},\"zerolinecolor\":\"#EBF0F8\",\"zerolinewidth\":2}}},\"xaxis\":{\"anchor\":\"y\",\"domain\":[0.0,1.0],\"title\":{\"text\":\"counts\"}},\"yaxis\":{\"anchor\":\"x\",\"domain\":[0.0,1.0],\"title\":{\"text\":\"disc_facility\"}},\"legend\":{\"tracegroupgap\":0},\"margin\":{\"t\":60},\"barmode\":\"relative\",\"title\":{\"text\":\"Number of exoplanets detected from space\",\"x\":0.5}},                        {\"responsive\": true}                    ).then(function(){\n",
       "                            \n",
       "var gd = document.getElementById('b65b4a0d-98f5-4bbd-aa95-939f03ebf1dd');\n",
       "var x = new MutationObserver(function (mutations, observer) {{\n",
       "        var display = window.getComputedStyle(gd).display;\n",
       "        if (!display || display === 'none') {{\n",
       "            console.log([gd, 'removed!']);\n",
       "            Plotly.purge(gd);\n",
       "            observer.disconnect();\n",
       "        }}\n",
       "}});\n",
       "\n",
       "// Listen for the removal of the full notebook cells\n",
       "var notebookContainer = gd.closest('#notebook-container');\n",
       "if (notebookContainer) {{\n",
       "    x.observe(notebookContainer, {childList: true});\n",
       "}}\n",
       "\n",
       "// Listen for the clearing of the current output cell\n",
       "var outputEl = gd.closest('.output');\n",
       "if (outputEl) {{\n",
       "    x.observe(outputEl, {childList: true});\n",
       "}}\n",
       "\n",
       "                        })                };                });            </script>        </div>"
      ]
     },
     "metadata": {},
     "output_type": "display_data"
    }
   ],
   "source": [
    "import plotly.express as px\n",
    "\n",
    "fig = px.bar(df_facspace, y='disc_facility', x='counts', text_auto='auto',\n",
    "           color_discrete_sequence=px.colors.sequential.thermal[1:])\n",
    "fig.update_layout(template=\"plotly_white\", title_text='Number of exoplanets detected from space', title_x=0.5)\n",
    "\n",
    "fig.show()"
   ]
  },
  {
   "cell_type": "markdown",
   "id": "db8364ba",
   "metadata": {
    "id": "iAqSgHIqHn67",
    "papermill": {
     "duration": 0.046054,
     "end_time": "2024-01-20T15:51:30.238276",
     "exception": false,
     "start_time": "2024-01-20T15:51:30.192222",
     "status": "completed"
    },
    "tags": []
   },
   "source": [
    " Following Kepler's missions is its sucessor, the Transiting Exoplanet Survey Satellite (TESS) telescope, launched in 2018 to discover small planets through Transit method.\n",
    "\n",
    "During its two-year primary mission, TESS monitored more than 200,000 pre-selected stars and detected more than 1,900 exoplanet candidates.[**⁽⁴⁾**](#section9)"
   ]
  },
  {
   "cell_type": "markdown",
   "id": "70b3e3cd",
   "metadata": {
    "papermill": {
     "duration": 0.046082,
     "end_time": "2024-01-20T15:51:30.330733",
     "exception": false,
     "start_time": "2024-01-20T15:51:30.284651",
     "status": "completed"
    },
    "tags": []
   },
   "source": [
    "![](https://i.postimg.cc/Z5SC363b/Captura-de-pantalla-2023-10-03-203630.png)"
   ]
  },
  {
   "cell_type": "markdown",
   "id": "d7960ced",
   "metadata": {
    "id": "58Rvre3fU50I",
    "papermill": {
     "duration": 0.046235,
     "end_time": "2024-01-20T15:51:30.423389",
     "exception": false,
     "start_time": "2024-01-20T15:51:30.377154",
     "status": "completed"
    },
    "tags": []
   },
   "source": [
    "<a id=\"subsection4.2\"></a>\n",
    "### **Discoveries from ground**"
   ]
  },
  {
   "cell_type": "code",
   "execution_count": 22,
   "id": "19017084",
   "metadata": {
    "execution": {
     "iopub.execute_input": "2024-01-20T15:51:30.519040Z",
     "iopub.status.busy": "2024-01-20T15:51:30.517842Z",
     "iopub.status.idle": "2024-01-20T15:51:30.535249Z",
     "shell.execute_reply": "2024-01-20T15:51:30.534066Z"
    },
    "id": "QM7bO-rhVCCj",
    "outputId": "539725dc-3293-4417-9455-bde3560ea904",
    "papermill": {
     "duration": 0.067636,
     "end_time": "2024-01-20T15:51:30.537753",
     "exception": false,
     "start_time": "2024-01-20T15:51:30.470117",
     "status": "completed"
    },
    "tags": []
   },
   "outputs": [
    {
     "data": {
      "text/html": [
       "<div>\n",
       "<style scoped>\n",
       "    .dataframe tbody tr th:only-of-type {\n",
       "        vertical-align: middle;\n",
       "    }\n",
       "\n",
       "    .dataframe tbody tr th {\n",
       "        vertical-align: top;\n",
       "    }\n",
       "\n",
       "    .dataframe thead th {\n",
       "        text-align: right;\n",
       "    }\n",
       "</style>\n",
       "<table border=\"1\" class=\"dataframe\">\n",
       "  <thead>\n",
       "    <tr style=\"text-align: right;\">\n",
       "      <th></th>\n",
       "      <th>disc_facility</th>\n",
       "      <th>disc_locale</th>\n",
       "      <th>counts</th>\n",
       "    </tr>\n",
       "  </thead>\n",
       "  <tbody>\n",
       "    <tr>\n",
       "      <th>29</th>\n",
       "      <td>La Silla Observatory</td>\n",
       "      <td>Ground</td>\n",
       "      <td>276</td>\n",
       "    </tr>\n",
       "    <tr>\n",
       "      <th>41</th>\n",
       "      <td>Multiple Observatories</td>\n",
       "      <td>Ground</td>\n",
       "      <td>264</td>\n",
       "    </tr>\n",
       "    <tr>\n",
       "      <th>67</th>\n",
       "      <td>W. M. Keck Observatory</td>\n",
       "      <td>Ground</td>\n",
       "      <td>184</td>\n",
       "    </tr>\n",
       "    <tr>\n",
       "      <th>56</th>\n",
       "      <td>SuperWASP</td>\n",
       "      <td>Ground</td>\n",
       "      <td>113</td>\n",
       "    </tr>\n",
       "    <tr>\n",
       "      <th>46</th>\n",
       "      <td>OGLE</td>\n",
       "      <td>Ground</td>\n",
       "      <td>97</td>\n",
       "    </tr>\n",
       "    <tr>\n",
       "      <th>25</th>\n",
       "      <td>KMTNet</td>\n",
       "      <td>Ground</td>\n",
       "      <td>79</td>\n",
       "    </tr>\n",
       "    <tr>\n",
       "      <th>15</th>\n",
       "      <td>HATSouth</td>\n",
       "      <td>Ground</td>\n",
       "      <td>73</td>\n",
       "    </tr>\n",
       "    <tr>\n",
       "      <th>14</th>\n",
       "      <td>HATNet</td>\n",
       "      <td>Ground</td>\n",
       "      <td>67</td>\n",
       "    </tr>\n",
       "    <tr>\n",
       "      <th>17</th>\n",
       "      <td>Haute-Provence Observatory</td>\n",
       "      <td>Ground</td>\n",
       "      <td>64</td>\n",
       "    </tr>\n",
       "    <tr>\n",
       "      <th>49</th>\n",
       "      <td>Paranal Observatory</td>\n",
       "      <td>Ground</td>\n",
       "      <td>44</td>\n",
       "    </tr>\n",
       "    <tr>\n",
       "      <th>1</th>\n",
       "      <td>Anglo-Australian Telescope</td>\n",
       "      <td>Ground</td>\n",
       "      <td>36</td>\n",
       "    </tr>\n",
       "    <tr>\n",
       "      <th>33</th>\n",
       "      <td>Lick Observatory</td>\n",
       "      <td>Ground</td>\n",
       "      <td>35</td>\n",
       "    </tr>\n",
       "    <tr>\n",
       "      <th>47</th>\n",
       "      <td>Okayama Astrophysical Observatory</td>\n",
       "      <td>Ground</td>\n",
       "      <td>35</td>\n",
       "    </tr>\n",
       "    <tr>\n",
       "      <th>58</th>\n",
       "      <td>SuperWASP-South</td>\n",
       "      <td>Ground</td>\n",
       "      <td>32</td>\n",
       "    </tr>\n",
       "    <tr>\n",
       "      <th>52</th>\n",
       "      <td>Roque de los Muchachos Observatory</td>\n",
       "      <td>Ground</td>\n",
       "      <td>30</td>\n",
       "    </tr>\n",
       "    <tr>\n",
       "      <th>31</th>\n",
       "      <td>Las Campanas Observatory</td>\n",
       "      <td>Ground</td>\n",
       "      <td>29</td>\n",
       "    </tr>\n",
       "    <tr>\n",
       "      <th>38</th>\n",
       "      <td>McDonald Observatory</td>\n",
       "      <td>Ground</td>\n",
       "      <td>29</td>\n",
       "    </tr>\n",
       "    <tr>\n",
       "      <th>36</th>\n",
       "      <td>MOA</td>\n",
       "      <td>Ground</td>\n",
       "      <td>29</td>\n",
       "    </tr>\n",
       "    <tr>\n",
       "      <th>5</th>\n",
       "      <td>Bohyunsan Optical Astronomical Observatory</td>\n",
       "      <td>Ground</td>\n",
       "      <td>23</td>\n",
       "    </tr>\n",
       "    <tr>\n",
       "      <th>7</th>\n",
       "      <td>Calar Alto Observatory</td>\n",
       "      <td>Ground</td>\n",
       "      <td>17</td>\n",
       "    </tr>\n",
       "    <tr>\n",
       "      <th>39</th>\n",
       "      <td>Multiple Facilities</td>\n",
       "      <td>Ground</td>\n",
       "      <td>15</td>\n",
       "    </tr>\n",
       "    <tr>\n",
       "      <th>55</th>\n",
       "      <td>Subaru Telescope</td>\n",
       "      <td>Ground</td>\n",
       "      <td>11</td>\n",
       "    </tr>\n",
       "    <tr>\n",
       "      <th>68</th>\n",
       "      <td>WASP-South</td>\n",
       "      <td>Ground</td>\n",
       "      <td>11</td>\n",
       "    </tr>\n",
       "    <tr>\n",
       "      <th>22</th>\n",
       "      <td>KELT</td>\n",
       "      <td>Ground</td>\n",
       "      <td>10</td>\n",
       "    </tr>\n",
       "    <tr>\n",
       "      <th>51</th>\n",
       "      <td>Qatar</td>\n",
       "      <td>Ground</td>\n",
       "      <td>10</td>\n",
       "    </tr>\n",
       "    <tr>\n",
       "      <th>13</th>\n",
       "      <td>Gemini Observatory</td>\n",
       "      <td>Ground</td>\n",
       "      <td>9</td>\n",
       "    </tr>\n",
       "    <tr>\n",
       "      <th>60</th>\n",
       "      <td>Thueringer Landessternwarte Tautenburg</td>\n",
       "      <td>Ground</td>\n",
       "      <td>8</td>\n",
       "    </tr>\n",
       "    <tr>\n",
       "      <th>71</th>\n",
       "      <td>XO</td>\n",
       "      <td>Ground</td>\n",
       "      <td>7</td>\n",
       "    </tr>\n",
       "    <tr>\n",
       "      <th>23</th>\n",
       "      <td>KELT-North</td>\n",
       "      <td>Ground</td>\n",
       "      <td>7</td>\n",
       "    </tr>\n",
       "    <tr>\n",
       "      <th>12</th>\n",
       "      <td>Fred Lawrence Whipple Observatory</td>\n",
       "      <td>Ground</td>\n",
       "      <td>6</td>\n",
       "    </tr>\n",
       "    <tr>\n",
       "      <th>61</th>\n",
       "      <td>TrES</td>\n",
       "      <td>Ground</td>\n",
       "      <td>5</td>\n",
       "    </tr>\n",
       "    <tr>\n",
       "      <th>8</th>\n",
       "      <td>Cerro Tololo Inter-American Observatory</td>\n",
       "      <td>Ground</td>\n",
       "      <td>5</td>\n",
       "    </tr>\n",
       "    <tr>\n",
       "      <th>57</th>\n",
       "      <td>SuperWASP-North</td>\n",
       "      <td>Ground</td>\n",
       "      <td>5</td>\n",
       "    </tr>\n",
       "    <tr>\n",
       "      <th>24</th>\n",
       "      <td>KELT-South</td>\n",
       "      <td>Ground</td>\n",
       "      <td>4</td>\n",
       "    </tr>\n",
       "    <tr>\n",
       "      <th>10</th>\n",
       "      <td>European Southern Observatory</td>\n",
       "      <td>Ground</td>\n",
       "      <td>3</td>\n",
       "    </tr>\n",
       "    <tr>\n",
       "      <th>45</th>\n",
       "      <td>Next-Generation Transit Survey (NGTS)</td>\n",
       "      <td>Ground</td>\n",
       "      <td>3</td>\n",
       "    </tr>\n",
       "    <tr>\n",
       "      <th>3</th>\n",
       "      <td>Arecibo Observatory</td>\n",
       "      <td>Ground</td>\n",
       "      <td>3</td>\n",
       "    </tr>\n",
       "    <tr>\n",
       "      <th>73</th>\n",
       "      <td>Yunnan Astronomical Observatory</td>\n",
       "      <td>Ground</td>\n",
       "      <td>3</td>\n",
       "    </tr>\n",
       "    <tr>\n",
       "      <th>64</th>\n",
       "      <td>United Kingdom Infrared Telescope</td>\n",
       "      <td>Ground</td>\n",
       "      <td>2</td>\n",
       "    </tr>\n",
       "    <tr>\n",
       "      <th>72</th>\n",
       "      <td>Xinglong Station</td>\n",
       "      <td>Ground</td>\n",
       "      <td>2</td>\n",
       "    </tr>\n",
       "    <tr>\n",
       "      <th>0</th>\n",
       "      <td>Acton Sky Portal Observatory</td>\n",
       "      <td>Ground</td>\n",
       "      <td>2</td>\n",
       "    </tr>\n",
       "    <tr>\n",
       "      <th>50</th>\n",
       "      <td>Parkes Observatory</td>\n",
       "      <td>Ground</td>\n",
       "      <td>2</td>\n",
       "    </tr>\n",
       "    <tr>\n",
       "      <th>35</th>\n",
       "      <td>MEarth Project</td>\n",
       "      <td>Ground</td>\n",
       "      <td>2</td>\n",
       "    </tr>\n",
       "    <tr>\n",
       "      <th>34</th>\n",
       "      <td>Lowell Observatory</td>\n",
       "      <td>Ground</td>\n",
       "      <td>2</td>\n",
       "    </tr>\n",
       "    <tr>\n",
       "      <th>30</th>\n",
       "      <td>Large Binocular Telescope Observatory</td>\n",
       "      <td>Ground</td>\n",
       "      <td>2</td>\n",
       "    </tr>\n",
       "    <tr>\n",
       "      <th>16</th>\n",
       "      <td>Haleakala Observatory</td>\n",
       "      <td>Ground</td>\n",
       "      <td>2</td>\n",
       "    </tr>\n",
       "    <tr>\n",
       "      <th>48</th>\n",
       "      <td>Palomar Observatory</td>\n",
       "      <td>Ground</td>\n",
       "      <td>2</td>\n",
       "    </tr>\n",
       "    <tr>\n",
       "      <th>65</th>\n",
       "      <td>University of Canterbury Mt John Observatory</td>\n",
       "      <td>Ground</td>\n",
       "      <td>1</td>\n",
       "    </tr>\n",
       "    <tr>\n",
       "      <th>2</th>\n",
       "      <td>Apache Point Observatory</td>\n",
       "      <td>Ground</td>\n",
       "      <td>1</td>\n",
       "    </tr>\n",
       "    <tr>\n",
       "      <th>4</th>\n",
       "      <td>Atacama Large Millimeter Array (ALMA)</td>\n",
       "      <td>Ground</td>\n",
       "      <td>1</td>\n",
       "    </tr>\n",
       "    <tr>\n",
       "      <th>70</th>\n",
       "      <td>Winer Observatory</td>\n",
       "      <td>Ground</td>\n",
       "      <td>1</td>\n",
       "    </tr>\n",
       "    <tr>\n",
       "      <th>66</th>\n",
       "      <td>Very Long Baseline Array</td>\n",
       "      <td>Ground</td>\n",
       "      <td>1</td>\n",
       "    </tr>\n",
       "    <tr>\n",
       "      <th>62</th>\n",
       "      <td>Transiting Exoplanet Survey Satellite (TESS)</td>\n",
       "      <td>Ground</td>\n",
       "      <td>1</td>\n",
       "    </tr>\n",
       "    <tr>\n",
       "      <th>19</th>\n",
       "      <td>Infrared Survey Facility</td>\n",
       "      <td>Ground</td>\n",
       "      <td>1</td>\n",
       "    </tr>\n",
       "    <tr>\n",
       "      <th>28</th>\n",
       "      <td>Kitt Peak National Observatory</td>\n",
       "      <td>Ground</td>\n",
       "      <td>1</td>\n",
       "    </tr>\n",
       "    <tr>\n",
       "      <th>59</th>\n",
       "      <td>Teide Observatory</td>\n",
       "      <td>Ground</td>\n",
       "      <td>1</td>\n",
       "    </tr>\n",
       "    <tr>\n",
       "      <th>32</th>\n",
       "      <td>Leoncito Astronomical Complex</td>\n",
       "      <td>Ground</td>\n",
       "      <td>1</td>\n",
       "    </tr>\n",
       "    <tr>\n",
       "      <th>44</th>\n",
       "      <td>NASA Infrared Telescope Facility (IRTF)</td>\n",
       "      <td>Ground</td>\n",
       "      <td>1</td>\n",
       "    </tr>\n",
       "    <tr>\n",
       "      <th>53</th>\n",
       "      <td>SPECULOOS Southern Observatory</td>\n",
       "      <td>Ground</td>\n",
       "      <td>1</td>\n",
       "    </tr>\n",
       "    <tr>\n",
       "      <th>37</th>\n",
       "      <td>Mauna Kea Observatory</td>\n",
       "      <td>Ground</td>\n",
       "      <td>1</td>\n",
       "    </tr>\n",
       "  </tbody>\n",
       "</table>\n",
       "</div>"
      ],
      "text/plain": [
       "                                   disc_facility disc_locale  counts\n",
       "29                          La Silla Observatory      Ground     276\n",
       "41                        Multiple Observatories      Ground     264\n",
       "67                        W. M. Keck Observatory      Ground     184\n",
       "56                                     SuperWASP      Ground     113\n",
       "46                                          OGLE      Ground      97\n",
       "25                                        KMTNet      Ground      79\n",
       "15                                      HATSouth      Ground      73\n",
       "14                                        HATNet      Ground      67\n",
       "17                    Haute-Provence Observatory      Ground      64\n",
       "49                           Paranal Observatory      Ground      44\n",
       "1                     Anglo-Australian Telescope      Ground      36\n",
       "33                              Lick Observatory      Ground      35\n",
       "47             Okayama Astrophysical Observatory      Ground      35\n",
       "58                               SuperWASP-South      Ground      32\n",
       "52            Roque de los Muchachos Observatory      Ground      30\n",
       "31                      Las Campanas Observatory      Ground      29\n",
       "38                          McDonald Observatory      Ground      29\n",
       "36                                           MOA      Ground      29\n",
       "5     Bohyunsan Optical Astronomical Observatory      Ground      23\n",
       "7                         Calar Alto Observatory      Ground      17\n",
       "39                           Multiple Facilities      Ground      15\n",
       "55                              Subaru Telescope      Ground      11\n",
       "68                                    WASP-South      Ground      11\n",
       "22                                          KELT      Ground      10\n",
       "51                                         Qatar      Ground      10\n",
       "13                            Gemini Observatory      Ground       9\n",
       "60        Thueringer Landessternwarte Tautenburg      Ground       8\n",
       "71                                            XO      Ground       7\n",
       "23                                    KELT-North      Ground       7\n",
       "12             Fred Lawrence Whipple Observatory      Ground       6\n",
       "61                                          TrES      Ground       5\n",
       "8        Cerro Tololo Inter-American Observatory      Ground       5\n",
       "57                               SuperWASP-North      Ground       5\n",
       "24                                    KELT-South      Ground       4\n",
       "10                 European Southern Observatory      Ground       3\n",
       "45         Next-Generation Transit Survey (NGTS)      Ground       3\n",
       "3                            Arecibo Observatory      Ground       3\n",
       "73               Yunnan Astronomical Observatory      Ground       3\n",
       "64             United Kingdom Infrared Telescope      Ground       2\n",
       "72                              Xinglong Station      Ground       2\n",
       "0                   Acton Sky Portal Observatory      Ground       2\n",
       "50                            Parkes Observatory      Ground       2\n",
       "35                                MEarth Project      Ground       2\n",
       "34                            Lowell Observatory      Ground       2\n",
       "30         Large Binocular Telescope Observatory      Ground       2\n",
       "16                         Haleakala Observatory      Ground       2\n",
       "48                           Palomar Observatory      Ground       2\n",
       "65  University of Canterbury Mt John Observatory      Ground       1\n",
       "2                       Apache Point Observatory      Ground       1\n",
       "4          Atacama Large Millimeter Array (ALMA)      Ground       1\n",
       "70                             Winer Observatory      Ground       1\n",
       "66                      Very Long Baseline Array      Ground       1\n",
       "62  Transiting Exoplanet Survey Satellite (TESS)      Ground       1\n",
       "19                      Infrared Survey Facility      Ground       1\n",
       "28                Kitt Peak National Observatory      Ground       1\n",
       "59                             Teide Observatory      Ground       1\n",
       "32                 Leoncito Astronomical Complex      Ground       1\n",
       "44       NASA Infrared Telescope Facility (IRTF)      Ground       1\n",
       "53                SPECULOOS Southern Observatory      Ground       1\n",
       "37                         Mauna Kea Observatory      Ground       1"
      ]
     },
     "execution_count": 22,
     "metadata": {},
     "output_type": "execute_result"
    }
   ],
   "source": [
    "df_facground"
   ]
  },
  {
   "cell_type": "code",
   "execution_count": 23,
   "id": "42bfa33a",
   "metadata": {
    "execution": {
     "iopub.execute_input": "2024-01-20T15:51:30.634565Z",
     "iopub.status.busy": "2024-01-20T15:51:30.634135Z",
     "iopub.status.idle": "2024-01-20T15:51:30.640969Z",
     "shell.execute_reply": "2024-01-20T15:51:30.639866Z"
    },
    "id": "CyIaluSCVFsJ",
    "outputId": "a3661fa1-f967-4459-ee57-eedd2e45dec7",
    "papermill": {
     "duration": 0.058805,
     "end_time": "2024-01-20T15:51:30.644130",
     "exception": false,
     "start_time": "2024-01-20T15:51:30.585325",
     "status": "completed"
    },
    "tags": []
   },
   "outputs": [
    {
     "name": "stdout",
     "output_type": "stream",
     "text": [
      "disc_facility    60\n",
      "disc_locale       1\n",
      "counts           29\n",
      "dtype: int64\n"
     ]
    }
   ],
   "source": [
    "print(df_facground.nunique())"
   ]
  },
  {
   "cell_type": "code",
   "execution_count": 24,
   "id": "ae1f4130",
   "metadata": {
    "execution": {
     "iopub.execute_input": "2024-01-20T15:51:30.741209Z",
     "iopub.status.busy": "2024-01-20T15:51:30.740552Z",
     "iopub.status.idle": "2024-01-20T15:51:30.746110Z",
     "shell.execute_reply": "2024-01-20T15:51:30.745362Z"
    },
    "id": "RIU3ZWUYK3vg",
    "papermill": {
     "duration": 0.056058,
     "end_time": "2024-01-20T15:51:30.748299",
     "exception": false,
     "start_time": "2024-01-20T15:51:30.692241",
     "status": "completed"
    },
    "tags": []
   },
   "outputs": [],
   "source": [
    "df_facground = df_facground.sort_values('counts', ascending = True)"
   ]
  },
  {
   "cell_type": "code",
   "execution_count": 25,
   "id": "df3b06f2",
   "metadata": {
    "execution": {
     "iopub.execute_input": "2024-01-20T15:51:30.845625Z",
     "iopub.status.busy": "2024-01-20T15:51:30.844938Z",
     "iopub.status.idle": "2024-01-20T15:51:30.943751Z",
     "shell.execute_reply": "2024-01-20T15:51:30.942636Z"
    },
    "id": "AHhV8ZIKh9tG",
    "outputId": "803cbfe3-6d11-47a2-9fa9-4b148623dd17",
    "papermill": {
     "duration": 0.150381,
     "end_time": "2024-01-20T15:51:30.946060",
     "exception": false,
     "start_time": "2024-01-20T15:51:30.795679",
     "status": "completed"
    },
    "tags": []
   },
   "outputs": [
    {
     "data": {
      "text/html": [
       "<div>                            <div id=\"1135c07c-dba4-442a-a857-95ea605a93f2\" class=\"plotly-graph-div\" style=\"height:1500px; width:100%;\"></div>            <script type=\"text/javascript\">                require([\"plotly\"], function(Plotly) {                    window.PLOTLYENV=window.PLOTLYENV || {};                                    if (document.getElementById(\"1135c07c-dba4-442a-a857-95ea605a93f2\")) {                    Plotly.newPlot(                        \"1135c07c-dba4-442a-a857-95ea605a93f2\",                        [{\"alignmentgroup\":\"True\",\"hovertemplate\":\"counts=%{x}\\u003cbr\\u003edisc_facility=%{y}\\u003cextra\\u003e\\u003c\\u002fextra\\u003e\",\"legendgroup\":\"\",\"marker\":{\"color\":\"rgb(53, 50, 155)\",\"pattern\":{\"shape\":\"\"}},\"name\":\"\",\"offsetgroup\":\"\",\"orientation\":\"h\",\"showlegend\":false,\"textposition\":\"auto\",\"texttemplate\":\"%{x:auto}\",\"x\":[1,1,1,1,1,1,1,1,1,1,1,1,1,2,2,2,2,2,2,2,2,2,3,3,3,3,4,5,5,5,6,7,7,8,9,10,10,11,11,15,17,23,29,29,29,30,32,35,35,36,44,64,67,73,79,97,113,184,264,276],\"xaxis\":\"x\",\"y\":[\"Mauna Kea Observatory\",\"University of Canterbury Mt John Observatory\",\"Apache Point Observatory\",\"Atacama Large Millimeter Array (ALMA)\",\"Winer Observatory\",\"Very Long Baseline Array\",\"SPECULOOS Southern Observatory\",\"Infrared Survey Facility\",\"Kitt Peak National Observatory\",\"Teide Observatory\",\"Leoncito Astronomical Complex\",\"NASA Infrared Telescope Facility (IRTF)\",\"Transiting Exoplanet Survey Satellite (TESS)\",\"United Kingdom Infrared Telescope\",\"Xinglong Station\",\"Parkes Observatory\",\"Acton Sky Portal Observatory\",\"Lowell Observatory\",\"Haleakala Observatory\",\"Palomar Observatory\",\"MEarth Project\",\"Large Binocular Telescope Observatory\",\"Yunnan Astronomical Observatory\",\"Arecibo Observatory\",\"Next-Generation Transit Survey (NGTS)\",\"European Southern Observatory\",\"KELT-South\",\"TrES\",\"SuperWASP-North\",\"Cerro Tololo Inter-American Observatory\",\"Fred Lawrence Whipple Observatory\",\"XO\",\"KELT-North\",\"Thueringer Landessternwarte Tautenburg\",\"Gemini Observatory\",\"Qatar\",\"KELT\",\"WASP-South\",\"Subaru Telescope\",\"Multiple Facilities\",\"Calar Alto Observatory\",\"Bohyunsan Optical Astronomical Observatory\",\"MOA\",\"McDonald Observatory\",\"Las Campanas Observatory\",\"Roque de los Muchachos Observatory\",\"SuperWASP-South\",\"Lick Observatory\",\"Okayama Astrophysical Observatory\",\"Anglo-Australian Telescope\",\"Paranal Observatory\",\"Haute-Provence Observatory\",\"HATNet\",\"HATSouth\",\"KMTNet\",\"OGLE\",\"SuperWASP\",\"W. M. Keck Observatory\",\"Multiple Observatories\",\"La Silla Observatory\"],\"yaxis\":\"y\",\"type\":\"bar\"}],                        {\"template\":{\"data\":{\"barpolar\":[{\"marker\":{\"line\":{\"color\":\"white\",\"width\":0.5},\"pattern\":{\"fillmode\":\"overlay\",\"size\":10,\"solidity\":0.2}},\"type\":\"barpolar\"}],\"bar\":[{\"error_x\":{\"color\":\"#2a3f5f\"},\"error_y\":{\"color\":\"#2a3f5f\"},\"marker\":{\"line\":{\"color\":\"white\",\"width\":0.5},\"pattern\":{\"fillmode\":\"overlay\",\"size\":10,\"solidity\":0.2}},\"type\":\"bar\"}],\"carpet\":[{\"aaxis\":{\"endlinecolor\":\"#2a3f5f\",\"gridcolor\":\"#C8D4E3\",\"linecolor\":\"#C8D4E3\",\"minorgridcolor\":\"#C8D4E3\",\"startlinecolor\":\"#2a3f5f\"},\"baxis\":{\"endlinecolor\":\"#2a3f5f\",\"gridcolor\":\"#C8D4E3\",\"linecolor\":\"#C8D4E3\",\"minorgridcolor\":\"#C8D4E3\",\"startlinecolor\":\"#2a3f5f\"},\"type\":\"carpet\"}],\"choropleth\":[{\"colorbar\":{\"outlinewidth\":0,\"ticks\":\"\"},\"type\":\"choropleth\"}],\"contourcarpet\":[{\"colorbar\":{\"outlinewidth\":0,\"ticks\":\"\"},\"type\":\"contourcarpet\"}],\"contour\":[{\"colorbar\":{\"outlinewidth\":0,\"ticks\":\"\"},\"colorscale\":[[0.0,\"#0d0887\"],[0.1111111111111111,\"#46039f\"],[0.2222222222222222,\"#7201a8\"],[0.3333333333333333,\"#9c179e\"],[0.4444444444444444,\"#bd3786\"],[0.5555555555555556,\"#d8576b\"],[0.6666666666666666,\"#ed7953\"],[0.7777777777777778,\"#fb9f3a\"],[0.8888888888888888,\"#fdca26\"],[1.0,\"#f0f921\"]],\"type\":\"contour\"}],\"heatmapgl\":[{\"colorbar\":{\"outlinewidth\":0,\"ticks\":\"\"},\"colorscale\":[[0.0,\"#0d0887\"],[0.1111111111111111,\"#46039f\"],[0.2222222222222222,\"#7201a8\"],[0.3333333333333333,\"#9c179e\"],[0.4444444444444444,\"#bd3786\"],[0.5555555555555556,\"#d8576b\"],[0.6666666666666666,\"#ed7953\"],[0.7777777777777778,\"#fb9f3a\"],[0.8888888888888888,\"#fdca26\"],[1.0,\"#f0f921\"]],\"type\":\"heatmapgl\"}],\"heatmap\":[{\"colorbar\":{\"outlinewidth\":0,\"ticks\":\"\"},\"colorscale\":[[0.0,\"#0d0887\"],[0.1111111111111111,\"#46039f\"],[0.2222222222222222,\"#7201a8\"],[0.3333333333333333,\"#9c179e\"],[0.4444444444444444,\"#bd3786\"],[0.5555555555555556,\"#d8576b\"],[0.6666666666666666,\"#ed7953\"],[0.7777777777777778,\"#fb9f3a\"],[0.8888888888888888,\"#fdca26\"],[1.0,\"#f0f921\"]],\"type\":\"heatmap\"}],\"histogram2dcontour\":[{\"colorbar\":{\"outlinewidth\":0,\"ticks\":\"\"},\"colorscale\":[[0.0,\"#0d0887\"],[0.1111111111111111,\"#46039f\"],[0.2222222222222222,\"#7201a8\"],[0.3333333333333333,\"#9c179e\"],[0.4444444444444444,\"#bd3786\"],[0.5555555555555556,\"#d8576b\"],[0.6666666666666666,\"#ed7953\"],[0.7777777777777778,\"#fb9f3a\"],[0.8888888888888888,\"#fdca26\"],[1.0,\"#f0f921\"]],\"type\":\"histogram2dcontour\"}],\"histogram2d\":[{\"colorbar\":{\"outlinewidth\":0,\"ticks\":\"\"},\"colorscale\":[[0.0,\"#0d0887\"],[0.1111111111111111,\"#46039f\"],[0.2222222222222222,\"#7201a8\"],[0.3333333333333333,\"#9c179e\"],[0.4444444444444444,\"#bd3786\"],[0.5555555555555556,\"#d8576b\"],[0.6666666666666666,\"#ed7953\"],[0.7777777777777778,\"#fb9f3a\"],[0.8888888888888888,\"#fdca26\"],[1.0,\"#f0f921\"]],\"type\":\"histogram2d\"}],\"histogram\":[{\"marker\":{\"pattern\":{\"fillmode\":\"overlay\",\"size\":10,\"solidity\":0.2}},\"type\":\"histogram\"}],\"mesh3d\":[{\"colorbar\":{\"outlinewidth\":0,\"ticks\":\"\"},\"type\":\"mesh3d\"}],\"parcoords\":[{\"line\":{\"colorbar\":{\"outlinewidth\":0,\"ticks\":\"\"}},\"type\":\"parcoords\"}],\"pie\":[{\"automargin\":true,\"type\":\"pie\"}],\"scatter3d\":[{\"line\":{\"colorbar\":{\"outlinewidth\":0,\"ticks\":\"\"}},\"marker\":{\"colorbar\":{\"outlinewidth\":0,\"ticks\":\"\"}},\"type\":\"scatter3d\"}],\"scattercarpet\":[{\"marker\":{\"colorbar\":{\"outlinewidth\":0,\"ticks\":\"\"}},\"type\":\"scattercarpet\"}],\"scattergeo\":[{\"marker\":{\"colorbar\":{\"outlinewidth\":0,\"ticks\":\"\"}},\"type\":\"scattergeo\"}],\"scattergl\":[{\"marker\":{\"colorbar\":{\"outlinewidth\":0,\"ticks\":\"\"}},\"type\":\"scattergl\"}],\"scattermapbox\":[{\"marker\":{\"colorbar\":{\"outlinewidth\":0,\"ticks\":\"\"}},\"type\":\"scattermapbox\"}],\"scatterpolargl\":[{\"marker\":{\"colorbar\":{\"outlinewidth\":0,\"ticks\":\"\"}},\"type\":\"scatterpolargl\"}],\"scatterpolar\":[{\"marker\":{\"colorbar\":{\"outlinewidth\":0,\"ticks\":\"\"}},\"type\":\"scatterpolar\"}],\"scatter\":[{\"fillpattern\":{\"fillmode\":\"overlay\",\"size\":10,\"solidity\":0.2},\"type\":\"scatter\"}],\"scatterternary\":[{\"marker\":{\"colorbar\":{\"outlinewidth\":0,\"ticks\":\"\"}},\"type\":\"scatterternary\"}],\"surface\":[{\"colorbar\":{\"outlinewidth\":0,\"ticks\":\"\"},\"colorscale\":[[0.0,\"#0d0887\"],[0.1111111111111111,\"#46039f\"],[0.2222222222222222,\"#7201a8\"],[0.3333333333333333,\"#9c179e\"],[0.4444444444444444,\"#bd3786\"],[0.5555555555555556,\"#d8576b\"],[0.6666666666666666,\"#ed7953\"],[0.7777777777777778,\"#fb9f3a\"],[0.8888888888888888,\"#fdca26\"],[1.0,\"#f0f921\"]],\"type\":\"surface\"}],\"table\":[{\"cells\":{\"fill\":{\"color\":\"#EBF0F8\"},\"line\":{\"color\":\"white\"}},\"header\":{\"fill\":{\"color\":\"#C8D4E3\"},\"line\":{\"color\":\"white\"}},\"type\":\"table\"}]},\"layout\":{\"annotationdefaults\":{\"arrowcolor\":\"#2a3f5f\",\"arrowhead\":0,\"arrowwidth\":1},\"autotypenumbers\":\"strict\",\"coloraxis\":{\"colorbar\":{\"outlinewidth\":0,\"ticks\":\"\"}},\"colorscale\":{\"diverging\":[[0,\"#8e0152\"],[0.1,\"#c51b7d\"],[0.2,\"#de77ae\"],[0.3,\"#f1b6da\"],[0.4,\"#fde0ef\"],[0.5,\"#f7f7f7\"],[0.6,\"#e6f5d0\"],[0.7,\"#b8e186\"],[0.8,\"#7fbc41\"],[0.9,\"#4d9221\"],[1,\"#276419\"]],\"sequential\":[[0.0,\"#0d0887\"],[0.1111111111111111,\"#46039f\"],[0.2222222222222222,\"#7201a8\"],[0.3333333333333333,\"#9c179e\"],[0.4444444444444444,\"#bd3786\"],[0.5555555555555556,\"#d8576b\"],[0.6666666666666666,\"#ed7953\"],[0.7777777777777778,\"#fb9f3a\"],[0.8888888888888888,\"#fdca26\"],[1.0,\"#f0f921\"]],\"sequentialminus\":[[0.0,\"#0d0887\"],[0.1111111111111111,\"#46039f\"],[0.2222222222222222,\"#7201a8\"],[0.3333333333333333,\"#9c179e\"],[0.4444444444444444,\"#bd3786\"],[0.5555555555555556,\"#d8576b\"],[0.6666666666666666,\"#ed7953\"],[0.7777777777777778,\"#fb9f3a\"],[0.8888888888888888,\"#fdca26\"],[1.0,\"#f0f921\"]]},\"colorway\":[\"#636efa\",\"#EF553B\",\"#00cc96\",\"#ab63fa\",\"#FFA15A\",\"#19d3f3\",\"#FF6692\",\"#B6E880\",\"#FF97FF\",\"#FECB52\"],\"font\":{\"color\":\"#2a3f5f\"},\"geo\":{\"bgcolor\":\"white\",\"lakecolor\":\"white\",\"landcolor\":\"white\",\"showlakes\":true,\"showland\":true,\"subunitcolor\":\"#C8D4E3\"},\"hoverlabel\":{\"align\":\"left\"},\"hovermode\":\"closest\",\"mapbox\":{\"style\":\"light\"},\"paper_bgcolor\":\"white\",\"plot_bgcolor\":\"white\",\"polar\":{\"angularaxis\":{\"gridcolor\":\"#EBF0F8\",\"linecolor\":\"#EBF0F8\",\"ticks\":\"\"},\"bgcolor\":\"white\",\"radialaxis\":{\"gridcolor\":\"#EBF0F8\",\"linecolor\":\"#EBF0F8\",\"ticks\":\"\"}},\"scene\":{\"xaxis\":{\"backgroundcolor\":\"white\",\"gridcolor\":\"#DFE8F3\",\"gridwidth\":2,\"linecolor\":\"#EBF0F8\",\"showbackground\":true,\"ticks\":\"\",\"zerolinecolor\":\"#EBF0F8\"},\"yaxis\":{\"backgroundcolor\":\"white\",\"gridcolor\":\"#DFE8F3\",\"gridwidth\":2,\"linecolor\":\"#EBF0F8\",\"showbackground\":true,\"ticks\":\"\",\"zerolinecolor\":\"#EBF0F8\"},\"zaxis\":{\"backgroundcolor\":\"white\",\"gridcolor\":\"#DFE8F3\",\"gridwidth\":2,\"linecolor\":\"#EBF0F8\",\"showbackground\":true,\"ticks\":\"\",\"zerolinecolor\":\"#EBF0F8\"}},\"shapedefaults\":{\"line\":{\"color\":\"#2a3f5f\"}},\"ternary\":{\"aaxis\":{\"gridcolor\":\"#DFE8F3\",\"linecolor\":\"#A2B1C6\",\"ticks\":\"\"},\"baxis\":{\"gridcolor\":\"#DFE8F3\",\"linecolor\":\"#A2B1C6\",\"ticks\":\"\"},\"bgcolor\":\"white\",\"caxis\":{\"gridcolor\":\"#DFE8F3\",\"linecolor\":\"#A2B1C6\",\"ticks\":\"\"}},\"title\":{\"x\":0.05},\"xaxis\":{\"automargin\":true,\"gridcolor\":\"#EBF0F8\",\"linecolor\":\"#EBF0F8\",\"ticks\":\"\",\"title\":{\"standoff\":15},\"zerolinecolor\":\"#EBF0F8\",\"zerolinewidth\":2},\"yaxis\":{\"automargin\":true,\"gridcolor\":\"#EBF0F8\",\"linecolor\":\"#EBF0F8\",\"ticks\":\"\",\"title\":{\"standoff\":15},\"zerolinecolor\":\"#EBF0F8\",\"zerolinewidth\":2}}},\"xaxis\":{\"anchor\":\"y\",\"domain\":[0.0,1.0],\"title\":{\"text\":\"counts\"}},\"yaxis\":{\"anchor\":\"x\",\"domain\":[0.0,1.0],\"title\":{}},\"legend\":{\"tracegroupgap\":0},\"margin\":{\"t\":60},\"barmode\":\"relative\",\"height\":1500,\"title\":{\"text\":\"Number of exoplanets detected from the ground\",\"x\":0.5}},                        {\"responsive\": true}                    ).then(function(){\n",
       "                            \n",
       "var gd = document.getElementById('1135c07c-dba4-442a-a857-95ea605a93f2');\n",
       "var x = new MutationObserver(function (mutations, observer) {{\n",
       "        var display = window.getComputedStyle(gd).display;\n",
       "        if (!display || display === 'none') {{\n",
       "            console.log([gd, 'removed!']);\n",
       "            Plotly.purge(gd);\n",
       "            observer.disconnect();\n",
       "        }}\n",
       "}});\n",
       "\n",
       "// Listen for the removal of the full notebook cells\n",
       "var notebookContainer = gd.closest('#notebook-container');\n",
       "if (notebookContainer) {{\n",
       "    x.observe(notebookContainer, {childList: true});\n",
       "}}\n",
       "\n",
       "// Listen for the clearing of the current output cell\n",
       "var outputEl = gd.closest('.output');\n",
       "if (outputEl) {{\n",
       "    x.observe(outputEl, {childList: true});\n",
       "}}\n",
       "\n",
       "                        })                };                });            </script>        </div>"
      ]
     },
     "metadata": {},
     "output_type": "display_data"
    }
   ],
   "source": [
    "import plotly.express as px\n",
    "\n",
    "fig = px.bar(df_facground, y='disc_facility', x='counts', text_auto='auto',\n",
    "             color_discrete_sequence=px.colors.sequential.thermal[2:], height=1500)\n",
    "fig.update_layout(template=\"plotly_white\", title_text='Number of exoplanets detected from the ground', title_x=0.5)\n",
    "fig.update_yaxes(title=None)\n",
    "\n",
    "fig.show()"
   ]
  },
  {
   "cell_type": "markdown",
   "id": "7d2991e2",
   "metadata": {
    "id": "QEauzYapJ-fC",
    "papermill": {
     "duration": 0.048576,
     "end_time": "2024-01-20T15:51:31.042788",
     "exception": false,
     "start_time": "2024-01-20T15:51:30.994212",
     "status": "completed"
    },
    "tags": []
   },
   "source": [
    " Founded in 1969, La Silla Observatory on the edge of Chile's Atacama Desert has the most confirmed exoplanets on the books, with 276, outperforming even multi-observatory organisations.\n",
    "\n",
    "ESO operates two of the world's most productive four-metre optical telescopes there and, with nearly 300 publications per year with citations attributable to the observatory's work, La Silla continues to be at the forefront of astronomy.[**⁽⁵⁾**](#section9)"
   ]
  },
  {
   "cell_type": "markdown",
   "id": "d592b413",
   "metadata": {
    "papermill": {
     "duration": 0.047806,
     "end_time": "2024-01-20T15:51:31.138356",
     "exception": false,
     "start_time": "2024-01-20T15:51:31.090550",
     "status": "completed"
    },
    "tags": []
   },
   "source": [
    "![](https://i.postimg.cc/FFfrXmvr/Captura-de-pantalla-2023-10-03-220337.png)"
   ]
  },
  {
   "cell_type": "markdown",
   "id": "e8a8c5ca",
   "metadata": {
    "papermill": {
     "duration": 0.047073,
     "end_time": "2024-01-20T15:51:31.233068",
     "exception": false,
     "start_time": "2024-01-20T15:51:31.185995",
     "status": "completed"
    },
    "tags": []
   },
   "source": []
  },
  {
   "cell_type": "markdown",
   "id": "c5b6bbda",
   "metadata": {
    "id": "vo2c3XEWx57K",
    "papermill": {
     "duration": 0.047074,
     "end_time": "2024-01-20T15:51:31.327550",
     "exception": false,
     "start_time": "2024-01-20T15:51:31.280476",
     "status": "completed"
    },
    "tags": []
   },
   "source": [
    "<a id=\"subsection4.3\"></a>\n",
    "### **Facilities geolocation**"
   ]
  },
  {
   "cell_type": "markdown",
   "id": "a7404bfa",
   "metadata": {
    "id": "8eNxhPDGMYhh",
    "papermill": {
     "duration": 0.04702,
     "end_time": "2024-01-20T15:51:31.421841",
     "exception": false,
     "start_time": "2024-01-20T15:51:31.374821",
     "status": "completed"
    },
    "tags": []
   },
   "source": [
    "#### We will now geolocate and visualise the observatories on a map of the world."
   ]
  },
  {
   "cell_type": "markdown",
   "id": "f6aaf8c5",
   "metadata": {
    "id": "nk6nl7uGViO0",
    "papermill": {
     "duration": 0.046992,
     "end_time": "2024-01-20T15:51:31.516319",
     "exception": false,
     "start_time": "2024-01-20T15:51:31.469327",
     "status": "completed"
    },
    "tags": []
   },
   "source": [
    "##### 🔧 In order to localize observatories we use geopy, a Python client for several popular geocoding web services.[**⁽⁶⁾**](#section9)"
   ]
  },
  {
   "cell_type": "code",
   "execution_count": 26,
   "id": "8fddf83d",
   "metadata": {
    "execution": {
     "iopub.execute_input": "2024-01-20T15:51:31.613076Z",
     "iopub.status.busy": "2024-01-20T15:51:31.612656Z",
     "iopub.status.idle": "2024-01-20T15:51:46.442005Z",
     "shell.execute_reply": "2024-01-20T15:51:46.440482Z"
    },
    "id": "lEmP3To6DWCf",
    "outputId": "ddd9f1f0-1971-4bea-ebfd-cc1ff9c2e162",
    "papermill": {
     "duration": 14.881395,
     "end_time": "2024-01-20T15:51:46.444998",
     "exception": false,
     "start_time": "2024-01-20T15:51:31.563603",
     "status": "completed"
    },
    "tags": []
   },
   "outputs": [
    {
     "name": "stdout",
     "output_type": "stream",
     "text": [
      "Requirement already satisfied: geopy in /opt/conda/lib/python3.10/site-packages (2.4.0)\r\n",
      "Requirement already satisfied: geographiclib<3,>=1.52 in /opt/conda/lib/python3.10/site-packages (from geopy) (2.0)\r\n"
     ]
    }
   ],
   "source": [
    "!pip install geopy"
   ]
  },
  {
   "cell_type": "code",
   "execution_count": 27,
   "id": "1fc2c599",
   "metadata": {
    "execution": {
     "iopub.execute_input": "2024-01-20T15:51:46.545256Z",
     "iopub.status.busy": "2024-01-20T15:51:46.544831Z",
     "iopub.status.idle": "2024-01-20T15:52:40.712266Z",
     "shell.execute_reply": "2024-01-20T15:52:40.711239Z"
    },
    "id": "sv8t7b5ZDZDN",
    "papermill": {
     "duration": 54.220874,
     "end_time": "2024-01-20T15:52:40.715196",
     "exception": false,
     "start_time": "2024-01-20T15:51:46.494322",
     "status": "completed"
    },
    "tags": []
   },
   "outputs": [],
   "source": [
    "from geopy.geocoders import Nominatim\n",
    "\n",
    "geolocator = Nominatim(timeout=10, user_agent = \"Geolocator\")\n",
    "\n",
    "latitude = []\n",
    "longitude = []\n",
    "\n",
    "for index, loc in df_facground.iterrows():\n",
    "  if (geolocator.geocode(loc['disc_facility'])):\n",
    "    location = geolocator.geocode(loc['disc_facility'])\n",
    "    latitude.append(location.latitude)\n",
    "    longitude.append(location.longitude)\n",
    "  else:\n",
    "    # Si no son encontrados se asignan NaN\n",
    "    latitude.append(pd.NA)\n",
    "    longitude.append(pd.NA)\n",
    "\n",
    "df_facground['latitude'] = latitude\n",
    "df_facground['longitude'] = longitude"
   ]
  },
  {
   "cell_type": "code",
   "execution_count": 28,
   "id": "2110fe86",
   "metadata": {
    "execution": {
     "iopub.execute_input": "2024-01-20T15:52:40.813564Z",
     "iopub.status.busy": "2024-01-20T15:52:40.813157Z",
     "iopub.status.idle": "2024-01-20T15:52:40.834512Z",
     "shell.execute_reply": "2024-01-20T15:52:40.833754Z"
    },
    "id": "FXdijD5-Ii16",
    "outputId": "50ccc347-f58a-4195-dcfd-74818044cfee",
    "papermill": {
     "duration": 0.07323,
     "end_time": "2024-01-20T15:52:40.836855",
     "exception": false,
     "start_time": "2024-01-20T15:52:40.763625",
     "status": "completed"
    },
    "tags": []
   },
   "outputs": [
    {
     "data": {
      "text/html": [
       "<div>\n",
       "<style scoped>\n",
       "    .dataframe tbody tr th:only-of-type {\n",
       "        vertical-align: middle;\n",
       "    }\n",
       "\n",
       "    .dataframe tbody tr th {\n",
       "        vertical-align: top;\n",
       "    }\n",
       "\n",
       "    .dataframe thead th {\n",
       "        text-align: right;\n",
       "    }\n",
       "</style>\n",
       "<table border=\"1\" class=\"dataframe\">\n",
       "  <thead>\n",
       "    <tr style=\"text-align: right;\">\n",
       "      <th></th>\n",
       "      <th>disc_facility</th>\n",
       "      <th>disc_locale</th>\n",
       "      <th>counts</th>\n",
       "      <th>latitude</th>\n",
       "      <th>longitude</th>\n",
       "    </tr>\n",
       "  </thead>\n",
       "  <tbody>\n",
       "    <tr>\n",
       "      <th>37</th>\n",
       "      <td>Mauna Kea Observatory</td>\n",
       "      <td>Ground</td>\n",
       "      <td>1</td>\n",
       "      <td>19.824758</td>\n",
       "      <td>-155.473356</td>\n",
       "    </tr>\n",
       "    <tr>\n",
       "      <th>65</th>\n",
       "      <td>University of Canterbury Mt John Observatory</td>\n",
       "      <td>Ground</td>\n",
       "      <td>1</td>\n",
       "      <td>&lt;NA&gt;</td>\n",
       "      <td>&lt;NA&gt;</td>\n",
       "    </tr>\n",
       "    <tr>\n",
       "      <th>2</th>\n",
       "      <td>Apache Point Observatory</td>\n",
       "      <td>Ground</td>\n",
       "      <td>1</td>\n",
       "      <td>32.780298</td>\n",
       "      <td>-105.819909</td>\n",
       "    </tr>\n",
       "    <tr>\n",
       "      <th>4</th>\n",
       "      <td>Atacama Large Millimeter Array (ALMA)</td>\n",
       "      <td>Ground</td>\n",
       "      <td>1</td>\n",
       "      <td>-23.016605</td>\n",
       "      <td>-67.772269</td>\n",
       "    </tr>\n",
       "    <tr>\n",
       "      <th>70</th>\n",
       "      <td>Winer Observatory</td>\n",
       "      <td>Ground</td>\n",
       "      <td>1</td>\n",
       "      <td>&lt;NA&gt;</td>\n",
       "      <td>&lt;NA&gt;</td>\n",
       "    </tr>\n",
       "    <tr>\n",
       "      <th>66</th>\n",
       "      <td>Very Long Baseline Array</td>\n",
       "      <td>Ground</td>\n",
       "      <td>1</td>\n",
       "      <td>35.775135</td>\n",
       "      <td>-106.245559</td>\n",
       "    </tr>\n",
       "    <tr>\n",
       "      <th>53</th>\n",
       "      <td>SPECULOOS Southern Observatory</td>\n",
       "      <td>Ground</td>\n",
       "      <td>1</td>\n",
       "      <td>&lt;NA&gt;</td>\n",
       "      <td>&lt;NA&gt;</td>\n",
       "    </tr>\n",
       "    <tr>\n",
       "      <th>19</th>\n",
       "      <td>Infrared Survey Facility</td>\n",
       "      <td>Ground</td>\n",
       "      <td>1</td>\n",
       "      <td>-32.380287</td>\n",
       "      <td>20.809872</td>\n",
       "    </tr>\n",
       "    <tr>\n",
       "      <th>28</th>\n",
       "      <td>Kitt Peak National Observatory</td>\n",
       "      <td>Ground</td>\n",
       "      <td>1</td>\n",
       "      <td>31.96005</td>\n",
       "      <td>-111.598063</td>\n",
       "    </tr>\n",
       "    <tr>\n",
       "      <th>59</th>\n",
       "      <td>Teide Observatory</td>\n",
       "      <td>Ground</td>\n",
       "      <td>1</td>\n",
       "      <td>28.301554</td>\n",
       "      <td>-16.509884</td>\n",
       "    </tr>\n",
       "    <tr>\n",
       "      <th>32</th>\n",
       "      <td>Leoncito Astronomical Complex</td>\n",
       "      <td>Ground</td>\n",
       "      <td>1</td>\n",
       "      <td>&lt;NA&gt;</td>\n",
       "      <td>&lt;NA&gt;</td>\n",
       "    </tr>\n",
       "    <tr>\n",
       "      <th>44</th>\n",
       "      <td>NASA Infrared Telescope Facility (IRTF)</td>\n",
       "      <td>Ground</td>\n",
       "      <td>1</td>\n",
       "      <td>19.826293</td>\n",
       "      <td>-155.471936</td>\n",
       "    </tr>\n",
       "    <tr>\n",
       "      <th>62</th>\n",
       "      <td>Transiting Exoplanet Survey Satellite (TESS)</td>\n",
       "      <td>Ground</td>\n",
       "      <td>1</td>\n",
       "      <td>&lt;NA&gt;</td>\n",
       "      <td>&lt;NA&gt;</td>\n",
       "    </tr>\n",
       "    <tr>\n",
       "      <th>64</th>\n",
       "      <td>United Kingdom Infrared Telescope</td>\n",
       "      <td>Ground</td>\n",
       "      <td>2</td>\n",
       "      <td>&lt;NA&gt;</td>\n",
       "      <td>&lt;NA&gt;</td>\n",
       "    </tr>\n",
       "    <tr>\n",
       "      <th>72</th>\n",
       "      <td>Xinglong Station</td>\n",
       "      <td>Ground</td>\n",
       "      <td>2</td>\n",
       "      <td>28.299305</td>\n",
       "      <td>105.376143</td>\n",
       "    </tr>\n",
       "    <tr>\n",
       "      <th>50</th>\n",
       "      <td>Parkes Observatory</td>\n",
       "      <td>Ground</td>\n",
       "      <td>2</td>\n",
       "      <td>-32.998601</td>\n",
       "      <td>148.262423</td>\n",
       "    </tr>\n",
       "    <tr>\n",
       "      <th>0</th>\n",
       "      <td>Acton Sky Portal Observatory</td>\n",
       "      <td>Ground</td>\n",
       "      <td>2</td>\n",
       "      <td>&lt;NA&gt;</td>\n",
       "      <td>&lt;NA&gt;</td>\n",
       "    </tr>\n",
       "    <tr>\n",
       "      <th>34</th>\n",
       "      <td>Lowell Observatory</td>\n",
       "      <td>Ground</td>\n",
       "      <td>2</td>\n",
       "      <td>35.202945</td>\n",
       "      <td>-111.664653</td>\n",
       "    </tr>\n",
       "    <tr>\n",
       "      <th>16</th>\n",
       "      <td>Haleakala Observatory</td>\n",
       "      <td>Ground</td>\n",
       "      <td>2</td>\n",
       "      <td>20.707724</td>\n",
       "      <td>-156.257322</td>\n",
       "    </tr>\n",
       "    <tr>\n",
       "      <th>48</th>\n",
       "      <td>Palomar Observatory</td>\n",
       "      <td>Ground</td>\n",
       "      <td>2</td>\n",
       "      <td>33.353976</td>\n",
       "      <td>-116.861374</td>\n",
       "    </tr>\n",
       "    <tr>\n",
       "      <th>35</th>\n",
       "      <td>MEarth Project</td>\n",
       "      <td>Ground</td>\n",
       "      <td>2</td>\n",
       "      <td>31.684183</td>\n",
       "      <td>-110.878023</td>\n",
       "    </tr>\n",
       "    <tr>\n",
       "      <th>30</th>\n",
       "      <td>Large Binocular Telescope Observatory</td>\n",
       "      <td>Ground</td>\n",
       "      <td>2</td>\n",
       "      <td>32.701432</td>\n",
       "      <td>-109.889211</td>\n",
       "    </tr>\n",
       "    <tr>\n",
       "      <th>73</th>\n",
       "      <td>Yunnan Astronomical Observatory</td>\n",
       "      <td>Ground</td>\n",
       "      <td>3</td>\n",
       "      <td>25.051693</td>\n",
       "      <td>102.578469</td>\n",
       "    </tr>\n",
       "    <tr>\n",
       "      <th>3</th>\n",
       "      <td>Arecibo Observatory</td>\n",
       "      <td>Ground</td>\n",
       "      <td>3</td>\n",
       "      <td>18.34435</td>\n",
       "      <td>-66.752717</td>\n",
       "    </tr>\n",
       "    <tr>\n",
       "      <th>45</th>\n",
       "      <td>Next-Generation Transit Survey (NGTS)</td>\n",
       "      <td>Ground</td>\n",
       "      <td>3</td>\n",
       "      <td>-24.61574</td>\n",
       "      <td>-70.391039</td>\n",
       "    </tr>\n",
       "    <tr>\n",
       "      <th>10</th>\n",
       "      <td>European Southern Observatory</td>\n",
       "      <td>Ground</td>\n",
       "      <td>3</td>\n",
       "      <td>-33.399542</td>\n",
       "      <td>-70.600226</td>\n",
       "    </tr>\n",
       "    <tr>\n",
       "      <th>24</th>\n",
       "      <td>KELT-South</td>\n",
       "      <td>Ground</td>\n",
       "      <td>4</td>\n",
       "      <td>-32.380265</td>\n",
       "      <td>20.810272</td>\n",
       "    </tr>\n",
       "    <tr>\n",
       "      <th>61</th>\n",
       "      <td>TrES</td>\n",
       "      <td>Ground</td>\n",
       "      <td>5</td>\n",
       "      <td>46.32311</td>\n",
       "      <td>11.096874</td>\n",
       "    </tr>\n",
       "    <tr>\n",
       "      <th>57</th>\n",
       "      <td>SuperWASP-North</td>\n",
       "      <td>Ground</td>\n",
       "      <td>5</td>\n",
       "      <td>28.760249</td>\n",
       "      <td>-17.879275</td>\n",
       "    </tr>\n",
       "    <tr>\n",
       "      <th>8</th>\n",
       "      <td>Cerro Tololo Inter-American Observatory</td>\n",
       "      <td>Ground</td>\n",
       "      <td>5</td>\n",
       "      <td>-30.171126</td>\n",
       "      <td>-70.803556</td>\n",
       "    </tr>\n",
       "    <tr>\n",
       "      <th>12</th>\n",
       "      <td>Fred Lawrence Whipple Observatory</td>\n",
       "      <td>Ground</td>\n",
       "      <td>6</td>\n",
       "      <td>31.68077</td>\n",
       "      <td>-110.878748</td>\n",
       "    </tr>\n",
       "    <tr>\n",
       "      <th>71</th>\n",
       "      <td>XO</td>\n",
       "      <td>Ground</td>\n",
       "      <td>7</td>\n",
       "      <td>18.316759</td>\n",
       "      <td>102.108289</td>\n",
       "    </tr>\n",
       "    <tr>\n",
       "      <th>23</th>\n",
       "      <td>KELT-North</td>\n",
       "      <td>Ground</td>\n",
       "      <td>7</td>\n",
       "      <td>64.231219</td>\n",
       "      <td>23.811565</td>\n",
       "    </tr>\n",
       "    <tr>\n",
       "      <th>60</th>\n",
       "      <td>Thueringer Landessternwarte Tautenburg</td>\n",
       "      <td>Ground</td>\n",
       "      <td>8</td>\n",
       "      <td>50.98059</td>\n",
       "      <td>11.710986</td>\n",
       "    </tr>\n",
       "    <tr>\n",
       "      <th>13</th>\n",
       "      <td>Gemini Observatory</td>\n",
       "      <td>Ground</td>\n",
       "      <td>9</td>\n",
       "      <td>19.701014</td>\n",
       "      <td>-155.090111</td>\n",
       "    </tr>\n",
       "    <tr>\n",
       "      <th>51</th>\n",
       "      <td>Qatar</td>\n",
       "      <td>Ground</td>\n",
       "      <td>10</td>\n",
       "      <td>25.333698</td>\n",
       "      <td>51.229529</td>\n",
       "    </tr>\n",
       "    <tr>\n",
       "      <th>22</th>\n",
       "      <td>KELT</td>\n",
       "      <td>Ground</td>\n",
       "      <td>10</td>\n",
       "      <td>50.044335</td>\n",
       "      <td>15.745486</td>\n",
       "    </tr>\n",
       "    <tr>\n",
       "      <th>68</th>\n",
       "      <td>WASP-South</td>\n",
       "      <td>Ground</td>\n",
       "      <td>11</td>\n",
       "      <td>-54.74709</td>\n",
       "      <td>-35.854428</td>\n",
       "    </tr>\n",
       "    <tr>\n",
       "      <th>55</th>\n",
       "      <td>Subaru Telescope</td>\n",
       "      <td>Ground</td>\n",
       "      <td>11</td>\n",
       "      <td>19.825628</td>\n",
       "      <td>-155.475984</td>\n",
       "    </tr>\n",
       "    <tr>\n",
       "      <th>39</th>\n",
       "      <td>Multiple Facilities</td>\n",
       "      <td>Ground</td>\n",
       "      <td>15</td>\n",
       "      <td>&lt;NA&gt;</td>\n",
       "      <td>&lt;NA&gt;</td>\n",
       "    </tr>\n",
       "    <tr>\n",
       "      <th>7</th>\n",
       "      <td>Calar Alto Observatory</td>\n",
       "      <td>Ground</td>\n",
       "      <td>17</td>\n",
       "      <td>37.222216</td>\n",
       "      <td>-2.54693</td>\n",
       "    </tr>\n",
       "    <tr>\n",
       "      <th>5</th>\n",
       "      <td>Bohyunsan Optical Astronomical Observatory</td>\n",
       "      <td>Ground</td>\n",
       "      <td>23</td>\n",
       "      <td>&lt;NA&gt;</td>\n",
       "      <td>&lt;NA&gt;</td>\n",
       "    </tr>\n",
       "    <tr>\n",
       "      <th>36</th>\n",
       "      <td>MOA</td>\n",
       "      <td>Ground</td>\n",
       "      <td>29</td>\n",
       "      <td>14.535209</td>\n",
       "      <td>120.981598</td>\n",
       "    </tr>\n",
       "    <tr>\n",
       "      <th>38</th>\n",
       "      <td>McDonald Observatory</td>\n",
       "      <td>Ground</td>\n",
       "      <td>29</td>\n",
       "      <td>30.675821</td>\n",
       "      <td>-104.020584</td>\n",
       "    </tr>\n",
       "    <tr>\n",
       "      <th>31</th>\n",
       "      <td>Las Campanas Observatory</td>\n",
       "      <td>Ground</td>\n",
       "      <td>29</td>\n",
       "      <td>-29.019156</td>\n",
       "      <td>-70.690601</td>\n",
       "    </tr>\n",
       "    <tr>\n",
       "      <th>52</th>\n",
       "      <td>Roque de los Muchachos Observatory</td>\n",
       "      <td>Ground</td>\n",
       "      <td>30</td>\n",
       "      <td>28.757069</td>\n",
       "      <td>-17.888844</td>\n",
       "    </tr>\n",
       "    <tr>\n",
       "      <th>58</th>\n",
       "      <td>SuperWASP-South</td>\n",
       "      <td>Ground</td>\n",
       "      <td>32</td>\n",
       "      <td>-32.380828</td>\n",
       "      <td>20.810494</td>\n",
       "    </tr>\n",
       "    <tr>\n",
       "      <th>33</th>\n",
       "      <td>Lick Observatory</td>\n",
       "      <td>Ground</td>\n",
       "      <td>35</td>\n",
       "      <td>37.343181</td>\n",
       "      <td>-121.645293</td>\n",
       "    </tr>\n",
       "    <tr>\n",
       "      <th>47</th>\n",
       "      <td>Okayama Astrophysical Observatory</td>\n",
       "      <td>Ground</td>\n",
       "      <td>35</td>\n",
       "      <td>&lt;NA&gt;</td>\n",
       "      <td>&lt;NA&gt;</td>\n",
       "    </tr>\n",
       "    <tr>\n",
       "      <th>1</th>\n",
       "      <td>Anglo-Australian Telescope</td>\n",
       "      <td>Ground</td>\n",
       "      <td>36</td>\n",
       "      <td>-31.275452</td>\n",
       "      <td>149.067221</td>\n",
       "    </tr>\n",
       "    <tr>\n",
       "      <th>49</th>\n",
       "      <td>Paranal Observatory</td>\n",
       "      <td>Ground</td>\n",
       "      <td>44</td>\n",
       "      <td>-24.62746</td>\n",
       "      <td>-70.404151</td>\n",
       "    </tr>\n",
       "    <tr>\n",
       "      <th>17</th>\n",
       "      <td>Haute-Provence Observatory</td>\n",
       "      <td>Ground</td>\n",
       "      <td>64</td>\n",
       "      <td>&lt;NA&gt;</td>\n",
       "      <td>&lt;NA&gt;</td>\n",
       "    </tr>\n",
       "    <tr>\n",
       "      <th>14</th>\n",
       "      <td>HATNet</td>\n",
       "      <td>Ground</td>\n",
       "      <td>67</td>\n",
       "      <td>36.253445</td>\n",
       "      <td>36.563513</td>\n",
       "    </tr>\n",
       "    <tr>\n",
       "      <th>15</th>\n",
       "      <td>HATSouth</td>\n",
       "      <td>Ground</td>\n",
       "      <td>73</td>\n",
       "      <td>&lt;NA&gt;</td>\n",
       "      <td>&lt;NA&gt;</td>\n",
       "    </tr>\n",
       "    <tr>\n",
       "      <th>25</th>\n",
       "      <td>KMTNet</td>\n",
       "      <td>Ground</td>\n",
       "      <td>79</td>\n",
       "      <td>-32.378805</td>\n",
       "      <td>20.810439</td>\n",
       "    </tr>\n",
       "    <tr>\n",
       "      <th>46</th>\n",
       "      <td>OGLE</td>\n",
       "      <td>Ground</td>\n",
       "      <td>97</td>\n",
       "      <td>42.039701</td>\n",
       "      <td>-89.31386</td>\n",
       "    </tr>\n",
       "    <tr>\n",
       "      <th>56</th>\n",
       "      <td>SuperWASP</td>\n",
       "      <td>Ground</td>\n",
       "      <td>113</td>\n",
       "      <td>-32.380828</td>\n",
       "      <td>20.810494</td>\n",
       "    </tr>\n",
       "    <tr>\n",
       "      <th>67</th>\n",
       "      <td>W. M. Keck Observatory</td>\n",
       "      <td>Ground</td>\n",
       "      <td>184</td>\n",
       "      <td>19.826336</td>\n",
       "      <td>-155.474455</td>\n",
       "    </tr>\n",
       "    <tr>\n",
       "      <th>41</th>\n",
       "      <td>Multiple Observatories</td>\n",
       "      <td>Ground</td>\n",
       "      <td>264</td>\n",
       "      <td>&lt;NA&gt;</td>\n",
       "      <td>&lt;NA&gt;</td>\n",
       "    </tr>\n",
       "    <tr>\n",
       "      <th>29</th>\n",
       "      <td>La Silla Observatory</td>\n",
       "      <td>Ground</td>\n",
       "      <td>276</td>\n",
       "      <td>-29.25521</td>\n",
       "      <td>-70.739507</td>\n",
       "    </tr>\n",
       "  </tbody>\n",
       "</table>\n",
       "</div>"
      ],
      "text/plain": [
       "                                   disc_facility disc_locale  counts  \\\n",
       "37                         Mauna Kea Observatory      Ground       1   \n",
       "65  University of Canterbury Mt John Observatory      Ground       1   \n",
       "2                       Apache Point Observatory      Ground       1   \n",
       "4          Atacama Large Millimeter Array (ALMA)      Ground       1   \n",
       "70                             Winer Observatory      Ground       1   \n",
       "66                      Very Long Baseline Array      Ground       1   \n",
       "53                SPECULOOS Southern Observatory      Ground       1   \n",
       "19                      Infrared Survey Facility      Ground       1   \n",
       "28                Kitt Peak National Observatory      Ground       1   \n",
       "59                             Teide Observatory      Ground       1   \n",
       "32                 Leoncito Astronomical Complex      Ground       1   \n",
       "44       NASA Infrared Telescope Facility (IRTF)      Ground       1   \n",
       "62  Transiting Exoplanet Survey Satellite (TESS)      Ground       1   \n",
       "64             United Kingdom Infrared Telescope      Ground       2   \n",
       "72                              Xinglong Station      Ground       2   \n",
       "50                            Parkes Observatory      Ground       2   \n",
       "0                   Acton Sky Portal Observatory      Ground       2   \n",
       "34                            Lowell Observatory      Ground       2   \n",
       "16                         Haleakala Observatory      Ground       2   \n",
       "48                           Palomar Observatory      Ground       2   \n",
       "35                                MEarth Project      Ground       2   \n",
       "30         Large Binocular Telescope Observatory      Ground       2   \n",
       "73               Yunnan Astronomical Observatory      Ground       3   \n",
       "3                            Arecibo Observatory      Ground       3   \n",
       "45         Next-Generation Transit Survey (NGTS)      Ground       3   \n",
       "10                 European Southern Observatory      Ground       3   \n",
       "24                                    KELT-South      Ground       4   \n",
       "61                                          TrES      Ground       5   \n",
       "57                               SuperWASP-North      Ground       5   \n",
       "8        Cerro Tololo Inter-American Observatory      Ground       5   \n",
       "12             Fred Lawrence Whipple Observatory      Ground       6   \n",
       "71                                            XO      Ground       7   \n",
       "23                                    KELT-North      Ground       7   \n",
       "60        Thueringer Landessternwarte Tautenburg      Ground       8   \n",
       "13                            Gemini Observatory      Ground       9   \n",
       "51                                         Qatar      Ground      10   \n",
       "22                                          KELT      Ground      10   \n",
       "68                                    WASP-South      Ground      11   \n",
       "55                              Subaru Telescope      Ground      11   \n",
       "39                           Multiple Facilities      Ground      15   \n",
       "7                         Calar Alto Observatory      Ground      17   \n",
       "5     Bohyunsan Optical Astronomical Observatory      Ground      23   \n",
       "36                                           MOA      Ground      29   \n",
       "38                          McDonald Observatory      Ground      29   \n",
       "31                      Las Campanas Observatory      Ground      29   \n",
       "52            Roque de los Muchachos Observatory      Ground      30   \n",
       "58                               SuperWASP-South      Ground      32   \n",
       "33                              Lick Observatory      Ground      35   \n",
       "47             Okayama Astrophysical Observatory      Ground      35   \n",
       "1                     Anglo-Australian Telescope      Ground      36   \n",
       "49                           Paranal Observatory      Ground      44   \n",
       "17                    Haute-Provence Observatory      Ground      64   \n",
       "14                                        HATNet      Ground      67   \n",
       "15                                      HATSouth      Ground      73   \n",
       "25                                        KMTNet      Ground      79   \n",
       "46                                          OGLE      Ground      97   \n",
       "56                                     SuperWASP      Ground     113   \n",
       "67                        W. M. Keck Observatory      Ground     184   \n",
       "41                        Multiple Observatories      Ground     264   \n",
       "29                          La Silla Observatory      Ground     276   \n",
       "\n",
       "     latitude   longitude  \n",
       "37  19.824758 -155.473356  \n",
       "65       <NA>        <NA>  \n",
       "2   32.780298 -105.819909  \n",
       "4  -23.016605  -67.772269  \n",
       "70       <NA>        <NA>  \n",
       "66  35.775135 -106.245559  \n",
       "53       <NA>        <NA>  \n",
       "19 -32.380287   20.809872  \n",
       "28   31.96005 -111.598063  \n",
       "59  28.301554  -16.509884  \n",
       "32       <NA>        <NA>  \n",
       "44  19.826293 -155.471936  \n",
       "62       <NA>        <NA>  \n",
       "64       <NA>        <NA>  \n",
       "72  28.299305  105.376143  \n",
       "50 -32.998601  148.262423  \n",
       "0        <NA>        <NA>  \n",
       "34  35.202945 -111.664653  \n",
       "16  20.707724 -156.257322  \n",
       "48  33.353976 -116.861374  \n",
       "35  31.684183 -110.878023  \n",
       "30  32.701432 -109.889211  \n",
       "73  25.051693  102.578469  \n",
       "3    18.34435  -66.752717  \n",
       "45  -24.61574  -70.391039  \n",
       "10 -33.399542  -70.600226  \n",
       "24 -32.380265   20.810272  \n",
       "61   46.32311   11.096874  \n",
       "57  28.760249  -17.879275  \n",
       "8  -30.171126  -70.803556  \n",
       "12   31.68077 -110.878748  \n",
       "71  18.316759  102.108289  \n",
       "23  64.231219   23.811565  \n",
       "60   50.98059   11.710986  \n",
       "13  19.701014 -155.090111  \n",
       "51  25.333698   51.229529  \n",
       "22  50.044335   15.745486  \n",
       "68  -54.74709  -35.854428  \n",
       "55  19.825628 -155.475984  \n",
       "39       <NA>        <NA>  \n",
       "7   37.222216    -2.54693  \n",
       "5        <NA>        <NA>  \n",
       "36  14.535209  120.981598  \n",
       "38  30.675821 -104.020584  \n",
       "31 -29.019156  -70.690601  \n",
       "52  28.757069  -17.888844  \n",
       "58 -32.380828   20.810494  \n",
       "33  37.343181 -121.645293  \n",
       "47       <NA>        <NA>  \n",
       "1  -31.275452  149.067221  \n",
       "49  -24.62746  -70.404151  \n",
       "17       <NA>        <NA>  \n",
       "14  36.253445   36.563513  \n",
       "15       <NA>        <NA>  \n",
       "25 -32.378805   20.810439  \n",
       "46  42.039701   -89.31386  \n",
       "56 -32.380828   20.810494  \n",
       "67  19.826336 -155.474455  \n",
       "41       <NA>        <NA>  \n",
       "29  -29.25521  -70.739507  "
      ]
     },
     "execution_count": 28,
     "metadata": {},
     "output_type": "execute_result"
    }
   ],
   "source": [
    "df_facground"
   ]
  },
  {
   "cell_type": "markdown",
   "id": "8f9c5c06",
   "metadata": {
    "id": "oPkXSNA8aM8D",
    "papermill": {
     "duration": 0.049519,
     "end_time": "2024-01-20T15:52:40.935544",
     "exception": false,
     "start_time": "2024-01-20T15:52:40.886025",
     "status": "completed"
    },
    "tags": []
   },
   "source": [
    "##### We found observatories whose location could not be completed."
   ]
  },
  {
   "cell_type": "code",
   "execution_count": 29,
   "id": "94a5d058",
   "metadata": {
    "execution": {
     "iopub.execute_input": "2024-01-20T15:52:41.036981Z",
     "iopub.status.busy": "2024-01-20T15:52:41.036293Z",
     "iopub.status.idle": "2024-01-20T15:52:41.049861Z",
     "shell.execute_reply": "2024-01-20T15:52:41.048919Z"
    },
    "id": "TiZgi0ppV4Hf",
    "outputId": "d036eca0-d938-424e-f46d-51ce1c7c429e",
    "papermill": {
     "duration": 0.066224,
     "end_time": "2024-01-20T15:52:41.051940",
     "exception": false,
     "start_time": "2024-01-20T15:52:40.985716",
     "status": "completed"
    },
    "tags": []
   },
   "outputs": [
    {
     "data": {
      "text/html": [
       "<div>\n",
       "<style scoped>\n",
       "    .dataframe tbody tr th:only-of-type {\n",
       "        vertical-align: middle;\n",
       "    }\n",
       "\n",
       "    .dataframe tbody tr th {\n",
       "        vertical-align: top;\n",
       "    }\n",
       "\n",
       "    .dataframe thead th {\n",
       "        text-align: right;\n",
       "    }\n",
       "</style>\n",
       "<table border=\"1\" class=\"dataframe\">\n",
       "  <thead>\n",
       "    <tr style=\"text-align: right;\">\n",
       "      <th></th>\n",
       "      <th>disc_facility</th>\n",
       "      <th>disc_locale</th>\n",
       "      <th>counts</th>\n",
       "      <th>latitude</th>\n",
       "      <th>longitude</th>\n",
       "    </tr>\n",
       "  </thead>\n",
       "  <tbody>\n",
       "    <tr>\n",
       "      <th>65</th>\n",
       "      <td>University of Canterbury Mt John Observatory</td>\n",
       "      <td>Ground</td>\n",
       "      <td>1</td>\n",
       "      <td>&lt;NA&gt;</td>\n",
       "      <td>&lt;NA&gt;</td>\n",
       "    </tr>\n",
       "    <tr>\n",
       "      <th>70</th>\n",
       "      <td>Winer Observatory</td>\n",
       "      <td>Ground</td>\n",
       "      <td>1</td>\n",
       "      <td>&lt;NA&gt;</td>\n",
       "      <td>&lt;NA&gt;</td>\n",
       "    </tr>\n",
       "    <tr>\n",
       "      <th>53</th>\n",
       "      <td>SPECULOOS Southern Observatory</td>\n",
       "      <td>Ground</td>\n",
       "      <td>1</td>\n",
       "      <td>&lt;NA&gt;</td>\n",
       "      <td>&lt;NA&gt;</td>\n",
       "    </tr>\n",
       "    <tr>\n",
       "      <th>32</th>\n",
       "      <td>Leoncito Astronomical Complex</td>\n",
       "      <td>Ground</td>\n",
       "      <td>1</td>\n",
       "      <td>&lt;NA&gt;</td>\n",
       "      <td>&lt;NA&gt;</td>\n",
       "    </tr>\n",
       "    <tr>\n",
       "      <th>62</th>\n",
       "      <td>Transiting Exoplanet Survey Satellite (TESS)</td>\n",
       "      <td>Ground</td>\n",
       "      <td>1</td>\n",
       "      <td>&lt;NA&gt;</td>\n",
       "      <td>&lt;NA&gt;</td>\n",
       "    </tr>\n",
       "    <tr>\n",
       "      <th>64</th>\n",
       "      <td>United Kingdom Infrared Telescope</td>\n",
       "      <td>Ground</td>\n",
       "      <td>2</td>\n",
       "      <td>&lt;NA&gt;</td>\n",
       "      <td>&lt;NA&gt;</td>\n",
       "    </tr>\n",
       "    <tr>\n",
       "      <th>0</th>\n",
       "      <td>Acton Sky Portal Observatory</td>\n",
       "      <td>Ground</td>\n",
       "      <td>2</td>\n",
       "      <td>&lt;NA&gt;</td>\n",
       "      <td>&lt;NA&gt;</td>\n",
       "    </tr>\n",
       "    <tr>\n",
       "      <th>39</th>\n",
       "      <td>Multiple Facilities</td>\n",
       "      <td>Ground</td>\n",
       "      <td>15</td>\n",
       "      <td>&lt;NA&gt;</td>\n",
       "      <td>&lt;NA&gt;</td>\n",
       "    </tr>\n",
       "    <tr>\n",
       "      <th>5</th>\n",
       "      <td>Bohyunsan Optical Astronomical Observatory</td>\n",
       "      <td>Ground</td>\n",
       "      <td>23</td>\n",
       "      <td>&lt;NA&gt;</td>\n",
       "      <td>&lt;NA&gt;</td>\n",
       "    </tr>\n",
       "    <tr>\n",
       "      <th>47</th>\n",
       "      <td>Okayama Astrophysical Observatory</td>\n",
       "      <td>Ground</td>\n",
       "      <td>35</td>\n",
       "      <td>&lt;NA&gt;</td>\n",
       "      <td>&lt;NA&gt;</td>\n",
       "    </tr>\n",
       "    <tr>\n",
       "      <th>17</th>\n",
       "      <td>Haute-Provence Observatory</td>\n",
       "      <td>Ground</td>\n",
       "      <td>64</td>\n",
       "      <td>&lt;NA&gt;</td>\n",
       "      <td>&lt;NA&gt;</td>\n",
       "    </tr>\n",
       "    <tr>\n",
       "      <th>15</th>\n",
       "      <td>HATSouth</td>\n",
       "      <td>Ground</td>\n",
       "      <td>73</td>\n",
       "      <td>&lt;NA&gt;</td>\n",
       "      <td>&lt;NA&gt;</td>\n",
       "    </tr>\n",
       "    <tr>\n",
       "      <th>41</th>\n",
       "      <td>Multiple Observatories</td>\n",
       "      <td>Ground</td>\n",
       "      <td>264</td>\n",
       "      <td>&lt;NA&gt;</td>\n",
       "      <td>&lt;NA&gt;</td>\n",
       "    </tr>\n",
       "  </tbody>\n",
       "</table>\n",
       "</div>"
      ],
      "text/plain": [
       "                                   disc_facility disc_locale  counts latitude  \\\n",
       "65  University of Canterbury Mt John Observatory      Ground       1     <NA>   \n",
       "70                             Winer Observatory      Ground       1     <NA>   \n",
       "53                SPECULOOS Southern Observatory      Ground       1     <NA>   \n",
       "32                 Leoncito Astronomical Complex      Ground       1     <NA>   \n",
       "62  Transiting Exoplanet Survey Satellite (TESS)      Ground       1     <NA>   \n",
       "64             United Kingdom Infrared Telescope      Ground       2     <NA>   \n",
       "0                   Acton Sky Portal Observatory      Ground       2     <NA>   \n",
       "39                           Multiple Facilities      Ground      15     <NA>   \n",
       "5     Bohyunsan Optical Astronomical Observatory      Ground      23     <NA>   \n",
       "47             Okayama Astrophysical Observatory      Ground      35     <NA>   \n",
       "17                    Haute-Provence Observatory      Ground      64     <NA>   \n",
       "15                                      HATSouth      Ground      73     <NA>   \n",
       "41                        Multiple Observatories      Ground     264     <NA>   \n",
       "\n",
       "   longitude  \n",
       "65      <NA>  \n",
       "70      <NA>  \n",
       "53      <NA>  \n",
       "32      <NA>  \n",
       "62      <NA>  \n",
       "64      <NA>  \n",
       "0       <NA>  \n",
       "39      <NA>  \n",
       "5       <NA>  \n",
       "47      <NA>  \n",
       "17      <NA>  \n",
       "15      <NA>  \n",
       "41      <NA>  "
      ]
     },
     "execution_count": 29,
     "metadata": {},
     "output_type": "execute_result"
    }
   ],
   "source": [
    "df_facground.loc[df_facground['latitude'].isnull()]"
   ]
  },
  {
   "cell_type": "markdown",
   "id": "f4474054",
   "metadata": {
    "id": "TXQiwLqKe9Fb",
    "papermill": {
     "duration": 0.048873,
     "end_time": "2024-01-20T15:52:41.149965",
     "exception": false,
     "start_time": "2024-01-20T15:52:41.101092",
     "status": "completed"
    },
    "tags": []
   },
   "source": [
    "##### Completing locations manually"
   ]
  },
  {
   "cell_type": "code",
   "execution_count": 30,
   "id": "a4d9c306",
   "metadata": {
    "execution": {
     "iopub.execute_input": "2024-01-20T15:52:41.250189Z",
     "iopub.status.busy": "2024-01-20T15:52:41.249756Z",
     "iopub.status.idle": "2024-01-20T15:52:41.272923Z",
     "shell.execute_reply": "2024-01-20T15:52:41.271839Z"
    },
    "id": "jayoXOTPVMYl",
    "papermill": {
     "duration": 0.076203,
     "end_time": "2024-01-20T15:52:41.275346",
     "exception": false,
     "start_time": "2024-01-20T15:52:41.199143",
     "status": "completed"
    },
    "tags": []
   },
   "outputs": [],
   "source": [
    "df_facground.loc[df_facground.disc_facility == \"Bohyunsan Optical Astronomical Observatory\", \"latitude\"] = 36.16493673022682\n",
    "df_facground.loc[df_facground.disc_facility == \"Bohyunsan Optical Astronomical Observatory\", \"longitude\"] = 128.97680621520124\n",
    "\n",
    "df_facground.loc[df_facground.disc_facility == \"Haute-Provence Observatory\", \"latitude\"] = 43.93465290685473\n",
    "df_facground.loc[df_facground.disc_facility == \"Haute-Provence Observatory\", \"longitude\"] =5.711210002635074\n",
    "\n",
    "df_facground.loc[df_facground.disc_facility == \"Okayama Astrophysical Observatory\", \"latitude\"] = 34.57620737464398\n",
    "df_facground.loc[df_facground.disc_facility == \"Okayama Astrophysical Observatory\", \"longitude\"] = 133.59468610715888\n",
    "\n",
    "df_facground.loc[df_facground.disc_facility == \"United Kingdom Infrared Telescope\", \"latitude\"] = 19.82263133941441\n",
    "df_facground.loc[df_facground.disc_facility == \"United Kingdom Infrared Telescope\", \"longitude\"] = -155.4702713396269\n",
    "\n",
    "# Amateur astronomer Paul Benni and researcher Artem Burdanov (MIT)\n",
    "df_facground.loc[df_facground.disc_facility == \"Acton Sky Portal Observatory\", \"latitude\"] = 42.4850931\n",
    "df_facground.loc[df_facground.disc_facility == \"Acton Sky Portal Observatory\", \"longitude\"] = -71.43284\n",
    "\n",
    "df_facground.loc[df_facground.disc_facility == \"University of Canterbury Mt John Observatory\", \"latitude\"] = -43.985079510206\n",
    "df_facground.loc[df_facground.disc_facility == \"University of Canterbury Mt John Observatory\", \"longitude\"] = 170.46406802137483\n",
    "\n",
    "df_facground.loc[df_facground.disc_facility == \"Winer Observatory\", \"latitude\"] = 31.66664384843098\n",
    "df_facground.loc[df_facground.disc_facility == \"Winer Observatory\", \"longitude\"] = -110.60167156843839\n",
    "\n",
    "df_facground.loc[df_facground.disc_facility == \"Infrared Survey Facility\", \"latitude\"] = -32.40945838829719\n",
    "df_facground.loc[df_facground.disc_facility == \"Infrared Survey Facility\", \"longitude\"] = 20.800649558809692\n",
    "\n",
    "df_facground.loc[df_facground.disc_facility == \"Leoncito Astronomical Complex\", \"latitude\"] = -31.798406322237792\n",
    "df_facground.loc[df_facground.disc_facility== \"Leoncito Astronomical Complex\", \"longitude\"] = -69.29561017690845\n"
   ]
  },
  {
   "cell_type": "markdown",
   "id": "b7a2dfbb",
   "metadata": {
    "id": "F14qBszZMpDK",
    "papermill": {
     "duration": 0.048504,
     "end_time": "2024-01-20T15:52:41.373375",
     "exception": false,
     "start_time": "2024-01-20T15:52:41.324871",
     "status": "completed"
    },
    "tags": []
   },
   "source": [
    "🔎 In this research we highlight the exploration of two amateur astronomers, Paul Benni and Artem Burdanov, who is also a researcher at MIT. They managed to detect two confirmed exoplanets (GPX-1 b, 2021) (KPS-1 b, 2018) from the garden of Benni's residence in Massachusetts.[**⁽⁷⁾**](#section9)\n",
    "\n",
    "https://skyandtelescope.org/astronomy-news/first-discoveries-pro-am-exoplanet-survey/"
   ]
  },
  {
   "cell_type": "markdown",
   "id": "b6d2fbfd",
   "metadata": {
    "papermill": {
     "duration": 0.048525,
     "end_time": "2024-01-20T15:52:41.470575",
     "exception": false,
     "start_time": "2024-01-20T15:52:41.422050",
     "status": "completed"
    },
    "tags": []
   },
   "source": [
    "![](https://i.postimg.cc/pXNTbKsf/Captura-de-pantalla-2023-10-03-215441.png)"
   ]
  },
  {
   "cell_type": "markdown",
   "id": "57be9b74",
   "metadata": {
    "id": "ruZRz7sraUt-",
    "papermill": {
     "duration": 0.04869,
     "end_time": "2024-01-20T15:52:41.569617",
     "exception": false,
     "start_time": "2024-01-20T15:52:41.520927",
     "status": "completed"
    },
    "tags": []
   },
   "source": [
    "##### Remove unlocated observatories, they are multiple observatories."
   ]
  },
  {
   "cell_type": "code",
   "execution_count": 31,
   "id": "e5a21c2f",
   "metadata": {
    "execution": {
     "iopub.execute_input": "2024-01-20T15:52:41.669038Z",
     "iopub.status.busy": "2024-01-20T15:52:41.668624Z",
     "iopub.status.idle": "2024-01-20T15:52:41.681902Z",
     "shell.execute_reply": "2024-01-20T15:52:41.680870Z"
    },
    "id": "2JbQeSn4BraX",
    "outputId": "86f3b688-7be8-4a12-bd06-04d6d48faea2",
    "papermill": {
     "duration": 0.065736,
     "end_time": "2024-01-20T15:52:41.684232",
     "exception": false,
     "start_time": "2024-01-20T15:52:41.618496",
     "status": "completed"
    },
    "tags": []
   },
   "outputs": [
    {
     "data": {
      "text/html": [
       "<div>\n",
       "<style scoped>\n",
       "    .dataframe tbody tr th:only-of-type {\n",
       "        vertical-align: middle;\n",
       "    }\n",
       "\n",
       "    .dataframe tbody tr th {\n",
       "        vertical-align: top;\n",
       "    }\n",
       "\n",
       "    .dataframe thead th {\n",
       "        text-align: right;\n",
       "    }\n",
       "</style>\n",
       "<table border=\"1\" class=\"dataframe\">\n",
       "  <thead>\n",
       "    <tr style=\"text-align: right;\">\n",
       "      <th></th>\n",
       "      <th>disc_facility</th>\n",
       "      <th>disc_locale</th>\n",
       "      <th>counts</th>\n",
       "      <th>latitude</th>\n",
       "      <th>longitude</th>\n",
       "    </tr>\n",
       "  </thead>\n",
       "  <tbody>\n",
       "    <tr>\n",
       "      <th>53</th>\n",
       "      <td>SPECULOOS Southern Observatory</td>\n",
       "      <td>Ground</td>\n",
       "      <td>1</td>\n",
       "      <td>&lt;NA&gt;</td>\n",
       "      <td>&lt;NA&gt;</td>\n",
       "    </tr>\n",
       "    <tr>\n",
       "      <th>62</th>\n",
       "      <td>Transiting Exoplanet Survey Satellite (TESS)</td>\n",
       "      <td>Ground</td>\n",
       "      <td>1</td>\n",
       "      <td>&lt;NA&gt;</td>\n",
       "      <td>&lt;NA&gt;</td>\n",
       "    </tr>\n",
       "    <tr>\n",
       "      <th>39</th>\n",
       "      <td>Multiple Facilities</td>\n",
       "      <td>Ground</td>\n",
       "      <td>15</td>\n",
       "      <td>&lt;NA&gt;</td>\n",
       "      <td>&lt;NA&gt;</td>\n",
       "    </tr>\n",
       "    <tr>\n",
       "      <th>15</th>\n",
       "      <td>HATSouth</td>\n",
       "      <td>Ground</td>\n",
       "      <td>73</td>\n",
       "      <td>&lt;NA&gt;</td>\n",
       "      <td>&lt;NA&gt;</td>\n",
       "    </tr>\n",
       "    <tr>\n",
       "      <th>41</th>\n",
       "      <td>Multiple Observatories</td>\n",
       "      <td>Ground</td>\n",
       "      <td>264</td>\n",
       "      <td>&lt;NA&gt;</td>\n",
       "      <td>&lt;NA&gt;</td>\n",
       "    </tr>\n",
       "  </tbody>\n",
       "</table>\n",
       "</div>"
      ],
      "text/plain": [
       "                                   disc_facility disc_locale  counts latitude  \\\n",
       "53                SPECULOOS Southern Observatory      Ground       1     <NA>   \n",
       "62  Transiting Exoplanet Survey Satellite (TESS)      Ground       1     <NA>   \n",
       "39                           Multiple Facilities      Ground      15     <NA>   \n",
       "15                                      HATSouth      Ground      73     <NA>   \n",
       "41                        Multiple Observatories      Ground     264     <NA>   \n",
       "\n",
       "   longitude  \n",
       "53      <NA>  \n",
       "62      <NA>  \n",
       "39      <NA>  \n",
       "15      <NA>  \n",
       "41      <NA>  "
      ]
     },
     "execution_count": 31,
     "metadata": {},
     "output_type": "execute_result"
    }
   ],
   "source": [
    "df_facground.loc[df_facground['latitude'].isnull()]"
   ]
  },
  {
   "cell_type": "code",
   "execution_count": 32,
   "id": "f16ae747",
   "metadata": {
    "execution": {
     "iopub.execute_input": "2024-01-20T15:52:41.785124Z",
     "iopub.status.busy": "2024-01-20T15:52:41.784724Z",
     "iopub.status.idle": "2024-01-20T15:52:41.791471Z",
     "shell.execute_reply": "2024-01-20T15:52:41.790388Z"
    },
    "id": "cygAC4poaCKJ",
    "papermill": {
     "duration": 0.05964,
     "end_time": "2024-01-20T15:52:41.793756",
     "exception": false,
     "start_time": "2024-01-20T15:52:41.734116",
     "status": "completed"
    },
    "tags": []
   },
   "outputs": [],
   "source": [
    "df_facground.dropna(inplace=True)"
   ]
  },
  {
   "cell_type": "markdown",
   "id": "ea5f4fd1",
   "metadata": {
    "id": "Omd6k5m6aa8m",
    "papermill": {
     "duration": 0.050038,
     "end_time": "2024-01-20T15:52:41.894881",
     "exception": false,
     "start_time": "2024-01-20T15:52:41.844843",
     "status": "completed"
    },
    "tags": []
   },
   "source": [
    "##### Convert location data to float"
   ]
  },
  {
   "cell_type": "code",
   "execution_count": 33,
   "id": "3cb93cda",
   "metadata": {
    "execution": {
     "iopub.execute_input": "2024-01-20T15:52:41.995724Z",
     "iopub.status.busy": "2024-01-20T15:52:41.995345Z",
     "iopub.status.idle": "2024-01-20T15:52:42.001962Z",
     "shell.execute_reply": "2024-01-20T15:52:42.000878Z"
    },
    "id": "dc2GncRElCjC",
    "papermill": {
     "duration": 0.059663,
     "end_time": "2024-01-20T15:52:42.004221",
     "exception": false,
     "start_time": "2024-01-20T15:52:41.944558",
     "status": "completed"
    },
    "tags": []
   },
   "outputs": [],
   "source": [
    "df_facground.dtypes\n",
    "\n",
    "df_facground['latitude'] = df_facground['latitude'].astype(float)\n",
    "df_facground['longitude'] = df_facground['longitude'].astype(float)"
   ]
  },
  {
   "cell_type": "markdown",
   "id": "03adc990",
   "metadata": {
    "id": "0QdewuHDapef",
    "papermill": {
     "duration": 0.048727,
     "end_time": "2024-01-20T15:52:42.102363",
     "exception": false,
     "start_time": "2024-01-20T15:52:42.053636",
     "status": "completed"
    },
    "tags": []
   },
   "source": [
    "##### Visualize in world map"
   ]
  },
  {
   "cell_type": "code",
   "execution_count": 34,
   "id": "fbb046ca",
   "metadata": {
    "execution": {
     "iopub.execute_input": "2024-01-20T15:52:42.203112Z",
     "iopub.status.busy": "2024-01-20T15:52:42.202701Z",
     "iopub.status.idle": "2024-01-20T15:52:42.362303Z",
     "shell.execute_reply": "2024-01-20T15:52:42.361140Z"
    },
    "id": "Bs-r8xMpZ6Oy",
    "outputId": "d913d1a3-0730-4149-ae11-f8a4494d3ee4",
    "papermill": {
     "duration": 0.212896,
     "end_time": "2024-01-20T15:52:42.364914",
     "exception": false,
     "start_time": "2024-01-20T15:52:42.152018",
     "status": "completed"
    },
    "tags": []
   },
   "outputs": [
    {
     "data": {
      "text/html": [
       "<div>                            <div id=\"859de738-f140-4acf-a4fc-0b20b88c859e\" class=\"plotly-graph-div\" style=\"height:525px; width:100%;\"></div>            <script type=\"text/javascript\">                require([\"plotly\"], function(Plotly) {                    window.PLOTLYENV=window.PLOTLYENV || {};                                    if (document.getElementById(\"859de738-f140-4acf-a4fc-0b20b88c859e\")) {                    Plotly.newPlot(                        \"859de738-f140-4acf-a4fc-0b20b88c859e\",                        [{\"geo\":\"geo\",\"hovertemplate\":\"\\u003cb\\u003e%{hovertext}\\u003c\\u002fb\\u003e\\u003cbr\\u003e\\u003cbr\\u003ecounts=%{marker.color}\\u003cbr\\u003elatitude=%{lat}\\u003cbr\\u003elongitude=%{lon}\\u003cextra\\u003e\\u003c\\u002fextra\\u003e\",\"hovertext\":[\"Mauna Kea Observatory\",\"University of Canterbury Mt John Observatory\",\"Apache Point Observatory\",\"Atacama Large Millimeter Array (ALMA)\",\"Winer Observatory\",\"Very Long Baseline Array\",\"Infrared Survey Facility\",\"Kitt Peak National Observatory\",\"Teide Observatory\",\"Leoncito Astronomical Complex\",\"NASA Infrared Telescope Facility (IRTF)\",\"United Kingdom Infrared Telescope\",\"Xinglong Station\",\"Parkes Observatory\",\"Acton Sky Portal Observatory\",\"Lowell Observatory\",\"Haleakala Observatory\",\"Palomar Observatory\",\"MEarth Project\",\"Large Binocular Telescope Observatory\",\"Yunnan Astronomical Observatory\",\"Arecibo Observatory\",\"Next-Generation Transit Survey (NGTS)\",\"European Southern Observatory\",\"KELT-South\",\"TrES\",\"SuperWASP-North\",\"Cerro Tololo Inter-American Observatory\",\"Fred Lawrence Whipple Observatory\",\"XO\",\"KELT-North\",\"Thueringer Landessternwarte Tautenburg\",\"Gemini Observatory\",\"Qatar\",\"KELT\",\"WASP-South\",\"Subaru Telescope\",\"Calar Alto Observatory\",\"Bohyunsan Optical Astronomical Observatory\",\"MOA\",\"McDonald Observatory\",\"Las Campanas Observatory\",\"Roque de los Muchachos Observatory\",\"SuperWASP-South\",\"Lick Observatory\",\"Okayama Astrophysical Observatory\",\"Anglo-Australian Telescope\",\"Paranal Observatory\",\"Haute-Provence Observatory\",\"HATNet\",\"KMTNet\",\"OGLE\",\"SuperWASP\",\"W. M. Keck Observatory\",\"La Silla Observatory\"],\"lat\":[19.824758000000003,-43.985079510206,32.780298450000004,-23.016605,31.66664384843098,35.7751349,-32.40945838829719,31.96005045,28.30155405,-31.798406322237792,19.8262932,19.82263133941441,28.2993048,-32.9986005,42.4850931,35.20294505,20.707724,33.353975750000004,31.6841828,32.701432499999996,25.05169275,18.34435035,-24.6157395,-33.39954245,-32.380265449999996,46.32311,28.7602486,-30.17112555,31.680770000000003,18.3167587,64.23121929999999,50.980589699999996,19.7010144,25.3336984,50.044335,-54.74708985,19.825628,37.222216,36.16493673022682,14.53520885,30.6758212,-29.01915575,28.757069,-32.380828300000005,37.343180950000004,34.57620737464398,-31.275452,-24.62746015,43.93465290685473,36.2534455,-32.3788046,42.0397014,-32.380828300000005,19.826335800000003,-29.2552104],\"legendgroup\":\"\",\"lon\":[-155.47335552670813,170.46406802137483,-105.81990911661293,-67.77226867219686,-110.60167156843839,-106.24555896743195,20.800649558809692,-111.59806254704941,-16.509883823160067,-69.29561017690845,-155.471936,-155.4702713396269,105.3761434,148.262423,-71.43284,-111.66465289534443,-156.25732220375536,-116.86137432789532,-110.8780229,-109.88921125289411,102.57846947618563,-66.75271716738939,-70.39103904999999,-70.6002258733539,20.810272050000002,11.096874,-17.879274799500855,-70.80355626100308,-110.87874815220113,102.1082886,23.8115647838413,11.710985584651013,-155.0901111721641,51.2295295,15.7454858,-35.854428196605994,-155.475984,-2.54693,128.97680621520124,120.98159848166422,-104.02058383636867,-70.69060142428015,-17.88884356096937,20.8104941,-121.6452932158403,133.59468610715888,149.067221,-70.40415067740268,5.711210002635074,36.5635125,20.810438721680914,-89.3138599,20.8104941,-155.4744554555519,-70.73950703583358],\"marker\":{\"color\":[1,1,1,1,1,1,1,1,1,1,1,2,2,2,2,2,2,2,2,2,3,3,3,3,4,5,5,5,6,7,7,8,9,10,10,11,11,17,23,29,29,29,30,32,35,35,36,44,64,67,79,97,113,184,276],\"coloraxis\":\"coloraxis\",\"size\":[1,1,1,1,1,1,1,1,1,1,1,2,2,2,2,2,2,2,2,2,3,3,3,3,4,5,5,5,6,7,7,8,9,10,10,11,11,17,23,29,29,29,30,32,35,35,36,44,64,67,79,97,113,184,276],\"sizemode\":\"area\",\"sizeref\":0.1104,\"symbol\":\"circle\"},\"mode\":\"markers\",\"name\":\"\",\"showlegend\":false,\"type\":\"scattergeo\"}],                        {\"template\":{\"data\":{\"histogram2dcontour\":[{\"type\":\"histogram2dcontour\",\"colorbar\":{\"outlinewidth\":0,\"ticks\":\"\"},\"colorscale\":[[0.0,\"#0d0887\"],[0.1111111111111111,\"#46039f\"],[0.2222222222222222,\"#7201a8\"],[0.3333333333333333,\"#9c179e\"],[0.4444444444444444,\"#bd3786\"],[0.5555555555555556,\"#d8576b\"],[0.6666666666666666,\"#ed7953\"],[0.7777777777777778,\"#fb9f3a\"],[0.8888888888888888,\"#fdca26\"],[1.0,\"#f0f921\"]]}],\"choropleth\":[{\"type\":\"choropleth\",\"colorbar\":{\"outlinewidth\":0,\"ticks\":\"\"}}],\"histogram2d\":[{\"type\":\"histogram2d\",\"colorbar\":{\"outlinewidth\":0,\"ticks\":\"\"},\"colorscale\":[[0.0,\"#0d0887\"],[0.1111111111111111,\"#46039f\"],[0.2222222222222222,\"#7201a8\"],[0.3333333333333333,\"#9c179e\"],[0.4444444444444444,\"#bd3786\"],[0.5555555555555556,\"#d8576b\"],[0.6666666666666666,\"#ed7953\"],[0.7777777777777778,\"#fb9f3a\"],[0.8888888888888888,\"#fdca26\"],[1.0,\"#f0f921\"]]}],\"heatmap\":[{\"type\":\"heatmap\",\"colorbar\":{\"outlinewidth\":0,\"ticks\":\"\"},\"colorscale\":[[0.0,\"#0d0887\"],[0.1111111111111111,\"#46039f\"],[0.2222222222222222,\"#7201a8\"],[0.3333333333333333,\"#9c179e\"],[0.4444444444444444,\"#bd3786\"],[0.5555555555555556,\"#d8576b\"],[0.6666666666666666,\"#ed7953\"],[0.7777777777777778,\"#fb9f3a\"],[0.8888888888888888,\"#fdca26\"],[1.0,\"#f0f921\"]]}],\"heatmapgl\":[{\"type\":\"heatmapgl\",\"colorbar\":{\"outlinewidth\":0,\"ticks\":\"\"},\"colorscale\":[[0.0,\"#0d0887\"],[0.1111111111111111,\"#46039f\"],[0.2222222222222222,\"#7201a8\"],[0.3333333333333333,\"#9c179e\"],[0.4444444444444444,\"#bd3786\"],[0.5555555555555556,\"#d8576b\"],[0.6666666666666666,\"#ed7953\"],[0.7777777777777778,\"#fb9f3a\"],[0.8888888888888888,\"#fdca26\"],[1.0,\"#f0f921\"]]}],\"contourcarpet\":[{\"type\":\"contourcarpet\",\"colorbar\":{\"outlinewidth\":0,\"ticks\":\"\"}}],\"contour\":[{\"type\":\"contour\",\"colorbar\":{\"outlinewidth\":0,\"ticks\":\"\"},\"colorscale\":[[0.0,\"#0d0887\"],[0.1111111111111111,\"#46039f\"],[0.2222222222222222,\"#7201a8\"],[0.3333333333333333,\"#9c179e\"],[0.4444444444444444,\"#bd3786\"],[0.5555555555555556,\"#d8576b\"],[0.6666666666666666,\"#ed7953\"],[0.7777777777777778,\"#fb9f3a\"],[0.8888888888888888,\"#fdca26\"],[1.0,\"#f0f921\"]]}],\"surface\":[{\"type\":\"surface\",\"colorbar\":{\"outlinewidth\":0,\"ticks\":\"\"},\"colorscale\":[[0.0,\"#0d0887\"],[0.1111111111111111,\"#46039f\"],[0.2222222222222222,\"#7201a8\"],[0.3333333333333333,\"#9c179e\"],[0.4444444444444444,\"#bd3786\"],[0.5555555555555556,\"#d8576b\"],[0.6666666666666666,\"#ed7953\"],[0.7777777777777778,\"#fb9f3a\"],[0.8888888888888888,\"#fdca26\"],[1.0,\"#f0f921\"]]}],\"mesh3d\":[{\"type\":\"mesh3d\",\"colorbar\":{\"outlinewidth\":0,\"ticks\":\"\"}}],\"scatter\":[{\"fillpattern\":{\"fillmode\":\"overlay\",\"size\":10,\"solidity\":0.2},\"type\":\"scatter\"}],\"parcoords\":[{\"type\":\"parcoords\",\"line\":{\"colorbar\":{\"outlinewidth\":0,\"ticks\":\"\"}}}],\"scatterpolargl\":[{\"type\":\"scatterpolargl\",\"marker\":{\"colorbar\":{\"outlinewidth\":0,\"ticks\":\"\"}}}],\"bar\":[{\"error_x\":{\"color\":\"#2a3f5f\"},\"error_y\":{\"color\":\"#2a3f5f\"},\"marker\":{\"line\":{\"color\":\"#E5ECF6\",\"width\":0.5},\"pattern\":{\"fillmode\":\"overlay\",\"size\":10,\"solidity\":0.2}},\"type\":\"bar\"}],\"scattergeo\":[{\"type\":\"scattergeo\",\"marker\":{\"colorbar\":{\"outlinewidth\":0,\"ticks\":\"\"}}}],\"scatterpolar\":[{\"type\":\"scatterpolar\",\"marker\":{\"colorbar\":{\"outlinewidth\":0,\"ticks\":\"\"}}}],\"histogram\":[{\"marker\":{\"pattern\":{\"fillmode\":\"overlay\",\"size\":10,\"solidity\":0.2}},\"type\":\"histogram\"}],\"scattergl\":[{\"type\":\"scattergl\",\"marker\":{\"colorbar\":{\"outlinewidth\":0,\"ticks\":\"\"}}}],\"scatter3d\":[{\"type\":\"scatter3d\",\"line\":{\"colorbar\":{\"outlinewidth\":0,\"ticks\":\"\"}},\"marker\":{\"colorbar\":{\"outlinewidth\":0,\"ticks\":\"\"}}}],\"scattermapbox\":[{\"type\":\"scattermapbox\",\"marker\":{\"colorbar\":{\"outlinewidth\":0,\"ticks\":\"\"}}}],\"scatterternary\":[{\"type\":\"scatterternary\",\"marker\":{\"colorbar\":{\"outlinewidth\":0,\"ticks\":\"\"}}}],\"scattercarpet\":[{\"type\":\"scattercarpet\",\"marker\":{\"colorbar\":{\"outlinewidth\":0,\"ticks\":\"\"}}}],\"carpet\":[{\"aaxis\":{\"endlinecolor\":\"#2a3f5f\",\"gridcolor\":\"white\",\"linecolor\":\"white\",\"minorgridcolor\":\"white\",\"startlinecolor\":\"#2a3f5f\"},\"baxis\":{\"endlinecolor\":\"#2a3f5f\",\"gridcolor\":\"white\",\"linecolor\":\"white\",\"minorgridcolor\":\"white\",\"startlinecolor\":\"#2a3f5f\"},\"type\":\"carpet\"}],\"table\":[{\"cells\":{\"fill\":{\"color\":\"#EBF0F8\"},\"line\":{\"color\":\"white\"}},\"header\":{\"fill\":{\"color\":\"#C8D4E3\"},\"line\":{\"color\":\"white\"}},\"type\":\"table\"}],\"barpolar\":[{\"marker\":{\"line\":{\"color\":\"#E5ECF6\",\"width\":0.5},\"pattern\":{\"fillmode\":\"overlay\",\"size\":10,\"solidity\":0.2}},\"type\":\"barpolar\"}],\"pie\":[{\"automargin\":true,\"type\":\"pie\"}]},\"layout\":{\"autotypenumbers\":\"strict\",\"colorway\":[\"#636efa\",\"#EF553B\",\"#00cc96\",\"#ab63fa\",\"#FFA15A\",\"#19d3f3\",\"#FF6692\",\"#B6E880\",\"#FF97FF\",\"#FECB52\"],\"font\":{\"color\":\"#2a3f5f\"},\"hovermode\":\"closest\",\"hoverlabel\":{\"align\":\"left\"},\"paper_bgcolor\":\"white\",\"plot_bgcolor\":\"#E5ECF6\",\"polar\":{\"bgcolor\":\"#E5ECF6\",\"angularaxis\":{\"gridcolor\":\"white\",\"linecolor\":\"white\",\"ticks\":\"\"},\"radialaxis\":{\"gridcolor\":\"white\",\"linecolor\":\"white\",\"ticks\":\"\"}},\"ternary\":{\"bgcolor\":\"#E5ECF6\",\"aaxis\":{\"gridcolor\":\"white\",\"linecolor\":\"white\",\"ticks\":\"\"},\"baxis\":{\"gridcolor\":\"white\",\"linecolor\":\"white\",\"ticks\":\"\"},\"caxis\":{\"gridcolor\":\"white\",\"linecolor\":\"white\",\"ticks\":\"\"}},\"coloraxis\":{\"colorbar\":{\"outlinewidth\":0,\"ticks\":\"\"}},\"colorscale\":{\"sequential\":[[0.0,\"#0d0887\"],[0.1111111111111111,\"#46039f\"],[0.2222222222222222,\"#7201a8\"],[0.3333333333333333,\"#9c179e\"],[0.4444444444444444,\"#bd3786\"],[0.5555555555555556,\"#d8576b\"],[0.6666666666666666,\"#ed7953\"],[0.7777777777777778,\"#fb9f3a\"],[0.8888888888888888,\"#fdca26\"],[1.0,\"#f0f921\"]],\"sequentialminus\":[[0.0,\"#0d0887\"],[0.1111111111111111,\"#46039f\"],[0.2222222222222222,\"#7201a8\"],[0.3333333333333333,\"#9c179e\"],[0.4444444444444444,\"#bd3786\"],[0.5555555555555556,\"#d8576b\"],[0.6666666666666666,\"#ed7953\"],[0.7777777777777778,\"#fb9f3a\"],[0.8888888888888888,\"#fdca26\"],[1.0,\"#f0f921\"]],\"diverging\":[[0,\"#8e0152\"],[0.1,\"#c51b7d\"],[0.2,\"#de77ae\"],[0.3,\"#f1b6da\"],[0.4,\"#fde0ef\"],[0.5,\"#f7f7f7\"],[0.6,\"#e6f5d0\"],[0.7,\"#b8e186\"],[0.8,\"#7fbc41\"],[0.9,\"#4d9221\"],[1,\"#276419\"]]},\"xaxis\":{\"gridcolor\":\"white\",\"linecolor\":\"white\",\"ticks\":\"\",\"title\":{\"standoff\":15},\"zerolinecolor\":\"white\",\"automargin\":true,\"zerolinewidth\":2},\"yaxis\":{\"gridcolor\":\"white\",\"linecolor\":\"white\",\"ticks\":\"\",\"title\":{\"standoff\":15},\"zerolinecolor\":\"white\",\"automargin\":true,\"zerolinewidth\":2},\"scene\":{\"xaxis\":{\"backgroundcolor\":\"#E5ECF6\",\"gridcolor\":\"white\",\"linecolor\":\"white\",\"showbackground\":true,\"ticks\":\"\",\"zerolinecolor\":\"white\",\"gridwidth\":2},\"yaxis\":{\"backgroundcolor\":\"#E5ECF6\",\"gridcolor\":\"white\",\"linecolor\":\"white\",\"showbackground\":true,\"ticks\":\"\",\"zerolinecolor\":\"white\",\"gridwidth\":2},\"zaxis\":{\"backgroundcolor\":\"#E5ECF6\",\"gridcolor\":\"white\",\"linecolor\":\"white\",\"showbackground\":true,\"ticks\":\"\",\"zerolinecolor\":\"white\",\"gridwidth\":2}},\"shapedefaults\":{\"line\":{\"color\":\"#2a3f5f\"}},\"annotationdefaults\":{\"arrowcolor\":\"#2a3f5f\",\"arrowhead\":0,\"arrowwidth\":1},\"geo\":{\"bgcolor\":\"white\",\"landcolor\":\"#E5ECF6\",\"subunitcolor\":\"white\",\"showland\":true,\"showlakes\":true,\"lakecolor\":\"white\"},\"title\":{\"x\":0.05},\"mapbox\":{\"style\":\"light\"}}},\"geo\":{\"domain\":{\"x\":[0.0,1.0],\"y\":[0.0,1.0]},\"center\":{},\"visible\":false,\"showcountries\":true,\"countrycolor\":\"darkGray\"},\"coloraxis\":{\"colorbar\":{\"title\":{\"text\":\"counts\"}},\"colorscale\":[[0.0,\"#0d0887\"],[0.1111111111111111,\"#46039f\"],[0.2222222222222222,\"#7201a8\"],[0.3333333333333333,\"#9c179e\"],[0.4444444444444444,\"#bd3786\"],[0.5555555555555556,\"#d8576b\"],[0.6666666666666666,\"#ed7953\"],[0.7777777777777778,\"#fb9f3a\"],[0.8888888888888888,\"#fdca26\"],[1.0,\"#f0f921\"]]},\"legend\":{\"tracegroupgap\":0,\"itemsizing\":\"constant\"},\"margin\":{\"t\":60},\"title\":{\"text\":\"Exoplanet discoveries by ground-based facilities\",\"x\":0.5}},                        {\"responsive\": true}                    ).then(function(){\n",
       "                            \n",
       "var gd = document.getElementById('859de738-f140-4acf-a4fc-0b20b88c859e');\n",
       "var x = new MutationObserver(function (mutations, observer) {{\n",
       "        var display = window.getComputedStyle(gd).display;\n",
       "        if (!display || display === 'none') {{\n",
       "            console.log([gd, 'removed!']);\n",
       "            Plotly.purge(gd);\n",
       "            observer.disconnect();\n",
       "        }}\n",
       "}});\n",
       "\n",
       "// Listen for the removal of the full notebook cells\n",
       "var notebookContainer = gd.closest('#notebook-container');\n",
       "if (notebookContainer) {{\n",
       "    x.observe(notebookContainer, {childList: true});\n",
       "}}\n",
       "\n",
       "// Listen for the clearing of the current output cell\n",
       "var outputEl = gd.closest('.output');\n",
       "if (outputEl) {{\n",
       "    x.observe(outputEl, {childList: true});\n",
       "}}\n",
       "\n",
       "                        })                };                });            </script>        </div>"
      ]
     },
     "metadata": {},
     "output_type": "display_data"
    }
   ],
   "source": [
    "fig = px.scatter_geo(df_facground, lat='latitude', lon='longitude', color='counts',\n",
    "                     hover_name='disc_facility', size='counts', size_max=50)\n",
    "fig.update_geos(\n",
    "    visible=False,\n",
    "    showcountries=True, countrycolor=\"darkGray\",\n",
    ")\n",
    "fig.update_layout(title_text='Exoplanet discoveries by ground-based facilities', title_x=0.5)\n",
    "\n",
    "fig.show()"
   ]
  },
  {
   "cell_type": "markdown",
   "id": "0233ea31",
   "metadata": {
    "id": "SgOPNppUSLaK",
    "papermill": {
     "duration": 0.050026,
     "end_time": "2024-01-20T15:52:42.464857",
     "exception": false,
     "start_time": "2024-01-20T15:52:42.414831",
     "status": "completed"
    },
    "tags": []
   },
   "source": [
    "<a id=\"section5\"></a>\n",
    "## **Discoveries through time**"
   ]
  },
  {
   "cell_type": "markdown",
   "id": "544da647",
   "metadata": {
    "id": "Yi49TtZrPsIN",
    "papermill": {
     "duration": 0.049427,
     "end_time": "2024-01-20T15:52:42.565362",
     "exception": false,
     "start_time": "2024-01-20T15:52:42.515935",
     "status": "completed"
    },
    "tags": []
   },
   "source": [
    "#### Analysis of the detections according to the year in which they were made."
   ]
  },
  {
   "cell_type": "code",
   "execution_count": 35,
   "id": "123bb7b5",
   "metadata": {
    "execution": {
     "iopub.execute_input": "2024-01-20T15:52:42.667362Z",
     "iopub.status.busy": "2024-01-20T15:52:42.666979Z",
     "iopub.status.idle": "2024-01-20T15:52:42.682811Z",
     "shell.execute_reply": "2024-01-20T15:52:42.681653Z"
    },
    "id": "70NdgiYxde5y",
    "outputId": "15dd1b92-2958-4ed0-f4a5-73a2c82d582a",
    "papermill": {
     "duration": 0.06985,
     "end_time": "2024-01-20T15:52:42.685088",
     "exception": false,
     "start_time": "2024-01-20T15:52:42.615238",
     "status": "completed"
    },
    "tags": []
   },
   "outputs": [
    {
     "data": {
      "text/html": [
       "<div>\n",
       "<style scoped>\n",
       "    .dataframe tbody tr th:only-of-type {\n",
       "        vertical-align: middle;\n",
       "    }\n",
       "\n",
       "    .dataframe tbody tr th {\n",
       "        vertical-align: top;\n",
       "    }\n",
       "\n",
       "    .dataframe thead th {\n",
       "        text-align: right;\n",
       "    }\n",
       "</style>\n",
       "<table border=\"1\" class=\"dataframe\">\n",
       "  <thead>\n",
       "    <tr style=\"text-align: right;\">\n",
       "      <th></th>\n",
       "      <th>disc_year</th>\n",
       "      <th>counts</th>\n",
       "    </tr>\n",
       "  </thead>\n",
       "  <tbody>\n",
       "    <tr>\n",
       "      <th>0</th>\n",
       "      <td>1992</td>\n",
       "      <td>2</td>\n",
       "    </tr>\n",
       "    <tr>\n",
       "      <th>1</th>\n",
       "      <td>1994</td>\n",
       "      <td>1</td>\n",
       "    </tr>\n",
       "    <tr>\n",
       "      <th>2</th>\n",
       "      <td>1995</td>\n",
       "      <td>1</td>\n",
       "    </tr>\n",
       "    <tr>\n",
       "      <th>3</th>\n",
       "      <td>1996</td>\n",
       "      <td>6</td>\n",
       "    </tr>\n",
       "    <tr>\n",
       "      <th>4</th>\n",
       "      <td>1997</td>\n",
       "      <td>1</td>\n",
       "    </tr>\n",
       "    <tr>\n",
       "      <th>5</th>\n",
       "      <td>1998</td>\n",
       "      <td>6</td>\n",
       "    </tr>\n",
       "    <tr>\n",
       "      <th>6</th>\n",
       "      <td>1999</td>\n",
       "      <td>13</td>\n",
       "    </tr>\n",
       "    <tr>\n",
       "      <th>7</th>\n",
       "      <td>2000</td>\n",
       "      <td>16</td>\n",
       "    </tr>\n",
       "    <tr>\n",
       "      <th>8</th>\n",
       "      <td>2001</td>\n",
       "      <td>12</td>\n",
       "    </tr>\n",
       "    <tr>\n",
       "      <th>9</th>\n",
       "      <td>2002</td>\n",
       "      <td>29</td>\n",
       "    </tr>\n",
       "    <tr>\n",
       "      <th>10</th>\n",
       "      <td>2003</td>\n",
       "      <td>22</td>\n",
       "    </tr>\n",
       "    <tr>\n",
       "      <th>11</th>\n",
       "      <td>2004</td>\n",
       "      <td>27</td>\n",
       "    </tr>\n",
       "    <tr>\n",
       "      <th>12</th>\n",
       "      <td>2005</td>\n",
       "      <td>36</td>\n",
       "    </tr>\n",
       "    <tr>\n",
       "      <th>13</th>\n",
       "      <td>2006</td>\n",
       "      <td>31</td>\n",
       "    </tr>\n",
       "    <tr>\n",
       "      <th>14</th>\n",
       "      <td>2007</td>\n",
       "      <td>52</td>\n",
       "    </tr>\n",
       "    <tr>\n",
       "      <th>15</th>\n",
       "      <td>2008</td>\n",
       "      <td>65</td>\n",
       "    </tr>\n",
       "    <tr>\n",
       "      <th>16</th>\n",
       "      <td>2009</td>\n",
       "      <td>94</td>\n",
       "    </tr>\n",
       "    <tr>\n",
       "      <th>17</th>\n",
       "      <td>2010</td>\n",
       "      <td>97</td>\n",
       "    </tr>\n",
       "    <tr>\n",
       "      <th>18</th>\n",
       "      <td>2011</td>\n",
       "      <td>138</td>\n",
       "    </tr>\n",
       "    <tr>\n",
       "      <th>19</th>\n",
       "      <td>2012</td>\n",
       "      <td>138</td>\n",
       "    </tr>\n",
       "    <tr>\n",
       "      <th>20</th>\n",
       "      <td>2013</td>\n",
       "      <td>126</td>\n",
       "    </tr>\n",
       "    <tr>\n",
       "      <th>21</th>\n",
       "      <td>2014</td>\n",
       "      <td>875</td>\n",
       "    </tr>\n",
       "    <tr>\n",
       "      <th>22</th>\n",
       "      <td>2015</td>\n",
       "      <td>156</td>\n",
       "    </tr>\n",
       "    <tr>\n",
       "      <th>23</th>\n",
       "      <td>2016</td>\n",
       "      <td>1517</td>\n",
       "    </tr>\n",
       "    <tr>\n",
       "      <th>24</th>\n",
       "      <td>2017</td>\n",
       "      <td>153</td>\n",
       "    </tr>\n",
       "    <tr>\n",
       "      <th>25</th>\n",
       "      <td>2018</td>\n",
       "      <td>324</td>\n",
       "    </tr>\n",
       "    <tr>\n",
       "      <th>26</th>\n",
       "      <td>2019</td>\n",
       "      <td>203</td>\n",
       "    </tr>\n",
       "    <tr>\n",
       "      <th>27</th>\n",
       "      <td>2020</td>\n",
       "      <td>233</td>\n",
       "    </tr>\n",
       "    <tr>\n",
       "      <th>28</th>\n",
       "      <td>2021</td>\n",
       "      <td>526</td>\n",
       "    </tr>\n",
       "    <tr>\n",
       "      <th>29</th>\n",
       "      <td>2022</td>\n",
       "      <td>366</td>\n",
       "    </tr>\n",
       "    <tr>\n",
       "      <th>30</th>\n",
       "      <td>2023</td>\n",
       "      <td>147</td>\n",
       "    </tr>\n",
       "  </tbody>\n",
       "</table>\n",
       "</div>"
      ],
      "text/plain": [
       "    disc_year  counts\n",
       "0        1992       2\n",
       "1        1994       1\n",
       "2        1995       1\n",
       "3        1996       6\n",
       "4        1997       1\n",
       "5        1998       6\n",
       "6        1999      13\n",
       "7        2000      16\n",
       "8        2001      12\n",
       "9        2002      29\n",
       "10       2003      22\n",
       "11       2004      27\n",
       "12       2005      36\n",
       "13       2006      31\n",
       "14       2007      52\n",
       "15       2008      65\n",
       "16       2009      94\n",
       "17       2010      97\n",
       "18       2011     138\n",
       "19       2012     138\n",
       "20       2013     126\n",
       "21       2014     875\n",
       "22       2015     156\n",
       "23       2016    1517\n",
       "24       2017     153\n",
       "25       2018     324\n",
       "26       2019     203\n",
       "27       2020     233\n",
       "28       2021     526\n",
       "29       2022     366\n",
       "30       2023     147"
      ]
     },
     "execution_count": 35,
     "metadata": {},
     "output_type": "execute_result"
    }
   ],
   "source": [
    "df_year = df.groupby(by=[\"disc_year\"]).size().reset_index(name=\"counts\")\n",
    "df_year = df_year.sort_values('disc_year', ascending = True)\n",
    "df_year\n"
   ]
  },
  {
   "cell_type": "code",
   "execution_count": 36,
   "id": "6e1e98fe",
   "metadata": {
    "execution": {
     "iopub.execute_input": "2024-01-20T15:52:42.788456Z",
     "iopub.status.busy": "2024-01-20T15:52:42.788034Z",
     "iopub.status.idle": "2024-01-20T15:52:42.898761Z",
     "shell.execute_reply": "2024-01-20T15:52:42.897812Z"
    },
    "id": "vJpdh16MdykY",
    "outputId": "f5e26a87-2b61-401d-fbad-2882707095b9",
    "papermill": {
     "duration": 0.16558,
     "end_time": "2024-01-20T15:52:42.901331",
     "exception": false,
     "start_time": "2024-01-20T15:52:42.735751",
     "status": "completed"
    },
    "tags": []
   },
   "outputs": [
    {
     "data": {
      "text/html": [
       "<div>                            <div id=\"dfffde2f-564e-42f0-882d-243494d2c6b3\" class=\"plotly-graph-div\" style=\"height:525px; width:100%;\"></div>            <script type=\"text/javascript\">                require([\"plotly\"], function(Plotly) {                    window.PLOTLYENV=window.PLOTLYENV || {};                                    if (document.getElementById(\"dfffde2f-564e-42f0-882d-243494d2c6b3\")) {                    Plotly.newPlot(                        \"dfffde2f-564e-42f0-882d-243494d2c6b3\",                        [{\"alignmentgroup\":\"True\",\"hovertemplate\":\"disc_year=%{x}\\u003cbr\\u003ecounts=%{y}\\u003cextra\\u003e\\u003c\\u002fextra\\u003e\",\"legendgroup\":\"\",\"marker\":{\"color\":\"rgb(53, 50, 155)\",\"pattern\":{\"shape\":\"\"}},\"name\":\"\",\"offsetgroup\":\"\",\"orientation\":\"v\",\"showlegend\":false,\"textposition\":\"outside\",\"texttemplate\":\"%{y:auto}\",\"x\":[1992,1994,1995,1996,1997,1998,1999,2000,2001,2002,2003,2004,2005,2006,2007,2008,2009,2010,2011,2012,2013,2014,2015,2016,2017,2018,2019,2020,2021,2022,2023],\"xaxis\":\"x\",\"y\":[2,1,1,6,1,6,13,16,12,29,22,27,36,31,52,65,94,97,138,138,126,875,156,1517,153,324,203,233,526,366,147],\"yaxis\":\"y\",\"type\":\"bar\",\"textfont\":{\"size\":12},\"cliponaxis\":true,\"textangle\":0}],                        {\"template\":{\"data\":{\"barpolar\":[{\"marker\":{\"line\":{\"color\":\"white\",\"width\":0.5},\"pattern\":{\"fillmode\":\"overlay\",\"size\":10,\"solidity\":0.2}},\"type\":\"barpolar\"}],\"bar\":[{\"error_x\":{\"color\":\"#2a3f5f\"},\"error_y\":{\"color\":\"#2a3f5f\"},\"marker\":{\"line\":{\"color\":\"white\",\"width\":0.5},\"pattern\":{\"fillmode\":\"overlay\",\"size\":10,\"solidity\":0.2}},\"type\":\"bar\"}],\"carpet\":[{\"aaxis\":{\"endlinecolor\":\"#2a3f5f\",\"gridcolor\":\"#C8D4E3\",\"linecolor\":\"#C8D4E3\",\"minorgridcolor\":\"#C8D4E3\",\"startlinecolor\":\"#2a3f5f\"},\"baxis\":{\"endlinecolor\":\"#2a3f5f\",\"gridcolor\":\"#C8D4E3\",\"linecolor\":\"#C8D4E3\",\"minorgridcolor\":\"#C8D4E3\",\"startlinecolor\":\"#2a3f5f\"},\"type\":\"carpet\"}],\"choropleth\":[{\"colorbar\":{\"outlinewidth\":0,\"ticks\":\"\"},\"type\":\"choropleth\"}],\"contourcarpet\":[{\"colorbar\":{\"outlinewidth\":0,\"ticks\":\"\"},\"type\":\"contourcarpet\"}],\"contour\":[{\"colorbar\":{\"outlinewidth\":0,\"ticks\":\"\"},\"colorscale\":[[0.0,\"#0d0887\"],[0.1111111111111111,\"#46039f\"],[0.2222222222222222,\"#7201a8\"],[0.3333333333333333,\"#9c179e\"],[0.4444444444444444,\"#bd3786\"],[0.5555555555555556,\"#d8576b\"],[0.6666666666666666,\"#ed7953\"],[0.7777777777777778,\"#fb9f3a\"],[0.8888888888888888,\"#fdca26\"],[1.0,\"#f0f921\"]],\"type\":\"contour\"}],\"heatmapgl\":[{\"colorbar\":{\"outlinewidth\":0,\"ticks\":\"\"},\"colorscale\":[[0.0,\"#0d0887\"],[0.1111111111111111,\"#46039f\"],[0.2222222222222222,\"#7201a8\"],[0.3333333333333333,\"#9c179e\"],[0.4444444444444444,\"#bd3786\"],[0.5555555555555556,\"#d8576b\"],[0.6666666666666666,\"#ed7953\"],[0.7777777777777778,\"#fb9f3a\"],[0.8888888888888888,\"#fdca26\"],[1.0,\"#f0f921\"]],\"type\":\"heatmapgl\"}],\"heatmap\":[{\"colorbar\":{\"outlinewidth\":0,\"ticks\":\"\"},\"colorscale\":[[0.0,\"#0d0887\"],[0.1111111111111111,\"#46039f\"],[0.2222222222222222,\"#7201a8\"],[0.3333333333333333,\"#9c179e\"],[0.4444444444444444,\"#bd3786\"],[0.5555555555555556,\"#d8576b\"],[0.6666666666666666,\"#ed7953\"],[0.7777777777777778,\"#fb9f3a\"],[0.8888888888888888,\"#fdca26\"],[1.0,\"#f0f921\"]],\"type\":\"heatmap\"}],\"histogram2dcontour\":[{\"colorbar\":{\"outlinewidth\":0,\"ticks\":\"\"},\"colorscale\":[[0.0,\"#0d0887\"],[0.1111111111111111,\"#46039f\"],[0.2222222222222222,\"#7201a8\"],[0.3333333333333333,\"#9c179e\"],[0.4444444444444444,\"#bd3786\"],[0.5555555555555556,\"#d8576b\"],[0.6666666666666666,\"#ed7953\"],[0.7777777777777778,\"#fb9f3a\"],[0.8888888888888888,\"#fdca26\"],[1.0,\"#f0f921\"]],\"type\":\"histogram2dcontour\"}],\"histogram2d\":[{\"colorbar\":{\"outlinewidth\":0,\"ticks\":\"\"},\"colorscale\":[[0.0,\"#0d0887\"],[0.1111111111111111,\"#46039f\"],[0.2222222222222222,\"#7201a8\"],[0.3333333333333333,\"#9c179e\"],[0.4444444444444444,\"#bd3786\"],[0.5555555555555556,\"#d8576b\"],[0.6666666666666666,\"#ed7953\"],[0.7777777777777778,\"#fb9f3a\"],[0.8888888888888888,\"#fdca26\"],[1.0,\"#f0f921\"]],\"type\":\"histogram2d\"}],\"histogram\":[{\"marker\":{\"pattern\":{\"fillmode\":\"overlay\",\"size\":10,\"solidity\":0.2}},\"type\":\"histogram\"}],\"mesh3d\":[{\"colorbar\":{\"outlinewidth\":0,\"ticks\":\"\"},\"type\":\"mesh3d\"}],\"parcoords\":[{\"line\":{\"colorbar\":{\"outlinewidth\":0,\"ticks\":\"\"}},\"type\":\"parcoords\"}],\"pie\":[{\"automargin\":true,\"type\":\"pie\"}],\"scatter3d\":[{\"line\":{\"colorbar\":{\"outlinewidth\":0,\"ticks\":\"\"}},\"marker\":{\"colorbar\":{\"outlinewidth\":0,\"ticks\":\"\"}},\"type\":\"scatter3d\"}],\"scattercarpet\":[{\"marker\":{\"colorbar\":{\"outlinewidth\":0,\"ticks\":\"\"}},\"type\":\"scattercarpet\"}],\"scattergeo\":[{\"marker\":{\"colorbar\":{\"outlinewidth\":0,\"ticks\":\"\"}},\"type\":\"scattergeo\"}],\"scattergl\":[{\"marker\":{\"colorbar\":{\"outlinewidth\":0,\"ticks\":\"\"}},\"type\":\"scattergl\"}],\"scattermapbox\":[{\"marker\":{\"colorbar\":{\"outlinewidth\":0,\"ticks\":\"\"}},\"type\":\"scattermapbox\"}],\"scatterpolargl\":[{\"marker\":{\"colorbar\":{\"outlinewidth\":0,\"ticks\":\"\"}},\"type\":\"scatterpolargl\"}],\"scatterpolar\":[{\"marker\":{\"colorbar\":{\"outlinewidth\":0,\"ticks\":\"\"}},\"type\":\"scatterpolar\"}],\"scatter\":[{\"fillpattern\":{\"fillmode\":\"overlay\",\"size\":10,\"solidity\":0.2},\"type\":\"scatter\"}],\"scatterternary\":[{\"marker\":{\"colorbar\":{\"outlinewidth\":0,\"ticks\":\"\"}},\"type\":\"scatterternary\"}],\"surface\":[{\"colorbar\":{\"outlinewidth\":0,\"ticks\":\"\"},\"colorscale\":[[0.0,\"#0d0887\"],[0.1111111111111111,\"#46039f\"],[0.2222222222222222,\"#7201a8\"],[0.3333333333333333,\"#9c179e\"],[0.4444444444444444,\"#bd3786\"],[0.5555555555555556,\"#d8576b\"],[0.6666666666666666,\"#ed7953\"],[0.7777777777777778,\"#fb9f3a\"],[0.8888888888888888,\"#fdca26\"],[1.0,\"#f0f921\"]],\"type\":\"surface\"}],\"table\":[{\"cells\":{\"fill\":{\"color\":\"#EBF0F8\"},\"line\":{\"color\":\"white\"}},\"header\":{\"fill\":{\"color\":\"#C8D4E3\"},\"line\":{\"color\":\"white\"}},\"type\":\"table\"}]},\"layout\":{\"annotationdefaults\":{\"arrowcolor\":\"#2a3f5f\",\"arrowhead\":0,\"arrowwidth\":1},\"autotypenumbers\":\"strict\",\"coloraxis\":{\"colorbar\":{\"outlinewidth\":0,\"ticks\":\"\"}},\"colorscale\":{\"diverging\":[[0,\"#8e0152\"],[0.1,\"#c51b7d\"],[0.2,\"#de77ae\"],[0.3,\"#f1b6da\"],[0.4,\"#fde0ef\"],[0.5,\"#f7f7f7\"],[0.6,\"#e6f5d0\"],[0.7,\"#b8e186\"],[0.8,\"#7fbc41\"],[0.9,\"#4d9221\"],[1,\"#276419\"]],\"sequential\":[[0.0,\"#0d0887\"],[0.1111111111111111,\"#46039f\"],[0.2222222222222222,\"#7201a8\"],[0.3333333333333333,\"#9c179e\"],[0.4444444444444444,\"#bd3786\"],[0.5555555555555556,\"#d8576b\"],[0.6666666666666666,\"#ed7953\"],[0.7777777777777778,\"#fb9f3a\"],[0.8888888888888888,\"#fdca26\"],[1.0,\"#f0f921\"]],\"sequentialminus\":[[0.0,\"#0d0887\"],[0.1111111111111111,\"#46039f\"],[0.2222222222222222,\"#7201a8\"],[0.3333333333333333,\"#9c179e\"],[0.4444444444444444,\"#bd3786\"],[0.5555555555555556,\"#d8576b\"],[0.6666666666666666,\"#ed7953\"],[0.7777777777777778,\"#fb9f3a\"],[0.8888888888888888,\"#fdca26\"],[1.0,\"#f0f921\"]]},\"colorway\":[\"#636efa\",\"#EF553B\",\"#00cc96\",\"#ab63fa\",\"#FFA15A\",\"#19d3f3\",\"#FF6692\",\"#B6E880\",\"#FF97FF\",\"#FECB52\"],\"font\":{\"color\":\"#2a3f5f\"},\"geo\":{\"bgcolor\":\"white\",\"lakecolor\":\"white\",\"landcolor\":\"white\",\"showlakes\":true,\"showland\":true,\"subunitcolor\":\"#C8D4E3\"},\"hoverlabel\":{\"align\":\"left\"},\"hovermode\":\"closest\",\"mapbox\":{\"style\":\"light\"},\"paper_bgcolor\":\"white\",\"plot_bgcolor\":\"white\",\"polar\":{\"angularaxis\":{\"gridcolor\":\"#EBF0F8\",\"linecolor\":\"#EBF0F8\",\"ticks\":\"\"},\"bgcolor\":\"white\",\"radialaxis\":{\"gridcolor\":\"#EBF0F8\",\"linecolor\":\"#EBF0F8\",\"ticks\":\"\"}},\"scene\":{\"xaxis\":{\"backgroundcolor\":\"white\",\"gridcolor\":\"#DFE8F3\",\"gridwidth\":2,\"linecolor\":\"#EBF0F8\",\"showbackground\":true,\"ticks\":\"\",\"zerolinecolor\":\"#EBF0F8\"},\"yaxis\":{\"backgroundcolor\":\"white\",\"gridcolor\":\"#DFE8F3\",\"gridwidth\":2,\"linecolor\":\"#EBF0F8\",\"showbackground\":true,\"ticks\":\"\",\"zerolinecolor\":\"#EBF0F8\"},\"zaxis\":{\"backgroundcolor\":\"white\",\"gridcolor\":\"#DFE8F3\",\"gridwidth\":2,\"linecolor\":\"#EBF0F8\",\"showbackground\":true,\"ticks\":\"\",\"zerolinecolor\":\"#EBF0F8\"}},\"shapedefaults\":{\"line\":{\"color\":\"#2a3f5f\"}},\"ternary\":{\"aaxis\":{\"gridcolor\":\"#DFE8F3\",\"linecolor\":\"#A2B1C6\",\"ticks\":\"\"},\"baxis\":{\"gridcolor\":\"#DFE8F3\",\"linecolor\":\"#A2B1C6\",\"ticks\":\"\"},\"bgcolor\":\"white\",\"caxis\":{\"gridcolor\":\"#DFE8F3\",\"linecolor\":\"#A2B1C6\",\"ticks\":\"\"}},\"title\":{\"x\":0.05},\"xaxis\":{\"automargin\":true,\"gridcolor\":\"#EBF0F8\",\"linecolor\":\"#EBF0F8\",\"ticks\":\"\",\"title\":{\"standoff\":15},\"zerolinecolor\":\"#EBF0F8\",\"zerolinewidth\":2},\"yaxis\":{\"automargin\":true,\"gridcolor\":\"#EBF0F8\",\"linecolor\":\"#EBF0F8\",\"ticks\":\"\",\"title\":{\"standoff\":15},\"zerolinecolor\":\"#EBF0F8\",\"zerolinewidth\":2}}},\"xaxis\":{\"anchor\":\"y\",\"domain\":[0.0,1.0],\"title\":{\"text\":\"disc_year\"}},\"yaxis\":{\"anchor\":\"x\",\"domain\":[0.0,1.0],\"title\":{\"text\":\"counts\"}},\"legend\":{\"tracegroupgap\":0},\"margin\":{\"t\":60},\"barmode\":\"relative\",\"title\":{\"text\":\"Exoplanets detected every year\",\"x\":0.5}},                        {\"responsive\": true}                    ).then(function(){\n",
       "                            \n",
       "var gd = document.getElementById('dfffde2f-564e-42f0-882d-243494d2c6b3');\n",
       "var x = new MutationObserver(function (mutations, observer) {{\n",
       "        var display = window.getComputedStyle(gd).display;\n",
       "        if (!display || display === 'none') {{\n",
       "            console.log([gd, 'removed!']);\n",
       "            Plotly.purge(gd);\n",
       "            observer.disconnect();\n",
       "        }}\n",
       "}});\n",
       "\n",
       "// Listen for the removal of the full notebook cells\n",
       "var notebookContainer = gd.closest('#notebook-container');\n",
       "if (notebookContainer) {{\n",
       "    x.observe(notebookContainer, {childList: true});\n",
       "}}\n",
       "\n",
       "// Listen for the clearing of the current output cell\n",
       "var outputEl = gd.closest('.output');\n",
       "if (outputEl) {{\n",
       "    x.observe(outputEl, {childList: true});\n",
       "}}\n",
       "\n",
       "                        })                };                });            </script>        </div>"
      ]
     },
     "metadata": {},
     "output_type": "display_data"
    }
   ],
   "source": [
    "import plotly.express as px\n",
    "\n",
    "fig = px.bar(df_year, x='disc_year', y='counts', color_discrete_sequence=px.colors.sequential.thermal[2:], text_auto=\"auto\")\n",
    "fig.update_layout(template=\"plotly_white\", title='Exoplanets detected every year', title_x=0.5)\n",
    "fig.update_traces(textfont_size=12, textangle=0, textposition=\"outside\", cliponaxis=True)\n",
    "\n",
    "fig.show()"
   ]
  },
  {
   "cell_type": "markdown",
   "id": "93ac96d4",
   "metadata": {
    "id": "tA7eZJmOqi_g",
    "papermill": {
     "duration": 0.052022,
     "end_time": "2024-01-20T15:52:43.007768",
     "exception": false,
     "start_time": "2024-01-20T15:52:42.955746",
     "status": "completed"
    },
    "tags": []
   },
   "source": [
    "##### Getting a cumulative sum"
   ]
  },
  {
   "cell_type": "code",
   "execution_count": 37,
   "id": "7159498c",
   "metadata": {
    "execution": {
     "iopub.execute_input": "2024-01-20T15:52:43.128336Z",
     "iopub.status.busy": "2024-01-20T15:52:43.127919Z",
     "iopub.status.idle": "2024-01-20T15:52:43.133527Z",
     "shell.execute_reply": "2024-01-20T15:52:43.132463Z"
    },
    "id": "ILA6YERLjvqh",
    "papermill": {
     "duration": 0.061627,
     "end_time": "2024-01-20T15:52:43.135874",
     "exception": false,
     "start_time": "2024-01-20T15:52:43.074247",
     "status": "completed"
    },
    "tags": []
   },
   "outputs": [],
   "source": [
    "df_year[\"total\"]  = df_year[\"counts\"].cumsum()"
   ]
  },
  {
   "cell_type": "code",
   "execution_count": 38,
   "id": "4d1cd273",
   "metadata": {
    "execution": {
     "iopub.execute_input": "2024-01-20T15:52:43.239257Z",
     "iopub.status.busy": "2024-01-20T15:52:43.238844Z",
     "iopub.status.idle": "2024-01-20T15:52:43.337239Z",
     "shell.execute_reply": "2024-01-20T15:52:43.336148Z"
    },
    "id": "9zAMyQABjmR7",
    "outputId": "c5051fc1-b091-4c53-a8bf-dd4e6157faec",
    "papermill": {
     "duration": 0.152849,
     "end_time": "2024-01-20T15:52:43.339663",
     "exception": false,
     "start_time": "2024-01-20T15:52:43.186814",
     "status": "completed"
    },
    "tags": []
   },
   "outputs": [
    {
     "data": {
      "text/html": [
       "<div>                            <div id=\"48a901be-33a6-4518-9b16-e83f9bf98324\" class=\"plotly-graph-div\" style=\"height:525px; width:100%;\"></div>            <script type=\"text/javascript\">                require([\"plotly\"], function(Plotly) {                    window.PLOTLYENV=window.PLOTLYENV || {};                                    if (document.getElementById(\"48a901be-33a6-4518-9b16-e83f9bf98324\")) {                    Plotly.newPlot(                        \"48a901be-33a6-4518-9b16-e83f9bf98324\",                        [{\"alignmentgroup\":\"True\",\"hovertemplate\":\"disc_year=%{x}\\u003cbr\\u003etotal=%{y}\\u003cextra\\u003e\\u003c\\u002fextra\\u003e\",\"legendgroup\":\"\",\"marker\":{\"color\":\"rgb(53, 50, 155)\",\"pattern\":{\"shape\":\"\"}},\"name\":\"\",\"offsetgroup\":\"\",\"orientation\":\"v\",\"showlegend\":false,\"textposition\":\"outside\",\"texttemplate\":\"%{y:auto}\",\"x\":[1992,1994,1995,1996,1997,1998,1999,2000,2001,2002,2003,2004,2005,2006,2007,2008,2009,2010,2011,2012,2013,2014,2015,2016,2017,2018,2019,2020,2021,2022,2023],\"xaxis\":\"x\",\"y\":[2,3,4,10,11,17,30,46,58,87,109,136,172,203,255,320,414,511,649,787,913,1788,1944,3461,3614,3938,4141,4374,4900,5266,5413],\"yaxis\":\"y\",\"type\":\"bar\",\"textfont\":{\"size\":12},\"cliponaxis\":true,\"textangle\":0}],                        {\"template\":{\"data\":{\"barpolar\":[{\"marker\":{\"line\":{\"color\":\"white\",\"width\":0.5},\"pattern\":{\"fillmode\":\"overlay\",\"size\":10,\"solidity\":0.2}},\"type\":\"barpolar\"}],\"bar\":[{\"error_x\":{\"color\":\"#2a3f5f\"},\"error_y\":{\"color\":\"#2a3f5f\"},\"marker\":{\"line\":{\"color\":\"white\",\"width\":0.5},\"pattern\":{\"fillmode\":\"overlay\",\"size\":10,\"solidity\":0.2}},\"type\":\"bar\"}],\"carpet\":[{\"aaxis\":{\"endlinecolor\":\"#2a3f5f\",\"gridcolor\":\"#C8D4E3\",\"linecolor\":\"#C8D4E3\",\"minorgridcolor\":\"#C8D4E3\",\"startlinecolor\":\"#2a3f5f\"},\"baxis\":{\"endlinecolor\":\"#2a3f5f\",\"gridcolor\":\"#C8D4E3\",\"linecolor\":\"#C8D4E3\",\"minorgridcolor\":\"#C8D4E3\",\"startlinecolor\":\"#2a3f5f\"},\"type\":\"carpet\"}],\"choropleth\":[{\"colorbar\":{\"outlinewidth\":0,\"ticks\":\"\"},\"type\":\"choropleth\"}],\"contourcarpet\":[{\"colorbar\":{\"outlinewidth\":0,\"ticks\":\"\"},\"type\":\"contourcarpet\"}],\"contour\":[{\"colorbar\":{\"outlinewidth\":0,\"ticks\":\"\"},\"colorscale\":[[0.0,\"#0d0887\"],[0.1111111111111111,\"#46039f\"],[0.2222222222222222,\"#7201a8\"],[0.3333333333333333,\"#9c179e\"],[0.4444444444444444,\"#bd3786\"],[0.5555555555555556,\"#d8576b\"],[0.6666666666666666,\"#ed7953\"],[0.7777777777777778,\"#fb9f3a\"],[0.8888888888888888,\"#fdca26\"],[1.0,\"#f0f921\"]],\"type\":\"contour\"}],\"heatmapgl\":[{\"colorbar\":{\"outlinewidth\":0,\"ticks\":\"\"},\"colorscale\":[[0.0,\"#0d0887\"],[0.1111111111111111,\"#46039f\"],[0.2222222222222222,\"#7201a8\"],[0.3333333333333333,\"#9c179e\"],[0.4444444444444444,\"#bd3786\"],[0.5555555555555556,\"#d8576b\"],[0.6666666666666666,\"#ed7953\"],[0.7777777777777778,\"#fb9f3a\"],[0.8888888888888888,\"#fdca26\"],[1.0,\"#f0f921\"]],\"type\":\"heatmapgl\"}],\"heatmap\":[{\"colorbar\":{\"outlinewidth\":0,\"ticks\":\"\"},\"colorscale\":[[0.0,\"#0d0887\"],[0.1111111111111111,\"#46039f\"],[0.2222222222222222,\"#7201a8\"],[0.3333333333333333,\"#9c179e\"],[0.4444444444444444,\"#bd3786\"],[0.5555555555555556,\"#d8576b\"],[0.6666666666666666,\"#ed7953\"],[0.7777777777777778,\"#fb9f3a\"],[0.8888888888888888,\"#fdca26\"],[1.0,\"#f0f921\"]],\"type\":\"heatmap\"}],\"histogram2dcontour\":[{\"colorbar\":{\"outlinewidth\":0,\"ticks\":\"\"},\"colorscale\":[[0.0,\"#0d0887\"],[0.1111111111111111,\"#46039f\"],[0.2222222222222222,\"#7201a8\"],[0.3333333333333333,\"#9c179e\"],[0.4444444444444444,\"#bd3786\"],[0.5555555555555556,\"#d8576b\"],[0.6666666666666666,\"#ed7953\"],[0.7777777777777778,\"#fb9f3a\"],[0.8888888888888888,\"#fdca26\"],[1.0,\"#f0f921\"]],\"type\":\"histogram2dcontour\"}],\"histogram2d\":[{\"colorbar\":{\"outlinewidth\":0,\"ticks\":\"\"},\"colorscale\":[[0.0,\"#0d0887\"],[0.1111111111111111,\"#46039f\"],[0.2222222222222222,\"#7201a8\"],[0.3333333333333333,\"#9c179e\"],[0.4444444444444444,\"#bd3786\"],[0.5555555555555556,\"#d8576b\"],[0.6666666666666666,\"#ed7953\"],[0.7777777777777778,\"#fb9f3a\"],[0.8888888888888888,\"#fdca26\"],[1.0,\"#f0f921\"]],\"type\":\"histogram2d\"}],\"histogram\":[{\"marker\":{\"pattern\":{\"fillmode\":\"overlay\",\"size\":10,\"solidity\":0.2}},\"type\":\"histogram\"}],\"mesh3d\":[{\"colorbar\":{\"outlinewidth\":0,\"ticks\":\"\"},\"type\":\"mesh3d\"}],\"parcoords\":[{\"line\":{\"colorbar\":{\"outlinewidth\":0,\"ticks\":\"\"}},\"type\":\"parcoords\"}],\"pie\":[{\"automargin\":true,\"type\":\"pie\"}],\"scatter3d\":[{\"line\":{\"colorbar\":{\"outlinewidth\":0,\"ticks\":\"\"}},\"marker\":{\"colorbar\":{\"outlinewidth\":0,\"ticks\":\"\"}},\"type\":\"scatter3d\"}],\"scattercarpet\":[{\"marker\":{\"colorbar\":{\"outlinewidth\":0,\"ticks\":\"\"}},\"type\":\"scattercarpet\"}],\"scattergeo\":[{\"marker\":{\"colorbar\":{\"outlinewidth\":0,\"ticks\":\"\"}},\"type\":\"scattergeo\"}],\"scattergl\":[{\"marker\":{\"colorbar\":{\"outlinewidth\":0,\"ticks\":\"\"}},\"type\":\"scattergl\"}],\"scattermapbox\":[{\"marker\":{\"colorbar\":{\"outlinewidth\":0,\"ticks\":\"\"}},\"type\":\"scattermapbox\"}],\"scatterpolargl\":[{\"marker\":{\"colorbar\":{\"outlinewidth\":0,\"ticks\":\"\"}},\"type\":\"scatterpolargl\"}],\"scatterpolar\":[{\"marker\":{\"colorbar\":{\"outlinewidth\":0,\"ticks\":\"\"}},\"type\":\"scatterpolar\"}],\"scatter\":[{\"fillpattern\":{\"fillmode\":\"overlay\",\"size\":10,\"solidity\":0.2},\"type\":\"scatter\"}],\"scatterternary\":[{\"marker\":{\"colorbar\":{\"outlinewidth\":0,\"ticks\":\"\"}},\"type\":\"scatterternary\"}],\"surface\":[{\"colorbar\":{\"outlinewidth\":0,\"ticks\":\"\"},\"colorscale\":[[0.0,\"#0d0887\"],[0.1111111111111111,\"#46039f\"],[0.2222222222222222,\"#7201a8\"],[0.3333333333333333,\"#9c179e\"],[0.4444444444444444,\"#bd3786\"],[0.5555555555555556,\"#d8576b\"],[0.6666666666666666,\"#ed7953\"],[0.7777777777777778,\"#fb9f3a\"],[0.8888888888888888,\"#fdca26\"],[1.0,\"#f0f921\"]],\"type\":\"surface\"}],\"table\":[{\"cells\":{\"fill\":{\"color\":\"#EBF0F8\"},\"line\":{\"color\":\"white\"}},\"header\":{\"fill\":{\"color\":\"#C8D4E3\"},\"line\":{\"color\":\"white\"}},\"type\":\"table\"}]},\"layout\":{\"annotationdefaults\":{\"arrowcolor\":\"#2a3f5f\",\"arrowhead\":0,\"arrowwidth\":1},\"autotypenumbers\":\"strict\",\"coloraxis\":{\"colorbar\":{\"outlinewidth\":0,\"ticks\":\"\"}},\"colorscale\":{\"diverging\":[[0,\"#8e0152\"],[0.1,\"#c51b7d\"],[0.2,\"#de77ae\"],[0.3,\"#f1b6da\"],[0.4,\"#fde0ef\"],[0.5,\"#f7f7f7\"],[0.6,\"#e6f5d0\"],[0.7,\"#b8e186\"],[0.8,\"#7fbc41\"],[0.9,\"#4d9221\"],[1,\"#276419\"]],\"sequential\":[[0.0,\"#0d0887\"],[0.1111111111111111,\"#46039f\"],[0.2222222222222222,\"#7201a8\"],[0.3333333333333333,\"#9c179e\"],[0.4444444444444444,\"#bd3786\"],[0.5555555555555556,\"#d8576b\"],[0.6666666666666666,\"#ed7953\"],[0.7777777777777778,\"#fb9f3a\"],[0.8888888888888888,\"#fdca26\"],[1.0,\"#f0f921\"]],\"sequentialminus\":[[0.0,\"#0d0887\"],[0.1111111111111111,\"#46039f\"],[0.2222222222222222,\"#7201a8\"],[0.3333333333333333,\"#9c179e\"],[0.4444444444444444,\"#bd3786\"],[0.5555555555555556,\"#d8576b\"],[0.6666666666666666,\"#ed7953\"],[0.7777777777777778,\"#fb9f3a\"],[0.8888888888888888,\"#fdca26\"],[1.0,\"#f0f921\"]]},\"colorway\":[\"#636efa\",\"#EF553B\",\"#00cc96\",\"#ab63fa\",\"#FFA15A\",\"#19d3f3\",\"#FF6692\",\"#B6E880\",\"#FF97FF\",\"#FECB52\"],\"font\":{\"color\":\"#2a3f5f\"},\"geo\":{\"bgcolor\":\"white\",\"lakecolor\":\"white\",\"landcolor\":\"white\",\"showlakes\":true,\"showland\":true,\"subunitcolor\":\"#C8D4E3\"},\"hoverlabel\":{\"align\":\"left\"},\"hovermode\":\"closest\",\"mapbox\":{\"style\":\"light\"},\"paper_bgcolor\":\"white\",\"plot_bgcolor\":\"white\",\"polar\":{\"angularaxis\":{\"gridcolor\":\"#EBF0F8\",\"linecolor\":\"#EBF0F8\",\"ticks\":\"\"},\"bgcolor\":\"white\",\"radialaxis\":{\"gridcolor\":\"#EBF0F8\",\"linecolor\":\"#EBF0F8\",\"ticks\":\"\"}},\"scene\":{\"xaxis\":{\"backgroundcolor\":\"white\",\"gridcolor\":\"#DFE8F3\",\"gridwidth\":2,\"linecolor\":\"#EBF0F8\",\"showbackground\":true,\"ticks\":\"\",\"zerolinecolor\":\"#EBF0F8\"},\"yaxis\":{\"backgroundcolor\":\"white\",\"gridcolor\":\"#DFE8F3\",\"gridwidth\":2,\"linecolor\":\"#EBF0F8\",\"showbackground\":true,\"ticks\":\"\",\"zerolinecolor\":\"#EBF0F8\"},\"zaxis\":{\"backgroundcolor\":\"white\",\"gridcolor\":\"#DFE8F3\",\"gridwidth\":2,\"linecolor\":\"#EBF0F8\",\"showbackground\":true,\"ticks\":\"\",\"zerolinecolor\":\"#EBF0F8\"}},\"shapedefaults\":{\"line\":{\"color\":\"#2a3f5f\"}},\"ternary\":{\"aaxis\":{\"gridcolor\":\"#DFE8F3\",\"linecolor\":\"#A2B1C6\",\"ticks\":\"\"},\"baxis\":{\"gridcolor\":\"#DFE8F3\",\"linecolor\":\"#A2B1C6\",\"ticks\":\"\"},\"bgcolor\":\"white\",\"caxis\":{\"gridcolor\":\"#DFE8F3\",\"linecolor\":\"#A2B1C6\",\"ticks\":\"\"}},\"title\":{\"x\":0.05},\"xaxis\":{\"automargin\":true,\"gridcolor\":\"#EBF0F8\",\"linecolor\":\"#EBF0F8\",\"ticks\":\"\",\"title\":{\"standoff\":15},\"zerolinecolor\":\"#EBF0F8\",\"zerolinewidth\":2},\"yaxis\":{\"automargin\":true,\"gridcolor\":\"#EBF0F8\",\"linecolor\":\"#EBF0F8\",\"ticks\":\"\",\"title\":{\"standoff\":15},\"zerolinecolor\":\"#EBF0F8\",\"zerolinewidth\":2}}},\"xaxis\":{\"anchor\":\"y\",\"domain\":[0.0,1.0],\"title\":{\"text\":\"disc_year\"}},\"yaxis\":{\"anchor\":\"x\",\"domain\":[0.0,1.0],\"title\":{\"text\":\"total\"}},\"legend\":{\"tracegroupgap\":0},\"margin\":{\"t\":60},\"barmode\":\"relative\",\"title\":{\"text\":\"Exoplanetas totales detectados al finalizar año\",\"x\":0.5}},                        {\"responsive\": true}                    ).then(function(){\n",
       "                            \n",
       "var gd = document.getElementById('48a901be-33a6-4518-9b16-e83f9bf98324');\n",
       "var x = new MutationObserver(function (mutations, observer) {{\n",
       "        var display = window.getComputedStyle(gd).display;\n",
       "        if (!display || display === 'none') {{\n",
       "            console.log([gd, 'removed!']);\n",
       "            Plotly.purge(gd);\n",
       "            observer.disconnect();\n",
       "        }}\n",
       "}});\n",
       "\n",
       "// Listen for the removal of the full notebook cells\n",
       "var notebookContainer = gd.closest('#notebook-container');\n",
       "if (notebookContainer) {{\n",
       "    x.observe(notebookContainer, {childList: true});\n",
       "}}\n",
       "\n",
       "// Listen for the clearing of the current output cell\n",
       "var outputEl = gd.closest('.output');\n",
       "if (outputEl) {{\n",
       "    x.observe(outputEl, {childList: true});\n",
       "}}\n",
       "\n",
       "                        })                };                });            </script>        </div>"
      ]
     },
     "metadata": {},
     "output_type": "display_data"
    }
   ],
   "source": [
    "import plotly.express as px\n",
    "\n",
    "fig = px.bar(df_year, x='disc_year', y='total', color_discrete_sequence=px.colors.sequential.thermal[2:], text_auto=\"auto\")\n",
    "fig.update_layout(template=\"plotly_white\", title='Exoplanetas totales detectados al finalizar año', title_x=0.5)\n",
    "fig.update_traces(textfont_size=12, textangle=0, textposition=\"outside\", cliponaxis=True)\n",
    "\n",
    "fig.show()"
   ]
  },
  {
   "cell_type": "markdown",
   "id": "27a5d749",
   "metadata": {
    "id": "UjR2Io7rqroc",
    "papermill": {
     "duration": 0.050125,
     "end_time": "2024-01-20T15:52:43.440555",
     "exception": false,
     "start_time": "2024-01-20T15:52:43.390430",
     "status": "completed"
    },
    "tags": []
   },
   "source": [
    "##### Count of exoplanets detected by observatories"
   ]
  },
  {
   "cell_type": "code",
   "execution_count": 39,
   "id": "fed2668e",
   "metadata": {
    "execution": {
     "iopub.execute_input": "2024-01-20T15:52:43.544014Z",
     "iopub.status.busy": "2024-01-20T15:52:43.542992Z",
     "iopub.status.idle": "2024-01-20T15:56:06.791904Z",
     "shell.execute_reply": "2024-01-20T15:56:06.790923Z"
    },
    "id": "Mx9mGrqfcdpU",
    "papermill": {
     "duration": 203.303524,
     "end_time": "2024-01-20T15:56:06.794656",
     "exception": false,
     "start_time": "2024-01-20T15:52:43.491132",
     "status": "completed"
    },
    "tags": []
   },
   "outputs": [],
   "source": [
    "df_facyear = df.groupby(by=[\"disc_year\", \"disc_facility\"]).size().reset_index(name=\"counts\")\n",
    "df_facyear = df_facyear.sort_values('disc_year', ascending = False)\n",
    "\n",
    "df_facyear['disc_locale'] = \" \"\n",
    "\n",
    "for index, fac in df_facyear.iterrows():\n",
    "  for index2, facility in df.iterrows():\n",
    "    if fac['disc_facility'] == facility['disc_facility']:\n",
    "      df_facyear.loc[df_facyear.disc_facility == facility['disc_facility'], \"disc_locale\"] = facility['disc_locale']\n",
    "\n",
    "df_facyear = df_facyear.loc[df_facyear['disc_locale'] == 'Ground']"
   ]
  },
  {
   "cell_type": "markdown",
   "id": "d44823a8",
   "metadata": {
    "id": "uLRyHPi6RT6S",
    "papermill": {
     "duration": 0.050273,
     "end_time": "2024-01-20T15:56:06.897513",
     "exception": false,
     "start_time": "2024-01-20T15:56:06.847240",
     "status": "completed"
    },
    "tags": []
   },
   "source": [
    "##### Delete null values"
   ]
  },
  {
   "cell_type": "code",
   "execution_count": 40,
   "id": "51bf6dc2",
   "metadata": {
    "execution": {
     "iopub.execute_input": "2024-01-20T15:56:07.002056Z",
     "iopub.status.busy": "2024-01-20T15:56:07.001644Z",
     "iopub.status.idle": "2024-01-20T15:56:07.007426Z",
     "shell.execute_reply": "2024-01-20T15:56:07.006657Z"
    },
    "id": "vFixA6BEiAKy",
    "outputId": "6b468880-7da2-4819-d31b-093bc982e300",
    "papermill": {
     "duration": 0.060689,
     "end_time": "2024-01-20T15:56:07.009432",
     "exception": false,
     "start_time": "2024-01-20T15:56:06.948743",
     "status": "completed"
    },
    "tags": []
   },
   "outputs": [],
   "source": [
    "df_facyear.dropna(inplace=True)"
   ]
  },
  {
   "cell_type": "markdown",
   "id": "b2c52825",
   "metadata": {
    "id": "i0JhV3l7RaDM",
    "papermill": {
     "duration": 0.050527,
     "end_time": "2024-01-20T15:56:07.112779",
     "exception": false,
     "start_time": "2024-01-20T15:56:07.062252",
     "status": "completed"
    },
    "tags": []
   },
   "source": [
    "##### Adding 0 in years where they were not found by observatories, to make a cumulative visualization."
   ]
  },
  {
   "cell_type": "code",
   "execution_count": 41,
   "id": "c5f28970",
   "metadata": {
    "execution": {
     "iopub.execute_input": "2024-01-20T15:56:07.217749Z",
     "iopub.status.busy": "2024-01-20T15:56:07.217075Z",
     "iopub.status.idle": "2024-01-20T15:56:37.127075Z",
     "shell.execute_reply": "2024-01-20T15:56:37.126121Z"
    },
    "id": "Ts_yAL7diwaP",
    "papermill": {
     "duration": 29.965245,
     "end_time": "2024-01-20T15:56:37.130038",
     "exception": false,
     "start_time": "2024-01-20T15:56:07.164793",
     "status": "completed"
    },
    "tags": []
   },
   "outputs": [],
   "source": [
    "for i in range(1992,2024):\n",
    "  for index2, fila in df_facyear.iterrows():\n",
    "    if ((df_facyear['disc_year'] == i) & (df_facyear['disc_facility'] == fila['disc_facility'])).any():\n",
    "      continue\n",
    "    else:\n",
    "      my_dict = {'disc_year': i,'disc_facility': fila['disc_facility'], 'counts': 0}\n",
    "      df1 = pd.DataFrame([my_dict])\n",
    "      df_facyear = pd.concat([df_facyear, df1])"
   ]
  },
  {
   "cell_type": "code",
   "execution_count": 42,
   "id": "fc516ceb",
   "metadata": {
    "execution": {
     "iopub.execute_input": "2024-01-20T15:56:37.237259Z",
     "iopub.status.busy": "2024-01-20T15:56:37.236150Z",
     "iopub.status.idle": "2024-01-20T15:56:37.251068Z",
     "shell.execute_reply": "2024-01-20T15:56:37.249946Z"
    },
    "id": "RxoszevtoTqt",
    "outputId": "18c43e75-2829-4918-d94f-6f04246861d7",
    "papermill": {
     "duration": 0.070168,
     "end_time": "2024-01-20T15:56:37.253290",
     "exception": false,
     "start_time": "2024-01-20T15:56:37.183122",
     "status": "completed"
    },
    "tags": []
   },
   "outputs": [
    {
     "data": {
      "text/html": [
       "<div>\n",
       "<style scoped>\n",
       "    .dataframe tbody tr th:only-of-type {\n",
       "        vertical-align: middle;\n",
       "    }\n",
       "\n",
       "    .dataframe tbody tr th {\n",
       "        vertical-align: top;\n",
       "    }\n",
       "\n",
       "    .dataframe thead th {\n",
       "        text-align: right;\n",
       "    }\n",
       "</style>\n",
       "<table border=\"1\" class=\"dataframe\">\n",
       "  <thead>\n",
       "    <tr style=\"text-align: right;\">\n",
       "      <th></th>\n",
       "      <th>disc_year</th>\n",
       "      <th>disc_facility</th>\n",
       "      <th>counts</th>\n",
       "      <th>disc_locale</th>\n",
       "    </tr>\n",
       "  </thead>\n",
       "  <tbody>\n",
       "    <tr>\n",
       "      <th>424</th>\n",
       "      <td>2023</td>\n",
       "      <td>WASP-South</td>\n",
       "      <td>1</td>\n",
       "      <td>Ground</td>\n",
       "    </tr>\n",
       "    <tr>\n",
       "      <th>416</th>\n",
       "      <td>2023</td>\n",
       "      <td>Multiple Facilities</td>\n",
       "      <td>4</td>\n",
       "      <td>Ground</td>\n",
       "    </tr>\n",
       "    <tr>\n",
       "      <th>408</th>\n",
       "      <td>2023</td>\n",
       "      <td>Bohyunsan Optical Astronomical Observatory</td>\n",
       "      <td>1</td>\n",
       "      <td>Ground</td>\n",
       "    </tr>\n",
       "    <tr>\n",
       "      <th>409</th>\n",
       "      <td>2023</td>\n",
       "      <td>Calar Alto Observatory</td>\n",
       "      <td>1</td>\n",
       "      <td>Ground</td>\n",
       "    </tr>\n",
       "    <tr>\n",
       "      <th>412</th>\n",
       "      <td>2023</td>\n",
       "      <td>KMTNet</td>\n",
       "      <td>14</td>\n",
       "      <td>Ground</td>\n",
       "    </tr>\n",
       "    <tr>\n",
       "      <th>...</th>\n",
       "      <td>...</td>\n",
       "      <td>...</td>\n",
       "      <td>...</td>\n",
       "      <td>...</td>\n",
       "    </tr>\n",
       "    <tr>\n",
       "      <th>0</th>\n",
       "      <td>2023</td>\n",
       "      <td>Thueringer Landessternwarte Tautenburg</td>\n",
       "      <td>0</td>\n",
       "      <td>NaN</td>\n",
       "    </tr>\n",
       "    <tr>\n",
       "      <th>0</th>\n",
       "      <td>2023</td>\n",
       "      <td>Xinglong Station</td>\n",
       "      <td>0</td>\n",
       "      <td>NaN</td>\n",
       "    </tr>\n",
       "    <tr>\n",
       "      <th>0</th>\n",
       "      <td>2023</td>\n",
       "      <td>Teide Observatory</td>\n",
       "      <td>0</td>\n",
       "      <td>NaN</td>\n",
       "    </tr>\n",
       "    <tr>\n",
       "      <th>0</th>\n",
       "      <td>2023</td>\n",
       "      <td>Kitt Peak National Observatory</td>\n",
       "      <td>0</td>\n",
       "      <td>NaN</td>\n",
       "    </tr>\n",
       "    <tr>\n",
       "      <th>0</th>\n",
       "      <td>2023</td>\n",
       "      <td>Arecibo Observatory</td>\n",
       "      <td>0</td>\n",
       "      <td>NaN</td>\n",
       "    </tr>\n",
       "  </tbody>\n",
       "</table>\n",
       "<p>1888 rows × 4 columns</p>\n",
       "</div>"
      ],
      "text/plain": [
       "     disc_year                               disc_facility  counts disc_locale\n",
       "424       2023                                  WASP-South       1      Ground\n",
       "416       2023                         Multiple Facilities       4      Ground\n",
       "408       2023  Bohyunsan Optical Astronomical Observatory       1      Ground\n",
       "409       2023                      Calar Alto Observatory       1      Ground\n",
       "412       2023                                      KMTNet      14      Ground\n",
       "..         ...                                         ...     ...         ...\n",
       "0         2023      Thueringer Landessternwarte Tautenburg       0         NaN\n",
       "0         2023                            Xinglong Station       0         NaN\n",
       "0         2023                           Teide Observatory       0         NaN\n",
       "0         2023              Kitt Peak National Observatory       0         NaN\n",
       "0         2023                         Arecibo Observatory       0         NaN\n",
       "\n",
       "[1888 rows x 4 columns]"
      ]
     },
     "execution_count": 42,
     "metadata": {},
     "output_type": "execute_result"
    }
   ],
   "source": [
    "df_facyear"
   ]
  },
  {
   "cell_type": "markdown",
   "id": "9261ffff",
   "metadata": {
    "id": "wYWaOjF0Rh4M",
    "papermill": {
     "duration": 0.050493,
     "end_time": "2024-01-20T15:56:37.355205",
     "exception": false,
     "start_time": "2024-01-20T15:56:37.304712",
     "status": "completed"
    },
    "tags": []
   },
   "source": [
    "##### Cummulative sum"
   ]
  },
  {
   "cell_type": "code",
   "execution_count": 43,
   "id": "e04f3677",
   "metadata": {
    "execution": {
     "iopub.execute_input": "2024-01-20T15:56:37.521851Z",
     "iopub.status.busy": "2024-01-20T15:56:37.520890Z",
     "iopub.status.idle": "2024-01-20T15:56:37.537244Z",
     "shell.execute_reply": "2024-01-20T15:56:37.536399Z"
    },
    "id": "kt8518BHomlR",
    "outputId": "41729d3f-4301-4d19-ddf8-bcfb1f2fabc8",
    "papermill": {
     "duration": 0.070869,
     "end_time": "2024-01-20T15:56:37.539658",
     "exception": false,
     "start_time": "2024-01-20T15:56:37.468789",
     "status": "completed"
    },
    "tags": []
   },
   "outputs": [],
   "source": [
    "df_facyear = df_facyear.groupby(by=['disc_facility','disc_year']).sum(numeric_only=True).groupby(level=[0]).cumsum()\n",
    "df_facyear = df_facyear.reset_index()"
   ]
  },
  {
   "cell_type": "markdown",
   "id": "d0135134",
   "metadata": {
    "id": "_w_wck-KRtot",
    "papermill": {
     "duration": 0.050755,
     "end_time": "2024-01-20T15:56:37.642722",
     "exception": false,
     "start_time": "2024-01-20T15:56:37.591967",
     "status": "completed"
    },
    "tags": []
   },
   "source": [
    "##### Adding geolocation values"
   ]
  },
  {
   "cell_type": "code",
   "execution_count": 44,
   "id": "87b584fe",
   "metadata": {
    "execution": {
     "iopub.execute_input": "2024-01-20T15:56:37.747126Z",
     "iopub.status.busy": "2024-01-20T15:56:37.746433Z",
     "iopub.status.idle": "2024-01-20T15:56:48.311598Z",
     "shell.execute_reply": "2024-01-20T15:56:48.310542Z"
    },
    "id": "yKaSypKIjF04",
    "papermill": {
     "duration": 10.620845,
     "end_time": "2024-01-20T15:56:48.314317",
     "exception": false,
     "start_time": "2024-01-20T15:56:37.693472",
     "status": "completed"
    },
    "tags": []
   },
   "outputs": [],
   "source": [
    "for index, fac in df_facyear.iterrows():\n",
    "  for index2, location in df_facground.iterrows():\n",
    "    if fac['disc_facility'] == location['disc_facility']:\n",
    "      df_facyear.loc[df_facyear.disc_facility == location['disc_facility'], \"latitude\"] = location['latitude']\n",
    "      df_facyear.loc[df_facyear.disc_facility == location['disc_facility'], \"longitude\"] = location['longitude']"
   ]
  },
  {
   "cell_type": "code",
   "execution_count": 45,
   "id": "596ee006",
   "metadata": {
    "execution": {
     "iopub.execute_input": "2024-01-20T15:56:48.418036Z",
     "iopub.status.busy": "2024-01-20T15:56:48.417643Z",
     "iopub.status.idle": "2024-01-20T15:56:48.424429Z",
     "shell.execute_reply": "2024-01-20T15:56:48.423323Z"
    },
    "id": "UsqqsMiUpty3",
    "papermill": {
     "duration": 0.061161,
     "end_time": "2024-01-20T15:56:48.426718",
     "exception": false,
     "start_time": "2024-01-20T15:56:48.365557",
     "status": "completed"
    },
    "tags": []
   },
   "outputs": [],
   "source": [
    "df_facyear = df_facyear.sort_values('disc_year', ascending = True)"
   ]
  },
  {
   "cell_type": "code",
   "execution_count": 46,
   "id": "191a5461",
   "metadata": {
    "execution": {
     "iopub.execute_input": "2024-01-20T15:56:48.530196Z",
     "iopub.status.busy": "2024-01-20T15:56:48.529802Z",
     "iopub.status.idle": "2024-01-20T15:56:48.887002Z",
     "shell.execute_reply": "2024-01-20T15:56:48.885878Z"
    },
    "id": "DnBMI2XYiMmW",
    "outputId": "69ab97fa-929a-417c-d346-07f1b8c3c523",
    "papermill": {
     "duration": 0.412153,
     "end_time": "2024-01-20T15:56:48.889731",
     "exception": false,
     "start_time": "2024-01-20T15:56:48.477578",
     "status": "completed"
    },
    "tags": []
   },
   "outputs": [
    {
     "data": {
      "text/html": [
       "<div>                            <div id=\"c834cc64-ebaf-4022-a5e0-96089b1eae3c\" class=\"plotly-graph-div\" style=\"height:650px; width:1200px;\"></div>            <script type=\"text/javascript\">                require([\"plotly\"], function(Plotly) {                    window.PLOTLYENV=window.PLOTLYENV || {};                                    if (document.getElementById(\"c834cc64-ebaf-4022-a5e0-96089b1eae3c\")) {                    Plotly.newPlot(                        \"c834cc64-ebaf-4022-a5e0-96089b1eae3c\",                        [{\"geo\":\"geo\",\"hovertemplate\":\"\\u003cb\\u003e%{hovertext}\\u003c\\u002fb\\u003e\\u003cbr\\u003e\\u003cbr\\u003edisc_year=1992\\u003cbr\\u003ecounts=%{marker.color}\\u003cbr\\u003elatitude=%{lat}\\u003cbr\\u003elongitude=%{lon}\\u003cextra\\u003e\\u003c\\u002fextra\\u003e\",\"hovertext\":[\"Acton Sky Portal Observatory\",\"Haute-Provence Observatory\",\"SuperWASP-North\",\"Haleakala Observatory\",\"SuperWASP-South\",\"HATSouth\",\"Teide Observatory\",\"HATNet\",\"Thueringer Landessternwarte Tautenburg\",\"Gemini Observatory\",\"TrES\",\"Fred Lawrence Whipple Observatory\",\"SuperWASP\",\"United Kingdom Infrared Telescope\",\"University of Canterbury Mt John Observatory\",\"Cerro Tololo Inter-American Observatory\",\"Very Long Baseline Array\",\"Calar Alto Observatory\",\"W. M. Keck Observatory\",\"Bohyunsan Optical Astronomical Observatory\",\"WASP-South\",\"Atacama Large Millimeter Array (ALMA)\",\"Winer Observatory\",\"Arecibo Observatory\",\"XO\",\"European Southern Observatory\",\"Infrared Survey Facility\",\"Subaru Telescope\",\"SPECULOOS Southern Observatory\",\"MOA\",\"McDonald Observatory\",\"MEarth Project\",\"Multiple Facilities\",\"Lowell Observatory\",\"Multiple Observatories\",\"Lick Observatory\",\"NASA Infrared Telescope Facility (IRTF)\",\"Leoncito Astronomical Complex\",\"Next-Generation Transit Survey (NGTS)\",\"Las Campanas Observatory\",\"OGLE\",\"Large Binocular Telescope Observatory\",\"Okayama Astrophysical Observatory\",\"La Silla Observatory\",\"Palomar Observatory\",\"Kitt Peak National Observatory\",\"Paranal Observatory\",\"KMTNet\",\"Parkes Observatory\",\"KELT-South\",\"Qatar\",\"KELT-North\",\"Roque de los Muchachos Observatory\",\"KELT\",\"Apache Point Observatory\",\"Xinglong Station\",\"Mauna Kea Observatory\",\"Anglo-Australian Telescope\",\"Yunnan Astronomical Observatory\"],\"ids\":[\"Acton Sky Portal Observatory\",\"Haute-Provence Observatory\",\"SuperWASP-North\",\"Haleakala Observatory\",\"SuperWASP-South\",\"HATSouth\",\"Teide Observatory\",\"HATNet\",\"Thueringer Landessternwarte Tautenburg\",\"Gemini Observatory\",\"TrES\",\"Fred Lawrence Whipple Observatory\",\"SuperWASP\",\"United Kingdom Infrared Telescope\",\"University of Canterbury Mt John Observatory\",\"Cerro Tololo Inter-American Observatory\",\"Very Long Baseline Array\",\"Calar Alto Observatory\",\"W. M. Keck Observatory\",\"Bohyunsan Optical Astronomical Observatory\",\"WASP-South\",\"Atacama Large Millimeter Array (ALMA)\",\"Winer Observatory\",\"Arecibo Observatory\",\"XO\",\"European Southern Observatory\",\"Infrared Survey Facility\",\"Subaru Telescope\",\"SPECULOOS Southern Observatory\",\"MOA\",\"McDonald Observatory\",\"MEarth Project\",\"Multiple Facilities\",\"Lowell Observatory\",\"Multiple Observatories\",\"Lick Observatory\",\"NASA Infrared Telescope Facility (IRTF)\",\"Leoncito Astronomical Complex\",\"Next-Generation Transit Survey (NGTS)\",\"Las Campanas Observatory\",\"OGLE\",\"Large Binocular Telescope Observatory\",\"Okayama Astrophysical Observatory\",\"La Silla Observatory\",\"Palomar Observatory\",\"Kitt Peak National Observatory\",\"Paranal Observatory\",\"KMTNet\",\"Parkes Observatory\",\"KELT-South\",\"Qatar\",\"KELT-North\",\"Roque de los Muchachos Observatory\",\"KELT\",\"Apache Point Observatory\",\"Xinglong Station\",\"Mauna Kea Observatory\",\"Anglo-Australian Telescope\",\"Yunnan Astronomical Observatory\"],\"lat\":[42.4850931,43.93465290685473,28.7602486,20.707724,-32.380828300000005,null,28.30155405,36.2534455,50.980589699999996,19.7010144,46.32311,31.680770000000003,-32.380828300000005,19.82263133941441,-43.985079510206,-30.17112555,35.7751349,37.222216,19.826335800000003,36.16493673022682,-54.74708985,-23.016605,31.66664384843098,18.34435035,18.3167587,-33.39954245,-32.40945838829719,19.825628,null,14.53520885,30.6758212,31.6841828,null,35.20294505,null,37.343180950000004,19.8262932,-31.798406322237792,-24.6157395,-29.01915575,42.0397014,32.701432499999996,34.57620737464398,-29.2552104,33.353975750000004,31.96005045,-24.62746015,-32.3788046,-32.9986005,-32.380265449999996,25.3336984,64.23121929999999,28.757069,50.044335,32.780298450000004,28.2993048,19.824758000000003,-31.275452,25.05169275],\"legendgroup\":\"\",\"lon\":[-71.43284,5.711210002635074,-17.879274799500855,-156.25732220375536,20.8104941,null,-16.509883823160067,36.5635125,11.710985584651013,-155.0901111721641,11.096874,-110.87874815220113,20.8104941,-155.4702713396269,170.46406802137483,-70.80355626100308,-106.24555896743195,-2.54693,-155.4744554555519,128.97680621520124,-35.854428196605994,-67.77226867219686,-110.60167156843839,-66.75271716738939,102.1082886,-70.6002258733539,20.800649558809692,-155.475984,null,120.98159848166422,-104.02058383636867,-110.8780229,null,-111.66465289534443,null,-121.6452932158403,-155.471936,-69.29561017690845,-70.39103904999999,-70.69060142428015,-89.3138599,-109.88921125289411,133.59468610715888,-70.73950703583358,-116.86137432789532,-111.59806254704941,-70.40415067740268,20.810438721680914,148.262423,20.810272050000002,51.2295295,23.8115647838413,-17.88884356096937,15.7454858,-105.81990911661293,105.3761434,-155.47335552670813,149.067221,102.57846947618563],\"marker\":{\"color\":[0,0,0,0,0,0,0,0,0,0,0,0,0,0,0,0,0,0,0,0,0,0,0,2,0,0,0,0,0,0,0,0,0,0,0,0,0,0,0,0,0,0,0,0,0,0,0,0,0,0,0,0,0,0,0,0,0,0,0],\"coloraxis\":\"coloraxis\",\"size\":[0,0,0,0,0,0,0,0,0,0,0,0,0,0,0,0,0,0,0,0,0,0,0,2,0,0,0,0,0,0,0,0,0,0,0,0,0,0,0,0,0,0,0,0,0,0,0,0,0,0,0,0,0,0,0,0,0,0,0],\"sizemode\":\"area\",\"sizeref\":0.1124,\"symbol\":\"circle\"},\"mode\":\"markers\",\"name\":\"\",\"showlegend\":false,\"type\":\"scattergeo\"}],                        {\"template\":{\"data\":{\"histogram2dcontour\":[{\"type\":\"histogram2dcontour\",\"colorbar\":{\"outlinewidth\":0,\"ticks\":\"\"},\"colorscale\":[[0.0,\"#0d0887\"],[0.1111111111111111,\"#46039f\"],[0.2222222222222222,\"#7201a8\"],[0.3333333333333333,\"#9c179e\"],[0.4444444444444444,\"#bd3786\"],[0.5555555555555556,\"#d8576b\"],[0.6666666666666666,\"#ed7953\"],[0.7777777777777778,\"#fb9f3a\"],[0.8888888888888888,\"#fdca26\"],[1.0,\"#f0f921\"]]}],\"choropleth\":[{\"type\":\"choropleth\",\"colorbar\":{\"outlinewidth\":0,\"ticks\":\"\"}}],\"histogram2d\":[{\"type\":\"histogram2d\",\"colorbar\":{\"outlinewidth\":0,\"ticks\":\"\"},\"colorscale\":[[0.0,\"#0d0887\"],[0.1111111111111111,\"#46039f\"],[0.2222222222222222,\"#7201a8\"],[0.3333333333333333,\"#9c179e\"],[0.4444444444444444,\"#bd3786\"],[0.5555555555555556,\"#d8576b\"],[0.6666666666666666,\"#ed7953\"],[0.7777777777777778,\"#fb9f3a\"],[0.8888888888888888,\"#fdca26\"],[1.0,\"#f0f921\"]]}],\"heatmap\":[{\"type\":\"heatmap\",\"colorbar\":{\"outlinewidth\":0,\"ticks\":\"\"},\"colorscale\":[[0.0,\"#0d0887\"],[0.1111111111111111,\"#46039f\"],[0.2222222222222222,\"#7201a8\"],[0.3333333333333333,\"#9c179e\"],[0.4444444444444444,\"#bd3786\"],[0.5555555555555556,\"#d8576b\"],[0.6666666666666666,\"#ed7953\"],[0.7777777777777778,\"#fb9f3a\"],[0.8888888888888888,\"#fdca26\"],[1.0,\"#f0f921\"]]}],\"heatmapgl\":[{\"type\":\"heatmapgl\",\"colorbar\":{\"outlinewidth\":0,\"ticks\":\"\"},\"colorscale\":[[0.0,\"#0d0887\"],[0.1111111111111111,\"#46039f\"],[0.2222222222222222,\"#7201a8\"],[0.3333333333333333,\"#9c179e\"],[0.4444444444444444,\"#bd3786\"],[0.5555555555555556,\"#d8576b\"],[0.6666666666666666,\"#ed7953\"],[0.7777777777777778,\"#fb9f3a\"],[0.8888888888888888,\"#fdca26\"],[1.0,\"#f0f921\"]]}],\"contourcarpet\":[{\"type\":\"contourcarpet\",\"colorbar\":{\"outlinewidth\":0,\"ticks\":\"\"}}],\"contour\":[{\"type\":\"contour\",\"colorbar\":{\"outlinewidth\":0,\"ticks\":\"\"},\"colorscale\":[[0.0,\"#0d0887\"],[0.1111111111111111,\"#46039f\"],[0.2222222222222222,\"#7201a8\"],[0.3333333333333333,\"#9c179e\"],[0.4444444444444444,\"#bd3786\"],[0.5555555555555556,\"#d8576b\"],[0.6666666666666666,\"#ed7953\"],[0.7777777777777778,\"#fb9f3a\"],[0.8888888888888888,\"#fdca26\"],[1.0,\"#f0f921\"]]}],\"surface\":[{\"type\":\"surface\",\"colorbar\":{\"outlinewidth\":0,\"ticks\":\"\"},\"colorscale\":[[0.0,\"#0d0887\"],[0.1111111111111111,\"#46039f\"],[0.2222222222222222,\"#7201a8\"],[0.3333333333333333,\"#9c179e\"],[0.4444444444444444,\"#bd3786\"],[0.5555555555555556,\"#d8576b\"],[0.6666666666666666,\"#ed7953\"],[0.7777777777777778,\"#fb9f3a\"],[0.8888888888888888,\"#fdca26\"],[1.0,\"#f0f921\"]]}],\"mesh3d\":[{\"type\":\"mesh3d\",\"colorbar\":{\"outlinewidth\":0,\"ticks\":\"\"}}],\"scatter\":[{\"fillpattern\":{\"fillmode\":\"overlay\",\"size\":10,\"solidity\":0.2},\"type\":\"scatter\"}],\"parcoords\":[{\"type\":\"parcoords\",\"line\":{\"colorbar\":{\"outlinewidth\":0,\"ticks\":\"\"}}}],\"scatterpolargl\":[{\"type\":\"scatterpolargl\",\"marker\":{\"colorbar\":{\"outlinewidth\":0,\"ticks\":\"\"}}}],\"bar\":[{\"error_x\":{\"color\":\"#2a3f5f\"},\"error_y\":{\"color\":\"#2a3f5f\"},\"marker\":{\"line\":{\"color\":\"#E5ECF6\",\"width\":0.5},\"pattern\":{\"fillmode\":\"overlay\",\"size\":10,\"solidity\":0.2}},\"type\":\"bar\"}],\"scattergeo\":[{\"type\":\"scattergeo\",\"marker\":{\"colorbar\":{\"outlinewidth\":0,\"ticks\":\"\"}}}],\"scatterpolar\":[{\"type\":\"scatterpolar\",\"marker\":{\"colorbar\":{\"outlinewidth\":0,\"ticks\":\"\"}}}],\"histogram\":[{\"marker\":{\"pattern\":{\"fillmode\":\"overlay\",\"size\":10,\"solidity\":0.2}},\"type\":\"histogram\"}],\"scattergl\":[{\"type\":\"scattergl\",\"marker\":{\"colorbar\":{\"outlinewidth\":0,\"ticks\":\"\"}}}],\"scatter3d\":[{\"type\":\"scatter3d\",\"line\":{\"colorbar\":{\"outlinewidth\":0,\"ticks\":\"\"}},\"marker\":{\"colorbar\":{\"outlinewidth\":0,\"ticks\":\"\"}}}],\"scattermapbox\":[{\"type\":\"scattermapbox\",\"marker\":{\"colorbar\":{\"outlinewidth\":0,\"ticks\":\"\"}}}],\"scatterternary\":[{\"type\":\"scatterternary\",\"marker\":{\"colorbar\":{\"outlinewidth\":0,\"ticks\":\"\"}}}],\"scattercarpet\":[{\"type\":\"scattercarpet\",\"marker\":{\"colorbar\":{\"outlinewidth\":0,\"ticks\":\"\"}}}],\"carpet\":[{\"aaxis\":{\"endlinecolor\":\"#2a3f5f\",\"gridcolor\":\"white\",\"linecolor\":\"white\",\"minorgridcolor\":\"white\",\"startlinecolor\":\"#2a3f5f\"},\"baxis\":{\"endlinecolor\":\"#2a3f5f\",\"gridcolor\":\"white\",\"linecolor\":\"white\",\"minorgridcolor\":\"white\",\"startlinecolor\":\"#2a3f5f\"},\"type\":\"carpet\"}],\"table\":[{\"cells\":{\"fill\":{\"color\":\"#EBF0F8\"},\"line\":{\"color\":\"white\"}},\"header\":{\"fill\":{\"color\":\"#C8D4E3\"},\"line\":{\"color\":\"white\"}},\"type\":\"table\"}],\"barpolar\":[{\"marker\":{\"line\":{\"color\":\"#E5ECF6\",\"width\":0.5},\"pattern\":{\"fillmode\":\"overlay\",\"size\":10,\"solidity\":0.2}},\"type\":\"barpolar\"}],\"pie\":[{\"automargin\":true,\"type\":\"pie\"}]},\"layout\":{\"autotypenumbers\":\"strict\",\"colorway\":[\"#636efa\",\"#EF553B\",\"#00cc96\",\"#ab63fa\",\"#FFA15A\",\"#19d3f3\",\"#FF6692\",\"#B6E880\",\"#FF97FF\",\"#FECB52\"],\"font\":{\"color\":\"#2a3f5f\"},\"hovermode\":\"closest\",\"hoverlabel\":{\"align\":\"left\"},\"paper_bgcolor\":\"white\",\"plot_bgcolor\":\"#E5ECF6\",\"polar\":{\"bgcolor\":\"#E5ECF6\",\"angularaxis\":{\"gridcolor\":\"white\",\"linecolor\":\"white\",\"ticks\":\"\"},\"radialaxis\":{\"gridcolor\":\"white\",\"linecolor\":\"white\",\"ticks\":\"\"}},\"ternary\":{\"bgcolor\":\"#E5ECF6\",\"aaxis\":{\"gridcolor\":\"white\",\"linecolor\":\"white\",\"ticks\":\"\"},\"baxis\":{\"gridcolor\":\"white\",\"linecolor\":\"white\",\"ticks\":\"\"},\"caxis\":{\"gridcolor\":\"white\",\"linecolor\":\"white\",\"ticks\":\"\"}},\"coloraxis\":{\"colorbar\":{\"outlinewidth\":0,\"ticks\":\"\"}},\"colorscale\":{\"sequential\":[[0.0,\"#0d0887\"],[0.1111111111111111,\"#46039f\"],[0.2222222222222222,\"#7201a8\"],[0.3333333333333333,\"#9c179e\"],[0.4444444444444444,\"#bd3786\"],[0.5555555555555556,\"#d8576b\"],[0.6666666666666666,\"#ed7953\"],[0.7777777777777778,\"#fb9f3a\"],[0.8888888888888888,\"#fdca26\"],[1.0,\"#f0f921\"]],\"sequentialminus\":[[0.0,\"#0d0887\"],[0.1111111111111111,\"#46039f\"],[0.2222222222222222,\"#7201a8\"],[0.3333333333333333,\"#9c179e\"],[0.4444444444444444,\"#bd3786\"],[0.5555555555555556,\"#d8576b\"],[0.6666666666666666,\"#ed7953\"],[0.7777777777777778,\"#fb9f3a\"],[0.8888888888888888,\"#fdca26\"],[1.0,\"#f0f921\"]],\"diverging\":[[0,\"#8e0152\"],[0.1,\"#c51b7d\"],[0.2,\"#de77ae\"],[0.3,\"#f1b6da\"],[0.4,\"#fde0ef\"],[0.5,\"#f7f7f7\"],[0.6,\"#e6f5d0\"],[0.7,\"#b8e186\"],[0.8,\"#7fbc41\"],[0.9,\"#4d9221\"],[1,\"#276419\"]]},\"xaxis\":{\"gridcolor\":\"white\",\"linecolor\":\"white\",\"ticks\":\"\",\"title\":{\"standoff\":15},\"zerolinecolor\":\"white\",\"automargin\":true,\"zerolinewidth\":2},\"yaxis\":{\"gridcolor\":\"white\",\"linecolor\":\"white\",\"ticks\":\"\",\"title\":{\"standoff\":15},\"zerolinecolor\":\"white\",\"automargin\":true,\"zerolinewidth\":2},\"scene\":{\"xaxis\":{\"backgroundcolor\":\"#E5ECF6\",\"gridcolor\":\"white\",\"linecolor\":\"white\",\"showbackground\":true,\"ticks\":\"\",\"zerolinecolor\":\"white\",\"gridwidth\":2},\"yaxis\":{\"backgroundcolor\":\"#E5ECF6\",\"gridcolor\":\"white\",\"linecolor\":\"white\",\"showbackground\":true,\"ticks\":\"\",\"zerolinecolor\":\"white\",\"gridwidth\":2},\"zaxis\":{\"backgroundcolor\":\"#E5ECF6\",\"gridcolor\":\"white\",\"linecolor\":\"white\",\"showbackground\":true,\"ticks\":\"\",\"zerolinecolor\":\"white\",\"gridwidth\":2}},\"shapedefaults\":{\"line\":{\"color\":\"#2a3f5f\"}},\"annotationdefaults\":{\"arrowcolor\":\"#2a3f5f\",\"arrowhead\":0,\"arrowwidth\":1},\"geo\":{\"bgcolor\":\"white\",\"landcolor\":\"#E5ECF6\",\"subunitcolor\":\"white\",\"showland\":true,\"showlakes\":true,\"lakecolor\":\"white\"},\"title\":{\"x\":0.05},\"mapbox\":{\"style\":\"light\"}}},\"geo\":{\"domain\":{\"x\":[0.0,1.0],\"y\":[0.0,1.0]},\"center\":{},\"visible\":false,\"showcountries\":true,\"countrycolor\":\"darkGray\"},\"coloraxis\":{\"colorbar\":{\"title\":{\"text\":\"counts\"}},\"colorscale\":[[0.0,\"#0d0887\"],[0.1111111111111111,\"#46039f\"],[0.2222222222222222,\"#7201a8\"],[0.3333333333333333,\"#9c179e\"],[0.4444444444444444,\"#bd3786\"],[0.5555555555555556,\"#d8576b\"],[0.6666666666666666,\"#ed7953\"],[0.7777777777777778,\"#fb9f3a\"],[0.8888888888888888,\"#fdca26\"],[1.0,\"#f0f921\"]]},\"legend\":{\"tracegroupgap\":0,\"itemsizing\":\"constant\"},\"margin\":{\"t\":60},\"updatemenus\":[{\"buttons\":[{\"args\":[null,{\"frame\":{\"duration\":500,\"redraw\":true},\"mode\":\"immediate\",\"fromcurrent\":true,\"transition\":{\"duration\":500,\"easing\":\"linear\"}}],\"label\":\"&#9654;\",\"method\":\"animate\"},{\"args\":[[null],{\"frame\":{\"duration\":0,\"redraw\":true},\"mode\":\"immediate\",\"fromcurrent\":true,\"transition\":{\"duration\":0,\"easing\":\"linear\"}}],\"label\":\"&#9724;\",\"method\":\"animate\"}],\"direction\":\"left\",\"pad\":{\"r\":10,\"t\":70},\"showactive\":false,\"type\":\"buttons\",\"x\":0.1,\"xanchor\":\"right\",\"y\":0,\"yanchor\":\"top\"}],\"sliders\":[{\"active\":0,\"currentvalue\":{\"prefix\":\"disc_year=\"},\"len\":0.9,\"pad\":{\"b\":10,\"t\":60},\"steps\":[{\"args\":[[\"1992\"],{\"frame\":{\"duration\":0,\"redraw\":true},\"mode\":\"immediate\",\"fromcurrent\":true,\"transition\":{\"duration\":0,\"easing\":\"linear\"}}],\"label\":\"1992\",\"method\":\"animate\"},{\"args\":[[\"1993\"],{\"frame\":{\"duration\":0,\"redraw\":true},\"mode\":\"immediate\",\"fromcurrent\":true,\"transition\":{\"duration\":0,\"easing\":\"linear\"}}],\"label\":\"1993\",\"method\":\"animate\"},{\"args\":[[\"1994\"],{\"frame\":{\"duration\":0,\"redraw\":true},\"mode\":\"immediate\",\"fromcurrent\":true,\"transition\":{\"duration\":0,\"easing\":\"linear\"}}],\"label\":\"1994\",\"method\":\"animate\"},{\"args\":[[\"1995\"],{\"frame\":{\"duration\":0,\"redraw\":true},\"mode\":\"immediate\",\"fromcurrent\":true,\"transition\":{\"duration\":0,\"easing\":\"linear\"}}],\"label\":\"1995\",\"method\":\"animate\"},{\"args\":[[\"1996\"],{\"frame\":{\"duration\":0,\"redraw\":true},\"mode\":\"immediate\",\"fromcurrent\":true,\"transition\":{\"duration\":0,\"easing\":\"linear\"}}],\"label\":\"1996\",\"method\":\"animate\"},{\"args\":[[\"1997\"],{\"frame\":{\"duration\":0,\"redraw\":true},\"mode\":\"immediate\",\"fromcurrent\":true,\"transition\":{\"duration\":0,\"easing\":\"linear\"}}],\"label\":\"1997\",\"method\":\"animate\"},{\"args\":[[\"1998\"],{\"frame\":{\"duration\":0,\"redraw\":true},\"mode\":\"immediate\",\"fromcurrent\":true,\"transition\":{\"duration\":0,\"easing\":\"linear\"}}],\"label\":\"1998\",\"method\":\"animate\"},{\"args\":[[\"1999\"],{\"frame\":{\"duration\":0,\"redraw\":true},\"mode\":\"immediate\",\"fromcurrent\":true,\"transition\":{\"duration\":0,\"easing\":\"linear\"}}],\"label\":\"1999\",\"method\":\"animate\"},{\"args\":[[\"2000\"],{\"frame\":{\"duration\":0,\"redraw\":true},\"mode\":\"immediate\",\"fromcurrent\":true,\"transition\":{\"duration\":0,\"easing\":\"linear\"}}],\"label\":\"2000\",\"method\":\"animate\"},{\"args\":[[\"2001\"],{\"frame\":{\"duration\":0,\"redraw\":true},\"mode\":\"immediate\",\"fromcurrent\":true,\"transition\":{\"duration\":0,\"easing\":\"linear\"}}],\"label\":\"2001\",\"method\":\"animate\"},{\"args\":[[\"2002\"],{\"frame\":{\"duration\":0,\"redraw\":true},\"mode\":\"immediate\",\"fromcurrent\":true,\"transition\":{\"duration\":0,\"easing\":\"linear\"}}],\"label\":\"2002\",\"method\":\"animate\"},{\"args\":[[\"2003\"],{\"frame\":{\"duration\":0,\"redraw\":true},\"mode\":\"immediate\",\"fromcurrent\":true,\"transition\":{\"duration\":0,\"easing\":\"linear\"}}],\"label\":\"2003\",\"method\":\"animate\"},{\"args\":[[\"2004\"],{\"frame\":{\"duration\":0,\"redraw\":true},\"mode\":\"immediate\",\"fromcurrent\":true,\"transition\":{\"duration\":0,\"easing\":\"linear\"}}],\"label\":\"2004\",\"method\":\"animate\"},{\"args\":[[\"2005\"],{\"frame\":{\"duration\":0,\"redraw\":true},\"mode\":\"immediate\",\"fromcurrent\":true,\"transition\":{\"duration\":0,\"easing\":\"linear\"}}],\"label\":\"2005\",\"method\":\"animate\"},{\"args\":[[\"2006\"],{\"frame\":{\"duration\":0,\"redraw\":true},\"mode\":\"immediate\",\"fromcurrent\":true,\"transition\":{\"duration\":0,\"easing\":\"linear\"}}],\"label\":\"2006\",\"method\":\"animate\"},{\"args\":[[\"2007\"],{\"frame\":{\"duration\":0,\"redraw\":true},\"mode\":\"immediate\",\"fromcurrent\":true,\"transition\":{\"duration\":0,\"easing\":\"linear\"}}],\"label\":\"2007\",\"method\":\"animate\"},{\"args\":[[\"2008\"],{\"frame\":{\"duration\":0,\"redraw\":true},\"mode\":\"immediate\",\"fromcurrent\":true,\"transition\":{\"duration\":0,\"easing\":\"linear\"}}],\"label\":\"2008\",\"method\":\"animate\"},{\"args\":[[\"2009\"],{\"frame\":{\"duration\":0,\"redraw\":true},\"mode\":\"immediate\",\"fromcurrent\":true,\"transition\":{\"duration\":0,\"easing\":\"linear\"}}],\"label\":\"2009\",\"method\":\"animate\"},{\"args\":[[\"2010\"],{\"frame\":{\"duration\":0,\"redraw\":true},\"mode\":\"immediate\",\"fromcurrent\":true,\"transition\":{\"duration\":0,\"easing\":\"linear\"}}],\"label\":\"2010\",\"method\":\"animate\"},{\"args\":[[\"2011\"],{\"frame\":{\"duration\":0,\"redraw\":true},\"mode\":\"immediate\",\"fromcurrent\":true,\"transition\":{\"duration\":0,\"easing\":\"linear\"}}],\"label\":\"2011\",\"method\":\"animate\"},{\"args\":[[\"2012\"],{\"frame\":{\"duration\":0,\"redraw\":true},\"mode\":\"immediate\",\"fromcurrent\":true,\"transition\":{\"duration\":0,\"easing\":\"linear\"}}],\"label\":\"2012\",\"method\":\"animate\"},{\"args\":[[\"2013\"],{\"frame\":{\"duration\":0,\"redraw\":true},\"mode\":\"immediate\",\"fromcurrent\":true,\"transition\":{\"duration\":0,\"easing\":\"linear\"}}],\"label\":\"2013\",\"method\":\"animate\"},{\"args\":[[\"2014\"],{\"frame\":{\"duration\":0,\"redraw\":true},\"mode\":\"immediate\",\"fromcurrent\":true,\"transition\":{\"duration\":0,\"easing\":\"linear\"}}],\"label\":\"2014\",\"method\":\"animate\"},{\"args\":[[\"2015\"],{\"frame\":{\"duration\":0,\"redraw\":true},\"mode\":\"immediate\",\"fromcurrent\":true,\"transition\":{\"duration\":0,\"easing\":\"linear\"}}],\"label\":\"2015\",\"method\":\"animate\"},{\"args\":[[\"2016\"],{\"frame\":{\"duration\":0,\"redraw\":true},\"mode\":\"immediate\",\"fromcurrent\":true,\"transition\":{\"duration\":0,\"easing\":\"linear\"}}],\"label\":\"2016\",\"method\":\"animate\"},{\"args\":[[\"2017\"],{\"frame\":{\"duration\":0,\"redraw\":true},\"mode\":\"immediate\",\"fromcurrent\":true,\"transition\":{\"duration\":0,\"easing\":\"linear\"}}],\"label\":\"2017\",\"method\":\"animate\"},{\"args\":[[\"2018\"],{\"frame\":{\"duration\":0,\"redraw\":true},\"mode\":\"immediate\",\"fromcurrent\":true,\"transition\":{\"duration\":0,\"easing\":\"linear\"}}],\"label\":\"2018\",\"method\":\"animate\"},{\"args\":[[\"2019\"],{\"frame\":{\"duration\":0,\"redraw\":true},\"mode\":\"immediate\",\"fromcurrent\":true,\"transition\":{\"duration\":0,\"easing\":\"linear\"}}],\"label\":\"2019\",\"method\":\"animate\"},{\"args\":[[\"2020\"],{\"frame\":{\"duration\":0,\"redraw\":true},\"mode\":\"immediate\",\"fromcurrent\":true,\"transition\":{\"duration\":0,\"easing\":\"linear\"}}],\"label\":\"2020\",\"method\":\"animate\"},{\"args\":[[\"2021\"],{\"frame\":{\"duration\":0,\"redraw\":true},\"mode\":\"immediate\",\"fromcurrent\":true,\"transition\":{\"duration\":0,\"easing\":\"linear\"}}],\"label\":\"2021\",\"method\":\"animate\"},{\"args\":[[\"2022\"],{\"frame\":{\"duration\":0,\"redraw\":true},\"mode\":\"immediate\",\"fromcurrent\":true,\"transition\":{\"duration\":0,\"easing\":\"linear\"}}],\"label\":\"2022\",\"method\":\"animate\"},{\"args\":[[\"2023\"],{\"frame\":{\"duration\":0,\"redraw\":true},\"mode\":\"immediate\",\"fromcurrent\":true,\"transition\":{\"duration\":0,\"easing\":\"linear\"}}],\"label\":\"2023\",\"method\":\"animate\"}],\"x\":0.1,\"xanchor\":\"left\",\"y\":0,\"yanchor\":\"top\"}],\"title\":{\"text\":\"Exoplanet discoveries by ground-based facilities over time\",\"x\":0.5},\"width\":1200,\"height\":650},                        {\"responsive\": true}                    ).then(function(){\n",
       "                            Plotly.addFrames('c834cc64-ebaf-4022-a5e0-96089b1eae3c', [{\"data\":[{\"geo\":\"geo\",\"hovertemplate\":\"\\u003cb\\u003e%{hovertext}\\u003c\\u002fb\\u003e\\u003cbr\\u003e\\u003cbr\\u003edisc_year=1992\\u003cbr\\u003ecounts=%{marker.color}\\u003cbr\\u003elatitude=%{lat}\\u003cbr\\u003elongitude=%{lon}\\u003cextra\\u003e\\u003c\\u002fextra\\u003e\",\"hovertext\":[\"Acton Sky Portal Observatory\",\"Haute-Provence Observatory\",\"SuperWASP-North\",\"Haleakala Observatory\",\"SuperWASP-South\",\"HATSouth\",\"Teide Observatory\",\"HATNet\",\"Thueringer Landessternwarte Tautenburg\",\"Gemini Observatory\",\"TrES\",\"Fred Lawrence Whipple Observatory\",\"SuperWASP\",\"United Kingdom Infrared Telescope\",\"University of Canterbury Mt John Observatory\",\"Cerro Tololo Inter-American Observatory\",\"Very Long Baseline Array\",\"Calar Alto Observatory\",\"W. M. Keck Observatory\",\"Bohyunsan Optical Astronomical Observatory\",\"WASP-South\",\"Atacama Large Millimeter Array (ALMA)\",\"Winer Observatory\",\"Arecibo Observatory\",\"XO\",\"European Southern Observatory\",\"Infrared Survey Facility\",\"Subaru Telescope\",\"SPECULOOS Southern Observatory\",\"MOA\",\"McDonald Observatory\",\"MEarth Project\",\"Multiple Facilities\",\"Lowell Observatory\",\"Multiple Observatories\",\"Lick Observatory\",\"NASA Infrared Telescope Facility (IRTF)\",\"Leoncito Astronomical Complex\",\"Next-Generation Transit Survey (NGTS)\",\"Las Campanas Observatory\",\"OGLE\",\"Large Binocular Telescope Observatory\",\"Okayama Astrophysical Observatory\",\"La Silla Observatory\",\"Palomar Observatory\",\"Kitt Peak National Observatory\",\"Paranal Observatory\",\"KMTNet\",\"Parkes Observatory\",\"KELT-South\",\"Qatar\",\"KELT-North\",\"Roque de los Muchachos Observatory\",\"KELT\",\"Apache Point Observatory\",\"Xinglong Station\",\"Mauna Kea Observatory\",\"Anglo-Australian Telescope\",\"Yunnan Astronomical Observatory\"],\"ids\":[\"Acton Sky Portal Observatory\",\"Haute-Provence Observatory\",\"SuperWASP-North\",\"Haleakala Observatory\",\"SuperWASP-South\",\"HATSouth\",\"Teide Observatory\",\"HATNet\",\"Thueringer Landessternwarte Tautenburg\",\"Gemini Observatory\",\"TrES\",\"Fred Lawrence Whipple Observatory\",\"SuperWASP\",\"United Kingdom Infrared Telescope\",\"University of Canterbury Mt John Observatory\",\"Cerro Tololo Inter-American Observatory\",\"Very Long Baseline Array\",\"Calar Alto Observatory\",\"W. M. Keck Observatory\",\"Bohyunsan Optical Astronomical Observatory\",\"WASP-South\",\"Atacama Large Millimeter Array (ALMA)\",\"Winer Observatory\",\"Arecibo Observatory\",\"XO\",\"European Southern Observatory\",\"Infrared Survey Facility\",\"Subaru Telescope\",\"SPECULOOS Southern Observatory\",\"MOA\",\"McDonald Observatory\",\"MEarth Project\",\"Multiple Facilities\",\"Lowell Observatory\",\"Multiple Observatories\",\"Lick Observatory\",\"NASA Infrared Telescope Facility (IRTF)\",\"Leoncito Astronomical Complex\",\"Next-Generation Transit Survey (NGTS)\",\"Las Campanas Observatory\",\"OGLE\",\"Large Binocular Telescope Observatory\",\"Okayama Astrophysical Observatory\",\"La Silla Observatory\",\"Palomar Observatory\",\"Kitt Peak National Observatory\",\"Paranal Observatory\",\"KMTNet\",\"Parkes Observatory\",\"KELT-South\",\"Qatar\",\"KELT-North\",\"Roque de los Muchachos Observatory\",\"KELT\",\"Apache Point Observatory\",\"Xinglong Station\",\"Mauna Kea Observatory\",\"Anglo-Australian Telescope\",\"Yunnan Astronomical Observatory\"],\"lat\":[42.4850931,43.93465290685473,28.7602486,20.707724,-32.380828300000005,null,28.30155405,36.2534455,50.980589699999996,19.7010144,46.32311,31.680770000000003,-32.380828300000005,19.82263133941441,-43.985079510206,-30.17112555,35.7751349,37.222216,19.826335800000003,36.16493673022682,-54.74708985,-23.016605,31.66664384843098,18.34435035,18.3167587,-33.39954245,-32.40945838829719,19.825628,null,14.53520885,30.6758212,31.6841828,null,35.20294505,null,37.343180950000004,19.8262932,-31.798406322237792,-24.6157395,-29.01915575,42.0397014,32.701432499999996,34.57620737464398,-29.2552104,33.353975750000004,31.96005045,-24.62746015,-32.3788046,-32.9986005,-32.380265449999996,25.3336984,64.23121929999999,28.757069,50.044335,32.780298450000004,28.2993048,19.824758000000003,-31.275452,25.05169275],\"legendgroup\":\"\",\"lon\":[-71.43284,5.711210002635074,-17.879274799500855,-156.25732220375536,20.8104941,null,-16.509883823160067,36.5635125,11.710985584651013,-155.0901111721641,11.096874,-110.87874815220113,20.8104941,-155.4702713396269,170.46406802137483,-70.80355626100308,-106.24555896743195,-2.54693,-155.4744554555519,128.97680621520124,-35.854428196605994,-67.77226867219686,-110.60167156843839,-66.75271716738939,102.1082886,-70.6002258733539,20.800649558809692,-155.475984,null,120.98159848166422,-104.02058383636867,-110.8780229,null,-111.66465289534443,null,-121.6452932158403,-155.471936,-69.29561017690845,-70.39103904999999,-70.69060142428015,-89.3138599,-109.88921125289411,133.59468610715888,-70.73950703583358,-116.86137432789532,-111.59806254704941,-70.40415067740268,20.810438721680914,148.262423,20.810272050000002,51.2295295,23.8115647838413,-17.88884356096937,15.7454858,-105.81990911661293,105.3761434,-155.47335552670813,149.067221,102.57846947618563],\"marker\":{\"color\":[0,0,0,0,0,0,0,0,0,0,0,0,0,0,0,0,0,0,0,0,0,0,0,2,0,0,0,0,0,0,0,0,0,0,0,0,0,0,0,0,0,0,0,0,0,0,0,0,0,0,0,0,0,0,0,0,0,0,0],\"coloraxis\":\"coloraxis\",\"size\":[0,0,0,0,0,0,0,0,0,0,0,0,0,0,0,0,0,0,0,0,0,0,0,2,0,0,0,0,0,0,0,0,0,0,0,0,0,0,0,0,0,0,0,0,0,0,0,0,0,0,0,0,0,0,0,0,0,0,0],\"sizemode\":\"area\",\"sizeref\":0.1124,\"symbol\":\"circle\"},\"mode\":\"markers\",\"name\":\"\",\"showlegend\":false,\"type\":\"scattergeo\"}],\"name\":\"1992\"},{\"data\":[{\"geo\":\"geo\",\"hovertemplate\":\"\\u003cb\\u003e%{hovertext}\\u003c\\u002fb\\u003e\\u003cbr\\u003e\\u003cbr\\u003edisc_year=1993\\u003cbr\\u003ecounts=%{marker.color}\\u003cbr\\u003elatitude=%{lat}\\u003cbr\\u003elongitude=%{lon}\\u003cextra\\u003e\\u003c\\u002fextra\\u003e\",\"hovertext\":[\"Teide Observatory\",\"SuperWASP-North\",\"TrES\",\"HATSouth\",\"W. M. Keck Observatory\",\"Multiple Observatories\",\"Kitt Peak National Observatory\",\"Lowell Observatory\",\"Paranal Observatory\",\"Las Campanas Observatory\",\"United Kingdom Infrared Telescope\",\"Calar Alto Observatory\",\"Arecibo Observatory\",\"Lick Observatory\",\"NASA Infrared Telescope Facility (IRTF)\",\"Palomar Observatory\",\"La Silla Observatory\",\"Haleakala Observatory\",\"Anglo-Australian Telescope\",\"SuperWASP-South\",\"WASP-South\",\"Large Binocular Telescope Observatory\",\"Next-Generation Transit Survey (NGTS)\",\"University of Canterbury Mt John Observatory\",\"Leoncito Astronomical Complex\",\"Bohyunsan Optical Astronomical Observatory\",\"Atacama Large Millimeter Array (ALMA)\",\"Infrared Survey Facility\",\"Fred Lawrence Whipple Observatory\",\"SPECULOOS Southern Observatory\",\"Winer Observatory\",\"Okayama Astrophysical Observatory\",\"European Southern Observatory\",\"OGLE\",\"Thueringer Landessternwarte Tautenburg\",\"SuperWASP\",\"McDonald Observatory\",\"Very Long Baseline Array\",\"Cerro Tololo Inter-American Observatory\",\"Apache Point Observatory\",\"HATNet\",\"Mauna Kea Observatory\",\"MOA\",\"Qatar\",\"Yunnan Astronomical Observatory\",\"KELT-South\",\"KELT-North\",\"Multiple Facilities\",\"MEarth Project\",\"Roque de los Muchachos Observatory\",\"Xinglong Station\",\"Haute-Provence Observatory\",\"Gemini Observatory\",\"Acton Sky Portal Observatory\",\"Parkes Observatory\",\"Subaru Telescope\",\"KMTNet\",\"XO\",\"KELT\"],\"ids\":[\"Teide Observatory\",\"SuperWASP-North\",\"TrES\",\"HATSouth\",\"W. M. Keck Observatory\",\"Multiple Observatories\",\"Kitt Peak National Observatory\",\"Lowell Observatory\",\"Paranal Observatory\",\"Las Campanas Observatory\",\"United Kingdom Infrared Telescope\",\"Calar Alto Observatory\",\"Arecibo Observatory\",\"Lick Observatory\",\"NASA Infrared Telescope Facility (IRTF)\",\"Palomar Observatory\",\"La Silla Observatory\",\"Haleakala Observatory\",\"Anglo-Australian Telescope\",\"SuperWASP-South\",\"WASP-South\",\"Large Binocular Telescope Observatory\",\"Next-Generation Transit Survey (NGTS)\",\"University of Canterbury Mt John Observatory\",\"Leoncito Astronomical Complex\",\"Bohyunsan Optical Astronomical Observatory\",\"Atacama Large Millimeter Array (ALMA)\",\"Infrared Survey Facility\",\"Fred Lawrence Whipple Observatory\",\"SPECULOOS Southern Observatory\",\"Winer Observatory\",\"Okayama Astrophysical Observatory\",\"European Southern Observatory\",\"OGLE\",\"Thueringer Landessternwarte Tautenburg\",\"SuperWASP\",\"McDonald Observatory\",\"Very Long Baseline Array\",\"Cerro Tololo Inter-American Observatory\",\"Apache Point Observatory\",\"HATNet\",\"Mauna Kea Observatory\",\"MOA\",\"Qatar\",\"Yunnan Astronomical Observatory\",\"KELT-South\",\"KELT-North\",\"Multiple Facilities\",\"MEarth Project\",\"Roque de los Muchachos Observatory\",\"Xinglong Station\",\"Haute-Provence Observatory\",\"Gemini Observatory\",\"Acton Sky Portal Observatory\",\"Parkes Observatory\",\"Subaru Telescope\",\"KMTNet\",\"XO\",\"KELT\"],\"lat\":[28.30155405,28.7602486,46.32311,null,19.826335800000003,null,31.96005045,35.20294505,-24.62746015,-29.01915575,19.82263133941441,37.222216,18.34435035,37.343180950000004,19.8262932,33.353975750000004,-29.2552104,20.707724,-31.275452,-32.380828300000005,-54.74708985,32.701432499999996,-24.6157395,-43.985079510206,-31.798406322237792,36.16493673022682,-23.016605,-32.40945838829719,31.680770000000003,null,31.66664384843098,34.57620737464398,-33.39954245,42.0397014,50.980589699999996,-32.380828300000005,30.6758212,35.7751349,-30.17112555,32.780298450000004,36.2534455,19.824758000000003,14.53520885,25.3336984,25.05169275,-32.380265449999996,64.23121929999999,null,31.6841828,28.757069,28.2993048,43.93465290685473,19.7010144,42.4850931,-32.9986005,19.825628,-32.3788046,18.3167587,50.044335],\"legendgroup\":\"\",\"lon\":[-16.509883823160067,-17.879274799500855,11.096874,null,-155.4744554555519,null,-111.59806254704941,-111.66465289534443,-70.40415067740268,-70.69060142428015,-155.4702713396269,-2.54693,-66.75271716738939,-121.6452932158403,-155.471936,-116.86137432789532,-70.73950703583358,-156.25732220375536,149.067221,20.8104941,-35.854428196605994,-109.88921125289411,-70.39103904999999,170.46406802137483,-69.29561017690845,128.97680621520124,-67.77226867219686,20.800649558809692,-110.87874815220113,null,-110.60167156843839,133.59468610715888,-70.6002258733539,-89.3138599,11.710985584651013,20.8104941,-104.02058383636867,-106.24555896743195,-70.80355626100308,-105.81990911661293,36.5635125,-155.47335552670813,120.98159848166422,51.2295295,102.57846947618563,20.810272050000002,23.8115647838413,null,-110.8780229,-17.88884356096937,105.3761434,5.711210002635074,-155.0901111721641,-71.43284,148.262423,-155.475984,20.810438721680914,102.1082886,15.7454858],\"marker\":{\"color\":[0,0,0,0,0,0,0,0,0,0,0,0,2,0,0,0,0,0,0,0,0,0,0,0,0,0,0,0,0,0,0,0,0,0,0,0,0,0,0,0,0,0,0,0,0,0,0,0,0,0,0,0,0,0,0,0,0,0,0],\"coloraxis\":\"coloraxis\",\"size\":[0,0,0,0,0,0,0,0,0,0,0,0,2,0,0,0,0,0,0,0,0,0,0,0,0,0,0,0,0,0,0,0,0,0,0,0,0,0,0,0,0,0,0,0,0,0,0,0,0,0,0,0,0,0,0,0,0,0,0],\"sizemode\":\"area\",\"sizeref\":0.1124,\"symbol\":\"circle\"},\"mode\":\"markers\",\"name\":\"\",\"showlegend\":false,\"type\":\"scattergeo\"}],\"name\":\"1993\"},{\"data\":[{\"geo\":\"geo\",\"hovertemplate\":\"\\u003cb\\u003e%{hovertext}\\u003c\\u002fb\\u003e\\u003cbr\\u003e\\u003cbr\\u003edisc_year=1994\\u003cbr\\u003ecounts=%{marker.color}\\u003cbr\\u003elatitude=%{lat}\\u003cbr\\u003elongitude=%{lon}\\u003cextra\\u003e\\u003c\\u002fextra\\u003e\",\"hovertext\":[\"KELT-North\",\"Bohyunsan Optical Astronomical Observatory\",\"KMTNet\",\"Cerro Tololo Inter-American Observatory\",\"Large Binocular Telescope Observatory\",\"Subaru Telescope\",\"WASP-South\",\"Roque de los Muchachos Observatory\",\"Okayama Astrophysical Observatory\",\"Fred Lawrence Whipple Observatory\",\"Palomar Observatory\",\"Haleakala Observatory\",\"Calar Alto Observatory\",\"Parkes Observatory\",\"United Kingdom Infrared Telescope\",\"Haute-Provence Observatory\",\"Paranal Observatory\",\"KELT-South\",\"KELT\",\"Kitt Peak National Observatory\",\"SuperWASP\",\"Very Long Baseline Array\",\"Yunnan Astronomical Observatory\",\"Qatar\",\"SuperWASP-North\",\"La Silla Observatory\",\"W. M. Keck Observatory\",\"OGLE\",\"European Southern Observatory\",\"Teide Observatory\",\"Acton Sky Portal Observatory\",\"XO\",\"McDonald Observatory\",\"TrES\",\"NASA Infrared Telescope Facility (IRTF)\",\"Lick Observatory\",\"Infrared Survey Facility\",\"HATSouth\",\"Anglo-Australian Telescope\",\"Multiple Observatories\",\"University of Canterbury Mt John Observatory\",\"Lowell Observatory\",\"MEarth Project\",\"Gemini Observatory\",\"Arecibo Observatory\",\"HATNet\",\"MOA\",\"Winer Observatory\",\"Multiple Facilities\",\"Xinglong Station\",\"Mauna Kea Observatory\",\"Thueringer Landessternwarte Tautenburg\",\"Next-Generation Transit Survey (NGTS)\",\"SPECULOOS Southern Observatory\",\"Leoncito Astronomical Complex\",\"SuperWASP-South\",\"Apache Point Observatory\",\"Atacama Large Millimeter Array (ALMA)\",\"Las Campanas Observatory\"],\"ids\":[\"KELT-North\",\"Bohyunsan Optical Astronomical Observatory\",\"KMTNet\",\"Cerro Tololo Inter-American Observatory\",\"Large Binocular Telescope Observatory\",\"Subaru Telescope\",\"WASP-South\",\"Roque de los Muchachos Observatory\",\"Okayama Astrophysical Observatory\",\"Fred Lawrence Whipple Observatory\",\"Palomar Observatory\",\"Haleakala Observatory\",\"Calar Alto Observatory\",\"Parkes Observatory\",\"United Kingdom Infrared Telescope\",\"Haute-Provence Observatory\",\"Paranal Observatory\",\"KELT-South\",\"KELT\",\"Kitt Peak National Observatory\",\"SuperWASP\",\"Very Long Baseline Array\",\"Yunnan Astronomical Observatory\",\"Qatar\",\"SuperWASP-North\",\"La Silla Observatory\",\"W. M. Keck Observatory\",\"OGLE\",\"European Southern Observatory\",\"Teide Observatory\",\"Acton Sky Portal Observatory\",\"XO\",\"McDonald Observatory\",\"TrES\",\"NASA Infrared Telescope Facility (IRTF)\",\"Lick Observatory\",\"Infrared Survey Facility\",\"HATSouth\",\"Anglo-Australian Telescope\",\"Multiple Observatories\",\"University of Canterbury Mt John Observatory\",\"Lowell Observatory\",\"MEarth Project\",\"Gemini Observatory\",\"Arecibo Observatory\",\"HATNet\",\"MOA\",\"Winer Observatory\",\"Multiple Facilities\",\"Xinglong Station\",\"Mauna Kea Observatory\",\"Thueringer Landessternwarte Tautenburg\",\"Next-Generation Transit Survey (NGTS)\",\"SPECULOOS Southern Observatory\",\"Leoncito Astronomical Complex\",\"SuperWASP-South\",\"Apache Point Observatory\",\"Atacama Large Millimeter Array (ALMA)\",\"Las Campanas Observatory\"],\"lat\":[64.23121929999999,36.16493673022682,-32.3788046,-30.17112555,32.701432499999996,19.825628,-54.74708985,28.757069,34.57620737464398,31.680770000000003,33.353975750000004,20.707724,37.222216,-32.9986005,19.82263133941441,43.93465290685473,-24.62746015,-32.380265449999996,50.044335,31.96005045,-32.380828300000005,35.7751349,25.05169275,25.3336984,28.7602486,-29.2552104,19.826335800000003,42.0397014,-33.39954245,28.30155405,42.4850931,18.3167587,30.6758212,46.32311,19.8262932,37.343180950000004,-32.40945838829719,null,-31.275452,null,-43.985079510206,35.20294505,31.6841828,19.7010144,18.34435035,36.2534455,14.53520885,31.66664384843098,null,28.2993048,19.824758000000003,50.980589699999996,-24.6157395,null,-31.798406322237792,-32.380828300000005,32.780298450000004,-23.016605,-29.01915575],\"legendgroup\":\"\",\"lon\":[23.8115647838413,128.97680621520124,20.810438721680914,-70.80355626100308,-109.88921125289411,-155.475984,-35.854428196605994,-17.88884356096937,133.59468610715888,-110.87874815220113,-116.86137432789532,-156.25732220375536,-2.54693,148.262423,-155.4702713396269,5.711210002635074,-70.40415067740268,20.810272050000002,15.7454858,-111.59806254704941,20.8104941,-106.24555896743195,102.57846947618563,51.2295295,-17.879274799500855,-70.73950703583358,-155.4744554555519,-89.3138599,-70.6002258733539,-16.509883823160067,-71.43284,102.1082886,-104.02058383636867,11.096874,-155.471936,-121.6452932158403,20.800649558809692,null,149.067221,null,170.46406802137483,-111.66465289534443,-110.8780229,-155.0901111721641,-66.75271716738939,36.5635125,120.98159848166422,-110.60167156843839,null,105.3761434,-155.47335552670813,11.710985584651013,-70.39103904999999,null,-69.29561017690845,20.8104941,-105.81990911661293,-67.77226867219686,-70.69060142428015],\"marker\":{\"color\":[0,0,0,0,0,0,0,0,0,0,0,0,0,0,0,0,0,0,0,0,0,0,0,0,0,0,0,0,0,0,0,0,0,0,0,0,0,0,0,0,0,0,0,0,3,0,0,0,0,0,0,0,0,0,0,0,0,0,0],\"coloraxis\":\"coloraxis\",\"size\":[0,0,0,0,0,0,0,0,0,0,0,0,0,0,0,0,0,0,0,0,0,0,0,0,0,0,0,0,0,0,0,0,0,0,0,0,0,0,0,0,0,0,0,0,3,0,0,0,0,0,0,0,0,0,0,0,0,0,0],\"sizemode\":\"area\",\"sizeref\":0.1124,\"symbol\":\"circle\"},\"mode\":\"markers\",\"name\":\"\",\"showlegend\":false,\"type\":\"scattergeo\"}],\"name\":\"1994\"},{\"data\":[{\"geo\":\"geo\",\"hovertemplate\":\"\\u003cb\\u003e%{hovertext}\\u003c\\u002fb\\u003e\\u003cbr\\u003e\\u003cbr\\u003edisc_year=1995\\u003cbr\\u003ecounts=%{marker.color}\\u003cbr\\u003elatitude=%{lat}\\u003cbr\\u003elongitude=%{lon}\\u003cextra\\u003e\\u003c\\u002fextra\\u003e\",\"hovertext\":[\"KELT\",\"Haute-Provence Observatory\",\"Xinglong Station\",\"KELT-South\",\"Parkes Observatory\",\"SPECULOOS Southern Observatory\",\"Roque de los Muchachos Observatory\",\"XO\",\"Acton Sky Portal Observatory\",\"Subaru Telescope\",\"KELT-North\",\"HATNet\",\"Very Long Baseline Array\",\"Cerro Tololo Inter-American Observatory\",\"McDonald Observatory\",\"MOA\",\"Qatar\",\"Apache Point Observatory\",\"Mauna Kea Observatory\",\"Infrared Survey Facility\",\"MEarth Project\",\"Gemini Observatory\",\"OGLE\",\"Multiple Facilities\",\"University of Canterbury Mt John Observatory\",\"HATSouth\",\"Okayama Astrophysical Observatory\",\"Leoncito Astronomical Complex\",\"Bohyunsan Optical Astronomical Observatory\",\"Atacama Large Millimeter Array (ALMA)\",\"Haleakala Observatory\",\"SuperWASP-South\",\"Large Binocular Telescope Observatory\",\"Fred Lawrence Whipple Observatory\",\"Yunnan Astronomical Observatory\",\"WASP-South\",\"Las Campanas Observatory\",\"SuperWASP-North\",\"Next-Generation Transit Survey (NGTS)\",\"TrES\",\"La Silla Observatory\",\"NASA Infrared Telescope Facility (IRTF)\",\"United Kingdom Infrared Telescope\",\"Thueringer Landessternwarte Tautenburg\",\"Teide Observatory\",\"Arecibo Observatory\",\"European Southern Observatory\",\"Anglo-Australian Telescope\",\"Paranal Observatory\",\"Lowell Observatory\",\"Multiple Observatories\",\"W. M. Keck Observatory\",\"Kitt Peak National Observatory\",\"SuperWASP\",\"Lick Observatory\",\"Palomar Observatory\",\"Winer Observatory\",\"KMTNet\",\"Calar Alto Observatory\"],\"ids\":[\"KELT\",\"Haute-Provence Observatory\",\"Xinglong Station\",\"KELT-South\",\"Parkes Observatory\",\"SPECULOOS Southern Observatory\",\"Roque de los Muchachos Observatory\",\"XO\",\"Acton Sky Portal Observatory\",\"Subaru Telescope\",\"KELT-North\",\"HATNet\",\"Very Long Baseline Array\",\"Cerro Tololo Inter-American Observatory\",\"McDonald Observatory\",\"MOA\",\"Qatar\",\"Apache Point Observatory\",\"Mauna Kea Observatory\",\"Infrared Survey Facility\",\"MEarth Project\",\"Gemini Observatory\",\"OGLE\",\"Multiple Facilities\",\"University of Canterbury Mt John Observatory\",\"HATSouth\",\"Okayama Astrophysical Observatory\",\"Leoncito Astronomical Complex\",\"Bohyunsan Optical Astronomical Observatory\",\"Atacama Large Millimeter Array (ALMA)\",\"Haleakala Observatory\",\"SuperWASP-South\",\"Large Binocular Telescope Observatory\",\"Fred Lawrence Whipple Observatory\",\"Yunnan Astronomical Observatory\",\"WASP-South\",\"Las Campanas Observatory\",\"SuperWASP-North\",\"Next-Generation Transit Survey (NGTS)\",\"TrES\",\"La Silla Observatory\",\"NASA Infrared Telescope Facility (IRTF)\",\"United Kingdom Infrared Telescope\",\"Thueringer Landessternwarte Tautenburg\",\"Teide Observatory\",\"Arecibo Observatory\",\"European Southern Observatory\",\"Anglo-Australian Telescope\",\"Paranal Observatory\",\"Lowell Observatory\",\"Multiple Observatories\",\"W. M. Keck Observatory\",\"Kitt Peak National Observatory\",\"SuperWASP\",\"Lick Observatory\",\"Palomar Observatory\",\"Winer Observatory\",\"KMTNet\",\"Calar Alto Observatory\"],\"lat\":[50.044335,43.93465290685473,28.2993048,-32.380265449999996,-32.9986005,null,28.757069,18.3167587,42.4850931,19.825628,64.23121929999999,36.2534455,35.7751349,-30.17112555,30.6758212,14.53520885,25.3336984,32.780298450000004,19.824758000000003,-32.40945838829719,31.6841828,19.7010144,42.0397014,null,-43.985079510206,null,34.57620737464398,-31.798406322237792,36.16493673022682,-23.016605,20.707724,-32.380828300000005,32.701432499999996,31.680770000000003,25.05169275,-54.74708985,-29.01915575,28.7602486,-24.6157395,46.32311,-29.2552104,19.8262932,19.82263133941441,50.980589699999996,28.30155405,18.34435035,-33.39954245,-31.275452,-24.62746015,35.20294505,null,19.826335800000003,31.96005045,-32.380828300000005,37.343180950000004,33.353975750000004,31.66664384843098,-32.3788046,37.222216],\"legendgroup\":\"\",\"lon\":[15.7454858,5.711210002635074,105.3761434,20.810272050000002,148.262423,null,-17.88884356096937,102.1082886,-71.43284,-155.475984,23.8115647838413,36.5635125,-106.24555896743195,-70.80355626100308,-104.02058383636867,120.98159848166422,51.2295295,-105.81990911661293,-155.47335552670813,20.800649558809692,-110.8780229,-155.0901111721641,-89.3138599,null,170.46406802137483,null,133.59468610715888,-69.29561017690845,128.97680621520124,-67.77226867219686,-156.25732220375536,20.8104941,-109.88921125289411,-110.87874815220113,102.57846947618563,-35.854428196605994,-70.69060142428015,-17.879274799500855,-70.39103904999999,11.096874,-70.73950703583358,-155.471936,-155.4702713396269,11.710985584651013,-16.509883823160067,-66.75271716738939,-70.6002258733539,149.067221,-70.40415067740268,-111.66465289534443,null,-155.4744554555519,-111.59806254704941,20.8104941,-121.6452932158403,-116.86137432789532,-110.60167156843839,20.810438721680914,-2.54693],\"marker\":{\"color\":[0,1,0,0,0,0,0,0,0,0,0,0,0,0,0,0,0,0,0,0,0,0,0,0,0,0,0,0,0,0,0,0,0,0,0,0,0,0,0,0,0,0,0,0,0,3,0,0,0,0,0,0,0,0,0,0,0,0,0],\"coloraxis\":\"coloraxis\",\"size\":[0,1,0,0,0,0,0,0,0,0,0,0,0,0,0,0,0,0,0,0,0,0,0,0,0,0,0,0,0,0,0,0,0,0,0,0,0,0,0,0,0,0,0,0,0,3,0,0,0,0,0,0,0,0,0,0,0,0,0],\"sizemode\":\"area\",\"sizeref\":0.1124,\"symbol\":\"circle\"},\"mode\":\"markers\",\"name\":\"\",\"showlegend\":false,\"type\":\"scattergeo\"}],\"name\":\"1995\"},{\"data\":[{\"geo\":\"geo\",\"hovertemplate\":\"\\u003cb\\u003e%{hovertext}\\u003c\\u002fb\\u003e\\u003cbr\\u003e\\u003cbr\\u003edisc_year=1996\\u003cbr\\u003ecounts=%{marker.color}\\u003cbr\\u003elatitude=%{lat}\\u003cbr\\u003elongitude=%{lon}\\u003cextra\\u003e\\u003c\\u002fextra\\u003e\",\"hovertext\":[\"Fred Lawrence Whipple Observatory\",\"Subaru Telescope\",\"Haute-Provence Observatory\",\"United Kingdom Infrared Telescope\",\"SuperWASP\",\"Haleakala Observatory\",\"SuperWASP-North\",\"HATSouth\",\"TrES\",\"SuperWASP-South\",\"Teide Observatory\",\"HATNet\",\"Gemini Observatory\",\"Anglo-Australian Telescope\",\"European Southern Observatory\",\"Infrared Survey Facility\",\"Xinglong Station\",\"WASP-South\",\"La Silla Observatory\",\"Okayama Astrophysical Observatory\",\"Bohyunsan Optical Astronomical Observatory\",\"Large Binocular Telescope Observatory\",\"OGLE\",\"Las Campanas Observatory\",\"Next-Generation Transit Survey (NGTS)\",\"Atacama Large Millimeter Array (ALMA)\",\"Leoncito Astronomical Complex\",\"NASA Infrared Telescope Facility (IRTF)\",\"Winer Observatory\",\"Lick Observatory\",\"Multiple Observatories\",\"Lowell Observatory\",\"Arecibo Observatory\",\"Multiple Facilities\",\"XO\",\"Acton Sky Portal Observatory\",\"MEarth Project\",\"McDonald Observatory\",\"Mauna Kea Observatory\",\"Apache Point Observatory\",\"MOA\",\"Palomar Observatory\",\"Kitt Peak National Observatory\",\"Thueringer Landessternwarte Tautenburg\",\"Paranal Observatory\",\"KELT-South\",\"Cerro Tololo Inter-American Observatory\",\"KELT\",\"Parkes Observatory\",\"KMTNet\",\"Calar Alto Observatory\",\"Very Long Baseline Array\",\"Yunnan Astronomical Observatory\",\"University of Canterbury Mt John Observatory\",\"Qatar\",\"SPECULOOS Southern Observatory\",\"W. M. Keck Observatory\",\"KELT-North\",\"Roque de los Muchachos Observatory\"],\"ids\":[\"Fred Lawrence Whipple Observatory\",\"Subaru Telescope\",\"Haute-Provence Observatory\",\"United Kingdom Infrared Telescope\",\"SuperWASP\",\"Haleakala Observatory\",\"SuperWASP-North\",\"HATSouth\",\"TrES\",\"SuperWASP-South\",\"Teide Observatory\",\"HATNet\",\"Gemini Observatory\",\"Anglo-Australian Telescope\",\"European Southern Observatory\",\"Infrared Survey Facility\",\"Xinglong Station\",\"WASP-South\",\"La Silla Observatory\",\"Okayama Astrophysical Observatory\",\"Bohyunsan Optical Astronomical Observatory\",\"Large Binocular Telescope Observatory\",\"OGLE\",\"Las Campanas Observatory\",\"Next-Generation Transit Survey (NGTS)\",\"Atacama Large Millimeter Array (ALMA)\",\"Leoncito Astronomical Complex\",\"NASA Infrared Telescope Facility (IRTF)\",\"Winer Observatory\",\"Lick Observatory\",\"Multiple Observatories\",\"Lowell Observatory\",\"Arecibo Observatory\",\"Multiple Facilities\",\"XO\",\"Acton Sky Portal Observatory\",\"MEarth Project\",\"McDonald Observatory\",\"Mauna Kea Observatory\",\"Apache Point Observatory\",\"MOA\",\"Palomar Observatory\",\"Kitt Peak National Observatory\",\"Thueringer Landessternwarte Tautenburg\",\"Paranal Observatory\",\"KELT-South\",\"Cerro Tololo Inter-American Observatory\",\"KELT\",\"Parkes Observatory\",\"KMTNet\",\"Calar Alto Observatory\",\"Very Long Baseline Array\",\"Yunnan Astronomical Observatory\",\"University of Canterbury Mt John Observatory\",\"Qatar\",\"SPECULOOS Southern Observatory\",\"W. M. Keck Observatory\",\"KELT-North\",\"Roque de los Muchachos Observatory\"],\"lat\":[31.680770000000003,19.825628,43.93465290685473,19.82263133941441,-32.380828300000005,20.707724,28.7602486,null,46.32311,-32.380828300000005,28.30155405,36.2534455,19.7010144,-31.275452,-33.39954245,-32.40945838829719,28.2993048,-54.74708985,-29.2552104,34.57620737464398,36.16493673022682,32.701432499999996,42.0397014,-29.01915575,-24.6157395,-23.016605,-31.798406322237792,19.8262932,31.66664384843098,37.343180950000004,null,35.20294505,18.34435035,null,18.3167587,42.4850931,31.6841828,30.6758212,19.824758000000003,32.780298450000004,14.53520885,33.353975750000004,31.96005045,50.980589699999996,-24.62746015,-32.380265449999996,-30.17112555,50.044335,-32.9986005,-32.3788046,37.222216,35.7751349,25.05169275,-43.985079510206,25.3336984,null,19.826335800000003,64.23121929999999,28.757069],\"legendgroup\":\"\",\"lon\":[-110.87874815220113,-155.475984,5.711210002635074,-155.4702713396269,20.8104941,-156.25732220375536,-17.879274799500855,null,11.096874,20.8104941,-16.509883823160067,36.5635125,-155.0901111721641,149.067221,-70.6002258733539,20.800649558809692,105.3761434,-35.854428196605994,-70.73950703583358,133.59468610715888,128.97680621520124,-109.88921125289411,-89.3138599,-70.69060142428015,-70.39103904999999,-67.77226867219686,-69.29561017690845,-155.471936,-110.60167156843839,-121.6452932158403,null,-111.66465289534443,-66.75271716738939,null,102.1082886,-71.43284,-110.8780229,-104.02058383636867,-155.47335552670813,-105.81990911661293,120.98159848166422,-116.86137432789532,-111.59806254704941,11.710985584651013,-70.40415067740268,20.810272050000002,-70.80355626100308,15.7454858,148.262423,20.810438721680914,-2.54693,-106.24555896743195,102.57846947618563,170.46406802137483,51.2295295,null,-155.4744554555519,23.8115647838413,-17.88884356096937],\"marker\":{\"color\":[0,0,1,0,0,0,0,0,0,0,0,0,0,0,0,0,0,0,0,0,0,0,0,0,0,0,0,0,0,5,1,0,3,0,0,0,0,0,0,0,0,0,0,0,0,0,0,0,0,0,0,0,0,0,0,0,0,0,0],\"coloraxis\":\"coloraxis\",\"size\":[0,0,1,0,0,0,0,0,0,0,0,0,0,0,0,0,0,0,0,0,0,0,0,0,0,0,0,0,0,5,1,0,3,0,0,0,0,0,0,0,0,0,0,0,0,0,0,0,0,0,0,0,0,0,0,0,0,0,0],\"sizemode\":\"area\",\"sizeref\":0.1124,\"symbol\":\"circle\"},\"mode\":\"markers\",\"name\":\"\",\"showlegend\":false,\"type\":\"scattergeo\"}],\"name\":\"1996\"},{\"data\":[{\"geo\":\"geo\",\"hovertemplate\":\"\\u003cb\\u003e%{hovertext}\\u003c\\u002fb\\u003e\\u003cbr\\u003e\\u003cbr\\u003edisc_year=1997\\u003cbr\\u003ecounts=%{marker.color}\\u003cbr\\u003elatitude=%{lat}\\u003cbr\\u003elongitude=%{lon}\\u003cextra\\u003e\\u003c\\u002fextra\\u003e\",\"hovertext\":[\"Multiple Facilities\",\"SuperWASP-South\",\"Lowell Observatory\",\"McDonald Observatory\",\"Roque de los Muchachos Observatory\",\"KELT\",\"Acton Sky Portal Observatory\",\"MEarth Project\",\"Yunnan Astronomical Observatory\",\"Mauna Kea Observatory\",\"Teide Observatory\",\"Anglo-Australian Telescope\",\"MOA\",\"HATNet\",\"KELT-North\",\"Qatar\",\"Lick Observatory\",\"Kitt Peak National Observatory\",\"SuperWASP\",\"Palomar Observatory\",\"Paranal Observatory\",\"Haleakala Observatory\",\"KMTNet\",\"La Silla Observatory\",\"Okayama Astrophysical Observatory\",\"Large Binocular Telescope Observatory\",\"Xinglong Station\",\"OGLE\",\"Parkes Observatory\",\"KELT-South\",\"SuperWASP-North\",\"Las Campanas Observatory\",\"Next-Generation Transit Survey (NGTS)\",\"Haute-Provence Observatory\",\"HATSouth\",\"Leoncito Astronomical Complex\",\"NASA Infrared Telescope Facility (IRTF)\",\"Subaru Telescope\",\"Multiple Observatories\",\"SPECULOOS Southern Observatory\",\"Infrared Survey Facility\",\"Very Long Baseline Array\",\"TrES\",\"Bohyunsan Optical Astronomical Observatory\",\"Cerro Tololo Inter-American Observatory\",\"WASP-South\",\"W. M. Keck Observatory\",\"European Southern Observatory\",\"Calar Alto Observatory\",\"Apache Point Observatory\",\"Winer Observatory\",\"Thueringer Landessternwarte Tautenburg\",\"Gemini Observatory\",\"Fred Lawrence Whipple Observatory\",\"Atacama Large Millimeter Array (ALMA)\",\"University of Canterbury Mt John Observatory\",\"XO\",\"United Kingdom Infrared Telescope\",\"Arecibo Observatory\"],\"ids\":[\"Multiple Facilities\",\"SuperWASP-South\",\"Lowell Observatory\",\"McDonald Observatory\",\"Roque de los Muchachos Observatory\",\"KELT\",\"Acton Sky Portal Observatory\",\"MEarth Project\",\"Yunnan Astronomical Observatory\",\"Mauna Kea Observatory\",\"Teide Observatory\",\"Anglo-Australian Telescope\",\"MOA\",\"HATNet\",\"KELT-North\",\"Qatar\",\"Lick Observatory\",\"Kitt Peak National Observatory\",\"SuperWASP\",\"Palomar Observatory\",\"Paranal Observatory\",\"Haleakala Observatory\",\"KMTNet\",\"La Silla Observatory\",\"Okayama Astrophysical Observatory\",\"Large Binocular Telescope Observatory\",\"Xinglong Station\",\"OGLE\",\"Parkes Observatory\",\"KELT-South\",\"SuperWASP-North\",\"Las Campanas Observatory\",\"Next-Generation Transit Survey (NGTS)\",\"Haute-Provence Observatory\",\"HATSouth\",\"Leoncito Astronomical Complex\",\"NASA Infrared Telescope Facility (IRTF)\",\"Subaru Telescope\",\"Multiple Observatories\",\"SPECULOOS Southern Observatory\",\"Infrared Survey Facility\",\"Very Long Baseline Array\",\"TrES\",\"Bohyunsan Optical Astronomical Observatory\",\"Cerro Tololo Inter-American Observatory\",\"WASP-South\",\"W. M. Keck Observatory\",\"European Southern Observatory\",\"Calar Alto Observatory\",\"Apache Point Observatory\",\"Winer Observatory\",\"Thueringer Landessternwarte Tautenburg\",\"Gemini Observatory\",\"Fred Lawrence Whipple Observatory\",\"Atacama Large Millimeter Array (ALMA)\",\"University of Canterbury Mt John Observatory\",\"XO\",\"United Kingdom Infrared Telescope\",\"Arecibo Observatory\"],\"lat\":[null,-32.380828300000005,35.20294505,30.6758212,28.757069,50.044335,42.4850931,31.6841828,25.05169275,19.824758000000003,28.30155405,-31.275452,14.53520885,36.2534455,64.23121929999999,25.3336984,37.343180950000004,31.96005045,-32.380828300000005,33.353975750000004,-24.62746015,20.707724,-32.3788046,-29.2552104,34.57620737464398,32.701432499999996,28.2993048,42.0397014,-32.9986005,-32.380265449999996,28.7602486,-29.01915575,-24.6157395,43.93465290685473,null,-31.798406322237792,19.8262932,19.825628,null,null,-32.40945838829719,35.7751349,46.32311,36.16493673022682,-30.17112555,-54.74708985,19.826335800000003,-33.39954245,37.222216,32.780298450000004,31.66664384843098,50.980589699999996,19.7010144,31.680770000000003,-23.016605,-43.985079510206,18.3167587,19.82263133941441,18.34435035],\"legendgroup\":\"\",\"lon\":[null,20.8104941,-111.66465289534443,-104.02058383636867,-17.88884356096937,15.7454858,-71.43284,-110.8780229,102.57846947618563,-155.47335552670813,-16.509883823160067,149.067221,120.98159848166422,36.5635125,23.8115647838413,51.2295295,-121.6452932158403,-111.59806254704941,20.8104941,-116.86137432789532,-70.40415067740268,-156.25732220375536,20.810438721680914,-70.73950703583358,133.59468610715888,-109.88921125289411,105.3761434,-89.3138599,148.262423,20.810272050000002,-17.879274799500855,-70.69060142428015,-70.39103904999999,5.711210002635074,null,-69.29561017690845,-155.471936,-155.475984,null,null,20.800649558809692,-106.24555896743195,11.096874,128.97680621520124,-70.80355626100308,-35.854428196605994,-155.4744554555519,-70.6002258733539,-2.54693,-105.81990911661293,-110.60167156843839,11.710985584651013,-155.0901111721641,-110.87874815220113,-67.77226867219686,170.46406802137483,102.1082886,-155.4702713396269,-66.75271716738939],\"marker\":{\"color\":[0,0,0,0,0,0,0,0,0,0,0,0,0,0,0,0,5,0,0,0,0,0,0,0,0,0,0,0,0,0,0,0,0,1,0,0,0,0,1,0,0,0,0,0,0,0,0,0,0,0,0,0,0,1,0,0,0,0,3],\"coloraxis\":\"coloraxis\",\"size\":[0,0,0,0,0,0,0,0,0,0,0,0,0,0,0,0,5,0,0,0,0,0,0,0,0,0,0,0,0,0,0,0,0,1,0,0,0,0,1,0,0,0,0,0,0,0,0,0,0,0,0,0,0,1,0,0,0,0,3],\"sizemode\":\"area\",\"sizeref\":0.1124,\"symbol\":\"circle\"},\"mode\":\"markers\",\"name\":\"\",\"showlegend\":false,\"type\":\"scattergeo\"}],\"name\":\"1997\"},{\"data\":[{\"geo\":\"geo\",\"hovertemplate\":\"\\u003cb\\u003e%{hovertext}\\u003c\\u002fb\\u003e\\u003cbr\\u003e\\u003cbr\\u003edisc_year=1998\\u003cbr\\u003ecounts=%{marker.color}\\u003cbr\\u003elatitude=%{lat}\\u003cbr\\u003elongitude=%{lon}\\u003cextra\\u003e\\u003c\\u002fextra\\u003e\",\"hovertext\":[\"Leoncito Astronomical Complex\",\"SuperWASP\",\"Yunnan Astronomical Observatory\",\"KELT-South\",\"OGLE\",\"Fred Lawrence Whipple Observatory\",\"Qatar\",\"HATSouth\",\"Cerro Tololo Inter-American Observatory\",\"TrES\",\"Next-Generation Transit Survey (NGTS)\",\"KMTNet\",\"Very Long Baseline Array\",\"MEarth Project\",\"WASP-South\",\"Lowell Observatory\",\"Haleakala Observatory\",\"Calar Alto Observatory\",\"Multiple Facilities\",\"Arecibo Observatory\",\"XO\",\"McDonald Observatory\",\"Atacama Large Millimeter Array (ALMA)\",\"KELT-North\",\"Parkes Observatory\",\"Haute-Provence Observatory\",\"SuperWASP-North\",\"United Kingdom Infrared Telescope\",\"Multiple Observatories\",\"Las Campanas Observatory\",\"SuperWASP-South\",\"Thueringer Landessternwarte Tautenburg\",\"Anglo-Australian Telescope\",\"Gemini Observatory\",\"Roque de los Muchachos Observatory\",\"KELT\",\"Infrared Survey Facility\",\"Teide Observatory\",\"Winer Observatory\",\"University of Canterbury Mt John Observatory\",\"Palomar Observatory\",\"MOA\",\"Lick Observatory\",\"SPECULOOS Southern Observatory\",\"La Silla Observatory\",\"Xinglong Station\",\"HATNet\",\"Okayama Astrophysical Observatory\",\"Acton Sky Portal Observatory\",\"Subaru Telescope\",\"Large Binocular Telescope Observatory\",\"Apache Point Observatory\",\"Kitt Peak National Observatory\",\"NASA Infrared Telescope Facility (IRTF)\",\"European Southern Observatory\",\"W. M. Keck Observatory\",\"Mauna Kea Observatory\",\"Bohyunsan Optical Astronomical Observatory\",\"Paranal Observatory\"],\"ids\":[\"Leoncito Astronomical Complex\",\"SuperWASP\",\"Yunnan Astronomical Observatory\",\"KELT-South\",\"OGLE\",\"Fred Lawrence Whipple Observatory\",\"Qatar\",\"HATSouth\",\"Cerro Tololo Inter-American Observatory\",\"TrES\",\"Next-Generation Transit Survey (NGTS)\",\"KMTNet\",\"Very Long Baseline Array\",\"MEarth Project\",\"WASP-South\",\"Lowell Observatory\",\"Haleakala Observatory\",\"Calar Alto Observatory\",\"Multiple Facilities\",\"Arecibo Observatory\",\"XO\",\"McDonald Observatory\",\"Atacama Large Millimeter Array (ALMA)\",\"KELT-North\",\"Parkes Observatory\",\"Haute-Provence Observatory\",\"SuperWASP-North\",\"United Kingdom Infrared Telescope\",\"Multiple Observatories\",\"Las Campanas Observatory\",\"SuperWASP-South\",\"Thueringer Landessternwarte Tautenburg\",\"Anglo-Australian Telescope\",\"Gemini Observatory\",\"Roque de los Muchachos Observatory\",\"KELT\",\"Infrared Survey Facility\",\"Teide Observatory\",\"Winer Observatory\",\"University of Canterbury Mt John Observatory\",\"Palomar Observatory\",\"MOA\",\"Lick Observatory\",\"SPECULOOS Southern Observatory\",\"La Silla Observatory\",\"Xinglong Station\",\"HATNet\",\"Okayama Astrophysical Observatory\",\"Acton Sky Portal Observatory\",\"Subaru Telescope\",\"Large Binocular Telescope Observatory\",\"Apache Point Observatory\",\"Kitt Peak National Observatory\",\"NASA Infrared Telescope Facility (IRTF)\",\"European Southern Observatory\",\"W. M. Keck Observatory\",\"Mauna Kea Observatory\",\"Bohyunsan Optical Astronomical Observatory\",\"Paranal Observatory\"],\"lat\":[-31.798406322237792,-32.380828300000005,25.05169275,-32.380265449999996,42.0397014,31.680770000000003,25.3336984,null,-30.17112555,46.32311,-24.6157395,-32.3788046,35.7751349,31.6841828,-54.74708985,35.20294505,20.707724,37.222216,null,18.34435035,18.3167587,30.6758212,-23.016605,64.23121929999999,-32.9986005,43.93465290685473,28.7602486,19.82263133941441,null,-29.01915575,-32.380828300000005,50.980589699999996,-31.275452,19.7010144,28.757069,50.044335,-32.40945838829719,28.30155405,31.66664384843098,-43.985079510206,33.353975750000004,14.53520885,37.343180950000004,null,-29.2552104,28.2993048,36.2534455,34.57620737464398,42.4850931,19.825628,32.701432499999996,32.780298450000004,31.96005045,19.8262932,-33.39954245,19.826335800000003,19.824758000000003,36.16493673022682,-24.62746015],\"legendgroup\":\"\",\"lon\":[-69.29561017690845,20.8104941,102.57846947618563,20.810272050000002,-89.3138599,-110.87874815220113,51.2295295,null,-70.80355626100308,11.096874,-70.39103904999999,20.810438721680914,-106.24555896743195,-110.8780229,-35.854428196605994,-111.66465289534443,-156.25732220375536,-2.54693,null,-66.75271716738939,102.1082886,-104.02058383636867,-67.77226867219686,23.8115647838413,148.262423,5.711210002635074,-17.879274799500855,-155.4702713396269,null,-70.69060142428015,20.8104941,11.710985584651013,149.067221,-155.0901111721641,-17.88884356096937,15.7454858,20.800649558809692,-16.509883823160067,-110.60167156843839,170.46406802137483,-116.86137432789532,120.98159848166422,-121.6452932158403,null,-70.73950703583358,105.3761434,36.5635125,133.59468610715888,-71.43284,-155.475984,-109.88921125289411,-105.81990911661293,-111.59806254704941,-155.471936,-70.6002258733539,-155.4744554555519,-155.47335552670813,128.97680621520124,-70.40415067740268],\"marker\":{\"color\":[0,0,0,0,0,1,0,0,0,0,0,0,0,0,0,0,0,0,0,3,0,0,0,0,0,1,0,0,2,0,0,0,0,0,0,0,0,0,0,0,0,0,7,0,0,0,0,0,0,0,0,0,0,0,0,3,0,0,0],\"coloraxis\":\"coloraxis\",\"size\":[0,0,0,0,0,1,0,0,0,0,0,0,0,0,0,0,0,0,0,3,0,0,0,0,0,1,0,0,2,0,0,0,0,0,0,0,0,0,0,0,0,0,7,0,0,0,0,0,0,0,0,0,0,0,0,3,0,0,0],\"sizemode\":\"area\",\"sizeref\":0.1124,\"symbol\":\"circle\"},\"mode\":\"markers\",\"name\":\"\",\"showlegend\":false,\"type\":\"scattergeo\"}],\"name\":\"1998\"},{\"data\":[{\"geo\":\"geo\",\"hovertemplate\":\"\\u003cb\\u003e%{hovertext}\\u003c\\u002fb\\u003e\\u003cbr\\u003e\\u003cbr\\u003edisc_year=1999\\u003cbr\\u003ecounts=%{marker.color}\\u003cbr\\u003elatitude=%{lat}\\u003cbr\\u003elongitude=%{lon}\\u003cextra\\u003e\\u003c\\u002fextra\\u003e\",\"hovertext\":[\"Lowell Observatory\",\"Multiple Observatories\",\"Yunnan Astronomical Observatory\",\"Subaru Telescope\",\"Cerro Tololo Inter-American Observatory\",\"Qatar\",\"Winer Observatory\",\"Roque de los Muchachos Observatory\",\"SuperWASP\",\"Atacama Large Millimeter Array (ALMA)\",\"University of Canterbury Mt John Observatory\",\"Leoncito Astronomical Complex\",\"United Kingdom Infrared Telescope\",\"Arecibo Observatory\",\"KELT-North\",\"Infrared Survey Facility\",\"European Southern Observatory\",\"Multiple Facilities\",\"NASA Infrared Telescope Facility (IRTF)\",\"KELT\",\"Lick Observatory\",\"Haute-Provence Observatory\",\"SPECULOOS Southern Observatory\",\"Next-Generation Transit Survey (NGTS)\",\"Calar Alto Observatory\",\"MEarth Project\",\"KMTNet\",\"Teide Observatory\",\"HATSouth\",\"OGLE\",\"Anglo-Australian Telescope\",\"Okayama Astrophysical Observatory\",\"Gemini Observatory\",\"Paranal Observatory\",\"SuperWASP-South\",\"HATNet\",\"Large Binocular Telescope Observatory\",\"Mauna Kea Observatory\",\"Bohyunsan Optical Astronomical Observatory\",\"W. M. Keck Observatory\",\"Thueringer Landessternwarte Tautenburg\",\"Apache Point Observatory\",\"McDonald Observatory\",\"XO\",\"Haleakala Observatory\",\"La Silla Observatory\",\"Very Long Baseline Array\",\"KELT-South\",\"MOA\",\"WASP-South\",\"Xinglong Station\",\"Las Campanas Observatory\",\"Kitt Peak National Observatory\",\"TrES\",\"Acton Sky Portal Observatory\",\"Fred Lawrence Whipple Observatory\",\"Parkes Observatory\",\"SuperWASP-North\",\"Palomar Observatory\"],\"ids\":[\"Lowell Observatory\",\"Multiple Observatories\",\"Yunnan Astronomical Observatory\",\"Subaru Telescope\",\"Cerro Tololo Inter-American Observatory\",\"Qatar\",\"Winer Observatory\",\"Roque de los Muchachos Observatory\",\"SuperWASP\",\"Atacama Large Millimeter Array (ALMA)\",\"University of Canterbury Mt John Observatory\",\"Leoncito Astronomical Complex\",\"United Kingdom Infrared Telescope\",\"Arecibo Observatory\",\"KELT-North\",\"Infrared Survey Facility\",\"European Southern Observatory\",\"Multiple Facilities\",\"NASA Infrared Telescope Facility (IRTF)\",\"KELT\",\"Lick Observatory\",\"Haute-Provence Observatory\",\"SPECULOOS Southern Observatory\",\"Next-Generation Transit Survey (NGTS)\",\"Calar Alto Observatory\",\"MEarth Project\",\"KMTNet\",\"Teide Observatory\",\"HATSouth\",\"OGLE\",\"Anglo-Australian Telescope\",\"Okayama Astrophysical Observatory\",\"Gemini Observatory\",\"Paranal Observatory\",\"SuperWASP-South\",\"HATNet\",\"Large Binocular Telescope Observatory\",\"Mauna Kea Observatory\",\"Bohyunsan Optical Astronomical Observatory\",\"W. M. Keck Observatory\",\"Thueringer Landessternwarte Tautenburg\",\"Apache Point Observatory\",\"McDonald Observatory\",\"XO\",\"Haleakala Observatory\",\"La Silla Observatory\",\"Very Long Baseline Array\",\"KELT-South\",\"MOA\",\"WASP-South\",\"Xinglong Station\",\"Las Campanas Observatory\",\"Kitt Peak National Observatory\",\"TrES\",\"Acton Sky Portal Observatory\",\"Fred Lawrence Whipple Observatory\",\"Parkes Observatory\",\"SuperWASP-North\",\"Palomar Observatory\"],\"lat\":[35.20294505,null,25.05169275,19.825628,-30.17112555,25.3336984,31.66664384843098,28.757069,-32.380828300000005,-23.016605,-43.985079510206,-31.798406322237792,19.82263133941441,18.34435035,64.23121929999999,-32.40945838829719,-33.39954245,null,19.8262932,50.044335,37.343180950000004,43.93465290685473,null,-24.6157395,37.222216,31.6841828,-32.3788046,28.30155405,null,42.0397014,-31.275452,34.57620737464398,19.7010144,-24.62746015,-32.380828300000005,36.2534455,32.701432499999996,19.824758000000003,36.16493673022682,19.826335800000003,50.980589699999996,32.780298450000004,30.6758212,18.3167587,20.707724,-29.2552104,35.7751349,-32.380265449999996,14.53520885,-54.74708985,28.2993048,-29.01915575,31.96005045,46.32311,42.4850931,31.680770000000003,-32.9986005,28.7602486,33.353975750000004],\"legendgroup\":\"\",\"lon\":[-111.66465289534443,null,102.57846947618563,-155.475984,-70.80355626100308,51.2295295,-110.60167156843839,-17.88884356096937,20.8104941,-67.77226867219686,170.46406802137483,-69.29561017690845,-155.4702713396269,-66.75271716738939,23.8115647838413,20.800649558809692,-70.6002258733539,null,-155.471936,15.7454858,-121.6452932158403,5.711210002635074,null,-70.39103904999999,-2.54693,-110.8780229,20.810438721680914,-16.509883823160067,null,-89.3138599,149.067221,133.59468610715888,-155.0901111721641,-70.40415067740268,20.8104941,36.5635125,-109.88921125289411,-155.47335552670813,128.97680621520124,-155.4744554555519,11.710985584651013,-105.81990911661293,-104.02058383636867,102.1082886,-156.25732220375536,-70.73950703583358,-106.24555896743195,20.810272050000002,120.98159848166422,-35.854428196605994,105.3761434,-70.69060142428015,-111.59806254704941,11.096874,-71.43284,-110.87874815220113,148.262423,-17.879274799500855,-116.86137432789532],\"marker\":{\"color\":[0,4,0,0,0,0,0,0,0,0,0,0,0,3,0,0,0,0,0,0,7,1,0,0,0,0,0,0,0,0,0,0,0,0,0,0,0,0,0,8,0,0,0,0,0,5,0,0,0,0,0,0,0,0,0,2,0,0,0],\"coloraxis\":\"coloraxis\",\"size\":[0,4,0,0,0,0,0,0,0,0,0,0,0,3,0,0,0,0,0,0,7,1,0,0,0,0,0,0,0,0,0,0,0,0,0,0,0,0,0,8,0,0,0,0,0,5,0,0,0,0,0,0,0,0,0,2,0,0,0],\"sizemode\":\"area\",\"sizeref\":0.1124,\"symbol\":\"circle\"},\"mode\":\"markers\",\"name\":\"\",\"showlegend\":false,\"type\":\"scattergeo\"}],\"name\":\"1999\"},{\"data\":[{\"geo\":\"geo\",\"hovertemplate\":\"\\u003cb\\u003e%{hovertext}\\u003c\\u002fb\\u003e\\u003cbr\\u003e\\u003cbr\\u003edisc_year=2000\\u003cbr\\u003ecounts=%{marker.color}\\u003cbr\\u003elatitude=%{lat}\\u003cbr\\u003elongitude=%{lon}\\u003cextra\\u003e\\u003c\\u002fextra\\u003e\",\"hovertext\":[\"Okayama Astrophysical Observatory\",\"Palomar Observatory\",\"W. M. Keck Observatory\",\"KELT\",\"Multiple Observatories\",\"Acton Sky Portal Observatory\",\"Kitt Peak National Observatory\",\"La Silla Observatory\",\"Bohyunsan Optical Astronomical Observatory\",\"University of Canterbury Mt John Observatory\",\"Cerro Tololo Inter-American Observatory\",\"Large Binocular Telescope Observatory\",\"Next-Generation Transit Survey (NGTS)\",\"Qatar\",\"Atacama Large Millimeter Array (ALMA)\",\"NASA Infrared Telescope Facility (IRTF)\",\"Very Long Baseline Array\",\"KELT-South\",\"Las Campanas Observatory\",\"Leoncito Astronomical Complex\",\"KELT-North\",\"WASP-South\",\"Calar Alto Observatory\",\"KMTNet\",\"OGLE\",\"Yunnan Astronomical Observatory\",\"Paranal Observatory\",\"Roque de los Muchachos Observatory\",\"Parkes Observatory\",\"SPECULOOS Southern Observatory\",\"Haute-Provence Observatory\",\"SuperWASP\",\"United Kingdom Infrared Telescope\",\"Haleakala Observatory\",\"XO\",\"Subaru Telescope\",\"McDonald Observatory\",\"SuperWASP-South\",\"Gemini Observatory\",\"HATNet\",\"Xinglong Station\",\"Multiple Facilities\",\"Apache Point Observatory\",\"Thueringer Landessternwarte Tautenburg\",\"Arecibo Observatory\",\"Lowell Observatory\",\"Mauna Kea Observatory\",\"Teide Observatory\",\"TrES\",\"European Southern Observatory\",\"HATSouth\",\"Anglo-Australian Telescope\",\"SuperWASP-North\",\"Fred Lawrence Whipple Observatory\",\"MEarth Project\",\"Infrared Survey Facility\",\"Lick Observatory\",\"Winer Observatory\",\"MOA\"],\"ids\":[\"Okayama Astrophysical Observatory\",\"Palomar Observatory\",\"W. M. Keck Observatory\",\"KELT\",\"Multiple Observatories\",\"Acton Sky Portal Observatory\",\"Kitt Peak National Observatory\",\"La Silla Observatory\",\"Bohyunsan Optical Astronomical Observatory\",\"University of Canterbury Mt John Observatory\",\"Cerro Tololo Inter-American Observatory\",\"Large Binocular Telescope Observatory\",\"Next-Generation Transit Survey (NGTS)\",\"Qatar\",\"Atacama Large Millimeter Array (ALMA)\",\"NASA Infrared Telescope Facility (IRTF)\",\"Very Long Baseline Array\",\"KELT-South\",\"Las Campanas Observatory\",\"Leoncito Astronomical Complex\",\"KELT-North\",\"WASP-South\",\"Calar Alto Observatory\",\"KMTNet\",\"OGLE\",\"Yunnan Astronomical Observatory\",\"Paranal Observatory\",\"Roque de los Muchachos Observatory\",\"Parkes Observatory\",\"SPECULOOS Southern Observatory\",\"Haute-Provence Observatory\",\"SuperWASP\",\"United Kingdom Infrared Telescope\",\"Haleakala Observatory\",\"XO\",\"Subaru Telescope\",\"McDonald Observatory\",\"SuperWASP-South\",\"Gemini Observatory\",\"HATNet\",\"Xinglong Station\",\"Multiple Facilities\",\"Apache Point Observatory\",\"Thueringer Landessternwarte Tautenburg\",\"Arecibo Observatory\",\"Lowell Observatory\",\"Mauna Kea Observatory\",\"Teide Observatory\",\"TrES\",\"European Southern Observatory\",\"HATSouth\",\"Anglo-Australian Telescope\",\"SuperWASP-North\",\"Fred Lawrence Whipple Observatory\",\"MEarth Project\",\"Infrared Survey Facility\",\"Lick Observatory\",\"Winer Observatory\",\"MOA\"],\"lat\":[34.57620737464398,33.353975750000004,19.826335800000003,50.044335,null,42.4850931,31.96005045,-29.2552104,36.16493673022682,-43.985079510206,-30.17112555,32.701432499999996,-24.6157395,25.3336984,-23.016605,19.8262932,35.7751349,-32.380265449999996,-29.01915575,-31.798406322237792,64.23121929999999,-54.74708985,37.222216,-32.3788046,42.0397014,25.05169275,-24.62746015,28.757069,-32.9986005,null,43.93465290685473,-32.380828300000005,19.82263133941441,20.707724,18.3167587,19.825628,30.6758212,-32.380828300000005,19.7010144,36.2534455,28.2993048,null,32.780298450000004,50.980589699999996,18.34435035,35.20294505,19.824758000000003,28.30155405,46.32311,-33.39954245,null,-31.275452,28.7602486,31.680770000000003,31.6841828,-32.40945838829719,37.343180950000004,31.66664384843098,14.53520885],\"legendgroup\":\"\",\"lon\":[133.59468610715888,-116.86137432789532,-155.4744554555519,15.7454858,null,-71.43284,-111.59806254704941,-70.73950703583358,128.97680621520124,170.46406802137483,-70.80355626100308,-109.88921125289411,-70.39103904999999,51.2295295,-67.77226867219686,-155.471936,-106.24555896743195,20.810272050000002,-70.69060142428015,-69.29561017690845,23.8115647838413,-35.854428196605994,-2.54693,20.810438721680914,-89.3138599,102.57846947618563,-70.40415067740268,-17.88884356096937,148.262423,null,5.711210002635074,20.8104941,-155.4702713396269,-156.25732220375536,102.1082886,-155.475984,-104.02058383636867,20.8104941,-155.0901111721641,36.5635125,105.3761434,null,-105.81990911661293,11.710985584651013,-66.75271716738939,-111.66465289534443,-155.47335552670813,-16.509883823160067,11.096874,-70.6002258733539,null,149.067221,-17.879274799500855,-110.87874815220113,-110.8780229,20.800649558809692,-121.6452932158403,-110.60167156843839,120.98159848166422],\"marker\":{\"color\":[0,0,13,0,10,0,0,7,0,0,0,0,0,0,0,0,0,0,0,0,0,0,0,0,0,0,0,0,0,0,1,0,0,0,0,0,0,0,0,0,0,0,0,0,3,0,0,0,0,0,0,3,0,2,0,0,7,0,0],\"coloraxis\":\"coloraxis\",\"size\":[0,0,13,0,10,0,0,7,0,0,0,0,0,0,0,0,0,0,0,0,0,0,0,0,0,0,0,0,0,0,1,0,0,0,0,0,0,0,0,0,0,0,0,0,3,0,0,0,0,0,0,3,0,2,0,0,7,0,0],\"sizemode\":\"area\",\"sizeref\":0.1124,\"symbol\":\"circle\"},\"mode\":\"markers\",\"name\":\"\",\"showlegend\":false,\"type\":\"scattergeo\"}],\"name\":\"2000\"},{\"data\":[{\"geo\":\"geo\",\"hovertemplate\":\"\\u003cb\\u003e%{hovertext}\\u003c\\u002fb\\u003e\\u003cbr\\u003e\\u003cbr\\u003edisc_year=2001\\u003cbr\\u003ecounts=%{marker.color}\\u003cbr\\u003elatitude=%{lat}\\u003cbr\\u003elongitude=%{lon}\\u003cextra\\u003e\\u003c\\u002fextra\\u003e\",\"hovertext\":[\"Lowell Observatory\",\"Calar Alto Observatory\",\"Qatar\",\"MEarth Project\",\"SuperWASP-North\",\"Atacama Large Millimeter Array (ALMA)\",\"SuperWASP-South\",\"Large Binocular Telescope Observatory\",\"SuperWASP\",\"WASP-South\",\"Mauna Kea Observatory\",\"KMTNet\",\"Yunnan Astronomical Observatory\",\"Next-Generation Transit Survey (NGTS)\",\"McDonald Observatory\",\"Fred Lawrence Whipple Observatory\",\"Very Long Baseline Array\",\"Paranal Observatory\",\"Haleakala Observatory\",\"Parkes Observatory\",\"KELT-South\",\"OGLE\",\"SPECULOOS Southern Observatory\",\"HATSouth\",\"TrES\",\"Xinglong Station\",\"Apache Point Observatory\",\"Las Campanas Observatory\",\"NASA Infrared Telescope Facility (IRTF)\",\"Roque de los Muchachos Observatory\",\"Okayama Astrophysical Observatory\",\"European Southern Observatory\",\"Palomar Observatory\",\"United Kingdom Infrared Telescope\",\"Teide Observatory\",\"KELT\",\"W. M. Keck Observatory\",\"Infrared Survey Facility\",\"La Silla Observatory\",\"MOA\",\"Lick Observatory\",\"Multiple Observatories\",\"Winer Observatory\",\"Bohyunsan Optical Astronomical Observatory\",\"Subaru Telescope\",\"Gemini Observatory\",\"Leoncito Astronomical Complex\",\"Haute-Provence Observatory\",\"Acton Sky Portal Observatory\",\"Thueringer Landessternwarte Tautenburg\",\"KELT-North\",\"Anglo-Australian Telescope\",\"Arecibo Observatory\",\"Cerro Tololo Inter-American Observatory\",\"University of Canterbury Mt John Observatory\",\"HATNet\",\"XO\",\"Multiple Facilities\",\"Kitt Peak National Observatory\"],\"ids\":[\"Lowell Observatory\",\"Calar Alto Observatory\",\"Qatar\",\"MEarth Project\",\"SuperWASP-North\",\"Atacama Large Millimeter Array (ALMA)\",\"SuperWASP-South\",\"Large Binocular Telescope Observatory\",\"SuperWASP\",\"WASP-South\",\"Mauna Kea Observatory\",\"KMTNet\",\"Yunnan Astronomical Observatory\",\"Next-Generation Transit Survey (NGTS)\",\"McDonald Observatory\",\"Fred Lawrence Whipple Observatory\",\"Very Long Baseline Array\",\"Paranal Observatory\",\"Haleakala Observatory\",\"Parkes Observatory\",\"KELT-South\",\"OGLE\",\"SPECULOOS Southern Observatory\",\"HATSouth\",\"TrES\",\"Xinglong Station\",\"Apache Point Observatory\",\"Las Campanas Observatory\",\"NASA Infrared Telescope Facility (IRTF)\",\"Roque de los Muchachos Observatory\",\"Okayama Astrophysical Observatory\",\"European Southern Observatory\",\"Palomar Observatory\",\"United Kingdom Infrared Telescope\",\"Teide Observatory\",\"KELT\",\"W. M. Keck Observatory\",\"Infrared Survey Facility\",\"La Silla Observatory\",\"MOA\",\"Lick Observatory\",\"Multiple Observatories\",\"Winer Observatory\",\"Bohyunsan Optical Astronomical Observatory\",\"Subaru Telescope\",\"Gemini Observatory\",\"Leoncito Astronomical Complex\",\"Haute-Provence Observatory\",\"Acton Sky Portal Observatory\",\"Thueringer Landessternwarte Tautenburg\",\"KELT-North\",\"Anglo-Australian Telescope\",\"Arecibo Observatory\",\"Cerro Tololo Inter-American Observatory\",\"University of Canterbury Mt John Observatory\",\"HATNet\",\"XO\",\"Multiple Facilities\",\"Kitt Peak National Observatory\"],\"lat\":[35.20294505,37.222216,25.3336984,31.6841828,28.7602486,-23.016605,-32.380828300000005,32.701432499999996,-32.380828300000005,-54.74708985,19.824758000000003,-32.3788046,25.05169275,-24.6157395,30.6758212,31.680770000000003,35.7751349,-24.62746015,20.707724,-32.9986005,-32.380265449999996,42.0397014,null,null,46.32311,28.2993048,32.780298450000004,-29.01915575,19.8262932,28.757069,34.57620737464398,-33.39954245,33.353975750000004,19.82263133941441,28.30155405,50.044335,19.826335800000003,-32.40945838829719,-29.2552104,14.53520885,37.343180950000004,null,31.66664384843098,36.16493673022682,19.825628,19.7010144,-31.798406322237792,43.93465290685473,42.4850931,50.980589699999996,64.23121929999999,-31.275452,18.34435035,-30.17112555,-43.985079510206,36.2534455,18.3167587,null,31.96005045],\"legendgroup\":\"\",\"lon\":[-111.66465289534443,-2.54693,51.2295295,-110.8780229,-17.879274799500855,-67.77226867219686,20.8104941,-109.88921125289411,20.8104941,-35.854428196605994,-155.47335552670813,20.810438721680914,102.57846947618563,-70.39103904999999,-104.02058383636867,-110.87874815220113,-106.24555896743195,-70.40415067740268,-156.25732220375536,148.262423,20.810272050000002,-89.3138599,null,null,11.096874,105.3761434,-105.81990911661293,-70.69060142428015,-155.471936,-17.88884356096937,133.59468610715888,-70.6002258733539,-116.86137432789532,-155.4702713396269,-16.509883823160067,15.7454858,-155.4744554555519,20.800649558809692,-70.73950703583358,120.98159848166422,-121.6452932158403,null,-110.60167156843839,128.97680621520124,-155.475984,-155.0901111721641,-69.29561017690845,5.711210002635074,-71.43284,11.710985584651013,23.8115647838413,149.067221,-66.75271716738939,-70.80355626100308,170.46406802137483,36.5635125,102.1082886,null,-111.59806254704941],\"marker\":{\"color\":[0,0,0,0,0,0,0,0,0,0,0,0,0,0,0,2,0,0,0,0,0,0,0,0,0,0,0,0,0,0,0,0,0,0,0,0,17,0,9,0,8,12,0,0,0,0,0,1,0,0,0,6,3,0,0,0,0,0,0],\"coloraxis\":\"coloraxis\",\"size\":[0,0,0,0,0,0,0,0,0,0,0,0,0,0,0,2,0,0,0,0,0,0,0,0,0,0,0,0,0,0,0,0,0,0,0,0,17,0,9,0,8,12,0,0,0,0,0,1,0,0,0,6,3,0,0,0,0,0,0],\"sizemode\":\"area\",\"sizeref\":0.1124,\"symbol\":\"circle\"},\"mode\":\"markers\",\"name\":\"\",\"showlegend\":false,\"type\":\"scattergeo\"}],\"name\":\"2001\"},{\"data\":[{\"geo\":\"geo\",\"hovertemplate\":\"\\u003cb\\u003e%{hovertext}\\u003c\\u002fb\\u003e\\u003cbr\\u003e\\u003cbr\\u003edisc_year=2002\\u003cbr\\u003ecounts=%{marker.color}\\u003cbr\\u003elatitude=%{lat}\\u003cbr\\u003elongitude=%{lon}\\u003cextra\\u003e\\u003c\\u002fextra\\u003e\",\"hovertext\":[\"Paranal Observatory\",\"XO\",\"Apache Point Observatory\",\"Very Long Baseline Array\",\"MOA\",\"Large Binocular Telescope Observatory\",\"Gemini Observatory\",\"HATSouth\",\"OGLE\",\"Mauna Kea Observatory\",\"KMTNet\",\"La Silla Observatory\",\"W. M. Keck Observatory\",\"Thueringer Landessternwarte Tautenburg\",\"Teide Observatory\",\"MEarth Project\",\"Okayama Astrophysical Observatory\",\"SuperWASP-South\",\"HATNet\",\"Palomar Observatory\",\"Kitt Peak National Observatory\",\"SPECULOOS Southern Observatory\",\"SuperWASP-North\",\"Atacama Large Millimeter Array (ALMA)\",\"Lowell Observatory\",\"Qatar\",\"KELT\",\"Xinglong Station\",\"SuperWASP\",\"Acton Sky Portal Observatory\",\"Fred Lawrence Whipple Observatory\",\"NASA Infrared Telescope Facility (IRTF)\",\"KELT-North\",\"Haute-Provence Observatory\",\"University of Canterbury Mt John Observatory\",\"Anglo-Australian Telescope\",\"Arecibo Observatory\",\"European Southern Observatory\",\"Multiple Facilities\",\"Leoncito Astronomical Complex\",\"United Kingdom Infrared Telescope\",\"Subaru Telescope\",\"Roque de los Muchachos Observatory\",\"Lick Observatory\",\"Next-Generation Transit Survey (NGTS)\",\"Winer Observatory\",\"Parkes Observatory\",\"WASP-South\",\"TrES\",\"Infrared Survey Facility\",\"Calar Alto Observatory\",\"Las Campanas Observatory\",\"KELT-South\",\"Haleakala Observatory\",\"Bohyunsan Optical Astronomical Observatory\",\"McDonald Observatory\",\"Cerro Tololo Inter-American Observatory\",\"Multiple Observatories\",\"Yunnan Astronomical Observatory\"],\"ids\":[\"Paranal Observatory\",\"XO\",\"Apache Point Observatory\",\"Very Long Baseline Array\",\"MOA\",\"Large Binocular Telescope Observatory\",\"Gemini Observatory\",\"HATSouth\",\"OGLE\",\"Mauna Kea Observatory\",\"KMTNet\",\"La Silla Observatory\",\"W. M. Keck Observatory\",\"Thueringer Landessternwarte Tautenburg\",\"Teide Observatory\",\"MEarth Project\",\"Okayama Astrophysical Observatory\",\"SuperWASP-South\",\"HATNet\",\"Palomar Observatory\",\"Kitt Peak National Observatory\",\"SPECULOOS Southern Observatory\",\"SuperWASP-North\",\"Atacama Large Millimeter Array (ALMA)\",\"Lowell Observatory\",\"Qatar\",\"KELT\",\"Xinglong Station\",\"SuperWASP\",\"Acton Sky Portal Observatory\",\"Fred Lawrence Whipple Observatory\",\"NASA Infrared Telescope Facility (IRTF)\",\"KELT-North\",\"Haute-Provence Observatory\",\"University of Canterbury Mt John Observatory\",\"Anglo-Australian Telescope\",\"Arecibo Observatory\",\"European Southern Observatory\",\"Multiple Facilities\",\"Leoncito Astronomical Complex\",\"United Kingdom Infrared Telescope\",\"Subaru Telescope\",\"Roque de los Muchachos Observatory\",\"Lick Observatory\",\"Next-Generation Transit Survey (NGTS)\",\"Winer Observatory\",\"Parkes Observatory\",\"WASP-South\",\"TrES\",\"Infrared Survey Facility\",\"Calar Alto Observatory\",\"Las Campanas Observatory\",\"KELT-South\",\"Haleakala Observatory\",\"Bohyunsan Optical Astronomical Observatory\",\"McDonald Observatory\",\"Cerro Tololo Inter-American Observatory\",\"Multiple Observatories\",\"Yunnan Astronomical Observatory\"],\"lat\":[-24.62746015,18.3167587,32.780298450000004,35.7751349,14.53520885,32.701432499999996,19.7010144,null,42.0397014,19.824758000000003,-32.3788046,-29.2552104,19.826335800000003,50.980589699999996,28.30155405,31.6841828,34.57620737464398,-32.380828300000005,36.2534455,33.353975750000004,31.96005045,null,28.7602486,-23.016605,35.20294505,25.3336984,50.044335,28.2993048,-32.380828300000005,42.4850931,31.680770000000003,19.8262932,64.23121929999999,43.93465290685473,-43.985079510206,-31.275452,18.34435035,-33.39954245,null,-31.798406322237792,19.82263133941441,19.825628,28.757069,37.343180950000004,-24.6157395,31.66664384843098,-32.9986005,-54.74708985,46.32311,-32.40945838829719,37.222216,-29.01915575,-32.380265449999996,20.707724,36.16493673022682,30.6758212,-30.17112555,null,25.05169275],\"legendgroup\":\"\",\"lon\":[-70.40415067740268,102.1082886,-105.81990911661293,-106.24555896743195,120.98159848166422,-109.88921125289411,-155.0901111721641,null,-89.3138599,-155.47335552670813,20.810438721680914,-70.73950703583358,-155.4744554555519,11.710985584651013,-16.509883823160067,-110.8780229,133.59468610715888,20.8104941,36.5635125,-116.86137432789532,-111.59806254704941,null,-17.879274799500855,-67.77226867219686,-111.66465289534443,51.2295295,15.7454858,105.3761434,20.8104941,-71.43284,-110.87874815220113,-155.471936,23.8115647838413,5.711210002635074,170.46406802137483,149.067221,-66.75271716738939,-70.6002258733539,null,-69.29561017690845,-155.4702713396269,-155.475984,-17.88884356096937,-121.6452932158403,-70.39103904999999,-110.60167156843839,148.262423,-35.854428196605994,11.096874,20.800649558809692,-2.54693,-70.69060142428015,20.810272050000002,-156.25732220375536,128.97680621520124,-104.02058383636867,-70.80355626100308,null,102.57846947618563],\"marker\":{\"color\":[0,0,0,0,0,0,0,0,1,0,0,14,25,0,0,0,0,0,0,0,0,0,0,0,0,0,0,0,0,0,2,0,0,2,0,13,3,0,0,0,0,0,0,12,0,0,0,0,0,0,0,0,0,0,0,0,0,15,0],\"coloraxis\":\"coloraxis\",\"size\":[0,0,0,0,0,0,0,0,1,0,0,14,25,0,0,0,0,0,0,0,0,0,0,0,0,0,0,0,0,0,2,0,0,2,0,13,3,0,0,0,0,0,0,12,0,0,0,0,0,0,0,0,0,0,0,0,0,15,0],\"sizemode\":\"area\",\"sizeref\":0.1124,\"symbol\":\"circle\"},\"mode\":\"markers\",\"name\":\"\",\"showlegend\":false,\"type\":\"scattergeo\"}],\"name\":\"2002\"},{\"data\":[{\"geo\":\"geo\",\"hovertemplate\":\"\\u003cb\\u003e%{hovertext}\\u003c\\u002fb\\u003e\\u003cbr\\u003e\\u003cbr\\u003edisc_year=2003\\u003cbr\\u003ecounts=%{marker.color}\\u003cbr\\u003elatitude=%{lat}\\u003cbr\\u003elongitude=%{lon}\\u003cextra\\u003e\\u003c\\u002fextra\\u003e\",\"hovertext\":[\"Leoncito Astronomical Complex\",\"Winer Observatory\",\"Multiple Observatories\",\"La Silla Observatory\",\"MOA\",\"Lick Observatory\",\"NASA Infrared Telescope Facility (IRTF)\",\"Multiple Facilities\",\"XO\",\"Next-Generation Transit Survey (NGTS)\",\"Acton Sky Portal Observatory\",\"WASP-South\",\"MEarth Project\",\"Apache Point Observatory\",\"Mauna Kea Observatory\",\"Las Campanas Observatory\",\"McDonald Observatory\",\"Large Binocular Telescope Observatory\",\"Lowell Observatory\",\"Atacama Large Millimeter Array (ALMA)\",\"OGLE\",\"W. M. Keck Observatory\",\"Xinglong Station\",\"Arecibo Observatory\",\"Bohyunsan Optical Astronomical Observatory\",\"Paranal Observatory\",\"KELT-North\",\"Teide Observatory\",\"SuperWASP-South\",\"University of Canterbury Mt John Observatory\",\"SPECULOOS Southern Observatory\",\"HATNet\",\"Haleakala Observatory\",\"SuperWASP-North\",\"Infrared Survey Facility\",\"Anglo-Australian Telescope\",\"KELT-South\",\"Cerro Tololo Inter-American Observatory\",\"KELT\",\"Thueringer Landessternwarte Tautenburg\",\"KMTNet\",\"Fred Lawrence Whipple Observatory\",\"Very Long Baseline Array\",\"Yunnan Astronomical Observatory\",\"United Kingdom Infrared Telescope\",\"Roque de los Muchachos Observatory\",\"HATSouth\",\"Subaru Telescope\",\"Okayama Astrophysical Observatory\",\"Kitt Peak National Observatory\",\"SuperWASP\",\"Gemini Observatory\",\"Palomar Observatory\",\"Calar Alto Observatory\",\"TrES\",\"European Southern Observatory\",\"Qatar\",\"Parkes Observatory\",\"Haute-Provence Observatory\"],\"ids\":[\"Leoncito Astronomical Complex\",\"Winer Observatory\",\"Multiple Observatories\",\"La Silla Observatory\",\"MOA\",\"Lick Observatory\",\"NASA Infrared Telescope Facility (IRTF)\",\"Multiple Facilities\",\"XO\",\"Next-Generation Transit Survey (NGTS)\",\"Acton Sky Portal Observatory\",\"WASP-South\",\"MEarth Project\",\"Apache Point Observatory\",\"Mauna Kea Observatory\",\"Las Campanas Observatory\",\"McDonald Observatory\",\"Large Binocular Telescope Observatory\",\"Lowell Observatory\",\"Atacama Large Millimeter Array (ALMA)\",\"OGLE\",\"W. M. Keck Observatory\",\"Xinglong Station\",\"Arecibo Observatory\",\"Bohyunsan Optical Astronomical Observatory\",\"Paranal Observatory\",\"KELT-North\",\"Teide Observatory\",\"SuperWASP-South\",\"University of Canterbury Mt John Observatory\",\"SPECULOOS Southern Observatory\",\"HATNet\",\"Haleakala Observatory\",\"SuperWASP-North\",\"Infrared Survey Facility\",\"Anglo-Australian Telescope\",\"KELT-South\",\"Cerro Tololo Inter-American Observatory\",\"KELT\",\"Thueringer Landessternwarte Tautenburg\",\"KMTNet\",\"Fred Lawrence Whipple Observatory\",\"Very Long Baseline Array\",\"Yunnan Astronomical Observatory\",\"United Kingdom Infrared Telescope\",\"Roque de los Muchachos Observatory\",\"HATSouth\",\"Subaru Telescope\",\"Okayama Astrophysical Observatory\",\"Kitt Peak National Observatory\",\"SuperWASP\",\"Gemini Observatory\",\"Palomar Observatory\",\"Calar Alto Observatory\",\"TrES\",\"European Southern Observatory\",\"Qatar\",\"Parkes Observatory\",\"Haute-Provence Observatory\"],\"lat\":[-31.798406322237792,31.66664384843098,null,-29.2552104,14.53520885,37.343180950000004,19.8262932,null,18.3167587,-24.6157395,42.4850931,-54.74708985,31.6841828,32.780298450000004,19.824758000000003,-29.01915575,30.6758212,32.701432499999996,35.20294505,-23.016605,42.0397014,19.826335800000003,28.2993048,18.34435035,36.16493673022682,-24.62746015,64.23121929999999,28.30155405,-32.380828300000005,-43.985079510206,null,36.2534455,20.707724,28.7602486,-32.40945838829719,-31.275452,-32.380265449999996,-30.17112555,50.044335,50.980589699999996,-32.3788046,31.680770000000003,35.7751349,25.05169275,19.82263133941441,28.757069,null,19.825628,34.57620737464398,31.96005045,-32.380828300000005,19.7010144,33.353975750000004,37.222216,46.32311,-33.39954245,25.3336984,-32.9986005,43.93465290685473],\"legendgroup\":\"\",\"lon\":[-69.29561017690845,-110.60167156843839,null,-70.73950703583358,120.98159848166422,-121.6452932158403,-155.471936,null,102.1082886,-70.39103904999999,-71.43284,-35.854428196605994,-110.8780229,-105.81990911661293,-155.47335552670813,-70.69060142428015,-104.02058383636867,-109.88921125289411,-111.66465289534443,-67.77226867219686,-89.3138599,-155.4744554555519,105.3761434,-66.75271716738939,128.97680621520124,-70.40415067740268,23.8115647838413,-16.509883823160067,20.8104941,170.46406802137483,null,36.5635125,-156.25732220375536,-17.879274799500855,20.800649558809692,149.067221,20.810272050000002,-70.80355626100308,15.7454858,11.710985584651013,20.810438721680914,-110.87874815220113,-106.24555896743195,102.57846947618563,-155.4702713396269,-17.88884356096937,null,-155.475984,133.59468610715888,-111.59806254704941,20.8104941,-155.0901111721641,-116.86137432789532,-2.54693,11.096874,-70.6002258733539,51.2295295,148.262423,5.711210002635074],\"marker\":{\"color\":[0,0,17,27,0,12,0,0,0,0,0,0,0,0,0,0,0,0,0,0,1,25,0,3,0,0,0,0,0,0,0,0,0,0,0,14,0,0,0,0,0,2,0,0,0,0,0,0,1,0,0,0,0,0,0,0,0,0,6],\"coloraxis\":\"coloraxis\",\"size\":[0,0,17,27,0,12,0,0,0,0,0,0,0,0,0,0,0,0,0,0,1,25,0,3,0,0,0,0,0,0,0,0,0,0,0,14,0,0,0,0,0,2,0,0,0,0,0,0,1,0,0,0,0,0,0,0,0,0,6],\"sizemode\":\"area\",\"sizeref\":0.1124,\"symbol\":\"circle\"},\"mode\":\"markers\",\"name\":\"\",\"showlegend\":false,\"type\":\"scattergeo\"}],\"name\":\"2003\"},{\"data\":[{\"geo\":\"geo\",\"hovertemplate\":\"\\u003cb\\u003e%{hovertext}\\u003c\\u002fb\\u003e\\u003cbr\\u003e\\u003cbr\\u003edisc_year=2004\\u003cbr\\u003ecounts=%{marker.color}\\u003cbr\\u003elatitude=%{lat}\\u003cbr\\u003elongitude=%{lon}\\u003cextra\\u003e\\u003c\\u002fextra\\u003e\",\"hovertext\":[\"WASP-South\",\"Las Campanas Observatory\",\"Apache Point Observatory\",\"SuperWASP\",\"KELT-North\",\"MEarth Project\",\"NASA Infrared Telescope Facility (IRTF)\",\"University of Canterbury Mt John Observatory\",\"HATSouth\",\"Anglo-Australian Telescope\",\"Multiple Observatories\",\"Bohyunsan Optical Astronomical Observatory\",\"Leoncito Astronomical Complex\",\"TrES\",\"Lowell Observatory\",\"European Southern Observatory\",\"Haute-Provence Observatory\",\"Multiple Facilities\",\"Subaru Telescope\",\"Arecibo Observatory\",\"Winer Observatory\",\"McDonald Observatory\",\"Lick Observatory\",\"United Kingdom Infrared Telescope\",\"Infrared Survey Facility\",\"Haleakala Observatory\",\"SPECULOOS Southern Observatory\",\"SuperWASP-North\",\"Cerro Tololo Inter-American Observatory\",\"KELT\",\"Fred Lawrence Whipple Observatory\",\"XO\",\"Roque de los Muchachos Observatory\",\"KELT-South\",\"Qatar\",\"Thueringer Landessternwarte Tautenburg\",\"Gemini Observatory\",\"Acton Sky Portal Observatory\",\"Kitt Peak National Observatory\",\"SuperWASP-South\",\"KMTNet\",\"Paranal Observatory\",\"Next-Generation Transit Survey (NGTS)\",\"Palomar Observatory\",\"Large Binocular Telescope Observatory\",\"Very Long Baseline Array\",\"OGLE\",\"Yunnan Astronomical Observatory\",\"Xinglong Station\",\"W. M. Keck Observatory\",\"Teide Observatory\",\"Mauna Kea Observatory\",\"HATNet\",\"Parkes Observatory\",\"Okayama Astrophysical Observatory\",\"Calar Alto Observatory\",\"La Silla Observatory\",\"Atacama Large Millimeter Array (ALMA)\",\"MOA\"],\"ids\":[\"WASP-South\",\"Las Campanas Observatory\",\"Apache Point Observatory\",\"SuperWASP\",\"KELT-North\",\"MEarth Project\",\"NASA Infrared Telescope Facility (IRTF)\",\"University of Canterbury Mt John Observatory\",\"HATSouth\",\"Anglo-Australian Telescope\",\"Multiple Observatories\",\"Bohyunsan Optical Astronomical Observatory\",\"Leoncito Astronomical Complex\",\"TrES\",\"Lowell Observatory\",\"European Southern Observatory\",\"Haute-Provence Observatory\",\"Multiple Facilities\",\"Subaru Telescope\",\"Arecibo Observatory\",\"Winer Observatory\",\"McDonald Observatory\",\"Lick Observatory\",\"United Kingdom Infrared Telescope\",\"Infrared Survey Facility\",\"Haleakala Observatory\",\"SPECULOOS Southern Observatory\",\"SuperWASP-North\",\"Cerro Tololo Inter-American Observatory\",\"KELT\",\"Fred Lawrence Whipple Observatory\",\"XO\",\"Roque de los Muchachos Observatory\",\"KELT-South\",\"Qatar\",\"Thueringer Landessternwarte Tautenburg\",\"Gemini Observatory\",\"Acton Sky Portal Observatory\",\"Kitt Peak National Observatory\",\"SuperWASP-South\",\"KMTNet\",\"Paranal Observatory\",\"Next-Generation Transit Survey (NGTS)\",\"Palomar Observatory\",\"Large Binocular Telescope Observatory\",\"Very Long Baseline Array\",\"OGLE\",\"Yunnan Astronomical Observatory\",\"Xinglong Station\",\"W. M. Keck Observatory\",\"Teide Observatory\",\"Mauna Kea Observatory\",\"HATNet\",\"Parkes Observatory\",\"Okayama Astrophysical Observatory\",\"Calar Alto Observatory\",\"La Silla Observatory\",\"Atacama Large Millimeter Array (ALMA)\",\"MOA\"],\"lat\":[-54.74708985,-29.01915575,32.780298450000004,-32.380828300000005,64.23121929999999,31.6841828,19.8262932,-43.985079510206,null,-31.275452,null,36.16493673022682,-31.798406322237792,46.32311,35.20294505,-33.39954245,43.93465290685473,null,19.825628,18.34435035,31.66664384843098,30.6758212,37.343180950000004,19.82263133941441,-32.40945838829719,20.707724,null,28.7602486,-30.17112555,50.044335,31.680770000000003,18.3167587,28.757069,-32.380265449999996,25.3336984,50.980589699999996,19.7010144,42.4850931,31.96005045,-32.380828300000005,-32.3788046,-24.62746015,-24.6157395,33.353975750000004,32.701432499999996,35.7751349,42.0397014,25.05169275,28.2993048,19.826335800000003,28.30155405,19.824758000000003,36.2534455,-32.9986005,34.57620737464398,37.222216,-29.2552104,-23.016605,14.53520885],\"legendgroup\":\"\",\"lon\":[-35.854428196605994,-70.69060142428015,-105.81990911661293,20.8104941,23.8115647838413,-110.8780229,-155.471936,170.46406802137483,null,149.067221,null,128.97680621520124,-69.29561017690845,11.096874,-111.66465289534443,-70.6002258733539,5.711210002635074,null,-155.475984,-66.75271716738939,-110.60167156843839,-104.02058383636867,-121.6452932158403,-155.4702713396269,20.800649558809692,-156.25732220375536,null,-17.879274799500855,-70.80355626100308,15.7454858,-110.87874815220113,102.1082886,-17.88884356096937,20.810272050000002,51.2295295,11.710985584651013,-155.0901111721641,-71.43284,-111.59806254704941,20.8104941,20.810438721680914,-70.40415067740268,-70.39103904999999,-116.86137432789532,-109.88921125289411,-106.24555896743195,-89.3138599,102.57846947618563,105.3761434,-155.4744554555519,-16.509883823160067,-155.47335552670813,36.5635125,148.262423,133.59468610715888,-2.54693,-70.73950703583358,-67.77226867219686,120.98159848166422],\"marker\":{\"color\":[0,0,0,0,0,0,0,0,0,18,17,0,0,1,0,0,6,0,1,3,0,3,12,0,0,0,0,0,0,0,2,0,0,0,0,0,0,0,0,0,0,2,0,0,0,0,6,0,0,32,0,0,0,0,1,0,31,0,0],\"coloraxis\":\"coloraxis\",\"size\":[0,0,0,0,0,0,0,0,0,18,17,0,0,1,0,0,6,0,1,3,0,3,12,0,0,0,0,0,0,0,2,0,0,0,0,0,0,0,0,0,0,2,0,0,0,0,6,0,0,32,0,0,0,0,1,0,31,0,0],\"sizemode\":\"area\",\"sizeref\":0.1124,\"symbol\":\"circle\"},\"mode\":\"markers\",\"name\":\"\",\"showlegend\":false,\"type\":\"scattergeo\"}],\"name\":\"2004\"},{\"data\":[{\"geo\":\"geo\",\"hovertemplate\":\"\\u003cb\\u003e%{hovertext}\\u003c\\u002fb\\u003e\\u003cbr\\u003e\\u003cbr\\u003edisc_year=2005\\u003cbr\\u003ecounts=%{marker.color}\\u003cbr\\u003elatitude=%{lat}\\u003cbr\\u003elongitude=%{lon}\\u003cextra\\u003e\\u003c\\u002fextra\\u003e\",\"hovertext\":[\"United Kingdom Infrared Telescope\",\"Haleakala Observatory\",\"OGLE\",\"SPECULOOS Southern Observatory\",\"Lowell Observatory\",\"Multiple Facilities\",\"Infrared Survey Facility\",\"Okayama Astrophysical Observatory\",\"Palomar Observatory\",\"Acton Sky Portal Observatory\",\"Gemini Observatory\",\"TrES\",\"Xinglong Station\",\"La Silla Observatory\",\"MOA\",\"Yunnan Astronomical Observatory\",\"Lick Observatory\",\"Teide Observatory\",\"Bohyunsan Optical Astronomical Observatory\",\"Haute-Provence Observatory\",\"Winer Observatory\",\"W. M. Keck Observatory\",\"McDonald Observatory\",\"Arecibo Observatory\",\"Kitt Peak National Observatory\",\"Subaru Telescope\",\"European Southern Observatory\",\"SuperWASP-North\",\"SuperWASP\",\"HATNet\",\"Thueringer Landessternwarte Tautenburg\",\"KELT-North\",\"Cerro Tololo Inter-American Observatory\",\"NASA Infrared Telescope Facility (IRTF)\",\"MEarth Project\",\"Qatar\",\"Calar Alto Observatory\",\"University of Canterbury Mt John Observatory\",\"XO\",\"Anglo-Australian Telescope\",\"Apache Point Observatory\",\"Las Campanas Observatory\",\"Mauna Kea Observatory\",\"Atacama Large Millimeter Array (ALMA)\",\"KELT-South\",\"Paranal Observatory\",\"WASP-South\",\"Next-Generation Transit Survey (NGTS)\",\"KELT\",\"SuperWASP-South\",\"Roque de los Muchachos Observatory\",\"HATSouth\",\"Multiple Observatories\",\"Parkes Observatory\",\"KMTNet\",\"Fred Lawrence Whipple Observatory\",\"Large Binocular Telescope Observatory\",\"Leoncito Astronomical Complex\",\"Very Long Baseline Array\"],\"ids\":[\"United Kingdom Infrared Telescope\",\"Haleakala Observatory\",\"OGLE\",\"SPECULOOS Southern Observatory\",\"Lowell Observatory\",\"Multiple Facilities\",\"Infrared Survey Facility\",\"Okayama Astrophysical Observatory\",\"Palomar Observatory\",\"Acton Sky Portal Observatory\",\"Gemini Observatory\",\"TrES\",\"Xinglong Station\",\"La Silla Observatory\",\"MOA\",\"Yunnan Astronomical Observatory\",\"Lick Observatory\",\"Teide Observatory\",\"Bohyunsan Optical Astronomical Observatory\",\"Haute-Provence Observatory\",\"Winer Observatory\",\"W. M. Keck Observatory\",\"McDonald Observatory\",\"Arecibo Observatory\",\"Kitt Peak National Observatory\",\"Subaru Telescope\",\"European Southern Observatory\",\"SuperWASP-North\",\"SuperWASP\",\"HATNet\",\"Thueringer Landessternwarte Tautenburg\",\"KELT-North\",\"Cerro Tololo Inter-American Observatory\",\"NASA Infrared Telescope Facility (IRTF)\",\"MEarth Project\",\"Qatar\",\"Calar Alto Observatory\",\"University of Canterbury Mt John Observatory\",\"XO\",\"Anglo-Australian Telescope\",\"Apache Point Observatory\",\"Las Campanas Observatory\",\"Mauna Kea Observatory\",\"Atacama Large Millimeter Array (ALMA)\",\"KELT-South\",\"Paranal Observatory\",\"WASP-South\",\"Next-Generation Transit Survey (NGTS)\",\"KELT\",\"SuperWASP-South\",\"Roque de los Muchachos Observatory\",\"HATSouth\",\"Multiple Observatories\",\"Parkes Observatory\",\"KMTNet\",\"Fred Lawrence Whipple Observatory\",\"Large Binocular Telescope Observatory\",\"Leoncito Astronomical Complex\",\"Very Long Baseline Array\"],\"lat\":[19.82263133941441,20.707724,42.0397014,null,35.20294505,null,-32.40945838829719,34.57620737464398,33.353975750000004,42.4850931,19.7010144,46.32311,28.2993048,-29.2552104,14.53520885,25.05169275,37.343180950000004,28.30155405,36.16493673022682,43.93465290685473,31.66664384843098,19.826335800000003,30.6758212,18.34435035,31.96005045,19.825628,-33.39954245,28.7602486,-32.380828300000005,36.2534455,50.980589699999996,64.23121929999999,-30.17112555,19.8262932,31.6841828,25.3336984,37.222216,-43.985079510206,18.3167587,-31.275452,32.780298450000004,-29.01915575,19.824758000000003,-23.016605,-32.380265449999996,-24.62746015,-54.74708985,-24.6157395,50.044335,-32.380828300000005,28.757069,null,null,-32.9986005,-32.3788046,31.680770000000003,32.701432499999996,-31.798406322237792,35.7751349],\"legendgroup\":\"\",\"lon\":[-155.4702713396269,-156.25732220375536,-89.3138599,null,-111.66465289534443,null,20.800649558809692,133.59468610715888,-116.86137432789532,-71.43284,-155.0901111721641,11.096874,105.3761434,-70.73950703583358,120.98159848166422,102.57846947618563,-121.6452932158403,-16.509883823160067,128.97680621520124,5.711210002635074,-110.60167156843839,-155.4744554555519,-104.02058383636867,-66.75271716738939,-111.59806254704941,-155.475984,-70.6002258733539,-17.879274799500855,20.8104941,36.5635125,11.710985584651013,23.8115647838413,-70.80355626100308,-155.471936,-110.8780229,51.2295295,-2.54693,170.46406802137483,102.1082886,149.067221,-105.81990911661293,-70.69060142428015,-155.47335552670813,-67.77226867219686,20.810272050000002,-70.40415067740268,-35.854428196605994,-70.39103904999999,15.7454858,20.8104941,-17.88884356096937,null,null,148.262423,20.810438721680914,-110.87874815220113,-109.88921125289411,-69.29561017690845,-106.24555896743195],\"marker\":{\"color\":[0,0,8,0,0,0,0,1,0,0,0,1,0,42,0,0,13,0,0,10,0,45,3,3,0,2,0,0,0,0,1,0,0,0,0,0,0,0,0,19,0,0,0,0,0,3,0,0,0,0,0,0,18,0,0,2,0,0,0],\"coloraxis\":\"coloraxis\",\"size\":[0,0,8,0,0,0,0,1,0,0,0,1,0,42,0,0,13,0,0,10,0,45,3,3,0,2,0,0,0,0,1,0,0,0,0,0,0,0,0,19,0,0,0,0,0,3,0,0,0,0,0,0,18,0,0,2,0,0,0],\"sizemode\":\"area\",\"sizeref\":0.1124,\"symbol\":\"circle\"},\"mode\":\"markers\",\"name\":\"\",\"showlegend\":false,\"type\":\"scattergeo\"}],\"name\":\"2005\"},{\"data\":[{\"geo\":\"geo\",\"hovertemplate\":\"\\u003cb\\u003e%{hovertext}\\u003c\\u002fb\\u003e\\u003cbr\\u003e\\u003cbr\\u003edisc_year=2006\\u003cbr\\u003ecounts=%{marker.color}\\u003cbr\\u003elatitude=%{lat}\\u003cbr\\u003elongitude=%{lon}\\u003cextra\\u003e\\u003c\\u002fextra\\u003e\",\"hovertext\":[\"MOA\",\"Teide Observatory\",\"SuperWASP\",\"Thueringer Landessternwarte Tautenburg\",\"HATNet\",\"SuperWASP-North\",\"MEarth Project\",\"Lowell Observatory\",\"Winer Observatory\",\"Haleakala Observatory\",\"SuperWASP-South\",\"McDonald Observatory\",\"XO\",\"Fred Lawrence Whipple Observatory\",\"HATSouth\",\"Apache Point Observatory\",\"Mauna Kea Observatory\",\"Gemini Observatory\",\"University of Canterbury Mt John Observatory\",\"Leoncito Astronomical Complex\",\"Roque de los Muchachos Observatory\",\"OGLE\",\"KELT-North\",\"Qatar\",\"Palomar Observatory\",\"NASA Infrared Telescope Facility (IRTF)\",\"W. M. Keck Observatory\",\"KMTNet\",\"TrES\",\"Las Campanas Observatory\",\"Calar Alto Observatory\",\"KELT-South\",\"Atacama Large Millimeter Array (ALMA)\",\"Very Long Baseline Array\",\"Next-Generation Transit Survey (NGTS)\",\"Paranal Observatory\",\"Anglo-Australian Telescope\",\"Parkes Observatory\",\"WASP-South\",\"KELT\",\"Large Binocular Telescope Observatory\",\"Bohyunsan Optical Astronomical Observatory\",\"Multiple Facilities\",\"La Silla Observatory\",\"Okayama Astrophysical Observatory\",\"Acton Sky Portal Observatory\",\"Kitt Peak National Observatory\",\"Arecibo Observatory\",\"Lick Observatory\",\"Infrared Survey Facility\",\"SPECULOOS Southern Observatory\",\"United Kingdom Infrared Telescope\",\"Xinglong Station\",\"Haute-Provence Observatory\",\"Cerro Tololo Inter-American Observatory\",\"Multiple Observatories\",\"European Southern Observatory\",\"Yunnan Astronomical Observatory\",\"Subaru Telescope\"],\"ids\":[\"MOA\",\"Teide Observatory\",\"SuperWASP\",\"Thueringer Landessternwarte Tautenburg\",\"HATNet\",\"SuperWASP-North\",\"MEarth Project\",\"Lowell Observatory\",\"Winer Observatory\",\"Haleakala Observatory\",\"SuperWASP-South\",\"McDonald Observatory\",\"XO\",\"Fred Lawrence Whipple Observatory\",\"HATSouth\",\"Apache Point Observatory\",\"Mauna Kea Observatory\",\"Gemini Observatory\",\"University of Canterbury Mt John Observatory\",\"Leoncito Astronomical Complex\",\"Roque de los Muchachos Observatory\",\"OGLE\",\"KELT-North\",\"Qatar\",\"Palomar Observatory\",\"NASA Infrared Telescope Facility (IRTF)\",\"W. M. Keck Observatory\",\"KMTNet\",\"TrES\",\"Las Campanas Observatory\",\"Calar Alto Observatory\",\"KELT-South\",\"Atacama Large Millimeter Array (ALMA)\",\"Very Long Baseline Array\",\"Next-Generation Transit Survey (NGTS)\",\"Paranal Observatory\",\"Anglo-Australian Telescope\",\"Parkes Observatory\",\"WASP-South\",\"KELT\",\"Large Binocular Telescope Observatory\",\"Bohyunsan Optical Astronomical Observatory\",\"Multiple Facilities\",\"La Silla Observatory\",\"Okayama Astrophysical Observatory\",\"Acton Sky Portal Observatory\",\"Kitt Peak National Observatory\",\"Arecibo Observatory\",\"Lick Observatory\",\"Infrared Survey Facility\",\"SPECULOOS Southern Observatory\",\"United Kingdom Infrared Telescope\",\"Xinglong Station\",\"Haute-Provence Observatory\",\"Cerro Tololo Inter-American Observatory\",\"Multiple Observatories\",\"European Southern Observatory\",\"Yunnan Astronomical Observatory\",\"Subaru Telescope\"],\"lat\":[14.53520885,28.30155405,-32.380828300000005,50.980589699999996,36.2534455,28.7602486,31.6841828,35.20294505,31.66664384843098,20.707724,-32.380828300000005,30.6758212,18.3167587,31.680770000000003,null,32.780298450000004,19.824758000000003,19.7010144,-43.985079510206,-31.798406322237792,28.757069,42.0397014,64.23121929999999,25.3336984,33.353975750000004,19.8262932,19.826335800000003,-32.3788046,46.32311,-29.01915575,37.222216,-32.380265449999996,-23.016605,35.7751349,-24.6157395,-24.62746015,-31.275452,-32.9986005,-54.74708985,50.044335,32.701432499999996,36.16493673022682,null,-29.2552104,34.57620737464398,42.4850931,31.96005045,18.34435035,37.343180950000004,-32.40945838829719,null,19.82263133941441,28.2993048,43.93465290685473,-30.17112555,null,-33.39954245,25.05169275,19.825628],\"legendgroup\":\"\",\"lon\":[120.98159848166422,-16.509883823160067,20.8104941,11.710985584651013,36.5635125,-17.879274799500855,-110.8780229,-111.66465289534443,-110.60167156843839,-156.25732220375536,20.8104941,-104.02058383636867,102.1082886,-110.87874815220113,null,-105.81990911661293,-155.47335552670813,-155.0901111721641,170.46406802137483,-69.29561017690845,-17.88884356096937,-89.3138599,23.8115647838413,51.2295295,-116.86137432789532,-155.471936,-155.4744554555519,20.810438721680914,11.096874,-70.69060142428015,-2.54693,20.810272050000002,-67.77226867219686,-106.24555896743195,-70.39103904999999,-70.40415067740268,149.067221,148.262423,-35.854428196605994,15.7454858,-109.88921125289411,128.97680621520124,null,-70.73950703583358,133.59468610715888,-71.43284,-111.59806254704941,-66.75271716738939,-121.6452932158403,20.800649558809692,null,-155.4702713396269,105.3761434,5.711210002635074,-70.80355626100308,null,-70.6002258733539,102.57846947618563,-155.475984],\"marker\":{\"color\":[0,0,0,2,1,0,0,0,0,0,0,3,1,2,0,0,0,1,0,0,0,9,0,0,1,0,53,0,2,0,0,0,0,0,0,3,23,0,0,0,0,0,0,46,2,0,1,3,14,0,0,0,0,10,0,19,0,0,2],\"coloraxis\":\"coloraxis\",\"size\":[0,0,0,2,1,0,0,0,0,0,0,3,1,2,0,0,0,1,0,0,0,9,0,0,1,0,53,0,2,0,0,0,0,0,0,3,23,0,0,0,0,0,0,46,2,0,1,3,14,0,0,0,0,10,0,19,0,0,2],\"sizemode\":\"area\",\"sizeref\":0.1124,\"symbol\":\"circle\"},\"mode\":\"markers\",\"name\":\"\",\"showlegend\":false,\"type\":\"scattergeo\"}],\"name\":\"2006\"},{\"data\":[{\"geo\":\"geo\",\"hovertemplate\":\"\\u003cb\\u003e%{hovertext}\\u003c\\u002fb\\u003e\\u003cbr\\u003e\\u003cbr\\u003edisc_year=2007\\u003cbr\\u003ecounts=%{marker.color}\\u003cbr\\u003elatitude=%{lat}\\u003cbr\\u003elongitude=%{lon}\\u003cextra\\u003e\\u003c\\u002fextra\\u003e\",\"hovertext\":[\"SuperWASP-South\",\"XO\",\"Palomar Observatory\",\"Teide Observatory\",\"OGLE\",\"Very Long Baseline Array\",\"Okayama Astrophysical Observatory\",\"W. M. Keck Observatory\",\"TrES\",\"Paranal Observatory\",\"SuperWASP\",\"Subaru Telescope\",\"Winer Observatory\",\"Xinglong Station\",\"McDonald Observatory\",\"Multiple Facilities\",\"SPECULOOS Southern Observatory\",\"United Kingdom Infrared Telescope\",\"Multiple Observatories\",\"SuperWASP-North\",\"WASP-South\",\"Roque de los Muchachos Observatory\",\"Qatar\",\"Thueringer Landessternwarte Tautenburg\",\"NASA Infrared Telescope Facility (IRTF)\",\"University of Canterbury Mt John Observatory\",\"Parkes Observatory\",\"Next-Generation Transit Survey (NGTS)\",\"Yunnan Astronomical Observatory\",\"Mauna Kea Observatory\",\"Fred Lawrence Whipple Observatory\",\"KELT-North\",\"La Silla Observatory\",\"Infrared Survey Facility\",\"Las Campanas Observatory\",\"Lowell Observatory\",\"Haleakala Observatory\",\"Leoncito Astronomical Complex\",\"Calar Alto Observatory\",\"Large Binocular Telescope Observatory\",\"Anglo-Australian Telescope\",\"Cerro Tololo Inter-American Observatory\",\"Arecibo Observatory\",\"MEarth Project\",\"Atacama Large Millimeter Array (ALMA)\",\"KELT-South\",\"Lick Observatory\",\"Gemini Observatory\",\"Bohyunsan Optical Astronomical Observatory\",\"Haute-Provence Observatory\",\"KELT\",\"HATNet\",\"European Southern Observatory\",\"KMTNet\",\"Acton Sky Portal Observatory\",\"Apache Point Observatory\",\"MOA\",\"HATSouth\",\"Kitt Peak National Observatory\"],\"ids\":[\"SuperWASP-South\",\"XO\",\"Palomar Observatory\",\"Teide Observatory\",\"OGLE\",\"Very Long Baseline Array\",\"Okayama Astrophysical Observatory\",\"W. M. Keck Observatory\",\"TrES\",\"Paranal Observatory\",\"SuperWASP\",\"Subaru Telescope\",\"Winer Observatory\",\"Xinglong Station\",\"McDonald Observatory\",\"Multiple Facilities\",\"SPECULOOS Southern Observatory\",\"United Kingdom Infrared Telescope\",\"Multiple Observatories\",\"SuperWASP-North\",\"WASP-South\",\"Roque de los Muchachos Observatory\",\"Qatar\",\"Thueringer Landessternwarte Tautenburg\",\"NASA Infrared Telescope Facility (IRTF)\",\"University of Canterbury Mt John Observatory\",\"Parkes Observatory\",\"Next-Generation Transit Survey (NGTS)\",\"Yunnan Astronomical Observatory\",\"Mauna Kea Observatory\",\"Fred Lawrence Whipple Observatory\",\"KELT-North\",\"La Silla Observatory\",\"Infrared Survey Facility\",\"Las Campanas Observatory\",\"Lowell Observatory\",\"Haleakala Observatory\",\"Leoncito Astronomical Complex\",\"Calar Alto Observatory\",\"Large Binocular Telescope Observatory\",\"Anglo-Australian Telescope\",\"Cerro Tololo Inter-American Observatory\",\"Arecibo Observatory\",\"MEarth Project\",\"Atacama Large Millimeter Array (ALMA)\",\"KELT-South\",\"Lick Observatory\",\"Gemini Observatory\",\"Bohyunsan Optical Astronomical Observatory\",\"Haute-Provence Observatory\",\"KELT\",\"HATNet\",\"European Southern Observatory\",\"KMTNet\",\"Acton Sky Portal Observatory\",\"Apache Point Observatory\",\"MOA\",\"HATSouth\",\"Kitt Peak National Observatory\"],\"lat\":[-32.380828300000005,18.3167587,33.353975750000004,28.30155405,42.0397014,35.7751349,34.57620737464398,19.826335800000003,46.32311,-24.62746015,-32.380828300000005,19.825628,31.66664384843098,28.2993048,30.6758212,null,null,19.82263133941441,null,28.7602486,-54.74708985,28.757069,25.3336984,50.980589699999996,19.8262932,-43.985079510206,-32.9986005,-24.6157395,25.05169275,19.824758000000003,31.680770000000003,64.23121929999999,-29.2552104,-32.40945838829719,-29.01915575,35.20294505,20.707724,-31.798406322237792,37.222216,32.701432499999996,-31.275452,-30.17112555,18.34435035,31.6841828,-23.016605,-32.380265449999996,37.343180950000004,19.7010144,36.16493673022682,43.93465290685473,50.044335,36.2534455,-33.39954245,-32.3788046,42.4850931,32.780298450000004,14.53520885,null,31.96005045],\"legendgroup\":\"\",\"lon\":[20.8104941,102.1082886,-116.86137432789532,-16.509883823160067,-89.3138599,-106.24555896743195,133.59468610715888,-155.4744554555519,11.096874,-70.40415067740268,20.8104941,-155.475984,-110.60167156843839,105.3761434,-104.02058383636867,null,null,-155.4702713396269,null,-17.879274799500855,-35.854428196605994,-17.88884356096937,51.2295295,11.710985584651013,-155.471936,170.46406802137483,148.262423,-70.39103904999999,102.57846947618563,-155.47335552670813,-110.87874815220113,23.8115647838413,-70.73950703583358,20.800649558809692,-70.69060142428015,-111.66465289534443,-156.25732220375536,-69.29561017690845,-2.54693,-109.88921125289411,149.067221,-70.80355626100308,-66.75271716738939,-110.8780229,-67.77226867219686,20.810272050000002,-121.6452932158403,-155.0901111721641,128.97680621520124,5.711210002635074,15.7454858,36.5635125,-70.6002258733539,20.810438721680914,-71.43284,-105.81990911661293,120.98159848166422,null,-111.59806254704941],\"marker\":{\"color\":[0,3,1,0,11,0,4,61,4,4,4,3,0,1,6,0,0,0,22,0,0,0,0,2,0,0,0,0,0,0,2,0,57,0,0,0,0,0,0,0,23,0,3,0,0,0,18,1,0,13,0,6,0,0,0,0,0,0,1],\"coloraxis\":\"coloraxis\",\"size\":[0,3,1,0,11,0,4,61,4,4,4,3,0,1,6,0,0,0,22,0,0,0,0,2,0,0,0,0,0,0,2,0,57,0,0,0,0,0,0,0,23,0,3,0,0,0,18,1,0,13,0,6,0,0,0,0,0,0,1],\"sizemode\":\"area\",\"sizeref\":0.1124,\"symbol\":\"circle\"},\"mode\":\"markers\",\"name\":\"\",\"showlegend\":false,\"type\":\"scattergeo\"}],\"name\":\"2007\"},{\"data\":[{\"geo\":\"geo\",\"hovertemplate\":\"\\u003cb\\u003e%{hovertext}\\u003c\\u002fb\\u003e\\u003cbr\\u003e\\u003cbr\\u003edisc_year=2008\\u003cbr\\u003ecounts=%{marker.color}\\u003cbr\\u003elatitude=%{lat}\\u003cbr\\u003elongitude=%{lon}\\u003cextra\\u003e\\u003c\\u002fextra\\u003e\",\"hovertext\":[\"University of Canterbury Mt John Observatory\",\"NASA Infrared Telescope Facility (IRTF)\",\"McDonald Observatory\",\"Apache Point Observatory\",\"WASP-South\",\"Cerro Tololo Inter-American Observatory\",\"Xinglong Station\",\"European Southern Observatory\",\"Roque de los Muchachos Observatory\",\"Anglo-Australian Telescope\",\"XO\",\"Subaru Telescope\",\"Multiple Facilities\",\"W. M. Keck Observatory\",\"Bohyunsan Optical Astronomical Observatory\",\"OGLE\",\"Qatar\",\"United Kingdom Infrared Telescope\",\"SPECULOOS Southern Observatory\",\"TrES\",\"Leoncito Astronomical Complex\",\"Infrared Survey Facility\",\"Fred Lawrence Whipple Observatory\",\"KELT-North\",\"Multiple Observatories\",\"Lowell Observatory\",\"Atacama Large Millimeter Array (ALMA)\",\"KELT\",\"Haute-Provence Observatory\",\"Parkes Observatory\",\"Lick Observatory\",\"KELT-South\",\"Acton Sky Portal Observatory\",\"MOA\",\"Next-Generation Transit Survey (NGTS)\",\"Very Long Baseline Array\",\"Teide Observatory\",\"Paranal Observatory\",\"La Silla Observatory\",\"Mauna Kea Observatory\",\"Large Binocular Telescope Observatory\",\"Calar Alto Observatory\",\"SuperWASP-North\",\"Okayama Astrophysical Observatory\",\"KMTNet\",\"Las Campanas Observatory\",\"Yunnan Astronomical Observatory\",\"Haleakala Observatory\",\"HATSouth\",\"Gemini Observatory\",\"Thueringer Landessternwarte Tautenburg\",\"HATNet\",\"Kitt Peak National Observatory\",\"SuperWASP-South\",\"Arecibo Observatory\",\"Winer Observatory\",\"MEarth Project\",\"SuperWASP\",\"Palomar Observatory\"],\"ids\":[\"University of Canterbury Mt John Observatory\",\"NASA Infrared Telescope Facility (IRTF)\",\"McDonald Observatory\",\"Apache Point Observatory\",\"WASP-South\",\"Cerro Tololo Inter-American Observatory\",\"Xinglong Station\",\"European Southern Observatory\",\"Roque de los Muchachos Observatory\",\"Anglo-Australian Telescope\",\"XO\",\"Subaru Telescope\",\"Multiple Facilities\",\"W. M. Keck Observatory\",\"Bohyunsan Optical Astronomical Observatory\",\"OGLE\",\"Qatar\",\"United Kingdom Infrared Telescope\",\"SPECULOOS Southern Observatory\",\"TrES\",\"Leoncito Astronomical Complex\",\"Infrared Survey Facility\",\"Fred Lawrence Whipple Observatory\",\"KELT-North\",\"Multiple Observatories\",\"Lowell Observatory\",\"Atacama Large Millimeter Array (ALMA)\",\"KELT\",\"Haute-Provence Observatory\",\"Parkes Observatory\",\"Lick Observatory\",\"KELT-South\",\"Acton Sky Portal Observatory\",\"MOA\",\"Next-Generation Transit Survey (NGTS)\",\"Very Long Baseline Array\",\"Teide Observatory\",\"Paranal Observatory\",\"La Silla Observatory\",\"Mauna Kea Observatory\",\"Large Binocular Telescope Observatory\",\"Calar Alto Observatory\",\"SuperWASP-North\",\"Okayama Astrophysical Observatory\",\"KMTNet\",\"Las Campanas Observatory\",\"Yunnan Astronomical Observatory\",\"Haleakala Observatory\",\"HATSouth\",\"Gemini Observatory\",\"Thueringer Landessternwarte Tautenburg\",\"HATNet\",\"Kitt Peak National Observatory\",\"SuperWASP-South\",\"Arecibo Observatory\",\"Winer Observatory\",\"MEarth Project\",\"SuperWASP\",\"Palomar Observatory\"],\"lat\":[-43.985079510206,19.8262932,30.6758212,32.780298450000004,-54.74708985,-30.17112555,28.2993048,-33.39954245,28.757069,-31.275452,18.3167587,19.825628,null,19.826335800000003,36.16493673022682,42.0397014,25.3336984,19.82263133941441,null,46.32311,-31.798406322237792,-32.40945838829719,31.680770000000003,64.23121929999999,null,35.20294505,-23.016605,50.044335,43.93465290685473,-32.9986005,37.343180950000004,-32.380265449999996,42.4850931,14.53520885,-24.6157395,35.7751349,28.30155405,-24.62746015,-29.2552104,19.824758000000003,32.701432499999996,37.222216,28.7602486,34.57620737464398,-32.3788046,-29.01915575,25.05169275,20.707724,null,19.7010144,50.980589699999996,36.2534455,31.96005045,-32.380828300000005,18.34435035,31.66664384843098,31.6841828,-32.380828300000005,33.353975750000004],\"legendgroup\":\"\",\"lon\":[170.46406802137483,-155.471936,-104.02058383636867,-105.81990911661293,-35.854428196605994,-70.80355626100308,105.3761434,-70.6002258733539,-17.88884356096937,149.067221,102.1082886,-155.475984,null,-155.4744554555519,128.97680621520124,-89.3138599,51.2295295,-155.4702713396269,null,11.096874,-69.29561017690845,20.800649558809692,-110.87874815220113,23.8115647838413,null,-111.66465289534443,-67.77226867219686,15.7454858,5.711210002635074,148.262423,-121.6452932158403,20.810272050000002,-71.43284,120.98159848166422,-70.39103904999999,-106.24555896743195,-16.509883823160067,-70.40415067740268,-70.73950703583358,-155.47335552670813,-109.88921125289411,-2.54693,-17.879274799500855,133.59468610715888,20.810438721680914,-70.69060142428015,102.57846947618563,-156.25732220375536,null,-155.0901111721641,11.710985584651013,36.5635125,-111.59806254704941,20.8104941,-66.75271716738939,-110.60167156843839,-110.8780229,20.8104941,-116.86137432789532],\"marker\":{\"color\":[0,0,7,0,0,0,2,0,0,25,5,3,0,69,0,14,0,0,0,4,0,0,2,0,22,0,0,0,14,0,18,0,0,2,0,0,1,5,72,0,0,0,0,8,0,4,0,0,0,4,4,10,1,0,3,0,0,10,1],\"coloraxis\":\"coloraxis\",\"size\":[0,0,7,0,0,0,2,0,0,25,5,3,0,69,0,14,0,0,0,4,0,0,2,0,22,0,0,0,14,0,18,0,0,2,0,0,1,5,72,0,0,0,0,8,0,4,0,0,0,4,4,10,1,0,3,0,0,10,1],\"sizemode\":\"area\",\"sizeref\":0.1124,\"symbol\":\"circle\"},\"mode\":\"markers\",\"name\":\"\",\"showlegend\":false,\"type\":\"scattergeo\"}],\"name\":\"2008\"},{\"data\":[{\"geo\":\"geo\",\"hovertemplate\":\"\\u003cb\\u003e%{hovertext}\\u003c\\u002fb\\u003e\\u003cbr\\u003e\\u003cbr\\u003edisc_year=2009\\u003cbr\\u003ecounts=%{marker.color}\\u003cbr\\u003elatitude=%{lat}\\u003cbr\\u003elongitude=%{lon}\\u003cextra\\u003e\\u003c\\u002fextra\\u003e\",\"hovertext\":[\"KMTNet\",\"XO\",\"OGLE\",\"Palomar Observatory\",\"Large Binocular Telescope Observatory\",\"Multiple Observatories\",\"KELT\",\"Very Long Baseline Array\",\"Paranal Observatory\",\"United Kingdom Infrared Telescope\",\"NASA Infrared Telescope Facility (IRTF)\",\"Winer Observatory\",\"University of Canterbury Mt John Observatory\",\"Arecibo Observatory\",\"Cerro Tololo Inter-American Observatory\",\"KELT-South\",\"Next-Generation Transit Survey (NGTS)\",\"WASP-South\",\"Las Campanas Observatory\",\"Leoncito Astronomical Complex\",\"Atacama Large Millimeter Array (ALMA)\",\"KELT-North\",\"Parkes Observatory\",\"Qatar\",\"Calar Alto Observatory\",\"Apache Point Observatory\",\"European Southern Observatory\",\"SuperWASP\",\"McDonald Observatory\",\"Yunnan Astronomical Observatory\",\"TrES\",\"Fred Lawrence Whipple Observatory\",\"Lowell Observatory\",\"Acton Sky Portal Observatory\",\"MEarth Project\",\"Teide Observatory\",\"Haleakala Observatory\",\"W. M. Keck Observatory\",\"Okayama Astrophysical Observatory\",\"Anglo-Australian Telescope\",\"Xinglong Station\",\"Mauna Kea Observatory\",\"Haute-Provence Observatory\",\"Subaru Telescope\",\"Multiple Facilities\",\"MOA\",\"HATSouth\",\"Roque de los Muchachos Observatory\",\"La Silla Observatory\",\"SuperWASP-South\",\"Thueringer Landessternwarte Tautenburg\",\"Kitt Peak National Observatory\",\"Bohyunsan Optical Astronomical Observatory\",\"SuperWASP-North\",\"HATNet\",\"Lick Observatory\",\"Infrared Survey Facility\",\"SPECULOOS Southern Observatory\",\"Gemini Observatory\"],\"ids\":[\"KMTNet\",\"XO\",\"OGLE\",\"Palomar Observatory\",\"Large Binocular Telescope Observatory\",\"Multiple Observatories\",\"KELT\",\"Very Long Baseline Array\",\"Paranal Observatory\",\"United Kingdom Infrared Telescope\",\"NASA Infrared Telescope Facility (IRTF)\",\"Winer Observatory\",\"University of Canterbury Mt John Observatory\",\"Arecibo Observatory\",\"Cerro Tololo Inter-American Observatory\",\"KELT-South\",\"Next-Generation Transit Survey (NGTS)\",\"WASP-South\",\"Las Campanas Observatory\",\"Leoncito Astronomical Complex\",\"Atacama Large Millimeter Array (ALMA)\",\"KELT-North\",\"Parkes Observatory\",\"Qatar\",\"Calar Alto Observatory\",\"Apache Point Observatory\",\"European Southern Observatory\",\"SuperWASP\",\"McDonald Observatory\",\"Yunnan Astronomical Observatory\",\"TrES\",\"Fred Lawrence Whipple Observatory\",\"Lowell Observatory\",\"Acton Sky Portal Observatory\",\"MEarth Project\",\"Teide Observatory\",\"Haleakala Observatory\",\"W. M. Keck Observatory\",\"Okayama Astrophysical Observatory\",\"Anglo-Australian Telescope\",\"Xinglong Station\",\"Mauna Kea Observatory\",\"Haute-Provence Observatory\",\"Subaru Telescope\",\"Multiple Facilities\",\"MOA\",\"HATSouth\",\"Roque de los Muchachos Observatory\",\"La Silla Observatory\",\"SuperWASP-South\",\"Thueringer Landessternwarte Tautenburg\",\"Kitt Peak National Observatory\",\"Bohyunsan Optical Astronomical Observatory\",\"SuperWASP-North\",\"HATNet\",\"Lick Observatory\",\"Infrared Survey Facility\",\"SPECULOOS Southern Observatory\",\"Gemini Observatory\"],\"lat\":[-32.3788046,18.3167587,42.0397014,33.353975750000004,32.701432499999996,null,50.044335,35.7751349,-24.62746015,19.82263133941441,19.8262932,31.66664384843098,-43.985079510206,18.34435035,-30.17112555,-32.380265449999996,-24.6157395,-54.74708985,-29.01915575,-31.798406322237792,-23.016605,64.23121929999999,-32.9986005,25.3336984,37.222216,32.780298450000004,-33.39954245,-32.380828300000005,30.6758212,25.05169275,46.32311,31.680770000000003,35.20294505,42.4850931,31.6841828,28.30155405,20.707724,19.826335800000003,34.57620737464398,-31.275452,28.2993048,19.824758000000003,43.93465290685473,19.825628,null,14.53520885,null,28.757069,-29.2552104,-32.380828300000005,50.980589699999996,31.96005045,36.16493673022682,28.7602486,36.2534455,37.343180950000004,-32.40945838829719,null,19.7010144],\"legendgroup\":\"\",\"lon\":[20.810438721680914,102.1082886,-89.3138599,-116.86137432789532,-109.88921125289411,null,15.7454858,-106.24555896743195,-70.40415067740268,-155.4702713396269,-155.471936,-110.60167156843839,170.46406802137483,-66.75271716738939,-70.80355626100308,20.810272050000002,-70.39103904999999,-35.854428196605994,-70.69060142428015,-69.29561017690845,-67.77226867219686,23.8115647838413,148.262423,51.2295295,-2.54693,-105.81990911661293,-70.6002258733539,20.8104941,-104.02058383636867,102.57846947618563,11.096874,-110.87874815220113,-111.66465289534443,-71.43284,-110.8780229,-16.509883823160067,-156.25732220375536,-155.4744554555519,133.59468610715888,149.067221,105.3761434,-155.47335552670813,5.711210002635074,-155.475984,null,120.98159848166422,null,-17.88884356096937,-70.73950703583358,20.8104941,11.710985584651013,-111.59806254704941,128.97680621520124,-17.879274799500855,36.5635125,-121.6452932158403,20.800649558809692,null,-155.0901111721641],\"marker\":{\"color\":[0,5,15,1,0,26,0,0,5,0,0,0,0,3,0,0,0,0,9,0,0,0,0,0,0,0,0,17,11,1,4,2,0,0,1,1,0,85,8,25,2,0,16,4,0,3,0,0,100,0,8,1,1,0,12,25,0,0,4],\"coloraxis\":\"coloraxis\",\"size\":[0,5,15,1,0,26,0,0,5,0,0,0,0,3,0,0,0,0,9,0,0,0,0,0,0,0,0,17,11,1,4,2,0,0,1,1,0,85,8,25,2,0,16,4,0,3,0,0,100,0,8,1,1,0,12,25,0,0,4],\"sizemode\":\"area\",\"sizeref\":0.1124,\"symbol\":\"circle\"},\"mode\":\"markers\",\"name\":\"\",\"showlegend\":false,\"type\":\"scattergeo\"}],\"name\":\"2009\"},{\"data\":[{\"geo\":\"geo\",\"hovertemplate\":\"\\u003cb\\u003e%{hovertext}\\u003c\\u002fb\\u003e\\u003cbr\\u003e\\u003cbr\\u003edisc_year=2010\\u003cbr\\u003ecounts=%{marker.color}\\u003cbr\\u003elatitude=%{lat}\\u003cbr\\u003elongitude=%{lon}\\u003cextra\\u003e\\u003c\\u002fextra\\u003e\",\"hovertext\":[\"Okayama Astrophysical Observatory\",\"Calar Alto Observatory\",\"Las Campanas Observatory\",\"SuperWASP\",\"Arecibo Observatory\",\"Gemini Observatory\",\"KELT-South\",\"Lick Observatory\",\"Paranal Observatory\",\"SuperWASP-North\",\"Teide Observatory\",\"Next-Generation Transit Survey (NGTS)\",\"Yunnan Astronomical Observatory\",\"HATSouth\",\"KMTNet\",\"Very Long Baseline Array\",\"Large Binocular Telescope Observatory\",\"Palomar Observatory\",\"HATNet\",\"WASP-South\",\"SuperWASP-South\",\"Mauna Kea Observatory\",\"Acton Sky Portal Observatory\",\"Parkes Observatory\",\"Haleakala Observatory\",\"SPECULOOS Southern Observatory\",\"Qatar\",\"Atacama Large Millimeter Array (ALMA)\",\"United Kingdom Infrared Telescope\",\"Multiple Facilities\",\"KELT\",\"Multiple Observatories\",\"Infrared Survey Facility\",\"Bohyunsan Optical Astronomical Observatory\",\"European Southern Observatory\",\"Apache Point Observatory\",\"La Silla Observatory\",\"OGLE\",\"XO\",\"Roque de los Muchachos Observatory\",\"TrES\",\"MEarth Project\",\"KELT-North\",\"Fred Lawrence Whipple Observatory\",\"Thueringer Landessternwarte Tautenburg\",\"Xinglong Station\",\"MOA\",\"NASA Infrared Telescope Facility (IRTF)\",\"Lowell Observatory\",\"W. M. Keck Observatory\",\"McDonald Observatory\",\"University of Canterbury Mt John Observatory\",\"Subaru Telescope\",\"Haute-Provence Observatory\",\"Anglo-Australian Telescope\",\"Leoncito Astronomical Complex\",\"Cerro Tololo Inter-American Observatory\",\"Winer Observatory\",\"Kitt Peak National Observatory\"],\"ids\":[\"Okayama Astrophysical Observatory\",\"Calar Alto Observatory\",\"Las Campanas Observatory\",\"SuperWASP\",\"Arecibo Observatory\",\"Gemini Observatory\",\"KELT-South\",\"Lick Observatory\",\"Paranal Observatory\",\"SuperWASP-North\",\"Teide Observatory\",\"Next-Generation Transit Survey (NGTS)\",\"Yunnan Astronomical Observatory\",\"HATSouth\",\"KMTNet\",\"Very Long Baseline Array\",\"Large Binocular Telescope Observatory\",\"Palomar Observatory\",\"HATNet\",\"WASP-South\",\"SuperWASP-South\",\"Mauna Kea Observatory\",\"Acton Sky Portal Observatory\",\"Parkes Observatory\",\"Haleakala Observatory\",\"SPECULOOS Southern Observatory\",\"Qatar\",\"Atacama Large Millimeter Array (ALMA)\",\"United Kingdom Infrared Telescope\",\"Multiple Facilities\",\"KELT\",\"Multiple Observatories\",\"Infrared Survey Facility\",\"Bohyunsan Optical Astronomical Observatory\",\"European Southern Observatory\",\"Apache Point Observatory\",\"La Silla Observatory\",\"OGLE\",\"XO\",\"Roque de los Muchachos Observatory\",\"TrES\",\"MEarth Project\",\"KELT-North\",\"Fred Lawrence Whipple Observatory\",\"Thueringer Landessternwarte Tautenburg\",\"Xinglong Station\",\"MOA\",\"NASA Infrared Telescope Facility (IRTF)\",\"Lowell Observatory\",\"W. M. Keck Observatory\",\"McDonald Observatory\",\"University of Canterbury Mt John Observatory\",\"Subaru Telescope\",\"Haute-Provence Observatory\",\"Anglo-Australian Telescope\",\"Leoncito Astronomical Complex\",\"Cerro Tololo Inter-American Observatory\",\"Winer Observatory\",\"Kitt Peak National Observatory\"],\"lat\":[34.57620737464398,37.222216,-29.01915575,-32.380828300000005,18.34435035,19.7010144,-32.380265449999996,37.343180950000004,-24.62746015,28.7602486,28.30155405,-24.6157395,25.05169275,null,-32.3788046,35.7751349,32.701432499999996,33.353975750000004,36.2534455,-54.74708985,-32.380828300000005,19.824758000000003,42.4850931,-32.9986005,20.707724,null,25.3336984,-23.016605,19.82263133941441,null,50.044335,null,-32.40945838829719,36.16493673022682,-33.39954245,32.780298450000004,-29.2552104,42.0397014,18.3167587,28.757069,46.32311,31.6841828,64.23121929999999,31.680770000000003,50.980589699999996,28.2993048,14.53520885,19.8262932,35.20294505,19.826335800000003,30.6758212,-43.985079510206,19.825628,43.93465290685473,-31.275452,-31.798406322237792,-30.17112555,31.66664384843098,31.96005045],\"legendgroup\":\"\",\"lon\":[133.59468610715888,-2.54693,-70.69060142428015,20.8104941,-66.75271716738939,-155.0901111721641,20.810272050000002,-121.6452932158403,-70.40415067740268,-17.879274799500855,-16.509883823160067,-70.39103904999999,102.57846947618563,null,20.810438721680914,-106.24555896743195,-109.88921125289411,-116.86137432789532,36.5635125,-35.854428196605994,20.8104941,-155.47335552670813,-71.43284,148.262423,-156.25732220375536,null,51.2295295,-67.77226867219686,-155.4702713396269,null,15.7454858,null,20.800649558809692,128.97680621520124,-70.6002258733539,-105.81990911661293,-70.73950703583358,-89.3138599,102.1082886,-17.88884356096937,11.096874,-110.8780229,23.8115647838413,-110.87874815220113,11.710985584651013,105.3761434,120.98159848166422,-155.471936,-111.66465289534443,-155.4744554555519,-104.02058383636867,170.46406802137483,-155.475984,5.711210002635074,149.067221,-69.29561017690845,-70.80355626100308,-110.60167156843839,-111.59806254704941],\"marker\":{\"color\":[8,0,10,31,3,5,0,29,5,0,1,0,1,0,0,0,0,2,25,0,0,0,0,0,0,0,1,0,0,0,0,28,1,2,0,0,118,15,5,0,4,1,0,2,8,2,5,0,0,99,11,0,6,17,27,0,0,0,1],\"coloraxis\":\"coloraxis\",\"size\":[8,0,10,31,3,5,0,29,5,0,1,0,1,0,0,0,0,2,25,0,0,0,0,0,0,0,1,0,0,0,0,28,1,2,0,0,118,15,5,0,4,1,0,2,8,2,5,0,0,99,11,0,6,17,27,0,0,0,1],\"sizemode\":\"area\",\"sizeref\":0.1124,\"symbol\":\"circle\"},\"mode\":\"markers\",\"name\":\"\",\"showlegend\":false,\"type\":\"scattergeo\"}],\"name\":\"2010\"},{\"data\":[{\"geo\":\"geo\",\"hovertemplate\":\"\\u003cb\\u003e%{hovertext}\\u003c\\u002fb\\u003e\\u003cbr\\u003e\\u003cbr\\u003edisc_year=2011\\u003cbr\\u003ecounts=%{marker.color}\\u003cbr\\u003elatitude=%{lat}\\u003cbr\\u003elongitude=%{lon}\\u003cextra\\u003e\\u003c\\u002fextra\\u003e\",\"hovertext\":[\"Bohyunsan Optical Astronomical Observatory\",\"W. M. Keck Observatory\",\"Okayama Astrophysical Observatory\",\"MOA\",\"Palomar Observatory\",\"SuperWASP-South\",\"Teide Observatory\",\"SuperWASP-North\",\"HATSouth\",\"Gemini Observatory\",\"SuperWASP\",\"Haleakala Observatory\",\"Thueringer Landessternwarte Tautenburg\",\"Subaru Telescope\",\"Haute-Provence Observatory\",\"Fred Lawrence Whipple Observatory\",\"TrES\",\"SPECULOOS Southern Observatory\",\"Kitt Peak National Observatory\",\"Infrared Survey Facility\",\"Roque de los Muchachos Observatory\",\"KELT\",\"United Kingdom Infrared Telescope\",\"Qatar\",\"KELT-North\",\"Cerro Tololo Inter-American Observatory\",\"University of Canterbury Mt John Observatory\",\"Parkes Observatory\",\"KELT-South\",\"Calar Alto Observatory\",\"Paranal Observatory\",\"KMTNet\",\"Very Long Baseline Array\",\"European Southern Observatory\",\"La Silla Observatory\",\"HATNet\",\"Apache Point Observatory\",\"WASP-South\",\"Lick Observatory\",\"Multiple Observatories\",\"Multiple Facilities\",\"Next-Generation Transit Survey (NGTS)\",\"Lowell Observatory\",\"Large Binocular Telescope Observatory\",\"OGLE\",\"Anglo-Australian Telescope\",\"McDonald Observatory\",\"Atacama Large Millimeter Array (ALMA)\",\"Xinglong Station\",\"Leoncito Astronomical Complex\",\"MEarth Project\",\"XO\",\"NASA Infrared Telescope Facility (IRTF)\",\"Las Campanas Observatory\",\"Yunnan Astronomical Observatory\",\"Mauna Kea Observatory\",\"Acton Sky Portal Observatory\",\"Arecibo Observatory\",\"Winer Observatory\"],\"ids\":[\"Bohyunsan Optical Astronomical Observatory\",\"W. M. Keck Observatory\",\"Okayama Astrophysical Observatory\",\"MOA\",\"Palomar Observatory\",\"SuperWASP-South\",\"Teide Observatory\",\"SuperWASP-North\",\"HATSouth\",\"Gemini Observatory\",\"SuperWASP\",\"Haleakala Observatory\",\"Thueringer Landessternwarte Tautenburg\",\"Subaru Telescope\",\"Haute-Provence Observatory\",\"Fred Lawrence Whipple Observatory\",\"TrES\",\"SPECULOOS Southern Observatory\",\"Kitt Peak National Observatory\",\"Infrared Survey Facility\",\"Roque de los Muchachos Observatory\",\"KELT\",\"United Kingdom Infrared Telescope\",\"Qatar\",\"KELT-North\",\"Cerro Tololo Inter-American Observatory\",\"University of Canterbury Mt John Observatory\",\"Parkes Observatory\",\"KELT-South\",\"Calar Alto Observatory\",\"Paranal Observatory\",\"KMTNet\",\"Very Long Baseline Array\",\"European Southern Observatory\",\"La Silla Observatory\",\"HATNet\",\"Apache Point Observatory\",\"WASP-South\",\"Lick Observatory\",\"Multiple Observatories\",\"Multiple Facilities\",\"Next-Generation Transit Survey (NGTS)\",\"Lowell Observatory\",\"Large Binocular Telescope Observatory\",\"OGLE\",\"Anglo-Australian Telescope\",\"McDonald Observatory\",\"Atacama Large Millimeter Array (ALMA)\",\"Xinglong Station\",\"Leoncito Astronomical Complex\",\"MEarth Project\",\"XO\",\"NASA Infrared Telescope Facility (IRTF)\",\"Las Campanas Observatory\",\"Yunnan Astronomical Observatory\",\"Mauna Kea Observatory\",\"Acton Sky Portal Observatory\",\"Arecibo Observatory\",\"Winer Observatory\"],\"lat\":[36.16493673022682,19.826335800000003,34.57620737464398,14.53520885,33.353975750000004,-32.380828300000005,28.30155405,28.7602486,null,19.7010144,-32.380828300000005,20.707724,50.980589699999996,19.825628,43.93465290685473,31.680770000000003,46.32311,null,31.96005045,-32.40945838829719,28.757069,50.044335,19.82263133941441,25.3336984,64.23121929999999,-30.17112555,-43.985079510206,-32.9986005,-32.380265449999996,37.222216,-24.62746015,-32.3788046,35.7751349,-33.39954245,-29.2552104,36.2534455,32.780298450000004,-54.74708985,37.343180950000004,null,null,-24.6157395,35.20294505,32.701432499999996,42.0397014,-31.275452,30.6758212,-23.016605,28.2993048,-31.798406322237792,31.6841828,18.3167587,19.8262932,-29.01915575,25.05169275,19.824758000000003,42.4850931,18.34435035,31.66664384843098],\"legendgroup\":\"\",\"lon\":[128.97680621520124,-155.4744554555519,133.59468610715888,120.98159848166422,-116.86137432789532,20.8104941,-16.509883823160067,-17.879274799500855,null,-155.0901111721641,20.8104941,-156.25732220375536,11.710985584651013,-155.475984,5.711210002635074,-110.87874815220113,11.096874,null,-111.59806254704941,20.800649558809692,-17.88884356096937,15.7454858,-155.4702713396269,51.2295295,23.8115647838413,-70.80355626100308,170.46406802137483,148.262423,20.810272050000002,-2.54693,-70.40415067740268,20.810438721680914,-106.24555896743195,-70.6002258733539,-70.73950703583358,36.5635125,-105.81990911661293,-35.854428196605994,-121.6452932158403,null,null,-70.39103904999999,-111.66465289534443,-109.88921125289411,-89.3138599,149.067221,-104.02058383636867,-67.77226867219686,105.3761434,-69.29561017690845,-110.8780229,102.1082886,-155.471936,-70.69060142428015,102.57846947618563,-155.47335552670813,-71.43284,-66.75271716738939,-110.60167156843839],\"marker\":{\"color\":[3,121,8,6,2,0,1,0,0,5,40,0,8,6,20,2,5,0,1,1,1,0,0,2,0,0,0,1,0,0,5,0,0,0,133,36,0,0,29,31,0,0,0,0,15,28,16,0,2,0,1,5,0,10,3,0,0,3,0],\"coloraxis\":\"coloraxis\",\"size\":[3,121,8,6,2,0,1,0,0,5,40,0,8,6,20,2,5,0,1,1,1,0,0,2,0,0,0,1,0,0,5,0,0,0,133,36,0,0,29,31,0,0,0,0,15,28,16,0,2,0,1,5,0,10,3,0,0,3,0],\"sizemode\":\"area\",\"sizeref\":0.1124,\"symbol\":\"circle\"},\"mode\":\"markers\",\"name\":\"\",\"showlegend\":false,\"type\":\"scattergeo\"}],\"name\":\"2011\"},{\"data\":[{\"geo\":\"geo\",\"hovertemplate\":\"\\u003cb\\u003e%{hovertext}\\u003c\\u002fb\\u003e\\u003cbr\\u003e\\u003cbr\\u003edisc_year=2012\\u003cbr\\u003ecounts=%{marker.color}\\u003cbr\\u003elatitude=%{lat}\\u003cbr\\u003elongitude=%{lon}\\u003cextra\\u003e\\u003c\\u002fextra\\u003e\",\"hovertext\":[\"University of Canterbury Mt John Observatory\",\"Paranal Observatory\",\"Arecibo Observatory\",\"Las Campanas Observatory\",\"Multiple Observatories\",\"KELT\",\"Calar Alto Observatory\",\"KELT-South\",\"Qatar\",\"Apache Point Observatory\",\"Cerro Tololo Inter-American Observatory\",\"KELT-North\",\"NASA Infrared Telescope Facility (IRTF)\",\"Lick Observatory\",\"Parkes Observatory\",\"Winer Observatory\",\"United Kingdom Infrared Telescope\",\"Leoncito Astronomical Complex\",\"SPECULOOS Southern Observatory\",\"XO\",\"SuperWASP-South\",\"MOA\",\"HATNet\",\"Yunnan Astronomical Observatory\",\"Teide Observatory\",\"SuperWASP-North\",\"MEarth Project\",\"Mauna Kea Observatory\",\"HATSouth\",\"Gemini Observatory\",\"Acton Sky Portal Observatory\",\"SuperWASP\",\"Haleakala Observatory\",\"Xinglong Station\",\"Thueringer Landessternwarte Tautenburg\",\"Fred Lawrence Whipple Observatory\",\"Subaru Telescope\",\"McDonald Observatory\",\"Haute-Provence Observatory\",\"Lowell Observatory\",\"Anglo-Australian Telescope\",\"TrES\",\"Multiple Facilities\",\"Infrared Survey Facility\",\"European Southern Observatory\",\"Roque de los Muchachos Observatory\",\"Next-Generation Transit Survey (NGTS)\",\"La Silla Observatory\",\"Atacama Large Millimeter Array (ALMA)\",\"Okayama Astrophysical Observatory\",\"Very Long Baseline Array\",\"OGLE\",\"W. M. Keck Observatory\",\"Large Binocular Telescope Observatory\",\"KMTNet\",\"Palomar Observatory\",\"Kitt Peak National Observatory\",\"WASP-South\",\"Bohyunsan Optical Astronomical Observatory\"],\"ids\":[\"University of Canterbury Mt John Observatory\",\"Paranal Observatory\",\"Arecibo Observatory\",\"Las Campanas Observatory\",\"Multiple Observatories\",\"KELT\",\"Calar Alto Observatory\",\"KELT-South\",\"Qatar\",\"Apache Point Observatory\",\"Cerro Tololo Inter-American Observatory\",\"KELT-North\",\"NASA Infrared Telescope Facility (IRTF)\",\"Lick Observatory\",\"Parkes Observatory\",\"Winer Observatory\",\"United Kingdom Infrared Telescope\",\"Leoncito Astronomical Complex\",\"SPECULOOS Southern Observatory\",\"XO\",\"SuperWASP-South\",\"MOA\",\"HATNet\",\"Yunnan Astronomical Observatory\",\"Teide Observatory\",\"SuperWASP-North\",\"MEarth Project\",\"Mauna Kea Observatory\",\"HATSouth\",\"Gemini Observatory\",\"Acton Sky Portal Observatory\",\"SuperWASP\",\"Haleakala Observatory\",\"Xinglong Station\",\"Thueringer Landessternwarte Tautenburg\",\"Fred Lawrence Whipple Observatory\",\"Subaru Telescope\",\"McDonald Observatory\",\"Haute-Provence Observatory\",\"Lowell Observatory\",\"Anglo-Australian Telescope\",\"TrES\",\"Multiple Facilities\",\"Infrared Survey Facility\",\"European Southern Observatory\",\"Roque de los Muchachos Observatory\",\"Next-Generation Transit Survey (NGTS)\",\"La Silla Observatory\",\"Atacama Large Millimeter Array (ALMA)\",\"Okayama Astrophysical Observatory\",\"Very Long Baseline Array\",\"OGLE\",\"W. M. Keck Observatory\",\"Large Binocular Telescope Observatory\",\"KMTNet\",\"Palomar Observatory\",\"Kitt Peak National Observatory\",\"WASP-South\",\"Bohyunsan Optical Astronomical Observatory\"],\"lat\":[-43.985079510206,-24.62746015,18.34435035,-29.01915575,null,50.044335,37.222216,-32.380265449999996,25.3336984,32.780298450000004,-30.17112555,64.23121929999999,19.8262932,37.343180950000004,-32.9986005,31.66664384843098,19.82263133941441,-31.798406322237792,null,18.3167587,-32.380828300000005,14.53520885,36.2534455,25.05169275,28.30155405,28.7602486,31.6841828,19.824758000000003,null,19.7010144,42.4850931,-32.380828300000005,20.707724,28.2993048,50.980589699999996,31.680770000000003,19.825628,30.6758212,43.93465290685473,35.20294505,-31.275452,46.32311,null,-32.40945838829719,-33.39954245,28.757069,-24.6157395,-29.2552104,-23.016605,34.57620737464398,35.7751349,42.0397014,19.826335800000003,32.701432499999996,-32.3788046,33.353975750000004,31.96005045,-54.74708985,36.16493673022682],\"legendgroup\":\"\",\"lon\":[170.46406802137483,-70.40415067740268,-66.75271716738939,-70.69060142428015,null,15.7454858,-2.54693,20.810272050000002,51.2295295,-105.81990911661293,-70.80355626100308,23.8115647838413,-155.471936,-121.6452932158403,148.262423,-110.60167156843839,-155.4702713396269,-69.29561017690845,null,102.1082886,20.8104941,120.98159848166422,36.5635125,102.57846947618563,-16.509883823160067,-17.879274799500855,-110.8780229,-155.47335552670813,null,-155.0901111721641,-71.43284,20.8104941,-156.25732220375536,105.3761434,11.710985584651013,-110.87874815220113,-155.475984,-104.02058383636867,5.711210002635074,-111.66465289534443,149.067221,11.096874,null,20.800649558809692,-70.6002258733539,-17.88884356096937,-70.39103904999999,-70.73950703583358,-67.77226867219686,133.59468610715888,-106.24555896743195,-89.3138599,-155.4744554555519,-109.88921125289411,20.810438721680914,-116.86137432789532,-111.59806254704941,-35.854428196605994,128.97680621520124],\"marker\":{\"color\":[0,5,3,10,34,2,0,0,2,0,0,0,0,29,1,0,1,1,0,5,0,10,42,3,1,0,1,0,1,5,0,64,0,2,8,4,7,19,21,0,30,5,0,1,0,1,0,144,0,14,0,18,124,0,0,2,1,0,7],\"coloraxis\":\"coloraxis\",\"size\":[0,5,3,10,34,2,0,0,2,0,0,0,0,29,1,0,1,1,0,5,0,10,42,3,1,0,1,0,1,5,0,64,0,2,8,4,7,19,21,0,30,5,0,1,0,1,0,144,0,14,0,18,124,0,0,2,1,0,7],\"sizemode\":\"area\",\"sizeref\":0.1124,\"symbol\":\"circle\"},\"mode\":\"markers\",\"name\":\"\",\"showlegend\":false,\"type\":\"scattergeo\"}],\"name\":\"2012\"},{\"data\":[{\"geo\":\"geo\",\"hovertemplate\":\"\\u003cb\\u003e%{hovertext}\\u003c\\u002fb\\u003e\\u003cbr\\u003e\\u003cbr\\u003edisc_year=2013\\u003cbr\\u003ecounts=%{marker.color}\\u003cbr\\u003elatitude=%{lat}\\u003cbr\\u003elongitude=%{lon}\\u003cextra\\u003e\\u003c\\u002fextra\\u003e\",\"hovertext\":[\"KELT\",\"McDonald Observatory\",\"OGLE\",\"Leoncito Astronomical Complex\",\"KELT-North\",\"Subaru Telescope\",\"Lowell Observatory\",\"Fred Lawrence Whipple Observatory\",\"Thueringer Landessternwarte Tautenburg\",\"Bohyunsan Optical Astronomical Observatory\",\"Xinglong Station\",\"Winer Observatory\",\"Lick Observatory\",\"Haute-Provence Observatory\",\"Apache Point Observatory\",\"Kitt Peak National Observatory\",\"Anglo-Australian Telescope\",\"Multiple Observatories\",\"Infrared Survey Facility\",\"Multiple Facilities\",\"WASP-South\",\"Palomar Observatory\",\"United Kingdom Infrared Telescope\",\"Large Binocular Telescope Observatory\",\"Next-Generation Transit Survey (NGTS)\",\"XO\",\"SPECULOOS Southern Observatory\",\"Cerro Tololo Inter-American Observatory\",\"TrES\",\"Haleakala Observatory\",\"Qatar\",\"La Silla Observatory\",\"European Southern Observatory\",\"University of Canterbury Mt John Observatory\",\"Roque de los Muchachos Observatory\",\"Paranal Observatory\",\"Calar Alto Observatory\",\"MEarth Project\",\"KMTNet\",\"SuperWASP-North\",\"Yunnan Astronomical Observatory\",\"W. M. Keck Observatory\",\"Mauna Kea Observatory\",\"HATSouth\",\"KELT-South\",\"Teide Observatory\",\"Gemini Observatory\",\"Arecibo Observatory\",\"HATNet\",\"Las Campanas Observatory\",\"Acton Sky Portal Observatory\",\"Okayama Astrophysical Observatory\",\"Parkes Observatory\",\"Very Long Baseline Array\",\"SuperWASP\",\"NASA Infrared Telescope Facility (IRTF)\",\"Atacama Large Millimeter Array (ALMA)\",\"SuperWASP-South\",\"MOA\"],\"ids\":[\"KELT\",\"McDonald Observatory\",\"OGLE\",\"Leoncito Astronomical Complex\",\"KELT-North\",\"Subaru Telescope\",\"Lowell Observatory\",\"Fred Lawrence Whipple Observatory\",\"Thueringer Landessternwarte Tautenburg\",\"Bohyunsan Optical Astronomical Observatory\",\"Xinglong Station\",\"Winer Observatory\",\"Lick Observatory\",\"Haute-Provence Observatory\",\"Apache Point Observatory\",\"Kitt Peak National Observatory\",\"Anglo-Australian Telescope\",\"Multiple Observatories\",\"Infrared Survey Facility\",\"Multiple Facilities\",\"WASP-South\",\"Palomar Observatory\",\"United Kingdom Infrared Telescope\",\"Large Binocular Telescope Observatory\",\"Next-Generation Transit Survey (NGTS)\",\"XO\",\"SPECULOOS Southern Observatory\",\"Cerro Tololo Inter-American Observatory\",\"TrES\",\"Haleakala Observatory\",\"Qatar\",\"La Silla Observatory\",\"European Southern Observatory\",\"University of Canterbury Mt John Observatory\",\"Roque de los Muchachos Observatory\",\"Paranal Observatory\",\"Calar Alto Observatory\",\"MEarth Project\",\"KMTNet\",\"SuperWASP-North\",\"Yunnan Astronomical Observatory\",\"W. M. Keck Observatory\",\"Mauna Kea Observatory\",\"HATSouth\",\"KELT-South\",\"Teide Observatory\",\"Gemini Observatory\",\"Arecibo Observatory\",\"HATNet\",\"Las Campanas Observatory\",\"Acton Sky Portal Observatory\",\"Okayama Astrophysical Observatory\",\"Parkes Observatory\",\"Very Long Baseline Array\",\"SuperWASP\",\"NASA Infrared Telescope Facility (IRTF)\",\"Atacama Large Millimeter Array (ALMA)\",\"SuperWASP-South\",\"MOA\"],\"lat\":[50.044335,30.6758212,42.0397014,-31.798406322237792,64.23121929999999,19.825628,35.20294505,31.680770000000003,50.980589699999996,36.16493673022682,28.2993048,31.66664384843098,37.343180950000004,43.93465290685473,32.780298450000004,31.96005045,-31.275452,null,-32.40945838829719,null,-54.74708985,33.353975750000004,19.82263133941441,32.701432499999996,-24.6157395,18.3167587,null,-30.17112555,46.32311,20.707724,25.3336984,-29.2552104,-33.39954245,-43.985079510206,28.757069,-24.62746015,37.222216,31.6841828,-32.3788046,28.7602486,25.05169275,19.826335800000003,19.824758000000003,null,-32.380265449999996,28.30155405,19.7010144,18.34435035,36.2534455,-29.01915575,42.4850931,34.57620737464398,-32.9986005,35.7751349,-32.380828300000005,19.8262932,-23.016605,-32.380828300000005,14.53520885],\"legendgroup\":\"\",\"lon\":[15.7454858,-104.02058383636867,-89.3138599,-69.29561017690845,23.8115647838413,-155.475984,-111.66465289534443,-110.87874815220113,11.710985584651013,128.97680621520124,105.3761434,-110.60167156843839,-121.6452932158403,5.711210002635074,-105.81990911661293,-111.59806254704941,149.067221,null,20.800649558809692,null,-35.854428196605994,-116.86137432789532,-155.4702713396269,-109.88921125289411,-70.39103904999999,102.1082886,null,-70.80355626100308,11.096874,-156.25732220375536,51.2295295,-70.73950703583358,-70.6002258733539,170.46406802137483,-17.88884356096937,-70.40415067740268,-2.54693,-110.8780229,20.810438721680914,-17.879274799500855,102.57846947618563,-155.4744554555519,-155.47335552670813,null,20.810272050000002,-16.509883823160067,-155.0901111721641,-66.75271716738939,36.5635125,-70.69060142428015,-71.43284,133.59468610715888,148.262423,-106.24555896743195,20.8104941,-155.471936,-67.77226867219686,20.8104941,120.98159848166422],\"marker\":{\"color\":[3,22,20,1,0,8,0,5,8,7,2,0,31,27,0,1,30,36,1,0,0,2,1,0,0,5,0,0,5,0,2,159,0,0,1,8,0,1,0,0,3,127,0,3,0,1,5,3,42,11,0,17,1,0,67,0,0,0,13],\"coloraxis\":\"coloraxis\",\"size\":[3,22,20,1,0,8,0,5,8,7,2,0,31,27,0,1,30,36,1,0,0,2,1,0,0,5,0,0,5,0,2,159,0,0,1,8,0,1,0,0,3,127,0,3,0,1,5,3,42,11,0,17,1,0,67,0,0,0,13],\"sizemode\":\"area\",\"sizeref\":0.1124,\"symbol\":\"circle\"},\"mode\":\"markers\",\"name\":\"\",\"showlegend\":false,\"type\":\"scattergeo\"}],\"name\":\"2013\"},{\"data\":[{\"geo\":\"geo\",\"hovertemplate\":\"\\u003cb\\u003e%{hovertext}\\u003c\\u002fb\\u003e\\u003cbr\\u003e\\u003cbr\\u003edisc_year=2014\\u003cbr\\u003ecounts=%{marker.color}\\u003cbr\\u003elatitude=%{lat}\\u003cbr\\u003elongitude=%{lon}\\u003cextra\\u003e\\u003c\\u002fextra\\u003e\",\"hovertext\":[\"Yunnan Astronomical Observatory\",\"La Silla Observatory\",\"TrES\",\"European Southern Observatory\",\"MOA\",\"Multiple Facilities\",\"HATNet\",\"Gemini Observatory\",\"SuperWASP-South\",\"Roque de los Muchachos Observatory\",\"XO\",\"Infrared Survey Facility\",\"Okayama Astrophysical Observatory\",\"W. M. Keck Observatory\",\"MEarth Project\",\"Haleakala Observatory\",\"Fred Lawrence Whipple Observatory\",\"Lowell Observatory\",\"Thueringer Landessternwarte Tautenburg\",\"SuperWASP\",\"Acton Sky Portal Observatory\",\"Subaru Telescope\",\"OGLE\",\"Mauna Kea Observatory\",\"Atacama Large Millimeter Array (ALMA)\",\"Teide Observatory\",\"McDonald Observatory\",\"HATSouth\",\"Haute-Provence Observatory\",\"Kitt Peak National Observatory\",\"Anglo-Australian Telescope\",\"Xinglong Station\",\"SuperWASP-North\",\"SPECULOOS Southern Observatory\",\"Large Binocular Telescope Observatory\",\"Next-Generation Transit Survey (NGTS)\",\"Lick Observatory\",\"Palomar Observatory\",\"KELT-North\",\"Winer Observatory\",\"Bohyunsan Optical Astronomical Observatory\",\"Apache Point Observatory\",\"Qatar\",\"Very Long Baseline Array\",\"Parkes Observatory\",\"NASA Infrared Telescope Facility (IRTF)\",\"University of Canterbury Mt John Observatory\",\"Cerro Tololo Inter-American Observatory\",\"Las Campanas Observatory\",\"United Kingdom Infrared Telescope\",\"KELT-South\",\"Multiple Observatories\",\"Calar Alto Observatory\",\"Leoncito Astronomical Complex\",\"KELT\",\"KMTNet\",\"Arecibo Observatory\",\"WASP-South\",\"Paranal Observatory\"],\"ids\":[\"Yunnan Astronomical Observatory\",\"La Silla Observatory\",\"TrES\",\"European Southern Observatory\",\"MOA\",\"Multiple Facilities\",\"HATNet\",\"Gemini Observatory\",\"SuperWASP-South\",\"Roque de los Muchachos Observatory\",\"XO\",\"Infrared Survey Facility\",\"Okayama Astrophysical Observatory\",\"W. M. Keck Observatory\",\"MEarth Project\",\"Haleakala Observatory\",\"Fred Lawrence Whipple Observatory\",\"Lowell Observatory\",\"Thueringer Landessternwarte Tautenburg\",\"SuperWASP\",\"Acton Sky Portal Observatory\",\"Subaru Telescope\",\"OGLE\",\"Mauna Kea Observatory\",\"Atacama Large Millimeter Array (ALMA)\",\"Teide Observatory\",\"McDonald Observatory\",\"HATSouth\",\"Haute-Provence Observatory\",\"Kitt Peak National Observatory\",\"Anglo-Australian Telescope\",\"Xinglong Station\",\"SuperWASP-North\",\"SPECULOOS Southern Observatory\",\"Large Binocular Telescope Observatory\",\"Next-Generation Transit Survey (NGTS)\",\"Lick Observatory\",\"Palomar Observatory\",\"KELT-North\",\"Winer Observatory\",\"Bohyunsan Optical Astronomical Observatory\",\"Apache Point Observatory\",\"Qatar\",\"Very Long Baseline Array\",\"Parkes Observatory\",\"NASA Infrared Telescope Facility (IRTF)\",\"University of Canterbury Mt John Observatory\",\"Cerro Tololo Inter-American Observatory\",\"Las Campanas Observatory\",\"United Kingdom Infrared Telescope\",\"KELT-South\",\"Multiple Observatories\",\"Calar Alto Observatory\",\"Leoncito Astronomical Complex\",\"KELT\",\"KMTNet\",\"Arecibo Observatory\",\"WASP-South\",\"Paranal Observatory\"],\"lat\":[25.05169275,-29.2552104,46.32311,-33.39954245,14.53520885,null,36.2534455,19.7010144,-32.380828300000005,28.757069,18.3167587,-32.40945838829719,34.57620737464398,19.826335800000003,31.6841828,20.707724,31.680770000000003,35.20294505,50.980589699999996,-32.380828300000005,42.4850931,19.825628,42.0397014,19.824758000000003,-23.016605,28.30155405,30.6758212,null,43.93465290685473,31.96005045,-31.275452,28.2993048,28.7602486,null,32.701432499999996,-24.6157395,37.343180950000004,33.353975750000004,64.23121929999999,31.66664384843098,36.16493673022682,32.780298450000004,25.3336984,35.7751349,-32.9986005,19.8262932,-43.985079510206,-30.17112555,-29.01915575,19.82263133941441,-32.380265449999996,null,37.222216,-31.798406322237792,50.044335,-32.3788046,18.34435035,-54.74708985,-24.62746015],\"legendgroup\":\"\",\"lon\":[102.57846947618563,-70.73950703583358,11.096874,-70.6002258733539,120.98159848166422,null,36.5635125,-155.0901111721641,20.8104941,-17.88884356096937,102.1082886,20.800649558809692,133.59468610715888,-155.4744554555519,-110.8780229,-156.25732220375536,-110.87874815220113,-111.66465289534443,11.710985584651013,20.8104941,-71.43284,-155.475984,-89.3138599,-155.47335552670813,-67.77226867219686,-16.509883823160067,-104.02058383636867,null,5.711210002635074,-111.59806254704941,149.067221,105.3761434,-17.879274799500855,null,-109.88921125289411,-70.39103904999999,-121.6452932158403,-116.86137432789532,23.8115647838413,-110.60167156843839,128.97680621520124,-105.81990911661293,51.2295295,-106.24555896743195,148.262423,-155.471936,170.46406802137483,-70.80355626100308,-70.69060142428015,-155.4702713396269,20.810272050000002,null,-2.54693,-69.29561017690845,15.7454858,20.810438721680914,-66.75271716738939,-35.854428196605994,-70.40415067740268],\"marker\":{\"color\":[3,164,5,0,15,0,46,6,0,3,5,1,18,140,1,0,5,0,8,87,0,8,24,0,0,1,23,5,27,1,32,2,0,0,0,0,32,2,0,0,10,0,2,0,1,0,0,0,11,2,0,57,0,1,4,0,3,0,9],\"coloraxis\":\"coloraxis\",\"size\":[3,164,5,0,15,0,46,6,0,3,5,1,18,140,1,0,5,0,8,87,0,8,24,0,0,1,23,5,27,1,32,2,0,0,0,0,32,2,0,0,10,0,2,0,1,0,0,0,11,2,0,57,0,1,4,0,3,0,9],\"sizemode\":\"area\",\"sizeref\":0.1124,\"symbol\":\"circle\"},\"mode\":\"markers\",\"name\":\"\",\"showlegend\":false,\"type\":\"scattergeo\"}],\"name\":\"2014\"},{\"data\":[{\"geo\":\"geo\",\"hovertemplate\":\"\\u003cb\\u003e%{hovertext}\\u003c\\u002fb\\u003e\\u003cbr\\u003e\\u003cbr\\u003edisc_year=2015\\u003cbr\\u003ecounts=%{marker.color}\\u003cbr\\u003elatitude=%{lat}\\u003cbr\\u003elongitude=%{lon}\\u003cextra\\u003e\\u003c\\u002fextra\\u003e\",\"hovertext\":[\"Xinglong Station\",\"MOA\",\"Very Long Baseline Array\",\"Haleakala Observatory\",\"Arecibo Observatory\",\"La Silla Observatory\",\"MEarth Project\",\"Parkes Observatory\",\"Next-Generation Transit Survey (NGTS)\",\"Winer Observatory\",\"Lowell Observatory\",\"Thueringer Landessternwarte Tautenburg\",\"Subaru Telescope\",\"KELT-North\",\"SuperWASP-South\",\"Okayama Astrophysical Observatory\",\"HATNet\",\"SuperWASP\",\"Yunnan Astronomical Observatory\",\"SuperWASP-North\",\"Calar Alto Observatory\",\"W. M. Keck Observatory\",\"KELT-South\",\"Atacama Large Millimeter Array (ALMA)\",\"Paranal Observatory\",\"HATSouth\",\"WASP-South\",\"Las Campanas Observatory\",\"Mauna Kea Observatory\",\"NASA Infrared Telescope Facility (IRTF)\",\"University of Canterbury Mt John Observatory\",\"Gemini Observatory\",\"Acton Sky Portal Observatory\",\"Fred Lawrence Whipple Observatory\",\"KMTNet\",\"OGLE\",\"Teide Observatory\",\"Roque de los Muchachos Observatory\",\"Lick Observatory\",\"Infrared Survey Facility\",\"Large Binocular Telescope Observatory\",\"KELT\",\"European Southern Observatory\",\"Palomar Observatory\",\"TrES\",\"Kitt Peak National Observatory\",\"Haute-Provence Observatory\",\"Apache Point Observatory\",\"Multiple Facilities\",\"Multiple Observatories\",\"Anglo-Australian Telescope\",\"XO\",\"Cerro Tololo Inter-American Observatory\",\"Qatar\",\"Leoncito Astronomical Complex\",\"McDonald Observatory\",\"SPECULOOS Southern Observatory\",\"Bohyunsan Optical Astronomical Observatory\",\"United Kingdom Infrared Telescope\"],\"ids\":[\"Xinglong Station\",\"MOA\",\"Very Long Baseline Array\",\"Haleakala Observatory\",\"Arecibo Observatory\",\"La Silla Observatory\",\"MEarth Project\",\"Parkes Observatory\",\"Next-Generation Transit Survey (NGTS)\",\"Winer Observatory\",\"Lowell Observatory\",\"Thueringer Landessternwarte Tautenburg\",\"Subaru Telescope\",\"KELT-North\",\"SuperWASP-South\",\"Okayama Astrophysical Observatory\",\"HATNet\",\"SuperWASP\",\"Yunnan Astronomical Observatory\",\"SuperWASP-North\",\"Calar Alto Observatory\",\"W. M. Keck Observatory\",\"KELT-South\",\"Atacama Large Millimeter Array (ALMA)\",\"Paranal Observatory\",\"HATSouth\",\"WASP-South\",\"Las Campanas Observatory\",\"Mauna Kea Observatory\",\"NASA Infrared Telescope Facility (IRTF)\",\"University of Canterbury Mt John Observatory\",\"Gemini Observatory\",\"Acton Sky Portal Observatory\",\"Fred Lawrence Whipple Observatory\",\"KMTNet\",\"OGLE\",\"Teide Observatory\",\"Roque de los Muchachos Observatory\",\"Lick Observatory\",\"Infrared Survey Facility\",\"Large Binocular Telescope Observatory\",\"KELT\",\"European Southern Observatory\",\"Palomar Observatory\",\"TrES\",\"Kitt Peak National Observatory\",\"Haute-Provence Observatory\",\"Apache Point Observatory\",\"Multiple Facilities\",\"Multiple Observatories\",\"Anglo-Australian Telescope\",\"XO\",\"Cerro Tololo Inter-American Observatory\",\"Qatar\",\"Leoncito Astronomical Complex\",\"McDonald Observatory\",\"SPECULOOS Southern Observatory\",\"Bohyunsan Optical Astronomical Observatory\",\"United Kingdom Infrared Telescope\"],\"lat\":[28.2993048,14.53520885,35.7751349,20.707724,18.34435035,-29.2552104,31.6841828,-32.9986005,-24.6157395,31.66664384843098,35.20294505,50.980589699999996,19.825628,64.23121929999999,-32.380828300000005,34.57620737464398,36.2534455,-32.380828300000005,25.05169275,28.7602486,37.222216,19.826335800000003,-32.380265449999996,-23.016605,-24.62746015,null,-54.74708985,-29.01915575,19.824758000000003,19.8262932,-43.985079510206,19.7010144,42.4850931,31.680770000000003,-32.3788046,42.0397014,28.30155405,28.757069,37.343180950000004,-32.40945838829719,32.701432499999996,50.044335,-33.39954245,33.353975750000004,46.32311,31.96005045,43.93465290685473,32.780298450000004,null,null,-31.275452,18.3167587,-30.17112555,25.3336984,-31.798406322237792,30.6758212,null,36.16493673022682,19.82263133941441],\"legendgroup\":\"\",\"lon\":[105.3761434,120.98159848166422,-106.24555896743195,-156.25732220375536,-66.75271716738939,-70.73950703583358,-110.8780229,148.262423,-70.39103904999999,-110.60167156843839,-111.66465289534443,11.710985584651013,-155.475984,23.8115647838413,20.8104941,133.59468610715888,36.5635125,20.8104941,102.57846947618563,-17.879274799500855,-2.54693,-155.4744554555519,20.810272050000002,-67.77226867219686,-70.40415067740268,null,-35.854428196605994,-70.69060142428015,-155.47335552670813,-155.471936,170.46406802137483,-155.0901111721641,-71.43284,-110.87874815220113,20.810438721680914,-89.3138599,-16.509883823160067,-17.88884356096937,-121.6452932158403,20.800649558809692,-109.88921125289411,15.7454858,-70.6002258733539,-116.86137432789532,11.096874,-111.59806254704941,5.711210002635074,-105.81990911661293,null,null,149.067221,102.1082886,-70.80355626100308,51.2295295,-69.29561017690845,-104.02058383636867,null,128.97680621520124,-155.4702713396269],\"marker\":{\"color\":[2,16,0,0,3,175,1,1,0,0,0,8,8,0,0,18,54,93,3,0,0,144,0,0,10,12,0,11,0,0,0,7,0,6,0,27,1,7,32,1,2,6,0,2,5,1,28,0,2,70,34,5,2,2,1,27,0,14,2],\"coloraxis\":\"coloraxis\",\"size\":[2,16,0,0,3,175,1,1,0,0,0,8,8,0,0,18,54,93,3,0,0,144,0,0,10,12,0,11,0,0,0,7,0,6,0,27,1,7,32,1,2,6,0,2,5,1,28,0,2,70,34,5,2,2,1,27,0,14,2],\"sizemode\":\"area\",\"sizeref\":0.1124,\"symbol\":\"circle\"},\"mode\":\"markers\",\"name\":\"\",\"showlegend\":false,\"type\":\"scattergeo\"}],\"name\":\"2015\"},{\"data\":[{\"geo\":\"geo\",\"hovertemplate\":\"\\u003cb\\u003e%{hovertext}\\u003c\\u002fb\\u003e\\u003cbr\\u003e\\u003cbr\\u003edisc_year=2016\\u003cbr\\u003ecounts=%{marker.color}\\u003cbr\\u003elatitude=%{lat}\\u003cbr\\u003elongitude=%{lon}\\u003cextra\\u003e\\u003c\\u002fextra\\u003e\",\"hovertext\":[\"HATSouth\",\"KMTNet\",\"Calar Alto Observatory\",\"Multiple Facilities\",\"University of Canterbury Mt John Observatory\",\"KELT-South\",\"KELT\",\"Multiple Observatories\",\"Atacama Large Millimeter Array (ALMA)\",\"Bohyunsan Optical Astronomical Observatory\",\"W. M. Keck Observatory\",\"Roque de los Muchachos Observatory\",\"Cerro Tololo Inter-American Observatory\",\"Arecibo Observatory\",\"Leoncito Astronomical Complex\",\"La Silla Observatory\",\"Next-Generation Transit Survey (NGTS)\",\"HATNet\",\"SuperWASP-North\",\"MOA\",\"XO\",\"Gemini Observatory\",\"Large Binocular Telescope Observatory\",\"TrES\",\"Paranal Observatory\",\"United Kingdom Infrared Telescope\",\"Infrared Survey Facility\",\"Yunnan Astronomical Observatory\",\"MEarth Project\",\"Teide Observatory\",\"Very Long Baseline Array\",\"Palomar Observatory\",\"Kitt Peak National Observatory\",\"Lowell Observatory\",\"Okayama Astrophysical Observatory\",\"Thueringer Landessternwarte Tautenburg\",\"Haute-Provence Observatory\",\"OGLE\",\"Haleakala Observatory\",\"SuperWASP-South\",\"Las Campanas Observatory\",\"KELT-North\",\"Parkes Observatory\",\"European Southern Observatory\",\"Xinglong Station\",\"Winer Observatory\",\"Subaru Telescope\",\"Anglo-Australian Telescope\",\"WASP-South\",\"NASA Infrared Telescope Facility (IRTF)\",\"SuperWASP\",\"Lick Observatory\",\"Fred Lawrence Whipple Observatory\",\"McDonald Observatory\",\"Acton Sky Portal Observatory\",\"Apache Point Observatory\",\"Mauna Kea Observatory\",\"Qatar\",\"SPECULOOS Southern Observatory\"],\"ids\":[\"HATSouth\",\"KMTNet\",\"Calar Alto Observatory\",\"Multiple Facilities\",\"University of Canterbury Mt John Observatory\",\"KELT-South\",\"KELT\",\"Multiple Observatories\",\"Atacama Large Millimeter Array (ALMA)\",\"Bohyunsan Optical Astronomical Observatory\",\"W. M. Keck Observatory\",\"Roque de los Muchachos Observatory\",\"Cerro Tololo Inter-American Observatory\",\"Arecibo Observatory\",\"Leoncito Astronomical Complex\",\"La Silla Observatory\",\"Next-Generation Transit Survey (NGTS)\",\"HATNet\",\"SuperWASP-North\",\"MOA\",\"XO\",\"Gemini Observatory\",\"Large Binocular Telescope Observatory\",\"TrES\",\"Paranal Observatory\",\"United Kingdom Infrared Telescope\",\"Infrared Survey Facility\",\"Yunnan Astronomical Observatory\",\"MEarth Project\",\"Teide Observatory\",\"Very Long Baseline Array\",\"Palomar Observatory\",\"Kitt Peak National Observatory\",\"Lowell Observatory\",\"Okayama Astrophysical Observatory\",\"Thueringer Landessternwarte Tautenburg\",\"Haute-Provence Observatory\",\"OGLE\",\"Haleakala Observatory\",\"SuperWASP-South\",\"Las Campanas Observatory\",\"KELT-North\",\"Parkes Observatory\",\"European Southern Observatory\",\"Xinglong Station\",\"Winer Observatory\",\"Subaru Telescope\",\"Anglo-Australian Telescope\",\"WASP-South\",\"NASA Infrared Telescope Facility (IRTF)\",\"SuperWASP\",\"Lick Observatory\",\"Fred Lawrence Whipple Observatory\",\"McDonald Observatory\",\"Acton Sky Portal Observatory\",\"Apache Point Observatory\",\"Mauna Kea Observatory\",\"Qatar\",\"SPECULOOS Southern Observatory\"],\"lat\":[null,-32.3788046,37.222216,null,-43.985079510206,-32.380265449999996,50.044335,null,-23.016605,36.16493673022682,19.826335800000003,28.757069,-30.17112555,18.34435035,-31.798406322237792,-29.2552104,-24.6157395,36.2534455,28.7602486,14.53520885,18.3167587,19.7010144,32.701432499999996,46.32311,-24.62746015,19.82263133941441,-32.40945838829719,25.05169275,31.6841828,28.30155405,35.7751349,33.353975750000004,31.96005045,35.20294505,34.57620737464398,50.980589699999996,43.93465290685473,42.0397014,20.707724,-32.380828300000005,-29.01915575,64.23121929999999,-32.9986005,-33.39954245,28.2993048,31.66664384843098,19.825628,-31.275452,-54.74708985,19.8262932,-32.380828300000005,37.343180950000004,31.680770000000003,30.6758212,42.4850931,32.780298450000004,19.824758000000003,25.3336984,null],\"legendgroup\":\"\",\"lon\":[null,20.810438721680914,-2.54693,null,170.46406802137483,20.810272050000002,15.7454858,null,-67.77226867219686,128.97680621520124,-155.4744554555519,-17.88884356096937,-70.80355626100308,-66.75271716738939,-69.29561017690845,-70.73950703583358,-70.39103904999999,36.5635125,-17.879274799500855,120.98159848166422,102.1082886,-155.0901111721641,-109.88921125289411,11.096874,-70.40415067740268,-155.4702713396269,20.800649558809692,102.57846947618563,-110.8780229,-16.509883823160067,-106.24555896743195,-116.86137432789532,-111.59806254704941,-111.66465289534443,133.59468610715888,11.710985584651013,5.711210002635074,-89.3138599,-156.25732220375536,20.8104941,-70.69060142428015,23.8115647838413,148.262423,-70.6002258733539,105.3761434,-110.60167156843839,-155.475984,149.067221,-35.854428196605994,-155.471936,20.8104941,-121.6452932158403,-110.87874815220113,-104.02058383636867,-71.43284,-105.81990911661293,-155.47335552670813,51.2295295,null],\"marker\":{\"color\":[28,1,0,3,1,3,8,90,0,14,145,12,2,3,1,181,0,56,2,18,6,8,2,5,11,2,1,3,1,1,0,2,1,0,20,8,39,34,0,12,14,0,1,1,2,0,8,35,0,0,105,33,6,28,0,1,0,2,0],\"coloraxis\":\"coloraxis\",\"size\":[28,1,0,3,1,3,8,90,0,14,145,12,2,3,1,181,0,56,2,18,6,8,2,5,11,2,1,3,1,1,0,2,1,0,20,8,39,34,0,12,14,0,1,1,2,0,8,35,0,0,105,33,6,28,0,1,0,2,0],\"sizemode\":\"area\",\"sizeref\":0.1124,\"symbol\":\"circle\"},\"mode\":\"markers\",\"name\":\"\",\"showlegend\":false,\"type\":\"scattergeo\"}],\"name\":\"2016\"},{\"data\":[{\"geo\":\"geo\",\"hovertemplate\":\"\\u003cb\\u003e%{hovertext}\\u003c\\u002fb\\u003e\\u003cbr\\u003e\\u003cbr\\u003edisc_year=2017\\u003cbr\\u003ecounts=%{marker.color}\\u003cbr\\u003elatitude=%{lat}\\u003cbr\\u003elongitude=%{lon}\\u003cextra\\u003e\\u003c\\u002fextra\\u003e\",\"hovertext\":[\"Apache Point Observatory\",\"Bohyunsan Optical Astronomical Observatory\",\"WASP-South\",\"Arecibo Observatory\",\"Cerro Tololo Inter-American Observatory\",\"Thueringer Landessternwarte Tautenburg\",\"Very Long Baseline Array\",\"Winer Observatory\",\"Gemini Observatory\",\"TrES\",\"W. M. Keck Observatory\",\"Atacama Large Millimeter Array (ALMA)\",\"Teide Observatory\",\"European Southern Observatory\",\"Xinglong Station\",\"Acton Sky Portal Observatory\",\"Anglo-Australian Telescope\",\"University of Canterbury Mt John Observatory\",\"XO\",\"Fred Lawrence Whipple Observatory\",\"United Kingdom Infrared Telescope\",\"Yunnan Astronomical Observatory\",\"Calar Alto Observatory\",\"Subaru Telescope\",\"KELT\",\"HATSouth\",\"KMTNet\",\"Qatar\",\"Kitt Peak National Observatory\",\"MEarth Project\",\"Mauna Kea Observatory\",\"Las Campanas Observatory\",\"Leoncito Astronomical Complex\",\"Palomar Observatory\",\"Haute-Provence Observatory\",\"Multiple Observatories\",\"NASA Infrared Telescope Facility (IRTF)\",\"McDonald Observatory\",\"Lowell Observatory\",\"Lick Observatory\",\"Paranal Observatory\",\"SuperWASP\",\"Haleakala Observatory\",\"Multiple Facilities\",\"SuperWASP-North\",\"Next-Generation Transit Survey (NGTS)\",\"Large Binocular Telescope Observatory\",\"KELT-South\",\"SPECULOOS Southern Observatory\",\"HATNet\",\"MOA\",\"SuperWASP-South\",\"Parkes Observatory\",\"La Silla Observatory\",\"Roque de los Muchachos Observatory\",\"Okayama Astrophysical Observatory\",\"OGLE\",\"KELT-North\",\"Infrared Survey Facility\"],\"ids\":[\"Apache Point Observatory\",\"Bohyunsan Optical Astronomical Observatory\",\"WASP-South\",\"Arecibo Observatory\",\"Cerro Tololo Inter-American Observatory\",\"Thueringer Landessternwarte Tautenburg\",\"Very Long Baseline Array\",\"Winer Observatory\",\"Gemini Observatory\",\"TrES\",\"W. M. Keck Observatory\",\"Atacama Large Millimeter Array (ALMA)\",\"Teide Observatory\",\"European Southern Observatory\",\"Xinglong Station\",\"Acton Sky Portal Observatory\",\"Anglo-Australian Telescope\",\"University of Canterbury Mt John Observatory\",\"XO\",\"Fred Lawrence Whipple Observatory\",\"United Kingdom Infrared Telescope\",\"Yunnan Astronomical Observatory\",\"Calar Alto Observatory\",\"Subaru Telescope\",\"KELT\",\"HATSouth\",\"KMTNet\",\"Qatar\",\"Kitt Peak National Observatory\",\"MEarth Project\",\"Mauna Kea Observatory\",\"Las Campanas Observatory\",\"Leoncito Astronomical Complex\",\"Palomar Observatory\",\"Haute-Provence Observatory\",\"Multiple Observatories\",\"NASA Infrared Telescope Facility (IRTF)\",\"McDonald Observatory\",\"Lowell Observatory\",\"Lick Observatory\",\"Paranal Observatory\",\"SuperWASP\",\"Haleakala Observatory\",\"Multiple Facilities\",\"SuperWASP-North\",\"Next-Generation Transit Survey (NGTS)\",\"Large Binocular Telescope Observatory\",\"KELT-South\",\"SPECULOOS Southern Observatory\",\"HATNet\",\"MOA\",\"SuperWASP-South\",\"Parkes Observatory\",\"La Silla Observatory\",\"Roque de los Muchachos Observatory\",\"Okayama Astrophysical Observatory\",\"OGLE\",\"KELT-North\",\"Infrared Survey Facility\"],\"lat\":[32.780298450000004,36.16493673022682,-54.74708985,18.34435035,-30.17112555,50.980589699999996,35.7751349,31.66664384843098,19.7010144,46.32311,19.826335800000003,-23.016605,28.30155405,-33.39954245,28.2993048,42.4850931,-31.275452,-43.985079510206,18.3167587,31.680770000000003,19.82263133941441,25.05169275,37.222216,19.825628,50.044335,null,-32.3788046,25.3336984,31.96005045,31.6841828,19.824758000000003,-29.01915575,-31.798406322237792,33.353975750000004,43.93465290685473,null,19.8262932,30.6758212,35.20294505,37.343180950000004,-24.62746015,-32.380828300000005,20.707724,null,28.7602486,-24.6157395,32.701432499999996,-32.380265449999996,null,36.2534455,14.53520885,-32.380828300000005,-32.9986005,-29.2552104,28.757069,34.57620737464398,42.0397014,64.23121929999999,-32.40945838829719],\"legendgroup\":\"\",\"lon\":[-105.81990911661293,128.97680621520124,-35.854428196605994,-66.75271716738939,-70.80355626100308,11.710985584651013,-106.24555896743195,-110.60167156843839,-155.0901111721641,11.096874,-155.4744554555519,-67.77226867219686,-16.509883823160067,-70.6002258733539,105.3761434,-71.43284,149.067221,170.46406802137483,102.1082886,-110.87874815220113,-155.4702713396269,102.57846947618563,-2.54693,-155.475984,15.7454858,null,20.810438721680914,51.2295295,-111.59806254704941,-110.8780229,-155.47335552670813,-70.69060142428015,-69.29561017690845,-116.86137432789532,5.711210002635074,null,-155.471936,-104.02058383636867,-111.66465289534443,-121.6452932158403,-70.40415067740268,20.8104941,-156.25732220375536,null,-17.879274799500855,-70.39103904999999,-109.88921125289411,20.810272050000002,null,36.5635125,120.98159848166422,20.8104941,148.262423,-70.73950703583358,-17.88884356096937,133.59468610715888,-89.3138599,23.8115647838413,20.800649558809692],\"marker\":{\"color\":[1,15,0,3,2,8,0,0,8,5,145,0,1,1,2,0,35,1,6,6,2,3,2,8,10,35,1,6,1,2,0,14,1,2,42,118,0,28,0,33,13,107,0,8,2,0,2,4,0,57,20,16,2,199,15,20,40,4,1],\"coloraxis\":\"coloraxis\",\"size\":[1,15,0,3,2,8,0,0,8,5,145,0,1,1,2,0,35,1,6,6,2,3,2,8,10,35,1,6,1,2,0,14,1,2,42,118,0,28,0,33,13,107,0,8,2,0,2,4,0,57,20,16,2,199,15,20,40,4,1],\"sizemode\":\"area\",\"sizeref\":0.1124,\"symbol\":\"circle\"},\"mode\":\"markers\",\"name\":\"\",\"showlegend\":false,\"type\":\"scattergeo\"}],\"name\":\"2017\"},{\"data\":[{\"geo\":\"geo\",\"hovertemplate\":\"\\u003cb\\u003e%{hovertext}\\u003c\\u002fb\\u003e\\u003cbr\\u003e\\u003cbr\\u003edisc_year=2018\\u003cbr\\u003ecounts=%{marker.color}\\u003cbr\\u003elatitude=%{lat}\\u003cbr\\u003elongitude=%{lon}\\u003cextra\\u003e\\u003c\\u002fextra\\u003e\",\"hovertext\":[\"KELT-North\",\"Thueringer Landessternwarte Tautenburg\",\"Infrared Survey Facility\",\"Paranal Observatory\",\"NASA Infrared Telescope Facility (IRTF)\",\"Lowell Observatory\",\"Leoncito Astronomical Complex\",\"TrES\",\"Calar Alto Observatory\",\"SPECULOOS Southern Observatory\",\"European Southern Observatory\",\"Haute-Provence Observatory\",\"Parkes Observatory\",\"Anglo-Australian Telescope\",\"Las Campanas Observatory\",\"McDonald Observatory\",\"XO\",\"Lick Observatory\",\"University of Canterbury Mt John Observatory\",\"Winer Observatory\",\"KELT-South\",\"Subaru Telescope\",\"Xinglong Station\",\"Fred Lawrence Whipple Observatory\",\"KMTNet\",\"SuperWASP-North\",\"Next-Generation Transit Survey (NGTS)\",\"Cerro Tololo Inter-American Observatory\",\"Roque de los Muchachos Observatory\",\"Okayama Astrophysical Observatory\",\"Gemini Observatory\",\"W. M. Keck Observatory\",\"MOA\",\"Yunnan Astronomical Observatory\",\"United Kingdom Infrared Telescope\",\"KELT\",\"HATNet\",\"Atacama Large Millimeter Array (ALMA)\",\"La Silla Observatory\",\"OGLE\",\"HATSouth\",\"Bohyunsan Optical Astronomical Observatory\",\"Apache Point Observatory\",\"MEarth Project\",\"Qatar\",\"Haleakala Observatory\",\"SuperWASP\",\"Large Binocular Telescope Observatory\",\"Multiple Facilities\",\"Very Long Baseline Array\",\"WASP-South\",\"Multiple Observatories\",\"Arecibo Observatory\",\"Acton Sky Portal Observatory\",\"Palomar Observatory\",\"Mauna Kea Observatory\",\"Kitt Peak National Observatory\",\"Teide Observatory\",\"SuperWASP-South\"],\"ids\":[\"KELT-North\",\"Thueringer Landessternwarte Tautenburg\",\"Infrared Survey Facility\",\"Paranal Observatory\",\"NASA Infrared Telescope Facility (IRTF)\",\"Lowell Observatory\",\"Leoncito Astronomical Complex\",\"TrES\",\"Calar Alto Observatory\",\"SPECULOOS Southern Observatory\",\"European Southern Observatory\",\"Haute-Provence Observatory\",\"Parkes Observatory\",\"Anglo-Australian Telescope\",\"Las Campanas Observatory\",\"McDonald Observatory\",\"XO\",\"Lick Observatory\",\"University of Canterbury Mt John Observatory\",\"Winer Observatory\",\"KELT-South\",\"Subaru Telescope\",\"Xinglong Station\",\"Fred Lawrence Whipple Observatory\",\"KMTNet\",\"SuperWASP-North\",\"Next-Generation Transit Survey (NGTS)\",\"Cerro Tololo Inter-American Observatory\",\"Roque de los Muchachos Observatory\",\"Okayama Astrophysical Observatory\",\"Gemini Observatory\",\"W. M. Keck Observatory\",\"MOA\",\"Yunnan Astronomical Observatory\",\"United Kingdom Infrared Telescope\",\"KELT\",\"HATNet\",\"Atacama Large Millimeter Array (ALMA)\",\"La Silla Observatory\",\"OGLE\",\"HATSouth\",\"Bohyunsan Optical Astronomical Observatory\",\"Apache Point Observatory\",\"MEarth Project\",\"Qatar\",\"Haleakala Observatory\",\"SuperWASP\",\"Large Binocular Telescope Observatory\",\"Multiple Facilities\",\"Very Long Baseline Array\",\"WASP-South\",\"Multiple Observatories\",\"Arecibo Observatory\",\"Acton Sky Portal Observatory\",\"Palomar Observatory\",\"Mauna Kea Observatory\",\"Kitt Peak National Observatory\",\"Teide Observatory\",\"SuperWASP-South\"],\"lat\":[64.23121929999999,50.980589699999996,-32.40945838829719,-24.62746015,19.8262932,35.20294505,-31.798406322237792,46.32311,37.222216,null,-33.39954245,43.93465290685473,-32.9986005,-31.275452,-29.01915575,30.6758212,18.3167587,37.343180950000004,-43.985079510206,31.66664384843098,-32.380265449999996,19.825628,28.2993048,31.680770000000003,-32.3788046,28.7602486,-24.6157395,-30.17112555,28.757069,34.57620737464398,19.7010144,19.826335800000003,14.53520885,25.05169275,19.82263133941441,50.044335,36.2534455,-23.016605,-29.2552104,42.0397014,null,36.16493673022682,32.780298450000004,31.6841828,25.3336984,20.707724,-32.380828300000005,32.701432499999996,null,35.7751349,-54.74708985,null,18.34435035,42.4850931,33.353975750000004,19.824758000000003,31.96005045,28.30155405,-32.380828300000005],\"legendgroup\":\"\",\"lon\":[23.8115647838413,11.710985584651013,20.800649558809692,-70.40415067740268,-155.471936,-111.66465289534443,-69.29561017690845,11.096874,-2.54693,null,-70.6002258733539,5.711210002635074,148.262423,149.067221,-70.69060142428015,-104.02058383636867,102.1082886,-121.6452932158403,170.46406802137483,-110.60167156843839,20.810272050000002,-155.475984,105.3761434,-110.87874815220113,20.810438721680914,-17.879274799500855,-70.39103904999999,-70.80355626100308,-17.88884356096937,133.59468610715888,-155.0901111721641,-155.4744554555519,120.98159848166422,102.57846947618563,-155.4702713396269,15.7454858,36.5635125,-67.77226867219686,-70.73950703583358,-89.3138599,null,128.97680621520124,-105.81990911661293,-110.8780229,51.2295295,-156.25732220375536,20.8104941,-109.88921125289411,null,-106.24555896743195,-35.854428196605994,null,-66.75271716738939,-71.43284,-116.86137432789532,-155.47335552670813,-111.59806254704941,-16.509883823160067,20.8104941],\"marker\":{\"color\":[5,8,1,16,0,0,1,5,5,0,1,43,2,35,14,28,6,33,1,0,4,8,2,6,6,2,0,2,19,23,8,167,24,3,2,10,57,0,206,50,56,16,1,2,6,0,107,2,9,0,0,125,3,1,2,1,1,1,32],\"coloraxis\":\"coloraxis\",\"size\":[5,8,1,16,0,0,1,5,5,0,1,43,2,35,14,28,6,33,1,0,4,8,2,6,6,2,0,2,19,23,8,167,24,3,2,10,57,0,206,50,56,16,1,2,6,0,107,2,9,0,0,125,3,1,2,1,1,1,32],\"sizemode\":\"area\",\"sizeref\":0.1124,\"symbol\":\"circle\"},\"mode\":\"markers\",\"name\":\"\",\"showlegend\":false,\"type\":\"scattergeo\"}],\"name\":\"2018\"},{\"data\":[{\"geo\":\"geo\",\"hovertemplate\":\"\\u003cb\\u003e%{hovertext}\\u003c\\u002fb\\u003e\\u003cbr\\u003e\\u003cbr\\u003edisc_year=2019\\u003cbr\\u003ecounts=%{marker.color}\\u003cbr\\u003elatitude=%{lat}\\u003cbr\\u003elongitude=%{lon}\\u003cextra\\u003e\\u003c\\u002fextra\\u003e\",\"hovertext\":[\"United Kingdom Infrared Telescope\",\"KELT-North\",\"Qatar\",\"Multiple Observatories\",\"NASA Infrared Telescope Facility (IRTF)\",\"Calar Alto Observatory\",\"La Silla Observatory\",\"W. M. Keck Observatory\",\"Kitt Peak National Observatory\",\"Okayama Astrophysical Observatory\",\"Atacama Large Millimeter Array (ALMA)\",\"Next-Generation Transit Survey (NGTS)\",\"WASP-South\",\"Arecibo Observatory\",\"Very Long Baseline Array\",\"Palomar Observatory\",\"Large Binocular Telescope Observatory\",\"KMTNet\",\"Bohyunsan Optical Astronomical Observatory\",\"Paranal Observatory\",\"KELT-South\",\"Las Campanas Observatory\",\"University of Canterbury Mt John Observatory\",\"Winer Observatory\",\"Parkes Observatory\",\"Apache Point Observatory\",\"Leoncito Astronomical Complex\",\"SuperWASP-South\",\"OGLE\",\"MEarth Project\",\"SuperWASP-North\",\"Infrared Survey Facility\",\"SPECULOOS Southern Observatory\",\"Teide Observatory\",\"Lick Observatory\",\"Mauna Kea Observatory\",\"European Southern Observatory\",\"Acton Sky Portal Observatory\",\"McDonald Observatory\",\"Haute-Provence Observatory\",\"Subaru Telescope\",\"Fred Lawrence Whipple Observatory\",\"Thueringer Landessternwarte Tautenburg\",\"SuperWASP\",\"Lowell Observatory\",\"Haleakala Observatory\",\"TrES\",\"Anglo-Australian Telescope\",\"HATSouth\",\"Xinglong Station\",\"Multiple Facilities\",\"MOA\",\"Roque de los Muchachos Observatory\",\"KELT\",\"Yunnan Astronomical Observatory\",\"HATNet\",\"Gemini Observatory\",\"XO\",\"Cerro Tololo Inter-American Observatory\"],\"ids\":[\"United Kingdom Infrared Telescope\",\"KELT-North\",\"Qatar\",\"Multiple Observatories\",\"NASA Infrared Telescope Facility (IRTF)\",\"Calar Alto Observatory\",\"La Silla Observatory\",\"W. M. Keck Observatory\",\"Kitt Peak National Observatory\",\"Okayama Astrophysical Observatory\",\"Atacama Large Millimeter Array (ALMA)\",\"Next-Generation Transit Survey (NGTS)\",\"WASP-South\",\"Arecibo Observatory\",\"Very Long Baseline Array\",\"Palomar Observatory\",\"Large Binocular Telescope Observatory\",\"KMTNet\",\"Bohyunsan Optical Astronomical Observatory\",\"Paranal Observatory\",\"KELT-South\",\"Las Campanas Observatory\",\"University of Canterbury Mt John Observatory\",\"Winer Observatory\",\"Parkes Observatory\",\"Apache Point Observatory\",\"Leoncito Astronomical Complex\",\"SuperWASP-South\",\"OGLE\",\"MEarth Project\",\"SuperWASP-North\",\"Infrared Survey Facility\",\"SPECULOOS Southern Observatory\",\"Teide Observatory\",\"Lick Observatory\",\"Mauna Kea Observatory\",\"European Southern Observatory\",\"Acton Sky Portal Observatory\",\"McDonald Observatory\",\"Haute-Provence Observatory\",\"Subaru Telescope\",\"Fred Lawrence Whipple Observatory\",\"Thueringer Landessternwarte Tautenburg\",\"SuperWASP\",\"Lowell Observatory\",\"Haleakala Observatory\",\"TrES\",\"Anglo-Australian Telescope\",\"HATSouth\",\"Xinglong Station\",\"Multiple Facilities\",\"MOA\",\"Roque de los Muchachos Observatory\",\"KELT\",\"Yunnan Astronomical Observatory\",\"HATNet\",\"Gemini Observatory\",\"XO\",\"Cerro Tololo Inter-American Observatory\"],\"lat\":[19.82263133941441,64.23121929999999,25.3336984,null,19.8262932,37.222216,-29.2552104,19.826335800000003,31.96005045,34.57620737464398,-23.016605,-24.6157395,-54.74708985,18.34435035,35.7751349,33.353975750000004,32.701432499999996,-32.3788046,36.16493673022682,-24.62746015,-32.380265449999996,-29.01915575,-43.985079510206,31.66664384843098,-32.9986005,32.780298450000004,-31.798406322237792,-32.380828300000005,42.0397014,31.6841828,28.7602486,-32.40945838829719,null,28.30155405,37.343180950000004,19.824758000000003,-33.39954245,42.4850931,30.6758212,43.93465290685473,19.825628,31.680770000000003,50.980589699999996,-32.380828300000005,35.20294505,20.707724,46.32311,-31.275452,null,28.2993048,null,14.53520885,28.757069,50.044335,25.05169275,36.2534455,19.7010144,18.3167587,-30.17112555],\"legendgroup\":\"\",\"lon\":[-155.4702713396269,23.8115647838413,51.2295295,null,-155.471936,-2.54693,-70.73950703583358,-155.4744554555519,-111.59806254704941,133.59468610715888,-67.77226867219686,-70.39103904999999,-35.854428196605994,-66.75271716738939,-106.24555896743195,-116.86137432789532,-109.88921125289411,20.810438721680914,128.97680621520124,-70.40415067740268,20.810272050000002,-70.69060142428015,170.46406802137483,-110.60167156843839,148.262423,-105.81990911661293,-69.29561017690845,20.8104941,-89.3138599,-110.8780229,-17.879274799500855,20.800649558809692,null,-16.509883823160067,-121.6452932158403,-155.47335552670813,-70.6002258733539,-71.43284,-104.02058383636867,5.711210002635074,-155.475984,-110.87874815220113,11.710985584651013,20.8104941,-111.66465289534443,-156.25732220375536,11.096874,149.067221,null,105.3761434,null,120.98159848166422,-17.88884356096937,15.7454858,102.57846947618563,36.5635125,-155.0901111721641,102.1082886,-70.80355626100308],\"marker\":{\"color\":[2,7,10,135,0,10,237,171,1,23,1,0,10,3,0,2,2,11,16,22,4,28,1,1,2,1,1,32,58,2,2,1,0,1,33,1,2,1,28,45,8,6,8,111,0,0,5,36,62,2,10,25,20,10,3,59,8,7,2],\"coloraxis\":\"coloraxis\",\"size\":[2,7,10,135,0,10,237,171,1,23,1,0,10,3,0,2,2,11,16,22,4,28,1,1,2,1,1,32,58,2,2,1,0,1,33,1,2,1,28,45,8,6,8,111,0,0,5,36,62,2,10,25,20,10,3,59,8,7,2],\"sizemode\":\"area\",\"sizeref\":0.1124,\"symbol\":\"circle\"},\"mode\":\"markers\",\"name\":\"\",\"showlegend\":false,\"type\":\"scattergeo\"}],\"name\":\"2019\"},{\"data\":[{\"geo\":\"geo\",\"hovertemplate\":\"\\u003cb\\u003e%{hovertext}\\u003c\\u002fb\\u003e\\u003cbr\\u003e\\u003cbr\\u003edisc_year=2020\\u003cbr\\u003ecounts=%{marker.color}\\u003cbr\\u003elatitude=%{lat}\\u003cbr\\u003elongitude=%{lon}\\u003cextra\\u003e\\u003c\\u002fextra\\u003e\",\"hovertext\":[\"Very Long Baseline Array\",\"Fred Lawrence Whipple Observatory\",\"La Silla Observatory\",\"Palomar Observatory\",\"Yunnan Astronomical Observatory\",\"Large Binocular Telescope Observatory\",\"SuperWASP-South\",\"Haleakala Observatory\",\"W. M. Keck Observatory\",\"Acton Sky Portal Observatory\",\"Okayama Astrophysical Observatory\",\"HATNet\",\"MEarth Project\",\"KMTNet\",\"WASP-South\",\"Teide Observatory\",\"Gemini Observatory\",\"Arecibo Observatory\",\"HATSouth\",\"Xinglong Station\",\"Kitt Peak National Observatory\",\"SuperWASP-North\",\"MOA\",\"Next-Generation Transit Survey (NGTS)\",\"Atacama Large Millimeter Array (ALMA)\",\"SuperWASP\",\"Mauna Kea Observatory\",\"Bohyunsan Optical Astronomical Observatory\",\"Cerro Tololo Inter-American Observatory\",\"Multiple Observatories\",\"TrES\",\"Calar Alto Observatory\",\"Infrared Survey Facility\",\"Apache Point Observatory\",\"XO\",\"Winer Observatory\",\"Parkes Observatory\",\"SPECULOOS Southern Observatory\",\"Lick Observatory\",\"Roque de los Muchachos Observatory\",\"European Southern Observatory\",\"Multiple Facilities\",\"KELT-North\",\"University of Canterbury Mt John Observatory\",\"Anglo-Australian Telescope\",\"United Kingdom Infrared Telescope\",\"Leoncito Astronomical Complex\",\"NASA Infrared Telescope Facility (IRTF)\",\"Lowell Observatory\",\"KELT\",\"Thueringer Landessternwarte Tautenburg\",\"Paranal Observatory\",\"Subaru Telescope\",\"Qatar\",\"OGLE\",\"KELT-South\",\"McDonald Observatory\",\"Las Campanas Observatory\",\"Haute-Provence Observatory\"],\"ids\":[\"Very Long Baseline Array\",\"Fred Lawrence Whipple Observatory\",\"La Silla Observatory\",\"Palomar Observatory\",\"Yunnan Astronomical Observatory\",\"Large Binocular Telescope Observatory\",\"SuperWASP-South\",\"Haleakala Observatory\",\"W. M. Keck Observatory\",\"Acton Sky Portal Observatory\",\"Okayama Astrophysical Observatory\",\"HATNet\",\"MEarth Project\",\"KMTNet\",\"WASP-South\",\"Teide Observatory\",\"Gemini Observatory\",\"Arecibo Observatory\",\"HATSouth\",\"Xinglong Station\",\"Kitt Peak National Observatory\",\"SuperWASP-North\",\"MOA\",\"Next-Generation Transit Survey (NGTS)\",\"Atacama Large Millimeter Array (ALMA)\",\"SuperWASP\",\"Mauna Kea Observatory\",\"Bohyunsan Optical Astronomical Observatory\",\"Cerro Tololo Inter-American Observatory\",\"Multiple Observatories\",\"TrES\",\"Calar Alto Observatory\",\"Infrared Survey Facility\",\"Apache Point Observatory\",\"XO\",\"Winer Observatory\",\"Parkes Observatory\",\"SPECULOOS Southern Observatory\",\"Lick Observatory\",\"Roque de los Muchachos Observatory\",\"European Southern Observatory\",\"Multiple Facilities\",\"KELT-North\",\"University of Canterbury Mt John Observatory\",\"Anglo-Australian Telescope\",\"United Kingdom Infrared Telescope\",\"Leoncito Astronomical Complex\",\"NASA Infrared Telescope Facility (IRTF)\",\"Lowell Observatory\",\"KELT\",\"Thueringer Landessternwarte Tautenburg\",\"Paranal Observatory\",\"Subaru Telescope\",\"Qatar\",\"OGLE\",\"KELT-South\",\"McDonald Observatory\",\"Las Campanas Observatory\",\"Haute-Provence Observatory\"],\"lat\":[35.7751349,31.680770000000003,-29.2552104,33.353975750000004,25.05169275,32.701432499999996,-32.380828300000005,20.707724,19.826335800000003,42.4850931,34.57620737464398,36.2534455,31.6841828,-32.3788046,-54.74708985,28.30155405,19.7010144,18.34435035,null,28.2993048,31.96005045,28.7602486,14.53520885,-24.6157395,-23.016605,-32.380828300000005,19.824758000000003,36.16493673022682,-30.17112555,null,46.32311,37.222216,-32.40945838829719,32.780298450000004,18.3167587,31.66664384843098,-32.9986005,null,37.343180950000004,28.757069,-33.39954245,null,64.23121929999999,-43.985079510206,-31.275452,19.82263133941441,-31.798406322237792,19.8262932,35.20294505,50.044335,50.980589699999996,-24.62746015,19.825628,25.3336984,42.0397014,-32.380265449999996,30.6758212,-29.01915575,43.93465290685473],\"legendgroup\":\"\",\"lon\":[-106.24555896743195,-110.87874815220113,-70.73950703583358,-116.86137432789532,102.57846947618563,-109.88921125289411,20.8104941,-156.25732220375536,-155.4744554555519,-71.43284,133.59468610715888,36.5635125,-110.8780229,20.810438721680914,-35.854428196605994,-16.509883823160067,-155.0901111721641,-66.75271716738939,null,105.3761434,-111.59806254704941,-17.879274799500855,120.98159848166422,-70.39103904999999,-67.77226867219686,20.8104941,-155.47335552670813,128.97680621520124,-70.80355626100308,null,11.096874,-2.54693,20.800649558809692,-105.81990911661293,102.1082886,-110.60167156843839,148.262423,null,-121.6452932158403,-17.88884356096937,-70.6002258733539,null,23.8115647838413,170.46406802137483,149.067221,-155.4702713396269,-69.29561017690845,-155.471936,-111.66465289534443,15.7454858,11.710985584651013,-70.40415067740268,-155.475984,51.2295295,-89.3138599,20.810272050000002,-104.02058383636867,-70.69060142428015,5.711210002635074],\"marker\":{\"color\":[0,6,242,2,3,2,32,2,173,1,23,60,2,19,10,1,8,3,69,2,1,5,25,0,1,113,1,19,2,153,5,12,1,1,7,1,2,0,35,23,2,14,7,1,36,2,1,0,0,10,8,26,8,10,70,4,28,29,51],\"coloraxis\":\"coloraxis\",\"size\":[0,6,242,2,3,2,32,2,173,1,23,60,2,19,10,1,8,3,69,2,1,5,25,0,1,113,1,19,2,153,5,12,1,1,7,1,2,0,35,23,2,14,7,1,36,2,1,0,0,10,8,26,8,10,70,4,28,29,51],\"sizemode\":\"area\",\"sizeref\":0.1124,\"symbol\":\"circle\"},\"mode\":\"markers\",\"name\":\"\",\"showlegend\":false,\"type\":\"scattergeo\"}],\"name\":\"2020\"},{\"data\":[{\"geo\":\"geo\",\"hovertemplate\":\"\\u003cb\\u003e%{hovertext}\\u003c\\u002fb\\u003e\\u003cbr\\u003e\\u003cbr\\u003edisc_year=2021\\u003cbr\\u003ecounts=%{marker.color}\\u003cbr\\u003elatitude=%{lat}\\u003cbr\\u003elongitude=%{lon}\\u003cextra\\u003e\\u003c\\u002fextra\\u003e\",\"hovertext\":[\"La Silla Observatory\",\"Yunnan Astronomical Observatory\",\"Arecibo Observatory\",\"XO\",\"Next-Generation Transit Survey (NGTS)\",\"NASA Infrared Telescope Facility (IRTF)\",\"Winer Observatory\",\"MOA\",\"MEarth Project\",\"Multiple Observatories\",\"Lowell Observatory\",\"Lick Observatory\",\"WASP-South\",\"McDonald Observatory\",\"Mauna Kea Observatory\",\"Las Campanas Observatory\",\"Acton Sky Portal Observatory\",\"Xinglong Station\",\"Apache Point Observatory\",\"Multiple Facilities\",\"Large Binocular Telescope Observatory\",\"Anglo-Australian Telescope\",\"Leoncito Astronomical Complex\",\"Very Long Baseline Array\",\"Subaru Telescope\",\"Fred Lawrence Whipple Observatory\",\"Haleakala Observatory\",\"United Kingdom Infrared Telescope\",\"Thueringer Landessternwarte Tautenburg\",\"Bohyunsan Optical Astronomical Observatory\",\"Haute-Provence Observatory\",\"European Southern Observatory\",\"KELT-South\",\"Paranal Observatory\",\"Palomar Observatory\",\"SPECULOOS Southern Observatory\",\"TrES\",\"Infrared Survey Facility\",\"Parkes Observatory\",\"Roque de los Muchachos Observatory\",\"Cerro Tololo Inter-American Observatory\",\"Calar Alto Observatory\",\"KELT\",\"OGLE\",\"KELT-North\",\"University of Canterbury Mt John Observatory\",\"SuperWASP\",\"Qatar\",\"HATNet\",\"SuperWASP-North\",\"KMTNet\",\"SuperWASP-South\",\"HATSouth\",\"Kitt Peak National Observatory\",\"W. M. Keck Observatory\",\"Gemini Observatory\",\"Okayama Astrophysical Observatory\",\"Atacama Large Millimeter Array (ALMA)\",\"Teide Observatory\"],\"ids\":[\"La Silla Observatory\",\"Yunnan Astronomical Observatory\",\"Arecibo Observatory\",\"XO\",\"Next-Generation Transit Survey (NGTS)\",\"NASA Infrared Telescope Facility (IRTF)\",\"Winer Observatory\",\"MOA\",\"MEarth Project\",\"Multiple Observatories\",\"Lowell Observatory\",\"Lick Observatory\",\"WASP-South\",\"McDonald Observatory\",\"Mauna Kea Observatory\",\"Las Campanas Observatory\",\"Acton Sky Portal Observatory\",\"Xinglong Station\",\"Apache Point Observatory\",\"Multiple Facilities\",\"Large Binocular Telescope Observatory\",\"Anglo-Australian Telescope\",\"Leoncito Astronomical Complex\",\"Very Long Baseline Array\",\"Subaru Telescope\",\"Fred Lawrence Whipple Observatory\",\"Haleakala Observatory\",\"United Kingdom Infrared Telescope\",\"Thueringer Landessternwarte Tautenburg\",\"Bohyunsan Optical Astronomical Observatory\",\"Haute-Provence Observatory\",\"European Southern Observatory\",\"KELT-South\",\"Paranal Observatory\",\"Palomar Observatory\",\"SPECULOOS Southern Observatory\",\"TrES\",\"Infrared Survey Facility\",\"Parkes Observatory\",\"Roque de los Muchachos Observatory\",\"Cerro Tololo Inter-American Observatory\",\"Calar Alto Observatory\",\"KELT\",\"OGLE\",\"KELT-North\",\"University of Canterbury Mt John Observatory\",\"SuperWASP\",\"Qatar\",\"HATNet\",\"SuperWASP-North\",\"KMTNet\",\"SuperWASP-South\",\"HATSouth\",\"Kitt Peak National Observatory\",\"W. M. Keck Observatory\",\"Gemini Observatory\",\"Okayama Astrophysical Observatory\",\"Atacama Large Millimeter Array (ALMA)\",\"Teide Observatory\"],\"lat\":[-29.2552104,25.05169275,18.34435035,18.3167587,-24.6157395,19.8262932,31.66664384843098,14.53520885,31.6841828,null,35.20294505,37.343180950000004,-54.74708985,30.6758212,19.824758000000003,-29.01915575,42.4850931,28.2993048,32.780298450000004,null,32.701432499999996,-31.275452,-31.798406322237792,35.7751349,19.825628,31.680770000000003,20.707724,19.82263133941441,50.980589699999996,36.16493673022682,43.93465290685473,-33.39954245,-32.380265449999996,-24.62746015,33.353975750000004,null,46.32311,-32.40945838829719,-32.9986005,28.757069,-30.17112555,37.222216,50.044335,42.0397014,64.23121929999999,-43.985079510206,-32.380828300000005,25.3336984,36.2534455,28.7602486,-32.3788046,-32.380828300000005,null,31.96005045,19.826335800000003,19.7010144,34.57620737464398,-23.016605,28.30155405],\"legendgroup\":\"\",\"lon\":[-70.73950703583358,102.57846947618563,-66.75271716738939,102.1082886,-70.39103904999999,-155.471936,-110.60167156843839,120.98159848166422,-110.8780229,null,-111.66465289534443,-121.6452932158403,-35.854428196605994,-104.02058383636867,-155.47335552670813,-70.69060142428015,-71.43284,105.3761434,-105.81990911661293,null,-109.88921125289411,149.067221,-69.29561017690845,-106.24555896743195,-155.475984,-110.87874815220113,-156.25732220375536,-155.4702713396269,11.710985584651013,128.97680621520124,5.711210002635074,-70.6002258733539,20.810272050000002,-70.40415067740268,-116.86137432789532,null,11.096874,20.800649558809692,148.262423,-17.88884356096937,-70.80355626100308,-2.54693,15.7454858,-89.3138599,23.8115647838413,170.46406802137483,20.8104941,51.2295295,36.5635125,-17.879274799500855,20.810438721680914,20.8104941,null,-111.59806254704941,-155.4744554555519,-155.0901111721641,133.59468610715888,-67.77226867219686,-16.509883823160067],\"marker\":{\"color\":[257,3,3,7,0,1,1,25,2,183,0,35,10,28,1,29,2,2,1,14,2,36,1,0,9,6,2,2,8,19,64,2,4,38,2,0,5,1,2,24,5,15,10,79,7,1,113,10,67,5,31,32,73,1,177,9,31,1,1],\"coloraxis\":\"coloraxis\",\"size\":[257,3,3,7,0,1,1,25,2,183,0,35,10,28,1,29,2,2,1,14,2,36,1,0,9,6,2,2,8,19,64,2,4,38,2,0,5,1,2,24,5,15,10,79,7,1,113,10,67,5,31,32,73,1,177,9,31,1,1],\"sizemode\":\"area\",\"sizeref\":0.1124,\"symbol\":\"circle\"},\"mode\":\"markers\",\"name\":\"\",\"showlegend\":false,\"type\":\"scattergeo\"}],\"name\":\"2021\"},{\"data\":[{\"geo\":\"geo\",\"hovertemplate\":\"\\u003cb\\u003e%{hovertext}\\u003c\\u002fb\\u003e\\u003cbr\\u003e\\u003cbr\\u003edisc_year=2022\\u003cbr\\u003ecounts=%{marker.color}\\u003cbr\\u003elatitude=%{lat}\\u003cbr\\u003elongitude=%{lon}\\u003cextra\\u003e\\u003c\\u002fextra\\u003e\",\"hovertext\":[\"MOA\",\"Infrared Survey Facility\",\"HATNet\",\"Fred Lawrence Whipple Observatory\",\"XO\",\"Cerro Tololo Inter-American Observatory\",\"Gemini Observatory\",\"SuperWASP-South\",\"Leoncito Astronomical Complex\",\"Anglo-Australian Telescope\",\"KELT\",\"Qatar\",\"Roque de los Muchachos Observatory\",\"TrES\",\"SPECULOOS Southern Observatory\",\"SuperWASP-North\",\"Acton Sky Portal Observatory\",\"Xinglong Station\",\"SuperWASP\",\"Mauna Kea Observatory\",\"HATSouth\",\"Haleakala Observatory\",\"Lowell Observatory\",\"Subaru Telescope\",\"Teide Observatory\",\"Thueringer Landessternwarte Tautenburg\",\"Yunnan Astronomical Observatory\",\"European Southern Observatory\",\"McDonald Observatory\",\"Lick Observatory\",\"Haute-Provence Observatory\",\"MEarth Project\",\"OGLE\",\"Multiple Facilities\",\"University of Canterbury Mt John Observatory\",\"Large Binocular Telescope Observatory\",\"United Kingdom Infrared Telescope\",\"NASA Infrared Telescope Facility (IRTF)\",\"KELT-South\",\"WASP-South\",\"Bohyunsan Optical Astronomical Observatory\",\"KMTNet\",\"Apache Point Observatory\",\"Paranal Observatory\",\"Okayama Astrophysical Observatory\",\"Atacama Large Millimeter Array (ALMA)\",\"Next-Generation Transit Survey (NGTS)\",\"Very Long Baseline Array\",\"Las Campanas Observatory\",\"La Silla Observatory\",\"Palomar Observatory\",\"Calar Alto Observatory\",\"W. M. Keck Observatory\",\"Arecibo Observatory\",\"KELT-North\",\"Winer Observatory\",\"Parkes Observatory\",\"Multiple Observatories\",\"Kitt Peak National Observatory\"],\"ids\":[\"MOA\",\"Infrared Survey Facility\",\"HATNet\",\"Fred Lawrence Whipple Observatory\",\"XO\",\"Cerro Tololo Inter-American Observatory\",\"Gemini Observatory\",\"SuperWASP-South\",\"Leoncito Astronomical Complex\",\"Anglo-Australian Telescope\",\"KELT\",\"Qatar\",\"Roque de los Muchachos Observatory\",\"TrES\",\"SPECULOOS Southern Observatory\",\"SuperWASP-North\",\"Acton Sky Portal Observatory\",\"Xinglong Station\",\"SuperWASP\",\"Mauna Kea Observatory\",\"HATSouth\",\"Haleakala Observatory\",\"Lowell Observatory\",\"Subaru Telescope\",\"Teide Observatory\",\"Thueringer Landessternwarte Tautenburg\",\"Yunnan Astronomical Observatory\",\"European Southern Observatory\",\"McDonald Observatory\",\"Lick Observatory\",\"Haute-Provence Observatory\",\"MEarth Project\",\"OGLE\",\"Multiple Facilities\",\"University of Canterbury Mt John Observatory\",\"Large Binocular Telescope Observatory\",\"United Kingdom Infrared Telescope\",\"NASA Infrared Telescope Facility (IRTF)\",\"KELT-South\",\"WASP-South\",\"Bohyunsan Optical Astronomical Observatory\",\"KMTNet\",\"Apache Point Observatory\",\"Paranal Observatory\",\"Okayama Astrophysical Observatory\",\"Atacama Large Millimeter Array (ALMA)\",\"Next-Generation Transit Survey (NGTS)\",\"Very Long Baseline Array\",\"Las Campanas Observatory\",\"La Silla Observatory\",\"Palomar Observatory\",\"Calar Alto Observatory\",\"W. M. Keck Observatory\",\"Arecibo Observatory\",\"KELT-North\",\"Winer Observatory\",\"Parkes Observatory\",\"Multiple Observatories\",\"Kitt Peak National Observatory\"],\"lat\":[14.53520885,-32.40945838829719,36.2534455,31.680770000000003,18.3167587,-30.17112555,19.7010144,-32.380828300000005,-31.798406322237792,-31.275452,50.044335,25.3336984,28.757069,46.32311,null,28.7602486,42.4850931,28.2993048,-32.380828300000005,19.824758000000003,null,20.707724,35.20294505,19.825628,28.30155405,50.980589699999996,25.05169275,-33.39954245,30.6758212,37.343180950000004,43.93465290685473,31.6841828,42.0397014,null,-43.985079510206,32.701432499999996,19.82263133941441,19.8262932,-32.380265449999996,-54.74708985,36.16493673022682,-32.3788046,32.780298450000004,-24.62746015,34.57620737464398,-23.016605,-24.6157395,35.7751349,-29.01915575,-29.2552104,33.353975750000004,37.222216,19.826335800000003,18.34435035,64.23121929999999,31.66664384843098,-32.9986005,null,31.96005045],\"legendgroup\":\"\",\"lon\":[120.98159848166422,20.800649558809692,36.5635125,-110.87874815220113,102.1082886,-70.80355626100308,-155.0901111721641,20.8104941,-69.29561017690845,149.067221,15.7454858,51.2295295,-17.88884356096937,11.096874,null,-17.879274799500855,-71.43284,105.3761434,20.8104941,-155.47335552670813,null,-156.25732220375536,-111.66465289534443,-155.475984,-16.509883823160067,11.710985584651013,102.57846947618563,-70.6002258733539,-104.02058383636867,-121.6452932158403,5.711210002635074,-110.8780229,-89.3138599,null,170.46406802137483,-109.88921125289411,-155.4702713396269,-155.471936,20.810272050000002,-35.854428196605994,128.97680621520124,20.810438721680914,-105.81990911661293,-70.40415067740268,133.59468610715888,-67.77226867219686,-70.39103904999999,-106.24555896743195,-70.69060142428015,-70.73950703583358,-116.86137432789532,-2.54693,-155.4744554555519,-66.75271716738939,23.8115647838413,-110.60167156843839,148.262423,null,-111.59806254704941],\"marker\":{\"color\":[27,1,67,6,7,5,9,32,1,36,10,10,24,5,1,5,2,2,113,1,73,2,0,11,1,8,3,3,29,35,64,2,94,14,1,2,2,1,4,10,22,65,1,40,35,1,3,1,29,270,2,16,181,3,7,1,2,278,1],\"coloraxis\":\"coloraxis\",\"size\":[27,1,67,6,7,5,9,32,1,36,10,10,24,5,1,5,2,2,113,1,73,2,0,11,1,8,3,3,29,35,64,2,94,14,1,2,2,1,4,10,22,65,1,40,35,1,3,1,29,270,2,16,181,3,7,1,2,278,1],\"sizemode\":\"area\",\"sizeref\":0.1124,\"symbol\":\"circle\"},\"mode\":\"markers\",\"name\":\"\",\"showlegend\":false,\"type\":\"scattergeo\"}],\"name\":\"2022\"},{\"data\":[{\"geo\":\"geo\",\"hovertemplate\":\"\\u003cb\\u003e%{hovertext}\\u003c\\u002fb\\u003e\\u003cbr\\u003e\\u003cbr\\u003edisc_year=2023\\u003cbr\\u003ecounts=%{marker.color}\\u003cbr\\u003elatitude=%{lat}\\u003cbr\\u003elongitude=%{lon}\\u003cextra\\u003e\\u003c\\u002fextra\\u003e\",\"hovertext\":[\"WASP-South\",\"OGLE\",\"Fred Lawrence Whipple Observatory\",\"SuperWASP-South\",\"Very Long Baseline Array\",\"Gemini Observatory\",\"Xinglong Station\",\"Arecibo Observatory\",\"W. M. Keck Observatory\",\"MEarth Project\",\"SuperWASP\",\"HATSouth\",\"Okayama Astrophysical Observatory\",\"Teide Observatory\",\"Kitt Peak National Observatory\",\"Atacama Large Millimeter Array (ALMA)\",\"HATNet\",\"Next-Generation Transit Survey (NGTS)\",\"La Silla Observatory\",\"SuperWASP-North\",\"MOA\",\"KMTNet\",\"Qatar\",\"Large Binocular Telescope Observatory\",\"KELT-South\",\"XO\",\"Multiple Observatories\",\"KELT-North\",\"Infrared Survey Facility\",\"Roque de los Muchachos Observatory\",\"Cerro Tololo Inter-American Observatory\",\"TrES\",\"Winer Observatory\",\"Multiple Facilities\",\"Leoncito Astronomical Complex\",\"Calar Alto Observatory\",\"KELT\",\"Anglo-Australian Telescope\",\"United Kingdom Infrared Telescope\",\"Parkes Observatory\",\"Palomar Observatory\",\"Las Campanas Observatory\",\"SPECULOOS Southern Observatory\",\"Haleakala Observatory\",\"Mauna Kea Observatory\",\"Lowell Observatory\",\"Subaru Telescope\",\"NASA Infrared Telescope Facility (IRTF)\",\"Thueringer Landessternwarte Tautenburg\",\"University of Canterbury Mt John Observatory\",\"Acton Sky Portal Observatory\",\"Apache Point Observatory\",\"Bohyunsan Optical Astronomical Observatory\",\"McDonald Observatory\",\"Lick Observatory\",\"Paranal Observatory\",\"Haute-Provence Observatory\",\"European Southern Observatory\",\"Yunnan Astronomical Observatory\"],\"ids\":[\"WASP-South\",\"OGLE\",\"Fred Lawrence Whipple Observatory\",\"SuperWASP-South\",\"Very Long Baseline Array\",\"Gemini Observatory\",\"Xinglong Station\",\"Arecibo Observatory\",\"W. M. Keck Observatory\",\"MEarth Project\",\"SuperWASP\",\"HATSouth\",\"Okayama Astrophysical Observatory\",\"Teide Observatory\",\"Kitt Peak National Observatory\",\"Atacama Large Millimeter Array (ALMA)\",\"HATNet\",\"Next-Generation Transit Survey (NGTS)\",\"La Silla Observatory\",\"SuperWASP-North\",\"MOA\",\"KMTNet\",\"Qatar\",\"Large Binocular Telescope Observatory\",\"KELT-South\",\"XO\",\"Multiple Observatories\",\"KELT-North\",\"Infrared Survey Facility\",\"Roque de los Muchachos Observatory\",\"Cerro Tololo Inter-American Observatory\",\"TrES\",\"Winer Observatory\",\"Multiple Facilities\",\"Leoncito Astronomical Complex\",\"Calar Alto Observatory\",\"KELT\",\"Anglo-Australian Telescope\",\"United Kingdom Infrared Telescope\",\"Parkes Observatory\",\"Palomar Observatory\",\"Las Campanas Observatory\",\"SPECULOOS Southern Observatory\",\"Haleakala Observatory\",\"Mauna Kea Observatory\",\"Lowell Observatory\",\"Subaru Telescope\",\"NASA Infrared Telescope Facility (IRTF)\",\"Thueringer Landessternwarte Tautenburg\",\"University of Canterbury Mt John Observatory\",\"Acton Sky Portal Observatory\",\"Apache Point Observatory\",\"Bohyunsan Optical Astronomical Observatory\",\"McDonald Observatory\",\"Lick Observatory\",\"Paranal Observatory\",\"Haute-Provence Observatory\",\"European Southern Observatory\",\"Yunnan Astronomical Observatory\"],\"lat\":[-54.74708985,42.0397014,31.680770000000003,-32.380828300000005,35.7751349,19.7010144,28.2993048,18.34435035,19.826335800000003,31.6841828,-32.380828300000005,null,34.57620737464398,28.30155405,31.96005045,-23.016605,36.2534455,-24.6157395,-29.2552104,28.7602486,14.53520885,-32.3788046,25.3336984,32.701432499999996,-32.380265449999996,18.3167587,null,64.23121929999999,-32.40945838829719,28.757069,-30.17112555,46.32311,31.66664384843098,null,-31.798406322237792,37.222216,50.044335,-31.275452,19.82263133941441,-32.9986005,33.353975750000004,-29.01915575,null,20.707724,19.824758000000003,35.20294505,19.825628,19.8262932,50.980589699999996,-43.985079510206,42.4850931,32.780298450000004,36.16493673022682,30.6758212,37.343180950000004,-24.62746015,43.93465290685473,-33.39954245,25.05169275],\"legendgroup\":\"\",\"lon\":[-35.854428196605994,-89.3138599,-110.87874815220113,20.8104941,-106.24555896743195,-155.0901111721641,105.3761434,-66.75271716738939,-155.4744554555519,-110.8780229,20.8104941,null,133.59468610715888,-16.509883823160067,-111.59806254704941,-67.77226867219686,36.5635125,-70.39103904999999,-70.73950703583358,-17.879274799500855,120.98159848166422,20.810438721680914,51.2295295,-109.88921125289411,20.810272050000002,102.1082886,null,23.8115647838413,20.800649558809692,-17.88884356096937,-70.80355626100308,11.096874,-110.60167156843839,null,-69.29561017690845,-2.54693,15.7454858,149.067221,-155.4702713396269,148.262423,-116.86137432789532,-70.69060142428015,null,-156.25732220375536,-155.47335552670813,-111.66465289534443,-155.475984,-155.471936,11.710985584651013,170.46406802137483,-71.43284,-105.81990911661293,128.97680621520124,-104.02058383636867,-121.6452932158403,-70.40415067740268,5.711210002635074,-70.6002258733539,102.57846947618563],\"marker\":{\"color\":[11,97,6,32,1,9,2,3,184,2,113,73,35,1,1,1,67,3,276,5,29,79,10,2,4,7,281,7,1,30,5,5,1,18,1,17,10,36,2,2,2,29,1,2,1,2,11,1,8,1,2,1,23,29,35,44,64,3,3],\"coloraxis\":\"coloraxis\",\"size\":[11,97,6,32,1,9,2,3,184,2,113,73,35,1,1,1,67,3,276,5,29,79,10,2,4,7,281,7,1,30,5,5,1,18,1,17,10,36,2,2,2,29,1,2,1,2,11,1,8,1,2,1,23,29,35,44,64,3,3],\"sizemode\":\"area\",\"sizeref\":0.1124,\"symbol\":\"circle\"},\"mode\":\"markers\",\"name\":\"\",\"showlegend\":false,\"type\":\"scattergeo\"}],\"name\":\"2023\"}]);\n",
       "                        }).then(function(){\n",
       "                            \n",
       "var gd = document.getElementById('c834cc64-ebaf-4022-a5e0-96089b1eae3c');\n",
       "var x = new MutationObserver(function (mutations, observer) {{\n",
       "        var display = window.getComputedStyle(gd).display;\n",
       "        if (!display || display === 'none') {{\n",
       "            console.log([gd, 'removed!']);\n",
       "            Plotly.purge(gd);\n",
       "            observer.disconnect();\n",
       "        }}\n",
       "}});\n",
       "\n",
       "// Listen for the removal of the full notebook cells\n",
       "var notebookContainer = gd.closest('#notebook-container');\n",
       "if (notebookContainer) {{\n",
       "    x.observe(notebookContainer, {childList: true});\n",
       "}}\n",
       "\n",
       "// Listen for the clearing of the current output cell\n",
       "var outputEl = gd.closest('.output');\n",
       "if (outputEl) {{\n",
       "    x.observe(outputEl, {childList: true});\n",
       "}}\n",
       "\n",
       "                        })                };                });            </script>        </div>"
      ]
     },
     "metadata": {},
     "output_type": "display_data"
    }
   ],
   "source": [
    "fig = px.scatter_geo(df_facyear, lat='latitude', lon='longitude', color='counts',\n",
    "                     hover_name='disc_facility', size='counts', size_max=50, animation_group=\"disc_facility\", animation_frame=\"disc_year\",\n",
    "                     )\n",
    "fig.update_geos(\n",
    "    visible=False,\n",
    "    showcountries=True, countrycolor=\"darkGray\",\n",
    ")\n",
    "fig.update_layout(\n",
    "    width=1200,\n",
    "    height=650,\n",
    "    title_text='Exoplanet discoveries by ground-based facilities over time', title_x=0.5,\n",
    "\n",
    ")\n",
    "\n",
    "fig.show()"
   ]
  },
  {
   "cell_type": "markdown",
   "id": "6d551aff",
   "metadata": {
    "papermill": {
     "duration": 0.087517,
     "end_time": "2024-01-20T15:57:30.681374",
     "exception": false,
     "start_time": "2024-01-20T15:57:30.593857",
     "status": "completed"
    },
    "tags": []
   },
   "source": [
    "<a id=\"section8\"></a>\n",
    "## **Conclusion** "
   ]
  },
  {
   "cell_type": "markdown",
   "id": "b34aacd2",
   "metadata": {
    "papermill": {
     "duration": 0.086955,
     "end_time": "2024-01-20T15:57:30.855519",
     "exception": false,
     "start_time": "2024-01-20T15:57:30.768564",
     "status": "completed"
    },
    "tags": []
   },
   "source": [
    "In this Exoplatory Data Analysis on exoplanets we have inmmersed ourself into a very passionate topic that is the exploration of our universe, \n",
    "\n",
    "*  Through the study of the discovery methods that instruments used to perform this task, we have seen that transit discoveries are the most frequent and how it works.\n",
    "*  In the search for discovering entities we noticed that most of them are from space, with Kepler Telescope leading the list by far.\n",
    "*  Looking deeper into the locations, we saw how La Silla Observatory is the most productive from the ground.\n",
    "*  We performed a temporal visualization of the discoveries on the geolocations of terrestrial observatories.\n"
   ]
  },
  {
   "cell_type": "markdown",
   "id": "39d65c49",
   "metadata": {
    "papermill": {
     "duration": 0.086703,
     "end_time": "2024-01-20T15:57:31.029288",
     "exception": false,
     "start_time": "2024-01-20T15:57:30.942585",
     "status": "completed"
    },
    "tags": []
   },
   "source": [
    "<a id=\"section9\"></a>\n",
    "##  **References** \n",
    "\n",
    "* (1) NASA Exoplanet Archive *(https://exoplanetarchive.ipac.caltech.edu/cgi-bin/TblView/nph-tblView?app=ExoTbls&config=PS&constraint=default_flag%20%3E0)*\n",
    "\n",
    "* (2) Exoplanet Exploration NASA *(https://exoplanets.nasa.gov/faq/31/whats-a-transit/)*\n",
    "* (3) Center for Astrophysics Hardvard & Smithsonian *(https://www.cfa.harvard.edu/facilities-technology/telescopes-instruments/keplerk2)*\n",
    "* (4) Exoplanet Exploration NASA *(https://exoplanets.nasa.gov/resources/2290/el-telescopio-espacial-tess/)*\n",
    "* (5) European Southern Obsevatories *(https://www.eso.org/public/spain/teles-instr/lasilla/)*\n",
    "* (6) Geopy *(https://github.com/geopy/geopy)*\n",
    "* (7) Sky & Telescope: The Essential Guide to Astronomy* (https://skyandtelescope.org/astronomy-news/first-discoveries-pro-am-exoplanet-survey/)*"
   ]
  }
 ],
 "metadata": {
  "kaggle": {
   "accelerator": "none",
   "dataSources": [
    {
     "datasetId": 3810212,
     "sourceId": 6604128,
     "sourceType": "datasetVersion"
    },
    {
     "datasetId": 3810289,
     "sourceId": 6604237,
     "sourceType": "datasetVersion"
    }
   ],
   "dockerImageVersionId": 30558,
   "isGpuEnabled": false,
   "isInternetEnabled": true,
   "language": "python",
   "sourceType": "notebook"
  },
  "kernelspec": {
   "display_name": "Python 3",
   "language": "python",
   "name": "python3"
  },
  "language_info": {
   "codemirror_mode": {
    "name": "ipython",
    "version": 3
   },
   "file_extension": ".py",
   "mimetype": "text/x-python",
   "name": "python",
   "nbconvert_exporter": "python",
   "pygments_lexer": "ipython3",
   "version": "3.13.7"
  },
  "papermill": {
   "default_parameters": {},
   "duration": 376.801668,
   "end_time": "2024-01-20T15:57:32.039351",
   "environment_variables": {},
   "exception": null,
   "input_path": "__notebook__.ipynb",
   "output_path": "__notebook__.ipynb",
   "parameters": {},
   "start_time": "2024-01-20T15:51:15.237683",
   "version": "2.4.0"
  }
 },
 "nbformat": 4,
 "nbformat_minor": 5
}
